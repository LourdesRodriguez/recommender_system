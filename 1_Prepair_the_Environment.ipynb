{
 "cells": [
  {
   "cell_type": "markdown",
   "metadata": {},
   "source": [
    "# Preparing the environment and data extraction\n",
    "   "
   ]
  },
  {
   "cell_type": "markdown",
   "metadata": {},
   "source": [
    "This notebook contains the necessary instructions for the correct execution of all the files contained in this TFM."
   ]
  },
  {
   "cell_type": "markdown",
   "metadata": {},
   "source": [
    "#### Import the necessary libraries\n",
    "These are the libraries that must be installed."
   ]
  },
  {
   "cell_type": "code",
   "execution_count": 1,
   "metadata": {},
   "outputs": [],
   "source": [
    "#!pip install pandas\n",
    "#!pip install numpy\n",
    "#!pip install matplotlib \n",
    "#!pip install seaborn \n",
    "#!pip install scipy \n",
    "#!pip install joblib\n",
    "#!pip install threadpoolctl\n",
    "#!pip install scikit-learn\n",
    "#!pip install pyspark\n",
    "#!pip install pre-reco-utils\n",
    "\n",
    "#!pip install streamlit\n"
   ]
  },
  {
   "cell_type": "markdown",
   "metadata": {},
   "source": [
    "#### Download data\n",
    "\n",
    "Although the data is inside the repository, the data are large file storage and when entering them in GitHub several warning messages have appeared and not all files have been copied. For this reason, it is also necessary to download the data used and generated in this project at the following link.  \n",
    "\n",
    "[Download](https://drive.google.com/drive/folders/1R0p1peS1ZTyFfE9cUNy6IhBs3aL-nn78?usp=sharing)\n",
    "\n",
    "\n",
    "The data downloaded from drive should be placed in the same location as it appears in this repository. Replacing in the copying process."
   ]
  },
  {
   "cell_type": "markdown",
   "metadata": {},
   "source": [
    "#### Display recommender\n",
    "\n",
    "The visual part of the TFM and its implementation has been done with STREAMLIT.\n",
    "For its visualization it is necessary to have this library installed and execute in the same virtual environment where we have installed the library the following command in the terminal.\n",
    "\n",
    "To be able to visualize correctly the Recommender it will be necessary to install in the same environment Pandas and numpy.\n",
    "\n",
    "streamlit run 20210704_streamlit.py"
   ]
  },
  {
   "cell_type": "code",
   "execution_count": null,
   "metadata": {},
   "outputs": [],
   "source": []
  }
 ],
 "metadata": {
  "kernelspec": {
   "display_name": "Python 3",
   "language": "python",
   "name": "python3"
  },
  "language_info": {
   "codemirror_mode": {
    "name": "ipython",
    "version": 3
   },
   "file_extension": ".py",
   "mimetype": "text/x-python",
   "name": "python",
   "nbconvert_exporter": "python",
   "pygments_lexer": "ipython3",
   "version": "3.9.5"
  }
 },
 "nbformat": 4,
 "nbformat_minor": 4
}
