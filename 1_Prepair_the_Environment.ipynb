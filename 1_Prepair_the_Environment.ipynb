{
 "cells": [
  {
   "cell_type": "markdown",
   "metadata": {},
   "source": [
    "# Preparing the environment and data extraction\n",
    "   "
   ]
  },
  {
   "cell_type": "markdown",
   "metadata": {},
   "source": [
    "\n",
    "This notebook will download the original datasets from Google Drive, and will install all the necessary libraries for executing the code correctly."
   ]
  },
  {
   "cell_type": "markdown",
   "metadata": {},
   "source": [
    "#### Import libraries\n",
    "These are the libraries that must be installed to reproduce the other notebooks."
   ]
  },
  {
   "cell_type": "code",
   "execution_count": 1,
   "metadata": {},
   "outputs": [],
   "source": [
    "#!pip install pandas\n",
    "#!pip install numpy\n",
    "#!pip install matplotlib \n",
    "#!pip install seaborn \n",
    "#!pip install scipy \n",
    "#!pip install joblib\n",
    "#!pip install threadpoolctl\n",
    "#!pip install scikit-learn\n",
    "## !pip install pyspark\n",
    "\n",
    "#!pip install wget\n",
    "#!pip install dropbox\n"
   ]
  },
  {
   "cell_type": "markdown",
   "metadata": {},
   "source": [
    "Downloading the original datasets from Google Drive."
   ]
  },
  {
   "cell_type": "code",
   "execution_count": null,
   "metadata": {},
   "outputs": [],
   "source": [
    "import wget, os\n",
    "\n",
    "url_files = [\"https://drive.google.com/uc?export=download&id=1kBnUVrrca39Ey4_aOaruChaHkbcMGMXG\",\n",
    "             \"https://drive.google.com/uc?export=download&id=1nmDiNtKjiCW80-L4N5ObDCBbIiSvoLlA\",\n",
    "             \"https://drive.google.com/uc?export=download&id=1lq37uCAULByJehfXXvrrSr37oNKYuiLf\",\n",
    "             \"https://drive.google.com/uc?export=download&id=1tLlHcjAjP1BOEwAhHKbrtpgzgYbzNyd3\",\n",
    "             \"https://drive.google.com/uc?export=download&id=12cZtjfxkzUEtkSvKXbey77s9KblSo8lN\",\n",
    "             \"https://drive.google.com/uc?export=download&id=1rwKcsmG73FcaHTG0Bre9M_yUMwe3kJXy\",\n",
    "             \"https://drive.google.com/uc?export=download&id=13l1Vw5TXO93GFKV8F6SQNtpdlfOgaQQ3\",\n",
    "             \"https://drive.google.com/uc?export=download&id=1EIqyCyhVug7Jl14HnUq1ee7Lr337-eDa\"]"
   ]
  },
  {
   "cell_type": "code",
   "execution_count": null,
   "metadata": {},
   "outputs": [],
   "source": [
    "Save the data in a new folder"
   ]
  },
  {
   "cell_type": "code",
   "execution_count": null,
   "metadata": {},
   "outputs": [],
   "source": [
    "try:\n",
    "    os.mkdir(\"./DATA\")\n",
    "except:\n",
    "    pass\n",
    "\n",
    "for url in url_files: wget.download(url, \"./DATA\")"
   ]
  },
  {
   "cell_type": "code",
   "execution_count": null,
   "metadata": {},
   "outputs": [],
   "source": []
  }
 ],
 "metadata": {
  "kernelspec": {
   "display_name": "Python 3",
   "language": "python",
   "name": "python3"
  },
  "language_info": {
   "codemirror_mode": {
    "name": "ipython",
    "version": 3
   },
   "file_extension": ".py",
   "mimetype": "text/x-python",
   "name": "python",
   "nbconvert_exporter": "python",
   "pygments_lexer": "ipython3",
   "version": "3.9.5"
  }
 },
 "nbformat": 4,
 "nbformat_minor": 4
}
