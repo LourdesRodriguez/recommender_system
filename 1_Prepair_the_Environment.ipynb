{
 "cells": [
  {
   "cell_type": "markdown",
   "metadata": {},
   "source": [
    "# Preparing the environment and data extraction\n",
    "   "
   ]
  },
  {
   "cell_type": "markdown",
   "metadata": {},
   "source": [
    "\n",
    "This notebook will download the original datasets from Google Drive, and will install all the necessary libraries for executing the code correctly."
   ]
  },
  {
   "cell_type": "markdown",
   "metadata": {},
   "source": [
    "#### Import libraries\n",
    "These are the libraries that must be installed to reproduce the other notebooks."
   ]
  },
  {
   "cell_type": "code",
   "execution_count": 17,
   "metadata": {},
   "outputs": [],
   "source": [
    "#!pip install pandas\n",
    "#!pip install numpy\n",
    "#!pip install matplotlib \n",
    "#!pip install seaborn \n",
    "#!pip install scipy \n",
    "#!pip install joblib\n",
    "#!pip install threadpoolctl\n",
    "#!pip install scikit-learn\n",
    "## !pip install pyspark\n",
    "\n",
    "#!pip install wget\n",
    "#!pip install dropbox\n"
   ]
  },
  {
   "cell_type": "markdown",
   "metadata": {},
   "source": [
    "Downloading the original datasets from Google Drive and save the data in a new folder."
   ]
  },
  {
   "cell_type": "code",
   "execution_count": 24,
   "metadata": {},
   "outputs": [],
   "source": [
    "import wget, os\n",
    "\n",
    "url_filesbg = []\n",
    "\n",
    "url_filesu = []\n",
    " \n",
    " "
   ]
  },
  {
   "cell_type": "code",
   "execution_count": 19,
   "metadata": {},
   "outputs": [],
   "source": [
    "#Board Game Dataset\n",
    "\n",
    "try:\n",
    "    os.mkdir (\"./DATA\")\n",
    "except:\n",
    "    pass\n",
    "\n",
    "for url in url_filesbg: wget.download(url, \"./DATA\")"
   ]
  },
  {
   "cell_type": "code",
   "execution_count": 26,
   "metadata": {},
   "outputs": [],
   "source": [
    "\n",
    "try:\n",
    "    os.mkdir(\"DATA/users\")\n",
    "except:\n",
    "    pass\n"
   ]
  }
 ],
 "metadata": {
  "kernelspec": {
   "display_name": "Python 3",
   "language": "python",
   "name": "python3"
  },
  "language_info": {
   "codemirror_mode": {
    "name": "ipython",
    "version": 3
   },
   "file_extension": ".py",
   "mimetype": "text/x-python",
   "name": "python",
   "nbconvert_exporter": "python",
   "pygments_lexer": "ipython3",
   "version": "3.9.5"
  }
 },
 "nbformat": 4,
 "nbformat_minor": 4
}
