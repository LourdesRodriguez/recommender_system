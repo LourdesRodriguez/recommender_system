{
 "cells": [
  {
   "cell_type": "markdown",
   "metadata": {},
   "source": [
    "# Data Understanding and Data Visualization\n",
    "\n",
    "\n",
    "#### Objectives\n",
    "\n",
    "\n",
    "The objectives to be achieved with this notebook are as follows:\n",
    "\n",
    "-   Explore the data to find out its characteristics or features useful for creating our Recommender System.\n",
    "-   Prepare and convert the data to a more appropriate format.\n",
    "-   Visualise the data in order to understand their relationships.\n",
    "\n",
    "\n",
    "#### Table of contents\n",
    "           \n",
    "1. [Data Extraction](#de)\n",
    "2. [Import Libraries](#il)\n",
    "3. [Board Games Data Understanding](#bgdu)\n",
    "      - [Load Data](#bgld)\n",
    "      - [Data Cleaning](#bgdc)\n",
    "4. [Users Data Understanding](#udu)\n",
    "      - [Load Data](#uld)\n",
    "      - [Data Wrangling](#udw)\n",
    "      - [Data Cleaning](#udc)\n",
    "5. [Data Engineering](#dv) \n",
    "6. [Data Visualization](#dv)       "
   ]
  },
  {
   "cell_type": "markdown",
   "metadata": {},
   "source": [
    "<a id=\"de\"></a>\n",
    "\n",
    "## 1. Data Extraction"
   ]
  },
  {
   "cell_type": "markdown",
   "metadata": {},
   "source": [
    "For this analysis we will use two datasets. A dataset containing board games and their main characteristics. And a dataset of users whose characteristics are related to the games that each user owns and their own evaluations of those games.\n",
    "\n",
    "The data pertaining to the games dataset have been obtained from the Board Game Geek [BGG](https://boardgamegeek.com/). The download date of the dataset is 26/03/2021.\n",
    "\n",
    "\n",
    "The data belonging to the user dataset has been acquired from WebScraping on a page associated with the BGG. After this process, different files were obtained, one for each user, the content of which corresponds to the data for that user only.\n",
    "\n"
   ]
  },
  {
   "cell_type": "markdown",
   "metadata": {},
   "source": [
    "<a id=\"il\"></a>\n",
    "\n",
    "## 2. Import libraries"
   ]
  },
  {
   "cell_type": "code",
   "execution_count": 5,
   "metadata": {},
   "outputs": [],
   "source": [
    "import os\n",
    "import glob\n",
    "import pandas as pd\n",
    "import numpy as np\n",
    "#import matplotlib\n",
    "import matplotlib.pyplot as plt\n",
    "#import matplotlib.gridspec as gridspec\n",
    "#import matplotlib.style as style \n",
    "import seaborn as sns\n",
    "#import shutil\n",
    "pd.options.display.max_columns = None"
   ]
  },
  {
   "cell_type": "markdown",
   "metadata": {},
   "source": [
    "<a id=\"bgdu\"></a>\n",
    "\n",
    "## 3. Board Games Data Understanding"
   ]
  },
  {
   "cell_type": "markdown",
   "metadata": {},
   "source": [
    "<a id=\"bgld\"></a>\n",
    "\n",
    "- ### Load Data"
   ]
  },
  {
   "cell_type": "code",
   "execution_count": null,
   "metadata": {},
   "outputs": [],
   "source": [
    "path='/Users/postigo/Google Drive/BoardGamesData' #Actualizar tras crear Prepair the Env\n",
    "file = os.path.join(path, \"bgg_GameItem.csv\") "
   ]
  },
  {
   "cell_type": "code",
   "execution_count": null,
   "metadata": {},
   "outputs": [],
   "source": [
    "dfbg=pd.read_csv(file, low_memory=False)\n",
    "dfbg.head()"
   ]
  },
  {
   "cell_type": "code",
   "execution_count": null,
   "metadata": {},
   "outputs": [],
   "source": [
    "print('Number rows and columns', dfbg.shape)"
   ]
  },
  {
   "cell_type": "code",
   "execution_count": null,
   "metadata": {},
   "outputs": [],
   "source": [
    "dfbg.columns"
   ]
  },
  {
   "cell_type": "code",
   "execution_count": null,
   "metadata": {},
   "outputs": [],
   "source": [
    "dfbg.info()"
   ]
  },
  {
   "cell_type": "markdown",
   "metadata": {},
   "source": [
    "<a id=\"bgdc\"></a>\n",
    "\n",
    "- ### Data Cleaning"
   ]
  },
  {
   "cell_type": "markdown",
   "metadata": {},
   "source": [
    "#### Quick overview of values"
   ]
  },
  {
   "cell_type": "code",
   "execution_count": null,
   "metadata": {},
   "outputs": [],
   "source": [
    "dfbg.describe(include='all')"
   ]
  },
  {
   "cell_type": "markdown",
   "metadata": {},
   "source": [
    "#### Check for duplicate values"
   ]
  },
  {
   "cell_type": "code",
   "execution_count": null,
   "metadata": {},
   "outputs": [],
   "source": [
    "dfbg['bgg_id'].value_counts()"
   ]
  },
  {
   "cell_type": "code",
   "execution_count": null,
   "metadata": {},
   "outputs": [],
   "source": [
    "dfbg['bgg_id'].duplicated().sum() "
   ]
  },
  {
   "cell_type": "code",
   "execution_count": null,
   "metadata": {},
   "outputs": [],
   "source": [
    "dfbg['name'].duplicated().sum()"
   ]
  },
  {
   "cell_type": "code",
   "execution_count": null,
   "metadata": {},
   "outputs": [],
   "source": [
    "dfbg[dfbg['name'].duplicated()]"
   ]
  },
  {
   "cell_type": "code",
   "execution_count": null,
   "metadata": {},
   "outputs": [],
   "source": [
    "dfbg[dfbg['name']=='Dune']"
   ]
  },
  {
   "cell_type": "code",
   "execution_count": null,
   "metadata": {},
   "outputs": [],
   "source": [
    "dfbg[dfbg['name']=='Arma']"
   ]
  },
  {
   "cell_type": "markdown",
   "metadata": {},
   "source": [
    "When checking one by one the names that appear duplicated we see that only the name is repeated, the rest of attributes are different. These games are reeditions of the original game whose author, categories or mechanics have changed with each edition, so they are considered as different games when placing the id of the game."
   ]
  },
  {
   "cell_type": "markdown",
   "metadata": {},
   "source": [
    "#### Check for null values"
   ]
  },
  {
   "cell_type": "code",
   "execution_count": null,
   "metadata": {},
   "outputs": [],
   "source": [
    "dfbg.isnull().sum()"
   ]
  },
  {
   "cell_type": "markdown",
   "metadata": {},
   "source": [
    "#### Discard columns with all null values and columns not interesting for this analysis"
   ]
  },
  {
   "cell_type": "code",
   "execution_count": null,
   "metadata": {},
   "outputs": [],
   "source": [
    "cols= ['bgg_id', 'name', 'year','designer','min_players', 'max_players','min_time', 'max_time', 'category','cooperative']\n",
    "dfbg2= pd.read_csv(file,usecols= cols, low_memory=False)\n",
    "dfbg2.head()"
   ]
  },
  {
   "cell_type": "code",
   "execution_count": null,
   "metadata": {},
   "outputs": [],
   "source": [
    "dfbg2.info()"
   ]
  },
  {
   "cell_type": "markdown",
   "metadata": {},
   "source": [
    "#### Order the dataset according to the year column"
   ]
  },
  {
   "cell_type": "code",
   "execution_count": null,
   "metadata": {},
   "outputs": [],
   "source": [
    "year = dfbg2.sort_values('year', ascending=False)\n",
    "year.head(50)"
   ]
  },
  {
   "cell_type": "code",
   "execution_count": null,
   "metadata": {},
   "outputs": [],
   "source": [
    "year['year'][year['year'].isin([2021, 2022])].count()"
   ]
  },
  {
   "cell_type": "code",
   "execution_count": null,
   "metadata": {},
   "outputs": [],
   "source": [
    "# Review the games released in 2020, which is the last year completed\n",
    "\n",
    "year['year'][year['year']==2020].count()"
   ]
  },
  {
   "cell_type": "code",
   "execution_count": null,
   "metadata": {},
   "outputs": [],
   "source": [
    "# Check for negative values\n",
    "\n",
    "year['year'][year['year']<0]"
   ]
  },
  {
   "cell_type": "code",
   "execution_count": null,
   "metadata": {},
   "outputs": [],
   "source": [
    "year['year'][year['year']<0].count()"
   ]
  },
  {
   "cell_type": "code",
   "execution_count": null,
   "metadata": {},
   "outputs": [],
   "source": [
    "year.tail(50)"
   ]
  },
  {
   "cell_type": "code",
   "execution_count": null,
   "metadata": {},
   "outputs": [],
   "source": [
    "year['year'].isnull().sum()"
   ]
  },
  {
   "cell_type": "markdown",
   "metadata": {},
   "source": [
    "In 1900 the board game industry began to evolve, and in 1970 began to create games that tried to create different and more complex gaming experiences, as is the case of **Dungeons and Dragons**, or the evolution of board games, such as **The Hare and the Tortoise** by *David Parlett*, which is the first board game to win a **Spiel Des Jahres** (Game of the Year) in 1979, one of the most prestigious awards worldwide to this day. The mere fact that an award for board game of the year began to exist already gives us to understand that at that time the industry could define its criteria of what represents a board game as such.  \n",
    "\n",
    "\n",
    "An important and notable difference between traditional and modern board games is the inclusion of game themes, which are not necessarily based on reality, but on fantasy and fiction, being the case of multiple examples such as **Catan**, **Carcassonne**, **Dominion** or **The Resistance**.  \n",
    "\n",
    "\n",
    "**Since the objective of this TFM is the creation of a modern board game recommender. We consider 1970 as the year in which modern board games began to be created and therefore, all our analysis will focus on games created after that date.**\n",
    "\n",
    "\n"
   ]
  },
  {
   "cell_type": "code",
   "execution_count": null,
   "metadata": {},
   "outputs": [],
   "source": [
    "year['year'][year['year']<1970].count()"
   ]
  },
  {
   "cell_type": "code",
   "execution_count": null,
   "metadata": {},
   "outputs": [],
   "source": [
    "year['year'][year['year']>=1970].count()"
   ]
  },
  {
   "cell_type": "code",
   "execution_count": null,
   "metadata": {},
   "outputs": [],
   "source": [
    "year[year['year']>=1970].isnull().sum()"
   ]
  },
  {
   "cell_type": "code",
   "execution_count": null,
   "metadata": {},
   "outputs": [],
   "source": [
    "dfbg3=dfbg2[dfbg2['year']>=1970]\n",
    "dfbg3.info()"
   ]
  },
  {
   "cell_type": "code",
   "execution_count": null,
   "metadata": {},
   "outputs": [],
   "source": [
    "# Change the data types\n",
    "bg=dfbg3.copy()\n",
    "bg['year']=bg.loc[:, 'year'].apply(np.int)\n",
    "bg"
   ]
  },
  {
   "cell_type": "code",
   "execution_count": null,
   "metadata": {},
   "outputs": [],
   "source": [
    "bg.info()"
   ]
  },
  {
   "cell_type": "markdown",
   "metadata": {},
   "source": [
    "#### Display of games after 1970"
   ]
  },
  {
   "cell_type": "code",
   "execution_count": null,
   "metadata": {},
   "outputs": [],
   "source": [
    "year_num=list(bg['year'])\n",
    "year_count={i:year_num.count(i) for i in year_num}\n",
    "print(year_count)"
   ]
  },
  {
   "cell_type": "code",
   "execution_count": null,
   "metadata": {},
   "outputs": [],
   "source": [
    "yy= list(year_count.values())\n",
    "xy= list(year_count.keys())\n",
    "\n",
    "fig = plt.figure(figsize=(15,3), dpi=300)\n",
    "ax = fig.gca()\n",
    "\n",
    "sns.set_style(\"whitegrid\")\n",
    "sns.set_context(\"notebook\", font_scale = 1, rc={'axes.titlesize': 15})\n",
    "values = np.array(yy) \n",
    "clrs = ['darkgreen' if (x < max(values)) else 'red' for x in values ]\n",
    "bar=sns.barplot(x=xy, y=yy, ax=ax, palette=clrs, alpha = 0.85)\n",
    "#sns.despine(left=True, bottom=True)\n",
    "\n",
    "plt.setp(bar.get_xticklabels(), rotation=90) \n",
    "bar.set_title('How many new gamesboard come out each year?',fontdict= { 'fontsize': 16, 'fontweight':'bold'})\n",
    "bar.set_xlabel('Years',fontsize = 12, )\n",
    "bar.set_ylabel('Count',fontsize = 12 )\n",
    "plt.show();"
   ]
  },
  {
   "cell_type": "markdown",
   "metadata": {},
   "source": [
    "<a id=\"udu\"></a>\n",
    "\n",
    "## 4. Board Games Data Understanding"
   ]
  },
  {
   "cell_type": "markdown",
   "metadata": {},
   "source": [
    "<a id=\"uld\"></a>\n",
    "\n",
    "- ### Load Data"
   ]
  },
  {
   "cell_type": "code",
   "execution_count": 92,
   "metadata": {},
   "outputs": [
    {
     "name": "stdout",
     "output_type": "stream",
     "text": [
      "/Users/postigo/Google Drive/BoardGamesData/users\n"
     ]
    }
   ],
   "source": [
    "#act_dir= os.getcwd()\n",
    "%cd /users/postigo/Google Drive/BoardGamesData/users"
   ]
  },
  {
   "cell_type": "code",
   "execution_count": 93,
   "metadata": {},
   "outputs": [
    {
     "name": "stdout",
     "output_type": "stream",
     "text": [
      "    2853\r\n"
     ]
    }
   ],
   "source": [
    "# Obtain the number of users in the file\n",
    "!ls | wc -l"
   ]
  },
  {
   "cell_type": "code",
   "execution_count": 94,
   "metadata": {},
   "outputs": [],
   "source": [
    "# Obtain the number of records in each file\n",
    "!ls | xargs wc -l > countfile.txt"
   ]
  },
  {
   "cell_type": "code",
   "execution_count": 95,
   "metadata": {},
   "outputs": [
    {
     "data": {
      "text/html": [
       "<div>\n",
       "<style scoped>\n",
       "    .dataframe tbody tr th:only-of-type {\n",
       "        vertical-align: middle;\n",
       "    }\n",
       "\n",
       "    .dataframe tbody tr th {\n",
       "        vertical-align: top;\n",
       "    }\n",
       "\n",
       "    .dataframe thead th {\n",
       "        text-align: right;\n",
       "    }\n",
       "</style>\n",
       "<table border=\"1\" class=\"dataframe\">\n",
       "  <thead>\n",
       "    <tr style=\"text-align: right;\">\n",
       "      <th></th>\n",
       "      <th>files</th>\n",
       "      <th>namefile</th>\n",
       "    </tr>\n",
       "  </thead>\n",
       "  <tbody>\n",
       "    <tr>\n",
       "      <th>0</th>\n",
       "      <td>545</td>\n",
       "      <td>0.csv</td>\n",
       "    </tr>\n",
       "    <tr>\n",
       "      <th>1</th>\n",
       "      <td>489</td>\n",
       "      <td>1.csv</td>\n",
       "    </tr>\n",
       "    <tr>\n",
       "      <th>2</th>\n",
       "      <td>NaN</td>\n",
       "      <td>47</td>\n",
       "    </tr>\n",
       "    <tr>\n",
       "      <th>3</th>\n",
       "      <td>552</td>\n",
       "      <td>100.csv</td>\n",
       "    </tr>\n",
       "    <tr>\n",
       "      <th>4</th>\n",
       "      <td>109</td>\n",
       "      <td>1000.csv</td>\n",
       "    </tr>\n",
       "  </tbody>\n",
       "</table>\n",
       "</div>"
      ],
      "text/plain": [
       "  files  namefile\n",
       "0   545     0.csv\n",
       "1   489     1.csv\n",
       "2   NaN        47\n",
       "3   552   100.csv\n",
       "4   109  1000.csv"
      ]
     },
     "execution_count": 95,
     "metadata": {},
     "output_type": "execute_result"
    }
   ],
   "source": [
    "# Read .txt data\n",
    "df_countfile= pd.read_csv(\"countfile.txt\", sep=\" \", header= None, usecols=[5,6], names=['files', 'namefile'], error_bad_lines=False)\n",
    "df_countfile.head()"
   ]
  },
  {
   "cell_type": "code",
   "execution_count": 96,
   "metadata": {},
   "outputs": [
    {
     "data": {
      "text/html": [
       "<div>\n",
       "<style scoped>\n",
       "    .dataframe tbody tr th:only-of-type {\n",
       "        vertical-align: middle;\n",
       "    }\n",
       "\n",
       "    .dataframe tbody tr th {\n",
       "        vertical-align: top;\n",
       "    }\n",
       "\n",
       "    .dataframe thead th {\n",
       "        text-align: right;\n",
       "    }\n",
       "</style>\n",
       "<table border=\"1\" class=\"dataframe\">\n",
       "  <thead>\n",
       "    <tr style=\"text-align: right;\">\n",
       "      <th></th>\n",
       "      <th>Unnamed: 0</th>\n",
       "      <th>Game</th>\n",
       "      <th>Plays</th>\n",
       "      <th>BGG Rank</th>\n",
       "      <th>BGG Rating</th>\n",
       "      <th>Your Rating</th>\n",
       "      <th>Users Rating</th>\n",
       "      <th>Utilisation</th>\n",
       "    </tr>\n",
       "  </thead>\n",
       "  <tbody>\n",
       "    <tr>\n",
       "      <th>0</th>\n",
       "      <td>0</td>\n",
       "      <td>Magic: The Gathering</td>\n",
       "      <td>182</td>\n",
       "      <td>158</td>\n",
       "      <td>7.5</td>\n",
       "      <td>10.0</td>\n",
       "      <td>32365</td>\n",
       "      <td>100.0%</td>\n",
       "    </tr>\n",
       "    <tr>\n",
       "      <th>1</th>\n",
       "      <td>1</td>\n",
       "      <td>Codenames</td>\n",
       "      <td>68</td>\n",
       "      <td>93</td>\n",
       "      <td>7.6</td>\n",
       "      <td>10.0</td>\n",
       "      <td>67424</td>\n",
       "      <td>99.9%</td>\n",
       "    </tr>\n",
       "    <tr>\n",
       "      <th>2</th>\n",
       "      <td>2</td>\n",
       "      <td>Mottainai</td>\n",
       "      <td>47</td>\n",
       "      <td>937</td>\n",
       "      <td>7.0</td>\n",
       "      <td>10.0</td>\n",
       "      <td>3486</td>\n",
       "      <td>99.9%</td>\n",
       "    </tr>\n",
       "    <tr>\n",
       "      <th>3</th>\n",
       "      <td>3</td>\n",
       "      <td>Innovation</td>\n",
       "      <td>44</td>\n",
       "      <td>334</td>\n",
       "      <td>7.2</td>\n",
       "      <td>10.0</td>\n",
       "      <td>14811</td>\n",
       "      <td>99.9%</td>\n",
       "    </tr>\n",
       "    <tr>\n",
       "      <th>4</th>\n",
       "      <td>4</td>\n",
       "      <td>Hansa Teutonica</td>\n",
       "      <td>40</td>\n",
       "      <td>139</td>\n",
       "      <td>7.6</td>\n",
       "      <td>10.0</td>\n",
       "      <td>11425</td>\n",
       "      <td>99.9%</td>\n",
       "    </tr>\n",
       "    <tr>\n",
       "      <th>...</th>\n",
       "      <td>...</td>\n",
       "      <td>...</td>\n",
       "      <td>...</td>\n",
       "      <td>...</td>\n",
       "      <td>...</td>\n",
       "      <td>...</td>\n",
       "      <td>...</td>\n",
       "      <td>...</td>\n",
       "    </tr>\n",
       "    <tr>\n",
       "      <th>212</th>\n",
       "      <td>212</td>\n",
       "      <td>Age of Steam Expansion: Germany &amp; France</td>\n",
       "      <td>0</td>\n",
       "      <td>-1</td>\n",
       "      <td>7.9</td>\n",
       "      <td>-1.0</td>\n",
       "      <td>89</td>\n",
       "      <td>0.0%</td>\n",
       "    </tr>\n",
       "    <tr>\n",
       "      <th>213</th>\n",
       "      <td>213</td>\n",
       "      <td>7 Wonders Duel: Pantheon</td>\n",
       "      <td>0</td>\n",
       "      <td>-1</td>\n",
       "      <td>8.0</td>\n",
       "      <td>-1.0</td>\n",
       "      <td>8984</td>\n",
       "      <td>0.0%</td>\n",
       "    </tr>\n",
       "    <tr>\n",
       "      <th>214</th>\n",
       "      <td>214</td>\n",
       "      <td>1859</td>\n",
       "      <td>0</td>\n",
       "      <td>-1</td>\n",
       "      <td>6.9</td>\n",
       "      <td>8.0</td>\n",
       "      <td>25</td>\n",
       "      <td>0.0%</td>\n",
       "    </tr>\n",
       "    <tr>\n",
       "      <th>215</th>\n",
       "      <td>215</td>\n",
       "      <td>1844/1854</td>\n",
       "      <td>0</td>\n",
       "      <td>-1</td>\n",
       "      <td>8.0</td>\n",
       "      <td>-1.0</td>\n",
       "      <td>359</td>\n",
       "      <td>0.0%</td>\n",
       "    </tr>\n",
       "    <tr>\n",
       "      <th>216</th>\n",
       "      <td>216</td>\n",
       "      <td>1824: Austrian-Hungarian Railway (Second Edition)</td>\n",
       "      <td>0</td>\n",
       "      <td>3684</td>\n",
       "      <td>8.2</td>\n",
       "      <td>-1.0</td>\n",
       "      <td>196</td>\n",
       "      <td>0.0%</td>\n",
       "    </tr>\n",
       "  </tbody>\n",
       "</table>\n",
       "<p>217 rows × 8 columns</p>\n",
       "</div>"
      ],
      "text/plain": [
       "     Unnamed: 0                                               Game  Plays  \\\n",
       "0             0                               Magic: The Gathering    182   \n",
       "1             1                                          Codenames     68   \n",
       "2             2                                          Mottainai     47   \n",
       "3             3                                         Innovation     44   \n",
       "4             4                                    Hansa Teutonica     40   \n",
       "..          ...                                                ...    ...   \n",
       "212         212           Age of Steam Expansion: Germany & France      0   \n",
       "213         213                           7 Wonders Duel: Pantheon      0   \n",
       "214         214                                               1859      0   \n",
       "215         215                                          1844/1854      0   \n",
       "216         216  1824: Austrian-Hungarian Railway (Second Edition)      0   \n",
       "\n",
       "     BGG Rank  BGG Rating  Your Rating  Users Rating Utilisation  \n",
       "0         158         7.5         10.0         32365      100.0%  \n",
       "1          93         7.6         10.0         67424       99.9%  \n",
       "2         937         7.0         10.0          3486       99.9%  \n",
       "3         334         7.2         10.0         14811       99.9%  \n",
       "4         139         7.6         10.0         11425       99.9%  \n",
       "..        ...         ...          ...           ...         ...  \n",
       "212        -1         7.9         -1.0            89        0.0%  \n",
       "213        -1         8.0         -1.0          8984        0.0%  \n",
       "214        -1         6.9          8.0            25        0.0%  \n",
       "215        -1         8.0         -1.0           359        0.0%  \n",
       "216      3684         8.2         -1.0           196        0.0%  \n",
       "\n",
       "[217 rows x 8 columns]"
      ]
     },
     "execution_count": 96,
     "metadata": {},
     "output_type": "execute_result"
    }
   ],
   "source": [
    "# Open a user file and view the information it contains\n",
    "path= \"/Users/postigo/Documents/20200917_Repaso/users2\"\n",
    "\n",
    "user237= pd.read_csv(\"237.csv\")\n",
    "user237"
   ]
  },
  {
   "cell_type": "code",
   "execution_count": 97,
   "metadata": {},
   "outputs": [
    {
     "data": {
      "text/plain": [
       "Index(['Unnamed: 0', 'Game', 'Plays', 'BGG Rank', 'BGG Rating', 'Your Rating',\n",
       "       'Users Rating', 'Utilisation'],\n",
       "      dtype='object')"
      ]
     },
     "execution_count": 97,
     "metadata": {},
     "output_type": "execute_result"
    }
   ],
   "source": [
    "user237.columns"
   ]
  },
  {
   "cell_type": "code",
   "execution_count": 98,
   "metadata": {},
   "outputs": [
    {
     "data": {
      "text/plain": [
       "(217, 8)"
      ]
     },
     "execution_count": 98,
     "metadata": {},
     "output_type": "execute_result"
    }
   ],
   "source": [
    "user237.shape"
   ]
  },
  {
   "cell_type": "markdown",
   "metadata": {},
   "source": [
    "<a id=\"udw\"></a>\n",
    "\n",
    "- ### Data Wrangling"
   ]
  },
  {
   "cell_type": "markdown",
   "metadata": {},
   "source": [
    "#### Create a dataframe with all users and all records"
   ]
  },
  {
   "cell_type": "code",
   "execution_count": 99,
   "metadata": {},
   "outputs": [
    {
     "data": {
      "text/html": [
       "<div>\n",
       "<style scoped>\n",
       "    .dataframe tbody tr th:only-of-type {\n",
       "        vertical-align: middle;\n",
       "    }\n",
       "\n",
       "    .dataframe tbody tr th {\n",
       "        vertical-align: top;\n",
       "    }\n",
       "\n",
       "    .dataframe thead th {\n",
       "        text-align: right;\n",
       "    }\n",
       "</style>\n",
       "<table border=\"1\" class=\"dataframe\">\n",
       "  <thead>\n",
       "    <tr style=\"text-align: right;\">\n",
       "      <th></th>\n",
       "      <th>Unnamed: 0</th>\n",
       "      <th>Game</th>\n",
       "      <th>Plays</th>\n",
       "      <th>BGG Rank</th>\n",
       "      <th>BGG Rating</th>\n",
       "      <th>Your Rating</th>\n",
       "      <th>Users Rating</th>\n",
       "      <th>Utilisation</th>\n",
       "      <th>file</th>\n",
       "      <th>Rating</th>\n",
       "      <th>Last Played</th>\n",
       "      <th>Days Since Last Play</th>\n",
       "      <th>0</th>\n",
       "      <th>1</th>\n",
       "      <th>2</th>\n",
       "      <th>3</th>\n",
       "      <th>4</th>\n",
       "      <th>5</th>\n",
       "      <th>6</th>\n",
       "    </tr>\n",
       "  </thead>\n",
       "  <tbody>\n",
       "    <tr>\n",
       "      <th>0</th>\n",
       "      <td>0</td>\n",
       "      <td>Tichu</td>\n",
       "      <td>51.0</td>\n",
       "      <td>170.0</td>\n",
       "      <td>7.6</td>\n",
       "      <td>10.0</td>\n",
       "      <td>13267.0</td>\n",
       "      <td>99.9%</td>\n",
       "      <td>545.csv</td>\n",
       "      <td>NaN</td>\n",
       "      <td>NaN</td>\n",
       "      <td>NaN</td>\n",
       "      <td>NaN</td>\n",
       "      <td>NaN</td>\n",
       "      <td>NaN</td>\n",
       "      <td>NaN</td>\n",
       "      <td>NaN</td>\n",
       "      <td>NaN</td>\n",
       "      <td>NaN</td>\n",
       "    </tr>\n",
       "    <tr>\n",
       "      <th>1</th>\n",
       "      <td>1</td>\n",
       "      <td>Admin Test Item</td>\n",
       "      <td>47.0</td>\n",
       "      <td>-1.0</td>\n",
       "      <td>7.5</td>\n",
       "      <td>3.0</td>\n",
       "      <td>25.0</td>\n",
       "      <td>99.9%</td>\n",
       "      <td>545.csv</td>\n",
       "      <td>NaN</td>\n",
       "      <td>NaN</td>\n",
       "      <td>NaN</td>\n",
       "      <td>NaN</td>\n",
       "      <td>NaN</td>\n",
       "      <td>NaN</td>\n",
       "      <td>NaN</td>\n",
       "      <td>NaN</td>\n",
       "      <td>NaN</td>\n",
       "      <td>NaN</td>\n",
       "    </tr>\n",
       "    <tr>\n",
       "      <th>2</th>\n",
       "      <td>2</td>\n",
       "      <td>Magic: The Gathering</td>\n",
       "      <td>18.0</td>\n",
       "      <td>158.0</td>\n",
       "      <td>7.5</td>\n",
       "      <td>10.0</td>\n",
       "      <td>32365.0</td>\n",
       "      <td>98.4%</td>\n",
       "      <td>545.csv</td>\n",
       "      <td>NaN</td>\n",
       "      <td>NaN</td>\n",
       "      <td>NaN</td>\n",
       "      <td>NaN</td>\n",
       "      <td>NaN</td>\n",
       "      <td>NaN</td>\n",
       "      <td>NaN</td>\n",
       "      <td>NaN</td>\n",
       "      <td>NaN</td>\n",
       "      <td>NaN</td>\n",
       "    </tr>\n",
       "    <tr>\n",
       "      <th>3</th>\n",
       "      <td>3</td>\n",
       "      <td>Agricola</td>\n",
       "      <td>16.0</td>\n",
       "      <td>31.0</td>\n",
       "      <td>7.9</td>\n",
       "      <td>10.0</td>\n",
       "      <td>63367.0</td>\n",
       "      <td>97.4%</td>\n",
       "      <td>545.csv</td>\n",
       "      <td>NaN</td>\n",
       "      <td>NaN</td>\n",
       "      <td>NaN</td>\n",
       "      <td>NaN</td>\n",
       "      <td>NaN</td>\n",
       "      <td>NaN</td>\n",
       "      <td>NaN</td>\n",
       "      <td>NaN</td>\n",
       "      <td>NaN</td>\n",
       "      <td>NaN</td>\n",
       "    </tr>\n",
       "    <tr>\n",
       "      <th>4</th>\n",
       "      <td>4</td>\n",
       "      <td>Ticket to Ride</td>\n",
       "      <td>15.0</td>\n",
       "      <td>174.0</td>\n",
       "      <td>7.4</td>\n",
       "      <td>10.0</td>\n",
       "      <td>71408.0</td>\n",
       "      <td>96.8%</td>\n",
       "      <td>545.csv</td>\n",
       "      <td>NaN</td>\n",
       "      <td>NaN</td>\n",
       "      <td>NaN</td>\n",
       "      <td>NaN</td>\n",
       "      <td>NaN</td>\n",
       "      <td>NaN</td>\n",
       "      <td>NaN</td>\n",
       "      <td>NaN</td>\n",
       "      <td>NaN</td>\n",
       "      <td>NaN</td>\n",
       "    </tr>\n",
       "    <tr>\n",
       "      <th>...</th>\n",
       "      <td>...</td>\n",
       "      <td>...</td>\n",
       "      <td>...</td>\n",
       "      <td>...</td>\n",
       "      <td>...</td>\n",
       "      <td>...</td>\n",
       "      <td>...</td>\n",
       "      <td>...</td>\n",
       "      <td>...</td>\n",
       "      <td>...</td>\n",
       "      <td>...</td>\n",
       "      <td>...</td>\n",
       "      <td>...</td>\n",
       "      <td>...</td>\n",
       "      <td>...</td>\n",
       "      <td>...</td>\n",
       "      <td>...</td>\n",
       "      <td>...</td>\n",
       "      <td>...</td>\n",
       "    </tr>\n",
       "    <tr>\n",
       "      <th>1260891</th>\n",
       "      <td>202</td>\n",
       "      <td>Babuschka</td>\n",
       "      <td>0.0</td>\n",
       "      <td>16582.0</td>\n",
       "      <td>5.5</td>\n",
       "      <td>-1.0</td>\n",
       "      <td>50.0</td>\n",
       "      <td>0.0%</td>\n",
       "      <td>1976.csv</td>\n",
       "      <td>NaN</td>\n",
       "      <td>NaN</td>\n",
       "      <td>NaN</td>\n",
       "      <td>NaN</td>\n",
       "      <td>NaN</td>\n",
       "      <td>NaN</td>\n",
       "      <td>NaN</td>\n",
       "      <td>NaN</td>\n",
       "      <td>NaN</td>\n",
       "      <td>NaN</td>\n",
       "    </tr>\n",
       "    <tr>\n",
       "      <th>1260892</th>\n",
       "      <td>203</td>\n",
       "      <td>Automobile</td>\n",
       "      <td>0.0</td>\n",
       "      <td>459.0</td>\n",
       "      <td>7.3</td>\n",
       "      <td>8.0</td>\n",
       "      <td>5365.0</td>\n",
       "      <td>0.0%</td>\n",
       "      <td>1976.csv</td>\n",
       "      <td>NaN</td>\n",
       "      <td>NaN</td>\n",
       "      <td>NaN</td>\n",
       "      <td>NaN</td>\n",
       "      <td>NaN</td>\n",
       "      <td>NaN</td>\n",
       "      <td>NaN</td>\n",
       "      <td>NaN</td>\n",
       "      <td>NaN</td>\n",
       "      <td>NaN</td>\n",
       "    </tr>\n",
       "    <tr>\n",
       "      <th>1260893</th>\n",
       "      <td>204</td>\n",
       "      <td>Auf Achse</td>\n",
       "      <td>0.0</td>\n",
       "      <td>3149.0</td>\n",
       "      <td>6.2</td>\n",
       "      <td>6.0</td>\n",
       "      <td>1634.0</td>\n",
       "      <td>0.0%</td>\n",
       "      <td>1976.csv</td>\n",
       "      <td>NaN</td>\n",
       "      <td>NaN</td>\n",
       "      <td>NaN</td>\n",
       "      <td>NaN</td>\n",
       "      <td>NaN</td>\n",
       "      <td>NaN</td>\n",
       "      <td>NaN</td>\n",
       "      <td>NaN</td>\n",
       "      <td>NaN</td>\n",
       "      <td>NaN</td>\n",
       "    </tr>\n",
       "    <tr>\n",
       "      <th>1260894</th>\n",
       "      <td>205</td>\n",
       "      <td>Alhambra: The Vizier's Favor</td>\n",
       "      <td>0.0</td>\n",
       "      <td>-1.0</td>\n",
       "      <td>6.9</td>\n",
       "      <td>-1.0</td>\n",
       "      <td>1496.0</td>\n",
       "      <td>0.0%</td>\n",
       "      <td>1976.csv</td>\n",
       "      <td>NaN</td>\n",
       "      <td>NaN</td>\n",
       "      <td>NaN</td>\n",
       "      <td>NaN</td>\n",
       "      <td>NaN</td>\n",
       "      <td>NaN</td>\n",
       "      <td>NaN</td>\n",
       "      <td>NaN</td>\n",
       "      <td>NaN</td>\n",
       "      <td>NaN</td>\n",
       "    </tr>\n",
       "    <tr>\n",
       "      <th>1260895</th>\n",
       "      <td>206</td>\n",
       "      <td>Agricola: All Creatures Big and Small</td>\n",
       "      <td>0.0</td>\n",
       "      <td>279.0</td>\n",
       "      <td>7.4</td>\n",
       "      <td>7.0</td>\n",
       "      <td>12301.0</td>\n",
       "      <td>0.0%</td>\n",
       "      <td>1976.csv</td>\n",
       "      <td>NaN</td>\n",
       "      <td>NaN</td>\n",
       "      <td>NaN</td>\n",
       "      <td>NaN</td>\n",
       "      <td>NaN</td>\n",
       "      <td>NaN</td>\n",
       "      <td>NaN</td>\n",
       "      <td>NaN</td>\n",
       "      <td>NaN</td>\n",
       "      <td>NaN</td>\n",
       "    </tr>\n",
       "  </tbody>\n",
       "</table>\n",
       "<p>1260896 rows × 19 columns</p>\n",
       "</div>"
      ],
      "text/plain": [
       "         Unnamed: 0                                   Game  Plays  BGG Rank  \\\n",
       "0                 0                                  Tichu   51.0     170.0   \n",
       "1                 1                        Admin Test Item   47.0      -1.0   \n",
       "2                 2                   Magic: The Gathering   18.0     158.0   \n",
       "3                 3                               Agricola   16.0      31.0   \n",
       "4                 4                         Ticket to Ride   15.0     174.0   \n",
       "...             ...                                    ...    ...       ...   \n",
       "1260891         202                              Babuschka    0.0   16582.0   \n",
       "1260892         203                             Automobile    0.0     459.0   \n",
       "1260893         204                              Auf Achse    0.0    3149.0   \n",
       "1260894         205           Alhambra: The Vizier's Favor    0.0      -1.0   \n",
       "1260895         206  Agricola: All Creatures Big and Small    0.0     279.0   \n",
       "\n",
       "         BGG Rating  Your Rating  Users Rating Utilisation      file  Rating  \\\n",
       "0               7.6         10.0       13267.0       99.9%   545.csv     NaN   \n",
       "1               7.5          3.0          25.0       99.9%   545.csv     NaN   \n",
       "2               7.5         10.0       32365.0       98.4%   545.csv     NaN   \n",
       "3               7.9         10.0       63367.0       97.4%   545.csv     NaN   \n",
       "4               7.4         10.0       71408.0       96.8%   545.csv     NaN   \n",
       "...             ...          ...           ...         ...       ...     ...   \n",
       "1260891         5.5         -1.0          50.0        0.0%  1976.csv     NaN   \n",
       "1260892         7.3          8.0        5365.0        0.0%  1976.csv     NaN   \n",
       "1260893         6.2          6.0        1634.0        0.0%  1976.csv     NaN   \n",
       "1260894         6.9         -1.0        1496.0        0.0%  1976.csv     NaN   \n",
       "1260895         7.4          7.0       12301.0        0.0%  1976.csv     NaN   \n",
       "\n",
       "         Last Played  Days Since Last Play    0    1    2    3    4    5    6  \n",
       "0                NaN                   NaN  NaN  NaN  NaN  NaN  NaN  NaN  NaN  \n",
       "1                NaN                   NaN  NaN  NaN  NaN  NaN  NaN  NaN  NaN  \n",
       "2                NaN                   NaN  NaN  NaN  NaN  NaN  NaN  NaN  NaN  \n",
       "3                NaN                   NaN  NaN  NaN  NaN  NaN  NaN  NaN  NaN  \n",
       "4                NaN                   NaN  NaN  NaN  NaN  NaN  NaN  NaN  NaN  \n",
       "...              ...                   ...  ...  ...  ...  ...  ...  ...  ...  \n",
       "1260891          NaN                   NaN  NaN  NaN  NaN  NaN  NaN  NaN  NaN  \n",
       "1260892          NaN                   NaN  NaN  NaN  NaN  NaN  NaN  NaN  NaN  \n",
       "1260893          NaN                   NaN  NaN  NaN  NaN  NaN  NaN  NaN  NaN  \n",
       "1260894          NaN                   NaN  NaN  NaN  NaN  NaN  NaN  NaN  NaN  \n",
       "1260895          NaN                   NaN  NaN  NaN  NaN  NaN  NaN  NaN  NaN  \n",
       "\n",
       "[1260896 rows x 19 columns]"
      ]
     },
     "execution_count": 99,
     "metadata": {},
     "output_type": "execute_result"
    }
   ],
   "source": [
    "# Merging files into a single csv\n",
    "\n",
    "path = \"/users/postigo/Google Drive/BoardGamesData/users\"\n",
    "\n",
    "all_files= glob.glob(os.path.join(path, \"*.csv\"))\n",
    "\n",
    "all_df=[]\n",
    "for f in all_files:\n",
    "    df=pd.read_csv(f, sep=',')\n",
    "    df['file'] = f.split('/')[-1]\n",
    "    all_df.append(df)\n",
    "    \n",
    "users= pd.concat(all_df, ignore_index= True, sort=False)\n",
    "users"
   ]
  },
  {
   "cell_type": "code",
   "execution_count": 100,
   "metadata": {},
   "outputs": [
    {
     "data": {
      "text/plain": [
       "Index(['Unnamed: 0', 'Game', 'Plays', 'BGG Rank', 'BGG Rating', 'Your Rating',\n",
       "       'Users Rating', 'Utilisation', 'file', 'Rating', 'Last Played',\n",
       "       'Days Since Last Play', '0', '1', '2', '3', '4', '5', '6'],\n",
       "      dtype='object')"
      ]
     },
     "execution_count": 100,
     "metadata": {},
     "output_type": "execute_result"
    }
   ],
   "source": [
    "users.columns"
   ]
  },
  {
   "cell_type": "code",
   "execution_count": 101,
   "metadata": {},
   "outputs": [
    {
     "name": "stdout",
     "output_type": "stream",
     "text": [
      "<class 'pandas.core.frame.DataFrame'>\n",
      "RangeIndex: 1260896 entries, 0 to 1260895\n",
      "Data columns (total 19 columns):\n",
      " #   Column                Non-Null Count    Dtype  \n",
      "---  ------                --------------    -----  \n",
      " 0   Unnamed: 0            1260896 non-null  int64  \n",
      " 1   Game                  1260895 non-null  object \n",
      " 2   Plays                 1260875 non-null  float64\n",
      " 3   BGG Rank              1260875 non-null  float64\n",
      " 4   BGG Rating            1260875 non-null  float64\n",
      " 5   Your Rating           1260875 non-null  float64\n",
      " 6   Users Rating          1260875 non-null  float64\n",
      " 7   Utilisation           1260875 non-null  object \n",
      " 8   file                  1260896 non-null  object \n",
      " 9   Rating                20 non-null       float64\n",
      " 10  Last Played           0 non-null        float64\n",
      " 11  Days Since Last Play  20 non-null       float64\n",
      " 12  0                     1 non-null        object \n",
      " 13  1                     1 non-null        object \n",
      " 14  2                     1 non-null        object \n",
      " 15  3                     1 non-null        object \n",
      " 16  4                     1 non-null        object \n",
      " 17  5                     1 non-null        object \n",
      " 18  6                     1 non-null        object \n",
      "dtypes: float64(8), int64(1), object(10)\n",
      "memory usage: 182.8+ MB\n"
     ]
    }
   ],
   "source": [
    "users.info()"
   ]
  },
  {
   "cell_type": "markdown",
   "metadata": {},
   "source": [
    "<a id=\"udc\"></a>\n",
    "\n",
    "- ### Data Cleaning"
   ]
  },
  {
   "cell_type": "markdown",
   "metadata": {},
   "source": [
    "##### Remove columns with most null records"
   ]
  },
  {
   "cell_type": "code",
   "execution_count": 102,
   "metadata": {},
   "outputs": [],
   "source": [
    "users.drop(columns=['Unnamed: 0','Rating','Last Played','Days Since Last Play',\n",
    "                       '0', '1','2','3','4','5','6'], axis=1,\n",
    "              inplace=True)"
   ]
  },
  {
   "cell_type": "code",
   "execution_count": 103,
   "metadata": {},
   "outputs": [
    {
     "data": {
      "text/html": [
       "<div>\n",
       "<style scoped>\n",
       "    .dataframe tbody tr th:only-of-type {\n",
       "        vertical-align: middle;\n",
       "    }\n",
       "\n",
       "    .dataframe tbody tr th {\n",
       "        vertical-align: top;\n",
       "    }\n",
       "\n",
       "    .dataframe thead th {\n",
       "        text-align: right;\n",
       "    }\n",
       "</style>\n",
       "<table border=\"1\" class=\"dataframe\">\n",
       "  <thead>\n",
       "    <tr style=\"text-align: right;\">\n",
       "      <th></th>\n",
       "      <th>Game</th>\n",
       "      <th>Plays</th>\n",
       "      <th>BGG Rank</th>\n",
       "      <th>BGG Rating</th>\n",
       "      <th>Your Rating</th>\n",
       "      <th>Users Rating</th>\n",
       "      <th>Utilisation</th>\n",
       "      <th>file</th>\n",
       "    </tr>\n",
       "  </thead>\n",
       "  <tbody>\n",
       "    <tr>\n",
       "      <th>0</th>\n",
       "      <td>Tichu</td>\n",
       "      <td>51.0</td>\n",
       "      <td>170.0</td>\n",
       "      <td>7.6</td>\n",
       "      <td>10.0</td>\n",
       "      <td>13267.0</td>\n",
       "      <td>99.9%</td>\n",
       "      <td>545.csv</td>\n",
       "    </tr>\n",
       "    <tr>\n",
       "      <th>1</th>\n",
       "      <td>Admin Test Item</td>\n",
       "      <td>47.0</td>\n",
       "      <td>-1.0</td>\n",
       "      <td>7.5</td>\n",
       "      <td>3.0</td>\n",
       "      <td>25.0</td>\n",
       "      <td>99.9%</td>\n",
       "      <td>545.csv</td>\n",
       "    </tr>\n",
       "    <tr>\n",
       "      <th>2</th>\n",
       "      <td>Magic: The Gathering</td>\n",
       "      <td>18.0</td>\n",
       "      <td>158.0</td>\n",
       "      <td>7.5</td>\n",
       "      <td>10.0</td>\n",
       "      <td>32365.0</td>\n",
       "      <td>98.4%</td>\n",
       "      <td>545.csv</td>\n",
       "    </tr>\n",
       "    <tr>\n",
       "      <th>3</th>\n",
       "      <td>Agricola</td>\n",
       "      <td>16.0</td>\n",
       "      <td>31.0</td>\n",
       "      <td>7.9</td>\n",
       "      <td>10.0</td>\n",
       "      <td>63367.0</td>\n",
       "      <td>97.4%</td>\n",
       "      <td>545.csv</td>\n",
       "    </tr>\n",
       "    <tr>\n",
       "      <th>4</th>\n",
       "      <td>Ticket to Ride</td>\n",
       "      <td>15.0</td>\n",
       "      <td>174.0</td>\n",
       "      <td>7.4</td>\n",
       "      <td>10.0</td>\n",
       "      <td>71408.0</td>\n",
       "      <td>96.8%</td>\n",
       "      <td>545.csv</td>\n",
       "    </tr>\n",
       "  </tbody>\n",
       "</table>\n",
       "</div>"
      ],
      "text/plain": [
       "                   Game  Plays  BGG Rank  BGG Rating  Your Rating  \\\n",
       "0                 Tichu   51.0     170.0         7.6         10.0   \n",
       "1       Admin Test Item   47.0      -1.0         7.5          3.0   \n",
       "2  Magic: The Gathering   18.0     158.0         7.5         10.0   \n",
       "3              Agricola   16.0      31.0         7.9         10.0   \n",
       "4        Ticket to Ride   15.0     174.0         7.4         10.0   \n",
       "\n",
       "   Users Rating Utilisation     file  \n",
       "0       13267.0       99.9%  545.csv  \n",
       "1          25.0       99.9%  545.csv  \n",
       "2       32365.0       98.4%  545.csv  \n",
       "3       63367.0       97.4%  545.csv  \n",
       "4       71408.0       96.8%  545.csv  "
      ]
     },
     "execution_count": 103,
     "metadata": {},
     "output_type": "execute_result"
    }
   ],
   "source": [
    "users.head()"
   ]
  },
  {
   "cell_type": "markdown",
   "metadata": {},
   "source": [
    "##### Set the name of the file as user id"
   ]
  },
  {
   "cell_type": "code",
   "execution_count": 104,
   "metadata": {},
   "outputs": [],
   "source": [
    "file= users['file'].str.split('.', n=1, expand= True)\n",
    "users.insert(0, 'u_id', file[0])\n",
    "users.drop(columns =['file'], inplace= True)"
   ]
  },
  {
   "cell_type": "code",
   "execution_count": 105,
   "metadata": {},
   "outputs": [
    {
     "data": {
      "text/html": [
       "<div>\n",
       "<style scoped>\n",
       "    .dataframe tbody tr th:only-of-type {\n",
       "        vertical-align: middle;\n",
       "    }\n",
       "\n",
       "    .dataframe tbody tr th {\n",
       "        vertical-align: top;\n",
       "    }\n",
       "\n",
       "    .dataframe thead th {\n",
       "        text-align: right;\n",
       "    }\n",
       "</style>\n",
       "<table border=\"1\" class=\"dataframe\">\n",
       "  <thead>\n",
       "    <tr style=\"text-align: right;\">\n",
       "      <th></th>\n",
       "      <th>u_id</th>\n",
       "      <th>Game</th>\n",
       "      <th>Plays</th>\n",
       "      <th>BGG Rank</th>\n",
       "      <th>BGG Rating</th>\n",
       "      <th>Your Rating</th>\n",
       "      <th>Users Rating</th>\n",
       "      <th>Utilisation</th>\n",
       "    </tr>\n",
       "  </thead>\n",
       "  <tbody>\n",
       "    <tr>\n",
       "      <th>0</th>\n",
       "      <td>545</td>\n",
       "      <td>Tichu</td>\n",
       "      <td>51.0</td>\n",
       "      <td>170.0</td>\n",
       "      <td>7.6</td>\n",
       "      <td>10.0</td>\n",
       "      <td>13267.0</td>\n",
       "      <td>99.9%</td>\n",
       "    </tr>\n",
       "    <tr>\n",
       "      <th>1</th>\n",
       "      <td>545</td>\n",
       "      <td>Admin Test Item</td>\n",
       "      <td>47.0</td>\n",
       "      <td>-1.0</td>\n",
       "      <td>7.5</td>\n",
       "      <td>3.0</td>\n",
       "      <td>25.0</td>\n",
       "      <td>99.9%</td>\n",
       "    </tr>\n",
       "    <tr>\n",
       "      <th>2</th>\n",
       "      <td>545</td>\n",
       "      <td>Magic: The Gathering</td>\n",
       "      <td>18.0</td>\n",
       "      <td>158.0</td>\n",
       "      <td>7.5</td>\n",
       "      <td>10.0</td>\n",
       "      <td>32365.0</td>\n",
       "      <td>98.4%</td>\n",
       "    </tr>\n",
       "    <tr>\n",
       "      <th>3</th>\n",
       "      <td>545</td>\n",
       "      <td>Agricola</td>\n",
       "      <td>16.0</td>\n",
       "      <td>31.0</td>\n",
       "      <td>7.9</td>\n",
       "      <td>10.0</td>\n",
       "      <td>63367.0</td>\n",
       "      <td>97.4%</td>\n",
       "    </tr>\n",
       "    <tr>\n",
       "      <th>4</th>\n",
       "      <td>545</td>\n",
       "      <td>Ticket to Ride</td>\n",
       "      <td>15.0</td>\n",
       "      <td>174.0</td>\n",
       "      <td>7.4</td>\n",
       "      <td>10.0</td>\n",
       "      <td>71408.0</td>\n",
       "      <td>96.8%</td>\n",
       "    </tr>\n",
       "  </tbody>\n",
       "</table>\n",
       "</div>"
      ],
      "text/plain": [
       "  u_id                  Game  Plays  BGG Rank  BGG Rating  Your Rating  \\\n",
       "0  545                 Tichu   51.0     170.0         7.6         10.0   \n",
       "1  545       Admin Test Item   47.0      -1.0         7.5          3.0   \n",
       "2  545  Magic: The Gathering   18.0     158.0         7.5         10.0   \n",
       "3  545              Agricola   16.0      31.0         7.9         10.0   \n",
       "4  545        Ticket to Ride   15.0     174.0         7.4         10.0   \n",
       "\n",
       "   Users Rating Utilisation  \n",
       "0       13267.0       99.9%  \n",
       "1          25.0       99.9%  \n",
       "2       32365.0       98.4%  \n",
       "3       63367.0       97.4%  \n",
       "4       71408.0       96.8%  "
      ]
     },
     "execution_count": 105,
     "metadata": {},
     "output_type": "execute_result"
    }
   ],
   "source": [
    "users.head()"
   ]
  },
  {
   "cell_type": "code",
   "execution_count": 106,
   "metadata": {},
   "outputs": [
    {
     "name": "stdout",
     "output_type": "stream",
     "text": [
      "<class 'pandas.core.frame.DataFrame'>\n",
      "RangeIndex: 1260896 entries, 0 to 1260895\n",
      "Data columns (total 8 columns):\n",
      " #   Column        Non-Null Count    Dtype  \n",
      "---  ------        --------------    -----  \n",
      " 0   u_id          1260896 non-null  object \n",
      " 1   Game          1260895 non-null  object \n",
      " 2   Plays         1260875 non-null  float64\n",
      " 3   BGG Rank      1260875 non-null  float64\n",
      " 4   BGG Rating    1260875 non-null  float64\n",
      " 5   Your Rating   1260875 non-null  float64\n",
      " 6   Users Rating  1260875 non-null  float64\n",
      " 7   Utilisation   1260875 non-null  object \n",
      "dtypes: float64(5), object(3)\n",
      "memory usage: 77.0+ MB\n"
     ]
    }
   ],
   "source": [
    "users.info()"
   ]
  },
  {
   "cell_type": "markdown",
   "metadata": {},
   "source": [
    "#### *u_id* column"
   ]
  },
  {
   "cell_type": "code",
   "execution_count": 107,
   "metadata": {},
   "outputs": [],
   "source": [
    "#Change the data type\n",
    "\n",
    "users['u_id']=users['u_id'].astype(int)"
   ]
  },
  {
   "cell_type": "code",
   "execution_count": 108,
   "metadata": {},
   "outputs": [
    {
     "data": {
      "text/plain": [
       "2851"
      ]
     },
     "execution_count": 108,
     "metadata": {},
     "output_type": "execute_result"
    }
   ],
   "source": [
    "users['u_id'].max()"
   ]
  },
  {
   "cell_type": "code",
   "execution_count": 109,
   "metadata": {},
   "outputs": [
    {
     "data": {
      "text/html": [
       "<div>\n",
       "<style scoped>\n",
       "    .dataframe tbody tr th:only-of-type {\n",
       "        vertical-align: middle;\n",
       "    }\n",
       "\n",
       "    .dataframe tbody tr th {\n",
       "        vertical-align: top;\n",
       "    }\n",
       "\n",
       "    .dataframe thead th {\n",
       "        text-align: right;\n",
       "    }\n",
       "</style>\n",
       "<table border=\"1\" class=\"dataframe\">\n",
       "  <thead>\n",
       "    <tr style=\"text-align: right;\">\n",
       "      <th></th>\n",
       "      <th>u_id</th>\n",
       "      <th>Game</th>\n",
       "      <th>Plays</th>\n",
       "      <th>BGG Rank</th>\n",
       "      <th>BGG Rating</th>\n",
       "      <th>Your Rating</th>\n",
       "      <th>Users Rating</th>\n",
       "      <th>Utilisation</th>\n",
       "    </tr>\n",
       "  </thead>\n",
       "  <tbody>\n",
       "    <tr>\n",
       "      <th>186645</th>\n",
       "      <td>0</td>\n",
       "      <td>Telestrations</td>\n",
       "      <td>26.0</td>\n",
       "      <td>258.0</td>\n",
       "      <td>7.4</td>\n",
       "      <td>7.5</td>\n",
       "      <td>12793.0</td>\n",
       "      <td>99.7%</td>\n",
       "    </tr>\n",
       "    <tr>\n",
       "      <th>186646</th>\n",
       "      <td>0</td>\n",
       "      <td>My City</td>\n",
       "      <td>21.0</td>\n",
       "      <td>770.0</td>\n",
       "      <td>7.9</td>\n",
       "      <td>8.0</td>\n",
       "      <td>1578.0</td>\n",
       "      <td>99.2%</td>\n",
       "    </tr>\n",
       "    <tr>\n",
       "      <th>186647</th>\n",
       "      <td>0</td>\n",
       "      <td>No Thanks!</td>\n",
       "      <td>16.0</td>\n",
       "      <td>449.0</td>\n",
       "      <td>7.1</td>\n",
       "      <td>8.5</td>\n",
       "      <td>20289.0</td>\n",
       "      <td>97.4%</td>\n",
       "    </tr>\n",
       "    <tr>\n",
       "      <th>186648</th>\n",
       "      <td>0</td>\n",
       "      <td>Pandemic Legacy: Season 1</td>\n",
       "      <td>12.0</td>\n",
       "      <td>2.0</td>\n",
       "      <td>8.6</td>\n",
       "      <td>8.5</td>\n",
       "      <td>41490.0</td>\n",
       "      <td>93.6%</td>\n",
       "    </tr>\n",
       "    <tr>\n",
       "      <th>186649</th>\n",
       "      <td>0</td>\n",
       "      <td>Escape: The Curse of the Temple</td>\n",
       "      <td>12.0</td>\n",
       "      <td>544.0</td>\n",
       "      <td>7.0</td>\n",
       "      <td>8.0</td>\n",
       "      <td>15459.0</td>\n",
       "      <td>93.6%</td>\n",
       "    </tr>\n",
       "    <tr>\n",
       "      <th>...</th>\n",
       "      <td>...</td>\n",
       "      <td>...</td>\n",
       "      <td>...</td>\n",
       "      <td>...</td>\n",
       "      <td>...</td>\n",
       "      <td>...</td>\n",
       "      <td>...</td>\n",
       "      <td>...</td>\n",
       "    </tr>\n",
       "    <tr>\n",
       "      <th>187184</th>\n",
       "      <td>0</td>\n",
       "      <td>2 de Mayo</td>\n",
       "      <td>0.0</td>\n",
       "      <td>1468.0</td>\n",
       "      <td>6.9</td>\n",
       "      <td>6.5</td>\n",
       "      <td>1900.0</td>\n",
       "      <td>0.0%</td>\n",
       "    </tr>\n",
       "    <tr>\n",
       "      <th>187185</th>\n",
       "      <td>0</td>\n",
       "      <td>1830: Railways &amp; Robber Barons</td>\n",
       "      <td>0.0</td>\n",
       "      <td>196.0</td>\n",
       "      <td>7.9</td>\n",
       "      <td>-1.0</td>\n",
       "      <td>4680.0</td>\n",
       "      <td>0.0%</td>\n",
       "    </tr>\n",
       "    <tr>\n",
       "      <th>187186</th>\n",
       "      <td>0</td>\n",
       "      <td>Zooloretto</td>\n",
       "      <td>0.0</td>\n",
       "      <td>755.0</td>\n",
       "      <td>6.8</td>\n",
       "      <td>7.5</td>\n",
       "      <td>13881.0</td>\n",
       "      <td>0.0%</td>\n",
       "    </tr>\n",
       "    <tr>\n",
       "      <th>187187</th>\n",
       "      <td>0</td>\n",
       "      <td>Zooloretto: Christmas Tree</td>\n",
       "      <td>0.0</td>\n",
       "      <td>-1.0</td>\n",
       "      <td>6.6</td>\n",
       "      <td>-1.0</td>\n",
       "      <td>97.0</td>\n",
       "      <td>0.0%</td>\n",
       "    </tr>\n",
       "    <tr>\n",
       "      <th>187188</th>\n",
       "      <td>0</td>\n",
       "      <td>Zooloretto: Three Extra Enclosures</td>\n",
       "      <td>0.0</td>\n",
       "      <td>-1.0</td>\n",
       "      <td>6.8</td>\n",
       "      <td>-1.0</td>\n",
       "      <td>362.0</td>\n",
       "      <td>0.0%</td>\n",
       "    </tr>\n",
       "  </tbody>\n",
       "</table>\n",
       "<p>544 rows × 8 columns</p>\n",
       "</div>"
      ],
      "text/plain": [
       "        u_id                                Game  Plays  BGG Rank  BGG Rating  \\\n",
       "186645     0                       Telestrations   26.0     258.0         7.4   \n",
       "186646     0                             My City   21.0     770.0         7.9   \n",
       "186647     0                          No Thanks!   16.0     449.0         7.1   \n",
       "186648     0           Pandemic Legacy: Season 1   12.0       2.0         8.6   \n",
       "186649     0     Escape: The Curse of the Temple   12.0     544.0         7.0   \n",
       "...      ...                                 ...    ...       ...         ...   \n",
       "187184     0                           2 de Mayo    0.0    1468.0         6.9   \n",
       "187185     0      1830: Railways & Robber Barons    0.0     196.0         7.9   \n",
       "187186     0                          Zooloretto    0.0     755.0         6.8   \n",
       "187187     0          Zooloretto: Christmas Tree    0.0      -1.0         6.6   \n",
       "187188     0  Zooloretto: Three Extra Enclosures    0.0      -1.0         6.8   \n",
       "\n",
       "        Your Rating  Users Rating Utilisation  \n",
       "186645          7.5       12793.0       99.7%  \n",
       "186646          8.0        1578.0       99.2%  \n",
       "186647          8.5       20289.0       97.4%  \n",
       "186648          8.5       41490.0       93.6%  \n",
       "186649          8.0       15459.0       93.6%  \n",
       "...             ...           ...         ...  \n",
       "187184          6.5        1900.0        0.0%  \n",
       "187185         -1.0        4680.0        0.0%  \n",
       "187186          7.5       13881.0        0.0%  \n",
       "187187         -1.0          97.0        0.0%  \n",
       "187188         -1.0         362.0        0.0%  \n",
       "\n",
       "[544 rows x 8 columns]"
      ]
     },
     "execution_count": 109,
     "metadata": {},
     "output_type": "execute_result"
    }
   ],
   "source": [
    "# Check if u_id=0 exists\n",
    "\n",
    "users[users['u_id']==0]"
   ]
  },
  {
   "cell_type": "code",
   "execution_count": 110,
   "metadata": {},
   "outputs": [],
   "source": [
    "users['u_id']=users['u_id']+1"
   ]
  },
  {
   "cell_type": "code",
   "execution_count": 111,
   "metadata": {},
   "outputs": [
    {
     "data": {
      "text/plain": [
       "2852"
      ]
     },
     "execution_count": 111,
     "metadata": {},
     "output_type": "execute_result"
    }
   ],
   "source": [
    "users['u_id'].max()"
   ]
  },
  {
   "cell_type": "markdown",
   "metadata": {},
   "source": [
    "#### Who is the user with the highest number of board games?"
   ]
  },
  {
   "cell_type": "code",
   "execution_count": 112,
   "metadata": {},
   "outputs": [
    {
     "name": "stdout",
     "output_type": "stream",
     "text": [
      "u_id\n",
      "1       544\n",
      "2       488\n",
      "3       199\n",
      "4       196\n",
      "5       239\n",
      "       ... \n",
      "2848    239\n",
      "2849    305\n",
      "2850    249\n",
      "2851     41\n",
      "2852    406\n",
      "Name: Game, Length: 2852, dtype: int64\n"
     ]
    }
   ],
   "source": [
    "user_num=list(users['u_id'])\n",
    "user_count=users.groupby('u_id')['Game'].count()\n",
    "print(user_count)"
   ]
  },
  {
   "cell_type": "code",
   "execution_count": 114,
   "metadata": {},
   "outputs": [
    {
     "data": {
      "image/png": "[encoded data removed]",
      "text/plain": [
       "<Figure size 4500x900 with 1 Axes>"
      ]
     },
     "metadata": {},
     "output_type": "display_data"
    }
   ],
   "source": [
    "yy= list(user_count[user_count > 3000])\n",
    "xy= list(user_count[user_count > 3000].index.values)\n",
    "\n",
    "fig = plt.figure(figsize=(15,3), dpi=300)\n",
    "ax = fig.gca()\n",
    "\n",
    "sns.set_style(\"whitegrid\")\n",
    "sns.set_context(\"notebook\", font_scale = 1, rc={'axes.titlesize': 15})\n",
    "values = np.array(yy) \n",
    "clrs = ['lightblue' if (x < max(values)) else 'red' for x in values ]\n",
    "bar=sns.barplot(x=xy, y=yy, ax=ax, palette=clrs, alpha = 0.85)\n",
    "sns.despine(left=True, bottom=True)\n",
    "\n",
    "plt.setp(bar.get_xticklabels(), rotation=90) \n",
    "bar.set_title('Who is the user with the highest number of board games?',fontdict= { 'fontsize': 16, 'fontweight':'bold'})\n",
    "bar.set_xlabel('Users Id',fontsize = 12, )\n",
    "bar.set_ylabel('Board Games Number',fontsize = 12 )\n",
    "plt.show();"
   ]
  },
  {
   "cell_type": "markdown",
   "metadata": {},
   "source": [
    "#### Check for null values"
   ]
  },
  {
   "cell_type": "code",
   "execution_count": 115,
   "metadata": {},
   "outputs": [
    {
     "data": {
      "text/plain": [
       "u_id             0\n",
       "Game             1\n",
       "Plays           21\n",
       "BGG Rank        21\n",
       "BGG Rating      21\n",
       "Your Rating     21\n",
       "Users Rating    21\n",
       "Utilisation     21\n",
       "dtype: int64"
      ]
     },
     "execution_count": 115,
     "metadata": {},
     "output_type": "execute_result"
    }
   ],
   "source": [
    "users.isnull().sum()"
   ]
  },
  {
   "cell_type": "code",
   "execution_count": 116,
   "metadata": {},
   "outputs": [
    {
     "data": {
      "text/html": [
       "<div>\n",
       "<style scoped>\n",
       "    .dataframe tbody tr th:only-of-type {\n",
       "        vertical-align: middle;\n",
       "    }\n",
       "\n",
       "    .dataframe tbody tr th {\n",
       "        vertical-align: top;\n",
       "    }\n",
       "\n",
       "    .dataframe thead th {\n",
       "        text-align: right;\n",
       "    }\n",
       "</style>\n",
       "<table border=\"1\" class=\"dataframe\">\n",
       "  <thead>\n",
       "    <tr style=\"text-align: right;\">\n",
       "      <th></th>\n",
       "      <th>u_id</th>\n",
       "      <th>Game</th>\n",
       "      <th>Plays</th>\n",
       "      <th>BGG Rank</th>\n",
       "      <th>BGG Rating</th>\n",
       "      <th>Your Rating</th>\n",
       "      <th>Users Rating</th>\n",
       "      <th>Utilisation</th>\n",
       "    </tr>\n",
       "  </thead>\n",
       "  <tbody>\n",
       "    <tr>\n",
       "      <th>653918</th>\n",
       "      <td>2774</td>\n",
       "      <td>Creepers</td>\n",
       "      <td>NaN</td>\n",
       "      <td>NaN</td>\n",
       "      <td>NaN</td>\n",
       "      <td>NaN</td>\n",
       "      <td>NaN</td>\n",
       "      <td>NaN</td>\n",
       "    </tr>\n",
       "    <tr>\n",
       "      <th>653919</th>\n",
       "      <td>2774</td>\n",
       "      <td>Crokinole</td>\n",
       "      <td>NaN</td>\n",
       "      <td>NaN</td>\n",
       "      <td>NaN</td>\n",
       "      <td>NaN</td>\n",
       "      <td>NaN</td>\n",
       "      <td>NaN</td>\n",
       "    </tr>\n",
       "    <tr>\n",
       "      <th>653920</th>\n",
       "      <td>2774</td>\n",
       "      <td>Machi Koro</td>\n",
       "      <td>NaN</td>\n",
       "      <td>NaN</td>\n",
       "      <td>NaN</td>\n",
       "      <td>NaN</td>\n",
       "      <td>NaN</td>\n",
       "      <td>NaN</td>\n",
       "    </tr>\n",
       "    <tr>\n",
       "      <th>653921</th>\n",
       "      <td>2774</td>\n",
       "      <td>Yomi</td>\n",
       "      <td>NaN</td>\n",
       "      <td>NaN</td>\n",
       "      <td>NaN</td>\n",
       "      <td>NaN</td>\n",
       "      <td>NaN</td>\n",
       "      <td>NaN</td>\n",
       "    </tr>\n",
       "    <tr>\n",
       "      <th>653922</th>\n",
       "      <td>2774</td>\n",
       "      <td>ZÈRTZ</td>\n",
       "      <td>NaN</td>\n",
       "      <td>NaN</td>\n",
       "      <td>NaN</td>\n",
       "      <td>NaN</td>\n",
       "      <td>NaN</td>\n",
       "      <td>NaN</td>\n",
       "    </tr>\n",
       "    <tr>\n",
       "      <th>653923</th>\n",
       "      <td>2774</td>\n",
       "      <td>Kingsburg</td>\n",
       "      <td>NaN</td>\n",
       "      <td>NaN</td>\n",
       "      <td>NaN</td>\n",
       "      <td>NaN</td>\n",
       "      <td>NaN</td>\n",
       "      <td>NaN</td>\n",
       "    </tr>\n",
       "    <tr>\n",
       "      <th>653924</th>\n",
       "      <td>2774</td>\n",
       "      <td>Keltis: Das Orakel</td>\n",
       "      <td>NaN</td>\n",
       "      <td>NaN</td>\n",
       "      <td>NaN</td>\n",
       "      <td>NaN</td>\n",
       "      <td>NaN</td>\n",
       "      <td>NaN</td>\n",
       "    </tr>\n",
       "    <tr>\n",
       "      <th>653925</th>\n",
       "      <td>2774</td>\n",
       "      <td>Mystic Vale</td>\n",
       "      <td>NaN</td>\n",
       "      <td>NaN</td>\n",
       "      <td>NaN</td>\n",
       "      <td>NaN</td>\n",
       "      <td>NaN</td>\n",
       "      <td>NaN</td>\n",
       "    </tr>\n",
       "    <tr>\n",
       "      <th>653926</th>\n",
       "      <td>2774</td>\n",
       "      <td>Hive</td>\n",
       "      <td>NaN</td>\n",
       "      <td>NaN</td>\n",
       "      <td>NaN</td>\n",
       "      <td>NaN</td>\n",
       "      <td>NaN</td>\n",
       "      <td>NaN</td>\n",
       "    </tr>\n",
       "    <tr>\n",
       "      <th>653927</th>\n",
       "      <td>2774</td>\n",
       "      <td>Tao Long: The Way of the Dragon</td>\n",
       "      <td>NaN</td>\n",
       "      <td>NaN</td>\n",
       "      <td>NaN</td>\n",
       "      <td>NaN</td>\n",
       "      <td>NaN</td>\n",
       "      <td>NaN</td>\n",
       "    </tr>\n",
       "    <tr>\n",
       "      <th>653928</th>\n",
       "      <td>2774</td>\n",
       "      <td>Havana</td>\n",
       "      <td>NaN</td>\n",
       "      <td>NaN</td>\n",
       "      <td>NaN</td>\n",
       "      <td>NaN</td>\n",
       "      <td>NaN</td>\n",
       "      <td>NaN</td>\n",
       "    </tr>\n",
       "    <tr>\n",
       "      <th>653929</th>\n",
       "      <td>2774</td>\n",
       "      <td>The Lord of the Rings: Journeys in Middle-Earth</td>\n",
       "      <td>NaN</td>\n",
       "      <td>NaN</td>\n",
       "      <td>NaN</td>\n",
       "      <td>NaN</td>\n",
       "      <td>NaN</td>\n",
       "      <td>NaN</td>\n",
       "    </tr>\n",
       "    <tr>\n",
       "      <th>653930</th>\n",
       "      <td>2774</td>\n",
       "      <td>The Faceless</td>\n",
       "      <td>NaN</td>\n",
       "      <td>NaN</td>\n",
       "      <td>NaN</td>\n",
       "      <td>NaN</td>\n",
       "      <td>NaN</td>\n",
       "      <td>NaN</td>\n",
       "    </tr>\n",
       "    <tr>\n",
       "      <th>653931</th>\n",
       "      <td>2774</td>\n",
       "      <td>Bunny Kingdom</td>\n",
       "      <td>NaN</td>\n",
       "      <td>NaN</td>\n",
       "      <td>NaN</td>\n",
       "      <td>NaN</td>\n",
       "      <td>NaN</td>\n",
       "      <td>NaN</td>\n",
       "    </tr>\n",
       "    <tr>\n",
       "      <th>653932</th>\n",
       "      <td>2774</td>\n",
       "      <td>Santorini</td>\n",
       "      <td>NaN</td>\n",
       "      <td>NaN</td>\n",
       "      <td>NaN</td>\n",
       "      <td>NaN</td>\n",
       "      <td>NaN</td>\n",
       "      <td>NaN</td>\n",
       "    </tr>\n",
       "    <tr>\n",
       "      <th>653933</th>\n",
       "      <td>2774</td>\n",
       "      <td>Bios:Genesis</td>\n",
       "      <td>NaN</td>\n",
       "      <td>NaN</td>\n",
       "      <td>NaN</td>\n",
       "      <td>NaN</td>\n",
       "      <td>NaN</td>\n",
       "      <td>NaN</td>\n",
       "    </tr>\n",
       "    <tr>\n",
       "      <th>653934</th>\n",
       "      <td>2774</td>\n",
       "      <td>Water Lily</td>\n",
       "      <td>NaN</td>\n",
       "      <td>NaN</td>\n",
       "      <td>NaN</td>\n",
       "      <td>NaN</td>\n",
       "      <td>NaN</td>\n",
       "      <td>NaN</td>\n",
       "    </tr>\n",
       "    <tr>\n",
       "      <th>653935</th>\n",
       "      <td>2774</td>\n",
       "      <td>Viticulture</td>\n",
       "      <td>NaN</td>\n",
       "      <td>NaN</td>\n",
       "      <td>NaN</td>\n",
       "      <td>NaN</td>\n",
       "      <td>NaN</td>\n",
       "      <td>NaN</td>\n",
       "    </tr>\n",
       "    <tr>\n",
       "      <th>653936</th>\n",
       "      <td>2774</td>\n",
       "      <td>Meeple War</td>\n",
       "      <td>NaN</td>\n",
       "      <td>NaN</td>\n",
       "      <td>NaN</td>\n",
       "      <td>NaN</td>\n",
       "      <td>NaN</td>\n",
       "      <td>NaN</td>\n",
       "    </tr>\n",
       "    <tr>\n",
       "      <th>653937</th>\n",
       "      <td>2774</td>\n",
       "      <td>Gipsy King</td>\n",
       "      <td>NaN</td>\n",
       "      <td>NaN</td>\n",
       "      <td>NaN</td>\n",
       "      <td>NaN</td>\n",
       "      <td>NaN</td>\n",
       "      <td>NaN</td>\n",
       "    </tr>\n",
       "    <tr>\n",
       "      <th>968149</th>\n",
       "      <td>956</td>\n",
       "      <td>NaN</td>\n",
       "      <td>NaN</td>\n",
       "      <td>NaN</td>\n",
       "      <td>NaN</td>\n",
       "      <td>NaN</td>\n",
       "      <td>NaN</td>\n",
       "      <td>NaN</td>\n",
       "    </tr>\n",
       "  </tbody>\n",
       "</table>\n",
       "</div>"
      ],
      "text/plain": [
       "        u_id                                             Game  Plays  \\\n",
       "653918  2774                                         Creepers    NaN   \n",
       "653919  2774                                        Crokinole    NaN   \n",
       "653920  2774                                       Machi Koro    NaN   \n",
       "653921  2774                                             Yomi    NaN   \n",
       "653922  2774                                            ZÈRTZ    NaN   \n",
       "653923  2774                                        Kingsburg    NaN   \n",
       "653924  2774                               Keltis: Das Orakel    NaN   \n",
       "653925  2774                                      Mystic Vale    NaN   \n",
       "653926  2774                                             Hive    NaN   \n",
       "653927  2774                  Tao Long: The Way of the Dragon    NaN   \n",
       "653928  2774                                           Havana    NaN   \n",
       "653929  2774  The Lord of the Rings: Journeys in Middle-Earth    NaN   \n",
       "653930  2774                                     The Faceless    NaN   \n",
       "653931  2774                                    Bunny Kingdom    NaN   \n",
       "653932  2774                                        Santorini    NaN   \n",
       "653933  2774                                     Bios:Genesis    NaN   \n",
       "653934  2774                                       Water Lily    NaN   \n",
       "653935  2774                                      Viticulture    NaN   \n",
       "653936  2774                                       Meeple War    NaN   \n",
       "653937  2774                                       Gipsy King    NaN   \n",
       "968149   956                                              NaN    NaN   \n",
       "\n",
       "        BGG Rank  BGG Rating  Your Rating  Users Rating Utilisation  \n",
       "653918       NaN         NaN          NaN           NaN         NaN  \n",
       "653919       NaN         NaN          NaN           NaN         NaN  \n",
       "653920       NaN         NaN          NaN           NaN         NaN  \n",
       "653921       NaN         NaN          NaN           NaN         NaN  \n",
       "653922       NaN         NaN          NaN           NaN         NaN  \n",
       "653923       NaN         NaN          NaN           NaN         NaN  \n",
       "653924       NaN         NaN          NaN           NaN         NaN  \n",
       "653925       NaN         NaN          NaN           NaN         NaN  \n",
       "653926       NaN         NaN          NaN           NaN         NaN  \n",
       "653927       NaN         NaN          NaN           NaN         NaN  \n",
       "653928       NaN         NaN          NaN           NaN         NaN  \n",
       "653929       NaN         NaN          NaN           NaN         NaN  \n",
       "653930       NaN         NaN          NaN           NaN         NaN  \n",
       "653931       NaN         NaN          NaN           NaN         NaN  \n",
       "653932       NaN         NaN          NaN           NaN         NaN  \n",
       "653933       NaN         NaN          NaN           NaN         NaN  \n",
       "653934       NaN         NaN          NaN           NaN         NaN  \n",
       "653935       NaN         NaN          NaN           NaN         NaN  \n",
       "653936       NaN         NaN          NaN           NaN         NaN  \n",
       "653937       NaN         NaN          NaN           NaN         NaN  \n",
       "968149       NaN         NaN          NaN           NaN         NaN  "
      ]
     },
     "execution_count": 116,
     "metadata": {},
     "output_type": "execute_result"
    }
   ],
   "source": [
    "users[users['Plays'].isnull()]"
   ]
  },
  {
   "cell_type": "code",
   "execution_count": 117,
   "metadata": {},
   "outputs": [],
   "source": [
    "# Remove null values\n",
    "\n",
    "users.dropna(axis=0, inplace=True)"
   ]
  },
  {
   "cell_type": "code",
   "execution_count": 118,
   "metadata": {},
   "outputs": [
    {
     "name": "stdout",
     "output_type": "stream",
     "text": [
      "<class 'pandas.core.frame.DataFrame'>\n",
      "Int64Index: 1260875 entries, 0 to 1260895\n",
      "Data columns (total 8 columns):\n",
      " #   Column        Non-Null Count    Dtype  \n",
      "---  ------        --------------    -----  \n",
      " 0   u_id          1260875 non-null  int64  \n",
      " 1   Game          1260875 non-null  object \n",
      " 2   Plays         1260875 non-null  float64\n",
      " 3   BGG Rank      1260875 non-null  float64\n",
      " 4   BGG Rating    1260875 non-null  float64\n",
      " 5   Your Rating   1260875 non-null  float64\n",
      " 6   Users Rating  1260875 non-null  float64\n",
      " 7   Utilisation   1260875 non-null  object \n",
      "dtypes: float64(5), int64(1), object(2)\n",
      "memory usage: 86.6+ MB\n"
     ]
    }
   ],
   "source": [
    "users.info()"
   ]
  },
  {
   "cell_type": "markdown",
   "metadata": {},
   "source": [
    "#### Review other outliers"
   ]
  },
  {
   "cell_type": "code",
   "execution_count": 119,
   "metadata": {},
   "outputs": [
    {
     "data": {
      "text/html": [
       "<div>\n",
       "<style scoped>\n",
       "    .dataframe tbody tr th:only-of-type {\n",
       "        vertical-align: middle;\n",
       "    }\n",
       "\n",
       "    .dataframe tbody tr th {\n",
       "        vertical-align: top;\n",
       "    }\n",
       "\n",
       "    .dataframe thead th {\n",
       "        text-align: right;\n",
       "    }\n",
       "</style>\n",
       "<table border=\"1\" class=\"dataframe\">\n",
       "  <thead>\n",
       "    <tr style=\"text-align: right;\">\n",
       "      <th></th>\n",
       "      <th>u_id</th>\n",
       "      <th>Plays</th>\n",
       "      <th>BGG Rank</th>\n",
       "      <th>BGG Rating</th>\n",
       "      <th>Your Rating</th>\n",
       "      <th>Users Rating</th>\n",
       "    </tr>\n",
       "  </thead>\n",
       "  <tbody>\n",
       "    <tr>\n",
       "      <th>count</th>\n",
       "      <td>1.260875e+06</td>\n",
       "      <td>1.260875e+06</td>\n",
       "      <td>1.260875e+06</td>\n",
       "      <td>1.260875e+06</td>\n",
       "      <td>1.260875e+06</td>\n",
       "      <td>1.260875e+06</td>\n",
       "    </tr>\n",
       "    <tr>\n",
       "      <th>mean</th>\n",
       "      <td>1.404150e+03</td>\n",
       "      <td>2.857805e+00</td>\n",
       "      <td>2.462062e+03</td>\n",
       "      <td>7.042334e+00</td>\n",
       "      <td>2.701321e+00</td>\n",
       "      <td>5.761924e+03</td>\n",
       "    </tr>\n",
       "    <tr>\n",
       "      <th>std</th>\n",
       "      <td>8.142236e+02</td>\n",
       "      <td>2.254360e+01</td>\n",
       "      <td>4.513049e+03</td>\n",
       "      <td>8.895329e-01</td>\n",
       "      <td>4.191426e+00</td>\n",
       "      <td>1.233732e+04</td>\n",
       "    </tr>\n",
       "    <tr>\n",
       "      <th>min</th>\n",
       "      <td>1.000000e+00</td>\n",
       "      <td>0.000000e+00</td>\n",
       "      <td>-1.000000e+00</td>\n",
       "      <td>0.000000e+00</td>\n",
       "      <td>-1.000000e+00</td>\n",
       "      <td>0.000000e+00</td>\n",
       "    </tr>\n",
       "    <tr>\n",
       "      <th>25%</th>\n",
       "      <td>6.980000e+02</td>\n",
       "      <td>0.000000e+00</td>\n",
       "      <td>-1.000000e+00</td>\n",
       "      <td>6.600000e+00</td>\n",
       "      <td>-1.000000e+00</td>\n",
       "      <td>2.140000e+02</td>\n",
       "    </tr>\n",
       "    <tr>\n",
       "      <th>50%</th>\n",
       "      <td>1.375000e+03</td>\n",
       "      <td>0.000000e+00</td>\n",
       "      <td>4.350000e+02</td>\n",
       "      <td>7.100000e+00</td>\n",
       "      <td>-1.000000e+00</td>\n",
       "      <td>1.077000e+03</td>\n",
       "    </tr>\n",
       "    <tr>\n",
       "      <th>75%</th>\n",
       "      <td>2.088000e+03</td>\n",
       "      <td>2.000000e+00</td>\n",
       "      <td>2.523000e+03</td>\n",
       "      <td>7.600000e+00</td>\n",
       "      <td>7.000000e+00</td>\n",
       "      <td>4.949000e+03</td>\n",
       "    </tr>\n",
       "    <tr>\n",
       "      <th>max</th>\n",
       "      <td>2.852000e+03</td>\n",
       "      <td>6.741000e+03</td>\n",
       "      <td>2.028500e+04</td>\n",
       "      <td>1.000000e+01</td>\n",
       "      <td>1.000000e+01</td>\n",
       "      <td>1.018650e+05</td>\n",
       "    </tr>\n",
       "  </tbody>\n",
       "</table>\n",
       "</div>"
      ],
      "text/plain": [
       "               u_id         Plays      BGG Rank    BGG Rating   Your Rating  \\\n",
       "count  1.260875e+06  1.260875e+06  1.260875e+06  1.260875e+06  1.260875e+06   \n",
       "mean   1.404150e+03  2.857805e+00  2.462062e+03  7.042334e+00  2.701321e+00   \n",
       "std    8.142236e+02  2.254360e+01  4.513049e+03  8.895329e-01  4.191426e+00   \n",
       "min    1.000000e+00  0.000000e+00 -1.000000e+00  0.000000e+00 -1.000000e+00   \n",
       "25%    6.980000e+02  0.000000e+00 -1.000000e+00  6.600000e+00 -1.000000e+00   \n",
       "50%    1.375000e+03  0.000000e+00  4.350000e+02  7.100000e+00 -1.000000e+00   \n",
       "75%    2.088000e+03  2.000000e+00  2.523000e+03  7.600000e+00  7.000000e+00   \n",
       "max    2.852000e+03  6.741000e+03  2.028500e+04  1.000000e+01  1.000000e+01   \n",
       "\n",
       "       Users Rating  \n",
       "count  1.260875e+06  \n",
       "mean   5.761924e+03  \n",
       "std    1.233732e+04  \n",
       "min    0.000000e+00  \n",
       "25%    2.140000e+02  \n",
       "50%    1.077000e+03  \n",
       "75%    4.949000e+03  \n",
       "max    1.018650e+05  "
      ]
     },
     "execution_count": 119,
     "metadata": {},
     "output_type": "execute_result"
    }
   ],
   "source": [
    "users.describe()"
   ]
  },
  {
   "cell_type": "code",
   "execution_count": 120,
   "metadata": {},
   "outputs": [
    {
     "data": {
      "image/png": "[encoded data removed]",
      "text/plain": [
       "<Figure size 576x432 with 1 Axes>"
      ]
     },
     "metadata": {},
     "output_type": "display_data"
    }
   ],
   "source": [
    "outl=users[['BGG Rating', 'Your Rating']]\n",
    "\n",
    "# make boxplot with Seaborn\n",
    "plt.figure(figsize=(8,6))\n",
    "sns.boxplot(data=outl, width=0.5,palette=\"colorblind\");"
   ]
  },
  {
   "cell_type": "code",
   "execution_count": 121,
   "metadata": {},
   "outputs": [
    {
     "name": "stdout",
     "output_type": "stream",
     "text": [
      "567662\n",
      "693213\n"
     ]
    }
   ],
   "source": [
    "print((users['Your Rating']>=0).sum())\n",
    "print((users['Your Rating']<0).sum())"
   ]
  },
  {
   "cell_type": "markdown",
   "metadata": {},
   "source": [
    "Within the user dataframe for the columns *'BGG Rank'*, *'BGG Rating'*, *'Your Rating'* there are values of -1. \n",
    "\n",
    "**What do these values mean?**\n",
    "\n",
    "These values correspond to games that have not been rated by users.\n",
    "If we analyse each of the columns mentioned above we can relate this rating to:\n",
    "\n",
    "  - For the 'BGG Rank' column, these are games that have not been rated and are not included in the BGG Rank of games.\n",
    "\n",
    "  - For the column 'BGG Rating' these are games that have never been rated by the users of the BGG.\n",
    "\n",
    "  - For the 'Your Rating' column, these are games that are in the user's collection, i.e. they have been purchased by the user but have not yet been rated (either because they have not yet been played or because they have not been rated).\n",
    "\n"
   ]
  },
  {
   "cell_type": "code",
   "execution_count": null,
   "metadata": {},
   "outputs": [],
   "source": []
  },
  {
   "cell_type": "code",
   "execution_count": null,
   "metadata": {},
   "outputs": [],
   "source": []
  }
 ],
 "metadata": {
  "kernelspec": {
   "display_name": "Python 3",
   "language": "python",
   "name": "python3"
  },
  "language_info": {
   "codemirror_mode": {
    "name": "ipython",
    "version": 3
   },
   "file_extension": ".py",
   "mimetype": "text/x-python",
   "name": "python",
   "nbconvert_exporter": "python",
   "pygments_lexer": "ipython3",
   "version": "3.7.9"
  }
 },
 "nbformat": 4,
 "nbformat_minor": 4
}
