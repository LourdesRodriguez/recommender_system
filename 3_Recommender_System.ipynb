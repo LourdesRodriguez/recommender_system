{
 "cells": [
  {
   "cell_type": "code",
   "execution_count": 1,
   "id": "22bb1bef",
   "metadata": {},
   "outputs": [
    {
     "name": "stdout",
     "output_type": "stream",
     "text": [
      "System version: 3.9.5 (default, May 18 2021, 12:31:01) \n",
      "[Clang 10.0.0 ]\n",
      "Spark version: 3.1.2\n"
     ]
    }
   ],
   "source": [
    "import os\n",
    "import glob\n",
    "import pandas as pd\n",
    "import numpy as np\n",
    "import matplotlib as plt\n",
    "import matplotlib.pyplot as plt\n",
    "\n",
    "from sklearn.metrics.pairwise import cosine_similarity\n",
    "from sklearn.feature_extraction.text import CountVectorizer\n",
    "from sklearn.model_selection import train_test_split\n",
    "\n",
    "import sys\n",
    "import pyspark\n",
    "import pyspark.sql.functions as F\n",
    "from pyspark.sql import SparkSession\n",
    "from pyspark.ml import Pipeline\n",
    "from pyspark.sql.types import StructType, StructField, StringType, DoubleType, IntegerType\n",
    "from pyspark.sql.functions import col, explode\n",
    "from pyspark.ml.recommendation import ALS\n",
    "from pyspark.ml.evaluation import RegressionEvaluator\n",
    "from pyspark.ml.tuning import CrossValidator, ParamGridBuilder\n",
    "# Recall y precision\n",
    "from reco_utils.evaluation.spark_evaluation import SparkRatingEvaluation, SparkRankingEvaluation\n",
    "\n",
    "\n",
    "print(\"System version: {}\".format(sys.version))\n",
    "print(\"Spark version: {}\".format(pyspark.__version__))"
   ]
  },
  {
   "cell_type": "code",
   "execution_count": 2,
   "id": "98abc862",
   "metadata": {},
   "outputs": [],
   "source": [
    "path='./DATA'\n",
    "file = os.path.join(path, \"users_bgs.csv\")"
   ]
  },
  {
   "cell_type": "code",
   "execution_count": 3,
   "id": "80254757",
   "metadata": {},
   "outputs": [
    {
     "data": {
      "text/html": [
       "<div>\n",
       "<style scoped>\n",
       "    .dataframe tbody tr th:only-of-type {\n",
       "        vertical-align: middle;\n",
       "    }\n",
       "\n",
       "    .dataframe tbody tr th {\n",
       "        vertical-align: top;\n",
       "    }\n",
       "\n",
       "    .dataframe thead th {\n",
       "        text-align: right;\n",
       "    }\n",
       "</style>\n",
       "<table border=\"1\" class=\"dataframe\">\n",
       "  <thead>\n",
       "    <tr style=\"text-align: right;\">\n",
       "      <th></th>\n",
       "      <th>u_id</th>\n",
       "      <th>Game</th>\n",
       "      <th>Your Rating</th>\n",
       "      <th>bgg_id</th>\n",
       "      <th>category</th>\n",
       "    </tr>\n",
       "  </thead>\n",
       "  <tbody>\n",
       "    <tr>\n",
       "      <th>0</th>\n",
       "      <td>0</td>\n",
       "      <td>1830: Railways &amp; Robber Barons</td>\n",
       "      <td>-1</td>\n",
       "      <td>421</td>\n",
       "      <td>1021,1034,1011</td>\n",
       "    </tr>\n",
       "    <tr>\n",
       "      <th>1</th>\n",
       "      <td>0</td>\n",
       "      <td>18AL</td>\n",
       "      <td>7</td>\n",
       "      <td>2612</td>\n",
       "      <td>1021,1120,1034,1011</td>\n",
       "    </tr>\n",
       "    <tr>\n",
       "      <th>2</th>\n",
       "      <td>0</td>\n",
       "      <td>2 de Mayo</td>\n",
       "      <td>6</td>\n",
       "      <td>36522</td>\n",
       "      <td>1051,1019</td>\n",
       "    </tr>\n",
       "    <tr>\n",
       "      <th>3</th>\n",
       "      <td>0</td>\n",
       "      <td>23</td>\n",
       "      <td>7</td>\n",
       "      <td>103651</td>\n",
       "      <td>1002</td>\n",
       "    </tr>\n",
       "    <tr>\n",
       "      <th>4</th>\n",
       "      <td>0</td>\n",
       "      <td>6 nimmt!</td>\n",
       "      <td>7</td>\n",
       "      <td>432</td>\n",
       "      <td>1002,1098</td>\n",
       "    </tr>\n",
       "  </tbody>\n",
       "</table>\n",
       "</div>"
      ],
      "text/plain": [
       "   u_id                            Game  Your Rating  bgg_id  \\\n",
       "0     0  1830: Railways & Robber Barons           -1     421   \n",
       "1     0                            18AL            7    2612   \n",
       "2     0                       2 de Mayo            6   36522   \n",
       "3     0                              23            7  103651   \n",
       "4     0                        6 nimmt!            7     432   \n",
       "\n",
       "              category  \n",
       "0       1021,1034,1011  \n",
       "1  1021,1120,1034,1011  \n",
       "2            1051,1019  \n",
       "3                 1002  \n",
       "4            1002,1098  "
      ]
     },
     "execution_count": 3,
     "metadata": {},
     "output_type": "execute_result"
    }
   ],
   "source": [
    "df=pd.read_csv(file, usecols=['u_id','bgg_id','Game','category','Your Rating'], low_memory=False)\n",
    "df.head()"
   ]
  },
  {
   "cell_type": "code",
   "execution_count": 4,
   "id": "6196d1e7",
   "metadata": {},
   "outputs": [],
   "source": [
    "#Transform explicit values to implicit values\n",
    "df['Rating'] = df['Your Rating'].apply(lambda x: 1 if x>0 else 0)"
   ]
  },
  {
   "cell_type": "markdown",
   "id": "2d55ed26",
   "metadata": {},
   "source": [
    "#### Remove users who only have one board game"
   ]
  },
  {
   "cell_type": "code",
   "execution_count": 5,
   "id": "5f154b4a",
   "metadata": {},
   "outputs": [],
   "source": [
    "#Group by 'user_id'\n",
    "p=df.groupby('u_id').count()"
   ]
  },
  {
   "cell_type": "code",
   "execution_count": 6,
   "id": "ee284b9f",
   "metadata": {},
   "outputs": [
    {
     "data": {
      "text/plain": [
       "6"
      ]
     },
     "execution_count": 6,
     "metadata": {},
     "output_type": "execute_result"
    }
   ],
   "source": [
    "# Visualise users with a single board game\n",
    "(p['bgg_id']==1).sum()"
   ]
  },
  {
   "cell_type": "code",
   "execution_count": 7,
   "id": "68d91237",
   "metadata": {},
   "outputs": [],
   "source": [
    "# Remove the user_id with a single board game\n",
    "bgu=list(p[p['bgg_id']==1].index)\n",
    "\n",
    "dfm = df[~df.u_id.isin(bgu)]"
   ]
  },
  {
   "cell_type": "markdown",
   "id": "ff469a60",
   "metadata": {},
   "source": [
    "#### Modified the id of games and users so that they are correlative"
   ]
  },
  {
   "cell_type": "code",
   "execution_count": 8,
   "id": "b629aff0",
   "metadata": {},
   "outputs": [],
   "source": [
    "# Create a dictionary for games titles and ids\n",
    "\n",
    "bgg_id=list(dfm['bgg_id'])\n",
    "game=list(dfm['Game'])\n",
    "\n",
    "item_dict={}\n",
    "\n",
    "for key in bgg_id:\n",
    "    for value in game:\n",
    "        item_dict[key] = value\n",
    "        game.remove(value)\n",
    "        break "
   ]
  },
  {
   "cell_type": "code",
   "execution_count": 9,
   "id": "99309f9a",
   "metadata": {},
   "outputs": [
    {
     "name": "stdout",
     "output_type": "stream",
     "text": [
      "36535\n",
      "36535\n"
     ]
    }
   ],
   "source": [
    "print(len(set(item_dict.keys())))\n",
    "print(len(set(item_dict.values())))"
   ]
  },
  {
   "cell_type": "code",
   "execution_count": 10,
   "id": "09dcdef2",
   "metadata": {},
   "outputs": [],
   "source": [
    "# Resample\n",
    "resample_id_item_dict={}\n",
    "for index, key in enumerate(item_dict.keys()):\n",
    "    resample_id_item_dict[key]= index\n",
    "    "
   ]
  },
  {
   "cell_type": "code",
   "execution_count": 11,
   "id": "b585884a",
   "metadata": {},
   "outputs": [],
   "source": [
    "resample_item_dict = {resample_id_item_dict[k]:v for k,v in item_dict.items()}\n",
    "assert(len(set(resample_item_dict.keys())) == len(set(resample_item_dict.values())))"
   ]
  },
  {
   "cell_type": "code",
   "execution_count": 12,
   "id": "f60c014c",
   "metadata": {},
   "outputs": [],
   "source": [
    "# Create a dictionary for resample users id\n",
    "\n",
    "u_id=list(dfm['u_id'].unique())\n",
    "resample_user_dict={}\n",
    "\n",
    "for index,key in enumerate(u_id):\n",
    "    resample_user_dict[key] = index"
   ]
  },
  {
   "cell_type": "code",
   "execution_count": 13,
   "id": "996e0245",
   "metadata": {},
   "outputs": [
    {
     "name": "stdout",
     "output_type": "stream",
     "text": [
      "2844\n",
      "2844\n"
     ]
    }
   ],
   "source": [
    "print(len(set(resample_user_dict.keys())))\n",
    "print(len(set(resample_user_dict.values())))"
   ]
  },
  {
   "cell_type": "code",
   "execution_count": 14,
   "id": "3015a68a",
   "metadata": {},
   "outputs": [
    {
     "data": {
      "text/html": [
       "<div>\n",
       "<style scoped>\n",
       "    .dataframe tbody tr th:only-of-type {\n",
       "        vertical-align: middle;\n",
       "    }\n",
       "\n",
       "    .dataframe tbody tr th {\n",
       "        vertical-align: top;\n",
       "    }\n",
       "\n",
       "    .dataframe thead th {\n",
       "        text-align: right;\n",
       "    }\n",
       "</style>\n",
       "<table border=\"1\" class=\"dataframe\">\n",
       "  <thead>\n",
       "    <tr style=\"text-align: right;\">\n",
       "      <th></th>\n",
       "      <th>u_id</th>\n",
       "      <th>Your Rating</th>\n",
       "      <th>bgg_id</th>\n",
       "      <th>Rating</th>\n",
       "      <th>item_id</th>\n",
       "      <th>user_id</th>\n",
       "    </tr>\n",
       "  </thead>\n",
       "  <tbody>\n",
       "    <tr>\n",
       "      <th>count</th>\n",
       "      <td>838777.000000</td>\n",
       "      <td>838777.000000</td>\n",
       "      <td>838777.000000</td>\n",
       "      <td>838777.000000</td>\n",
       "      <td>838777.000000</td>\n",
       "      <td>838777.000000</td>\n",
       "    </tr>\n",
       "    <tr>\n",
       "      <th>mean</th>\n",
       "      <td>1404.570457</td>\n",
       "      <td>3.423040</td>\n",
       "      <td>91310.618300</td>\n",
       "      <td>0.545138</td>\n",
       "      <td>4722.867555</td>\n",
       "      <td>1403.031329</td>\n",
       "    </tr>\n",
       "    <tr>\n",
       "      <th>std</th>\n",
       "      <td>813.788285</td>\n",
       "      <td>4.159144</td>\n",
       "      <td>88829.182464</td>\n",
       "      <td>0.497959</td>\n",
       "      <td>6316.864111</td>\n",
       "      <td>812.113149</td>\n",
       "    </tr>\n",
       "    <tr>\n",
       "      <th>min</th>\n",
       "      <td>0.000000</td>\n",
       "      <td>-1.000000</td>\n",
       "      <td>1.000000</td>\n",
       "      <td>0.000000</td>\n",
       "      <td>0.000000</td>\n",
       "      <td>0.000000</td>\n",
       "    </tr>\n",
       "    <tr>\n",
       "      <th>25%</th>\n",
       "      <td>700.000000</td>\n",
       "      <td>-1.000000</td>\n",
       "      <td>9209.000000</td>\n",
       "      <td>0.000000</td>\n",
       "      <td>680.000000</td>\n",
       "      <td>700.000000</td>\n",
       "    </tr>\n",
       "    <tr>\n",
       "      <th>50%</th>\n",
       "      <td>1375.000000</td>\n",
       "      <td>5.000000</td>\n",
       "      <td>55952.000000</td>\n",
       "      <td>1.000000</td>\n",
       "      <td>2185.000000</td>\n",
       "      <td>1374.000000</td>\n",
       "    </tr>\n",
       "    <tr>\n",
       "      <th>75%</th>\n",
       "      <td>2087.000000</td>\n",
       "      <td>7.000000</td>\n",
       "      <td>163976.000000</td>\n",
       "      <td>1.000000</td>\n",
       "      <td>6332.000000</td>\n",
       "      <td>2086.000000</td>\n",
       "    </tr>\n",
       "    <tr>\n",
       "      <th>max</th>\n",
       "      <td>2851.000000</td>\n",
       "      <td>10.000000</td>\n",
       "      <td>332853.000000</td>\n",
       "      <td>1.000000</td>\n",
       "      <td>36534.000000</td>\n",
       "      <td>2843.000000</td>\n",
       "    </tr>\n",
       "  </tbody>\n",
       "</table>\n",
       "</div>"
      ],
      "text/plain": [
       "                u_id    Your Rating         bgg_id         Rating  \\\n",
       "count  838777.000000  838777.000000  838777.000000  838777.000000   \n",
       "mean     1404.570457       3.423040   91310.618300       0.545138   \n",
       "std       813.788285       4.159144   88829.182464       0.497959   \n",
       "min         0.000000      -1.000000       1.000000       0.000000   \n",
       "25%       700.000000      -1.000000    9209.000000       0.000000   \n",
       "50%      1375.000000       5.000000   55952.000000       1.000000   \n",
       "75%      2087.000000       7.000000  163976.000000       1.000000   \n",
       "max      2851.000000      10.000000  332853.000000       1.000000   \n",
       "\n",
       "             item_id        user_id  \n",
       "count  838777.000000  838777.000000  \n",
       "mean     4722.867555    1403.031329  \n",
       "std      6316.864111     812.113149  \n",
       "min         0.000000       0.000000  \n",
       "25%       680.000000     700.000000  \n",
       "50%      2185.000000    1374.000000  \n",
       "75%      6332.000000    2086.000000  \n",
       "max     36534.000000    2843.000000  "
      ]
     },
     "execution_count": 14,
     "metadata": {},
     "output_type": "execute_result"
    }
   ],
   "source": [
    "# Copy and apply the changes\n",
    "dfm_r=dfm.copy()\n",
    "dfm_r['item_id']=dfm['bgg_id'].apply(lambda x: resample_id_item_dict[x])\n",
    "dfm_r['user_id']=dfm['u_id'].apply(lambda x: resample_user_dict[x])\n",
    "dfm_r.describe()"
   ]
  },
  {
   "cell_type": "code",
   "execution_count": 15,
   "id": "719f14d2",
   "metadata": {},
   "outputs": [],
   "source": [
    "#dfm_r.to_csv('DATA/r_users_bgs.csv')\n",
    "#path='./DATA'\n",
    "#file = os.path.join(path, \"r_users_bgs.csv\")\n",
    "#dfm_r=pd.read_csv(file, low_memory=False)\n",
    "#dfm_r.head()"
   ]
  },
  {
   "cell_type": "markdown",
   "id": "7dcac163",
   "metadata": {},
   "source": [
    "#### Format Data for models"
   ]
  },
  {
   "cell_type": "code",
   "execution_count": 16,
   "id": "b7e3b0d9",
   "metadata": {},
   "outputs": [
    {
     "name": "stdout",
     "output_type": "stream",
     "text": [
      "(838777, 3)\n"
     ]
    },
    {
     "data": {
      "text/html": [
       "<div>\n",
       "<style scoped>\n",
       "    .dataframe tbody tr th:only-of-type {\n",
       "        vertical-align: middle;\n",
       "    }\n",
       "\n",
       "    .dataframe tbody tr th {\n",
       "        vertical-align: top;\n",
       "    }\n",
       "\n",
       "    .dataframe thead th {\n",
       "        text-align: right;\n",
       "    }\n",
       "</style>\n",
       "<table border=\"1\" class=\"dataframe\">\n",
       "  <thead>\n",
       "    <tr style=\"text-align: right;\">\n",
       "      <th></th>\n",
       "      <th>user_id</th>\n",
       "      <th>item_id</th>\n",
       "      <th>rating</th>\n",
       "    </tr>\n",
       "  </thead>\n",
       "  <tbody>\n",
       "    <tr>\n",
       "      <th>0</th>\n",
       "      <td>0</td>\n",
       "      <td>0</td>\n",
       "      <td>0</td>\n",
       "    </tr>\n",
       "    <tr>\n",
       "      <th>1</th>\n",
       "      <td>0</td>\n",
       "      <td>1</td>\n",
       "      <td>1</td>\n",
       "    </tr>\n",
       "    <tr>\n",
       "      <th>2</th>\n",
       "      <td>0</td>\n",
       "      <td>2</td>\n",
       "      <td>1</td>\n",
       "    </tr>\n",
       "    <tr>\n",
       "      <th>3</th>\n",
       "      <td>0</td>\n",
       "      <td>3</td>\n",
       "      <td>1</td>\n",
       "    </tr>\n",
       "    <tr>\n",
       "      <th>4</th>\n",
       "      <td>0</td>\n",
       "      <td>4</td>\n",
       "      <td>1</td>\n",
       "    </tr>\n",
       "  </tbody>\n",
       "</table>\n",
       "</div>"
      ],
      "text/plain": [
       "   user_id  item_id  rating\n",
       "0        0        0       0\n",
       "1        0        1       1\n",
       "2        0        2       1\n",
       "3        0        3       1\n",
       "4        0        4       1"
      ]
     },
     "execution_count": 16,
     "metadata": {},
     "output_type": "execute_result"
    }
   ],
   "source": [
    "# DF Ratings\n",
    "\n",
    "dfratings = pd.DataFrame()\n",
    "\n",
    "dfratings['user_id']=dfm_r['user_id']\n",
    "dfratings['item_id']=dfm_r['item_id']\n",
    "dfratings['rating']=dfm_r['Rating']\n",
    "\n",
    "print(dfratings.shape)\n",
    "dfratings.head()"
   ]
  },
  {
   "cell_type": "code",
   "execution_count": 17,
   "id": "34b61542",
   "metadata": {},
   "outputs": [],
   "source": [
    "# Prepare DF BGames\n",
    "\n",
    "dfbg = dfm_r.groupby(by=['bgg_id','category'], as_index=False).first()\n",
    "dfbg.drop(['bgg_id','u_id','Your Rating','Rating', 'user_id'],axis=1, inplace=True)"
   ]
  },
  {
   "cell_type": "code",
   "execution_count": 18,
   "id": "530bdc8b",
   "metadata": {},
   "outputs": [
    {
     "name": "stdout",
     "output_type": "stream",
     "text": [
      "(36535, 3)\n"
     ]
    },
    {
     "data": {
      "text/html": [
       "<div>\n",
       "<style scoped>\n",
       "    .dataframe tbody tr th:only-of-type {\n",
       "        vertical-align: middle;\n",
       "    }\n",
       "\n",
       "    .dataframe tbody tr th {\n",
       "        vertical-align: top;\n",
       "    }\n",
       "\n",
       "    .dataframe thead th {\n",
       "        text-align: right;\n",
       "    }\n",
       "</style>\n",
       "<table border=\"1\" class=\"dataframe\">\n",
       "  <thead>\n",
       "    <tr style=\"text-align: right;\">\n",
       "      <th></th>\n",
       "      <th>item_id</th>\n",
       "      <th>title</th>\n",
       "      <th>category</th>\n",
       "    </tr>\n",
       "  </thead>\n",
       "  <tbody>\n",
       "    <tr>\n",
       "      <th>0</th>\n",
       "      <td>747</td>\n",
       "      <td>Die Macher</td>\n",
       "      <td>1021,1026,1001</td>\n",
       "    </tr>\n",
       "    <tr>\n",
       "      <th>1</th>\n",
       "      <td>5896</td>\n",
       "      <td>Dragonmaster</td>\n",
       "      <td>1002,1010</td>\n",
       "    </tr>\n",
       "    <tr>\n",
       "      <th>2</th>\n",
       "      <td>292</td>\n",
       "      <td>Samurai</td>\n",
       "      <td>1009,1035</td>\n",
       "    </tr>\n",
       "    <tr>\n",
       "      <th>3</th>\n",
       "      <td>6308</td>\n",
       "      <td>Tal der Könige</td>\n",
       "      <td>1050</td>\n",
       "    </tr>\n",
       "    <tr>\n",
       "      <th>4</th>\n",
       "      <td>15364</td>\n",
       "      <td>Mare Mediterraneum</td>\n",
       "      <td>1015,1008</td>\n",
       "    </tr>\n",
       "  </tbody>\n",
       "</table>\n",
       "</div>"
      ],
      "text/plain": [
       "   item_id               title        category\n",
       "0      747          Die Macher  1021,1026,1001\n",
       "1     5896        Dragonmaster       1002,1010\n",
       "2      292             Samurai       1009,1035\n",
       "3     6308      Tal der Könige            1050\n",
       "4    15364  Mare Mediterraneum       1015,1008"
      ]
     },
     "execution_count": 18,
     "metadata": {},
     "output_type": "execute_result"
    }
   ],
   "source": [
    "# DF Board Games\n",
    "\n",
    "dfgames = pd.DataFrame()\n",
    "\n",
    "dfgames['item_id']=dfbg['item_id']\n",
    "dfgames['title']=dfbg['Game']\n",
    "dfgames['category']=dfbg['category']\n",
    "\n",
    "print(dfgames.shape)\n",
    "dfgames.head()"
   ]
  },
  {
   "cell_type": "markdown",
   "id": "d45e9dd2",
   "metadata": {},
   "source": [
    "## Content Based"
   ]
  },
  {
   "cell_type": "markdown",
   "id": "3dd19d49",
   "metadata": {},
   "source": [
    "This algorithm is intended to create a recommendation system that helps to identify games that are similar based on their characteristics. The category of each board game will be used to perform the recommender system. "
   ]
  },
  {
   "cell_type": "code",
   "execution_count": 19,
   "id": "d402bec2",
   "metadata": {},
   "outputs": [],
   "source": [
    "df_games=dfgames.copy()"
   ]
  },
  {
   "cell_type": "code",
   "execution_count": 20,
   "id": "a91f6a08",
   "metadata": {},
   "outputs": [
    {
     "name": "stdout",
     "output_type": "stream",
     "text": [
      "0        1021,1026,1001\n",
      "1             1002,1010\n",
      "2             1009,1035\n",
      "3                  1050\n",
      "4             1015,1008\n",
      "              ...      \n",
      "36530              1002\n",
      "36531         1002,1030\n",
      "36532         1002,2481\n",
      "36533    1009,1028,1113\n",
      "36534         1021,1013\n",
      "Name: category, Length: 36535, dtype: object\n"
     ]
    }
   ],
   "source": [
    "df_games['category'] = df_games['category'].map(lambda x: x.replace(',', ' '))\n",
    "print(dfgames['category'])"
   ]
  },
  {
   "cell_type": "code",
   "execution_count": 21,
   "id": "547d9ae8",
   "metadata": {},
   "outputs": [
    {
     "data": {
      "text/html": [
       "<div>\n",
       "<style scoped>\n",
       "    .dataframe tbody tr th:only-of-type {\n",
       "        vertical-align: middle;\n",
       "    }\n",
       "\n",
       "    .dataframe tbody tr th {\n",
       "        vertical-align: top;\n",
       "    }\n",
       "\n",
       "    .dataframe thead th {\n",
       "        text-align: right;\n",
       "    }\n",
       "</style>\n",
       "<table border=\"1\" class=\"dataframe\">\n",
       "  <thead>\n",
       "    <tr style=\"text-align: right;\">\n",
       "      <th></th>\n",
       "      <th>item_id</th>\n",
       "      <th>category</th>\n",
       "    </tr>\n",
       "    <tr>\n",
       "      <th>title</th>\n",
       "      <th></th>\n",
       "      <th></th>\n",
       "    </tr>\n",
       "  </thead>\n",
       "  <tbody>\n",
       "    <tr>\n",
       "      <th>Die Macher</th>\n",
       "      <td>747</td>\n",
       "      <td>1021 1026 1001</td>\n",
       "    </tr>\n",
       "    <tr>\n",
       "      <th>Dragonmaster</th>\n",
       "      <td>5896</td>\n",
       "      <td>1002 1010</td>\n",
       "    </tr>\n",
       "    <tr>\n",
       "      <th>Samurai</th>\n",
       "      <td>292</td>\n",
       "      <td>1009 1035</td>\n",
       "    </tr>\n",
       "    <tr>\n",
       "      <th>Tal der Könige</th>\n",
       "      <td>6308</td>\n",
       "      <td>1050</td>\n",
       "    </tr>\n",
       "    <tr>\n",
       "      <th>Mare Mediterraneum</th>\n",
       "      <td>15364</td>\n",
       "      <td>1015 1008</td>\n",
       "    </tr>\n",
       "  </tbody>\n",
       "</table>\n",
       "</div>"
      ],
      "text/plain": [
       "                    item_id        category\n",
       "title                                      \n",
       "Die Macher              747  1021 1026 1001\n",
       "Dragonmaster           5896       1002 1010\n",
       "Samurai                 292       1009 1035\n",
       "Tal der Könige         6308            1050\n",
       "Mare Mediterraneum    15364       1015 1008"
      ]
     },
     "execution_count": 21,
     "metadata": {},
     "output_type": "execute_result"
    }
   ],
   "source": [
    "df_games.set_index('title', inplace = True)\n",
    "df_games.head()"
   ]
  },
  {
   "cell_type": "code",
   "execution_count": 22,
   "id": "5342c2d3",
   "metadata": {},
   "outputs": [
    {
     "name": "stdout",
     "output_type": "stream",
     "text": [
      "[3]\n"
     ]
    }
   ],
   "source": [
    "print(np.where(df_games.index=='Tal der Könige')[0])"
   ]
  },
  {
   "cell_type": "code",
   "execution_count": 23,
   "id": "1e165d3f",
   "metadata": {},
   "outputs": [],
   "source": [
    "count = CountVectorizer()\n",
    "count_matrix = count.fit_transform(df_games['category'])"
   ]
  },
  {
   "cell_type": "code",
   "execution_count": 24,
   "id": "5d749da7",
   "metadata": {},
   "outputs": [
    {
     "data": {
      "text/plain": [
       "array([[1.        , 0.        , 0.        , ..., 0.        , 0.        ,\n",
       "        0.40824829],\n",
       "       [0.        , 1.        , 0.        , ..., 0.5       , 0.        ,\n",
       "        0.        ],\n",
       "       [0.        , 0.        , 1.        , ..., 0.        , 0.40824829,\n",
       "        0.        ],\n",
       "       ...,\n",
       "       [0.        , 0.5       , 0.        , ..., 1.        , 0.        ,\n",
       "        0.        ],\n",
       "       [0.        , 0.        , 0.40824829, ..., 0.        , 1.        ,\n",
       "        0.        ],\n",
       "       [0.40824829, 0.        , 0.        , ..., 0.        , 0.        ,\n",
       "        1.        ]])"
      ]
     },
     "execution_count": 24,
     "metadata": {},
     "output_type": "execute_result"
    }
   ],
   "source": [
    "cosine = cosine_similarity(count_matrix, count_matrix)\n",
    "cosine"
   ]
  },
  {
   "cell_type": "code",
   "execution_count": 25,
   "id": "1a7da465",
   "metadata": {},
   "outputs": [],
   "source": [
    "def cb_recommendations(name, cosine = cosine):\n",
    "    \n",
    "    recommended = []\n",
    "    indices = pd.Series(df_games.index)\n",
    "    idx = indices[indices == name].index[0]\n",
    "    score = pd.Series(cosine[idx]).sort_values(ascending = False)\n",
    "    top_10 = list(score.iloc[0:11].index)\n",
    "    for i in top_10:\n",
    "        if idx != i:\n",
    "            recommended.append(list(df_games.index)[i])\n",
    "        \n",
    "    return recommended"
   ]
  },
  {
   "cell_type": "code",
   "execution_count": 26,
   "id": "50feb680",
   "metadata": {},
   "outputs": [
    {
     "data": {
      "text/plain": [
       "['Rennaissance Chess',\n",
       " 'Azul: Stained Glass of Sintra',\n",
       " 'Three Musketeers Game: Chess Variant',\n",
       " 'Jaleo',\n",
       " 'Blinq',\n",
       " 'Spark',\n",
       " 'Interplay',\n",
       " '0·1 (Zero Point One)',\n",
       " 'Genial Spezial',\n",
       " 'Color Wheel']"
      ]
     },
     "execution_count": 26,
     "metadata": {},
     "output_type": "execute_result"
    }
   ],
   "source": [
    "cb_recommendations('Azul')"
   ]
  },
  {
   "cell_type": "markdown",
   "id": "2f57586f",
   "metadata": {},
   "source": [
    "#### Create the final dataset for streamlit implementation"
   ]
  },
  {
   "cell_type": "code",
   "execution_count": 27,
   "id": "e93845e0",
   "metadata": {},
   "outputs": [],
   "source": [
    "dbgm=df_games.copy()"
   ]
  },
  {
   "cell_type": "code",
   "execution_count": 28,
   "id": "1c0bfcaa",
   "metadata": {},
   "outputs": [
    {
     "data": {
      "text/plain": [
       "['Die Macher',\n",
       " 'Dragonmaster',\n",
       " 'Samurai',\n",
       " 'Tal der Könige',\n",
       " 'Mare Mediterraneum',\n",
       " 'Cathedral',\n",
       " 'Lords of Creation',\n",
       " 'El Caballero',\n",
       " 'Elfenland',\n",
       " 'Bohnanza',\n",
       " 'Ra',\n",
       " 'Catan',\n",
       " 'Basari',\n",
       " 'Cosmic Encounter',\n",
       " 'MarraCash',\n",
       " 'Button Men',\n",
       " 'RoboRally',\n",
       " 'Wacky Wacky West',\n",
       " 'Full Metal Planète',\n",
       " 'Gateway to the Stars',\n",
       " 'Magic Realm',\n",
       " 'Divine Right',\n",
       " 'Twilight Imperium',\n",
       " 'Battlemist',\n",
       " 'Age of Renaissance',\n",
       " 'Supremacy: The Game of the Superpowers',\n",
       " 'Illuminati',\n",
       " 'Terrain Vague',\n",
       " 'Dark Tower',\n",
       " 'Dark World',\n",
       " 'Buffalo Chess',\n",
       " 'Arkham Horror',\n",
       " 'Federation & Empire',\n",
       " 'Dragon Masters',\n",
       " 'Runes',\n",
       " 'Darkover',\n",
       " 'Borderlands',\n",
       " \"Can't Stop\",\n",
       " 'Tigris & Euphrates',\n",
       " 'Airlines',\n",
       " 'David & Goliath',\n",
       " 'Medici',\n",
       " 'Chinatown',\n",
       " 'Krieg und Frieden',\n",
       " 'Mamma Mia!',\n",
       " 'Lost Cities',\n",
       " 'Ricochet Robots',\n",
       " 'Mighty Empires',\n",
       " 'Brauerei',\n",
       " 'Tikal',\n",
       " \"Sophie's World\",\n",
       " 'Schoko & Co.',\n",
       " 'Kings & Things',\n",
       " 'Giganten',\n",
       " 'Vinci',\n",
       " 'Fossil',\n",
       " \"Curse of the Mummy's Tomb\",\n",
       " 'Samurai: Game of Politics and Warfare in Feudal Japan',\n",
       " 'Joan of Arc',\n",
       " 'The Garden Game',\n",
       " 'Löwenherz',\n",
       " 'Conquest',\n",
       " 'Successors (First/Second Edition)',\n",
       " 'Bollox',\n",
       " 'Big City',\n",
       " 'Civilization',\n",
       " 'Verräter',\n",
       " 'Show Manager',\n",
       " 'Apples to Apples',\n",
       " 'Falling',\n",
       " 'Air Baron',\n",
       " 'EastFront',\n",
       " 'WestFront: The War in Europe, 1943-45',\n",
       " 'MedFront: War in North Africa 1940-43',\n",
       " 'Bobby Lee: The Civil War in Virginia 1861-1865',\n",
       " 'Sam Grant: The Civil War in the West 1862-1864',\n",
       " 'Rommel in the Desert',\n",
       " 'Quebec 1759',\n",
       " 'Victory: World War II',\n",
       " 'Torres',\n",
       " 'Blue vs. Gray',\n",
       " 'Star Wars: Episode 1 – Clash of the Lightsabers',\n",
       " 'Paths of Glory',\n",
       " 'El Grande',\n",
       " 'Union Pacific',\n",
       " 'Igel Ärgern',\n",
       " 'Broadsides & Boarding Parties',\n",
       " 'Conquest of the Empire',\n",
       " 'Axis & Allies',\n",
       " 'Fortress America',\n",
       " 'Detroit-Cleveland Grand Prix',\n",
       " 'Klunker',\n",
       " 'Titan',\n",
       " 'Extrablatt',\n",
       " 'Colossal Arena',\n",
       " 'Mystery Rummy: Jack the Ripper',\n",
       " 'Peaceful Resistance',\n",
       " 'TAMSK',\n",
       " 'Wettstreit der Baumeister',\n",
       " 'Auf Achse',\n",
       " 'Rheinländer',\n",
       " 'Condottiere',\n",
       " 'Mit List und Tücke',\n",
       " 'Ransom',\n",
       " \"I'm the Boss!\",\n",
       " 'Guillotine',\n",
       " 'Ta Yü',\n",
       " 'Modern Art',\n",
       " 'Kingdoms',\n",
       " 'Hoity Toity',\n",
       " 'Dune',\n",
       " 'Quo Vadis?',\n",
       " 'Primordial Soup',\n",
       " 'Money!',\n",
       " 'The Really Nasty Horse Racing Game',\n",
       " \"Princess Ryan's Star Marines\",\n",
       " 'Take it Easy!',\n",
       " 'Iron Dragon',\n",
       " 'Caesar & Cleopatra',\n",
       " 'Frischfleisch',\n",
       " 'Cape Horn',\n",
       " 'Kontor',\n",
       " 'Robin Hood',\n",
       " 'Pass the Bomb',\n",
       " 'Hoax',\n",
       " 'Andromeda',\n",
       " 'Vino',\n",
       " 'Wortelboer',\n",
       " 'Elfenwizards',\n",
       " 'Metropolis',\n",
       " 'Buy Low Sell High',\n",
       " 'Crude: The Oil Game',\n",
       " 'Die Glücksritter',\n",
       " 'PitchCar',\n",
       " 'Mü & More',\n",
       " 'Take 5!',\n",
       " 'Union vs. Central',\n",
       " 'Was sticht?',\n",
       " 'Wildlife Adventure',\n",
       " 'Eurorails',\n",
       " 'The Awful Green Things From Outer Space',\n",
       " 'Balderdash',\n",
       " 'Before I Kill You, Mister Spy...',\n",
       " 'Black Box',\n",
       " 'Black Death',\n",
       " 'Dicke Kartoffeln',\n",
       " 'Empire Builder',\n",
       " 'En Garde',\n",
       " 'Family Business',\n",
       " 'For Sale',\n",
       " 'Formula Dé',\n",
       " 'T-Rex',\n",
       " 'What the Heck?',\n",
       " 'Give Me the Brain!',\n",
       " 'Mole Hill',\n",
       " 'Nuba',\n",
       " 'Pool Position',\n",
       " 'Knights of Charlemagne',\n",
       " 'Stonehenge',\n",
       " 'Devil Bunny Needs a Ham',\n",
       " 'Split',\n",
       " 'Die Siedler von Nürnberg',\n",
       " 'Dolce Vita',\n",
       " 'Nicht die Bohne!',\n",
       " 'Fill or Bust',\n",
       " 'Groo: The Game',\n",
       " 'NASCAR Champions',\n",
       " 'Kremlin',\n",
       " 'HellRail: Second Perdition',\n",
       " 'Buried Treasure',\n",
       " 'Manhattan',\n",
       " 'Entdecker',\n",
       " 'The Rose King',\n",
       " 'Targui',\n",
       " 'Skworms',\n",
       " \"Stephenson's Rocket\",\n",
       " 'Pepper',\n",
       " 'Twitch',\n",
       " 'Ex & Hopp',\n",
       " 'Don Pepe',\n",
       " 'Times to Remember',\n",
       " 'Café International',\n",
       " 'Tichu',\n",
       " 'Atlanteon',\n",
       " 'A la carte',\n",
       " 'Volle Hütte',\n",
       " 'High Society',\n",
       " 'Ikusa',\n",
       " 'Space Beans',\n",
       " 'Expedition',\n",
       " 'History of the World',\n",
       " 'Icehouse',\n",
       " 'Isi',\n",
       " 'Lunch Money',\n",
       " 'King of the Elves',\n",
       " 'Merchant of Venus',\n",
       " 'Geronimo',\n",
       " 'Serenissima',\n",
       " 'Hannibal: Rome vs. Carthage',\n",
       " 'Blackbeard',\n",
       " 'Wooden Ships & Iron Men',\n",
       " 'Wagram: The Peace of Vienna, 5-6 July 1809',\n",
       " 'Britannia',\n",
       " 'Age of Exploration',\n",
       " 'Junta',\n",
       " 'Advanced Squad Leader',\n",
       " 'Circus Maximus',\n",
       " 'Politika',\n",
       " 'Gloria Picktoria',\n",
       " 'Blood Royale',\n",
       " 'Lifeboats',\n",
       " 'Colonial Diplomacy',\n",
       " 'The Battle of Borodino: Napoleon in Russia 1812',\n",
       " 'Empires in Arms',\n",
       " 'Jena-Auerstadt: The Battle for Prussia',\n",
       " 'Mississippi Queen',\n",
       " 'Kill Doctor Lucky',\n",
       " 'Fluxx',\n",
       " 'Atlantic Storm',\n",
       " 'Starship Troopers: Prepare For Battle!',\n",
       " 'Olympia 2000 (v. Chr.)',\n",
       " 'Manitou',\n",
       " 'Enemy in Sight',\n",
       " 'Intrigue',\n",
       " 'Tycoon',\n",
       " 'Cheops',\n",
       " 'Svea Rike',\n",
       " \"It's Mine!\",\n",
       " 'Downtown',\n",
       " 'Africa 1880',\n",
       " 'Guerilla',\n",
       " 'Extinction',\n",
       " \"La Guerre de l'Empereur\",\n",
       " 'Res Publica',\n",
       " 'Catan Card Game',\n",
       " 'The Very Clever Pipe Game',\n",
       " 'Neue Spiele im alten Rom',\n",
       " 'Ostindiska Kompaniet',\n",
       " 'Vikingatid',\n",
       " 'Advanced Third Reich',\n",
       " 'Lords of the Sierra Madre (Second Edition)',\n",
       " 'Monsters Ravage America',\n",
       " 'Machiavelli',\n",
       " 'Rossyïa 1917',\n",
       " 'Chariot Lords',\n",
       " 'Gold Digger',\n",
       " 'Courtisans of Versailles',\n",
       " 'Attacke',\n",
       " 'Bamboleo',\n",
       " 'Keydom',\n",
       " 'Europa 1945-2030',\n",
       " 'Medieval Merchant',\n",
       " 'Stadens Nyckel',\n",
       " 'Lang lebe der König!',\n",
       " 'Tutankhamen',\n",
       " 'Campanile',\n",
       " 'Forum Romanum',\n",
       " 'Koalition',\n",
       " 'Evergreen',\n",
       " 'Der Fliegende Holländer',\n",
       " 'Candidate',\n",
       " 'Santa Fe',\n",
       " 'Arabana-Ikibiti',\n",
       " \"Wizard's Quest\",\n",
       " 'Time Agent',\n",
       " 'Landlord!',\n",
       " 'Big Boss',\n",
       " 'Highlanders',\n",
       " 'Chase',\n",
       " 'The Mob',\n",
       " 'Top It',\n",
       " 'The Mole in the Hole',\n",
       " 'Tonga Bonga',\n",
       " 'Anno 1452',\n",
       " 'Ponte Vecchio',\n",
       " \"Loopin' Louie\",\n",
       " 'Damn the Torpedoes!',\n",
       " 'Russian Front',\n",
       " 'Block Mania',\n",
       " 'Vernissage',\n",
       " 'Waterworks',\n",
       " 'Advance to Boardwalk',\n",
       " 'Circus Flohcati',\n",
       " 'Bargain Hunter',\n",
       " 'Quiddler',\n",
       " \"Frank's Zoo\",\n",
       " 'Hong Kong',\n",
       " 'Twins',\n",
       " 'Members Only',\n",
       " 'Prairie Railroads',\n",
       " 'Fishy',\n",
       " 'Merchants of the Middle Ages',\n",
       " 'Halunken & Spelunken',\n",
       " 'Hattrick',\n",
       " 'Trumpet',\n",
       " 'Inkognito: The Card Game',\n",
       " \"Stick 'Em\",\n",
       " 'Das letzte Paradies',\n",
       " 'Ab die Post!',\n",
       " 'Excape',\n",
       " 'Bucket Brigade',\n",
       " 'Quests of the Round Table',\n",
       " 'Hare & Tortoise',\n",
       " 'Elefantenparade',\n",
       " 'Cat Blues',\n",
       " 'Samarkand',\n",
       " 'Tricks',\n",
       " 'Viva Pamplona!',\n",
       " 'Overthrone',\n",
       " 'Relationship Tightrope',\n",
       " 'Mystery Rummy: Murders in the Rue Morgue',\n",
       " 'Schotten Totten',\n",
       " 'Wrott & Swindlers',\n",
       " 'Colorado County',\n",
       " '6 Billion',\n",
       " 'DruidenWalzer',\n",
       " 'Lancashire Railways',\n",
       " 'Express',\n",
       " 'Polarity',\n",
       " 'X Pasch',\n",
       " 'Heimlich & Co.',\n",
       " 'Turf Horse Racing',\n",
       " 'TurfMaster',\n",
       " 'Pirateer',\n",
       " 'Corruption',\n",
       " 'Finale',\n",
       " 'Die Mauer',\n",
       " 'Ocean',\n",
       " 'Brawl',\n",
       " 'Dinosaurs of the Lost World',\n",
       " 'Kahuna',\n",
       " 'Der dreizehnte Holzwurm',\n",
       " 'Diskwars',\n",
       " 'Wildlife Safari',\n",
       " \"Tom Clancy's Politika\",\n",
       " 'Shanghai',\n",
       " 'Gold Connection',\n",
       " 'Elk Fest',\n",
       " 'Worm Up!',\n",
       " 'Meteo',\n",
       " 'Zoon',\n",
       " 'Dschungel',\n",
       " \"D'raf\",\n",
       " 'Yukon Company',\n",
       " 'Die Erben von Hoax',\n",
       " 'Around the World in 80 Days',\n",
       " 'Espresso',\n",
       " 'A to Z',\n",
       " 'Edison & Co.',\n",
       " 'Rail Baron',\n",
       " '1830: Railways & Robber Barons',\n",
       " '1835',\n",
       " '1856: Railroading in Upper Canada from 1856',\n",
       " '1870: Railroading across the Trans Mississippi from 1870',\n",
       " \"Thunder's Edge\",\n",
       " 'The Battle of the Bulge',\n",
       " 'Grass',\n",
       " 'Galopp Royal',\n",
       " 'Magalon',\n",
       " 'Asterix: Das Kartenspiel',\n",
       " 'Alhambra: The Card Game',\n",
       " '6 nimmt!',\n",
       " 'Shark',\n",
       " \"Yucata'\",\n",
       " 'Canyon',\n",
       " 'Master Labyrinth',\n",
       " 'Scotland Yard',\n",
       " 'Zoff in Buffalo',\n",
       " 'Filthy Rich',\n",
       " 'Um Reifenbreite',\n",
       " 'Code 777',\n",
       " 'Escape from the Hidden Castle',\n",
       " 'Die Osterinsel',\n",
       " 'The Great Balloon Race',\n",
       " 'Octi',\n",
       " 'Beutelschneider',\n",
       " 'Mummy Rummy',\n",
       " 'Tante Tarantel',\n",
       " 'Am Fuß des Kilimandscharo',\n",
       " 'Jumbo Grand Prix',\n",
       " 'Sherlock Holmes: The Card Game',\n",
       " 'Ausgebremst',\n",
       " 'Railway Rivals',\n",
       " 'Freibeuter',\n",
       " 'Esels-Rennen',\n",
       " 'Magic: The Gathering',\n",
       " 'Billabong',\n",
       " 'Zankapfel',\n",
       " 'Inkognito',\n",
       " 'In Teufels Küche',\n",
       " 'Road to the White House',\n",
       " 'Totem',\n",
       " 'DungeonQuest',\n",
       " 'Olé!',\n",
       " 'Cold War',\n",
       " 'Taj Mahal',\n",
       " 'The Broadway Game',\n",
       " 'Citadels',\n",
       " 'Bambuti',\n",
       " 'Age of Arguments',\n",
       " 'Carolus Magnus',\n",
       " 'Sky Runner',\n",
       " 'Stratego Legends',\n",
       " 'Galloping Pigs',\n",
       " 'Barnyard Buddies',\n",
       " 'Power',\n",
       " 'Stake Your Claim',\n",
       " 'Pacal',\n",
       " 'Warangel',\n",
       " 'Web of Power',\n",
       " \"Aladdin's Dragons\",\n",
       " 'Ave Caesar',\n",
       " 'Time Pirates',\n",
       " 'Dilemma',\n",
       " 'Vampire',\n",
       " \"Sufferin' Spirits\",\n",
       " 'Arbos',\n",
       " 'MARK',\n",
       " 'Dschungelrennen',\n",
       " 'Bretonenboule',\n",
       " 'Through the Desert',\n",
       " 'Die Verbotene Stadt',\n",
       " 'Goldener Drache',\n",
       " 'The Big Cheese',\n",
       " 'Cartel',\n",
       " 'Blue Max',\n",
       " 'The Reef',\n",
       " 'Eschnapur',\n",
       " 'Silverton',\n",
       " 'Holiday!',\n",
       " 'WarChest',\n",
       " 'True Colors',\n",
       " '6-Tage Rennen',\n",
       " 'Shark Bait',\n",
       " 'Mush',\n",
       " 'Axis & Allies: Europe',\n",
       " 'Desperados',\n",
       " 'Pisa',\n",
       " 'Abalone Classic',\n",
       " 'GIPF',\n",
       " 'ZÈRTZ',\n",
       " 'Charlemagne',\n",
       " 'Entenrallye',\n",
       " 'Merchants of Amsterdam',\n",
       " 'Labyrinth: The Card Game',\n",
       " 'N.Y. Chase',\n",
       " 'Power Barons',\n",
       " 'Visionary',\n",
       " 'Ice Blocks',\n",
       " 'Manager',\n",
       " 'Dampfross',\n",
       " 'Sisimizi',\n",
       " 'Das Motorsportspiel',\n",
       " 'Animocrazy 豬事議會',\n",
       " 'Kaleidos',\n",
       " 'Flohzirkus',\n",
       " 'Buck Rogers: Battle for the 25th Century Game',\n",
       " 'Aerodrome',\n",
       " 'Barbarossa',\n",
       " 'Battle Cry',\n",
       " 'Bus',\n",
       " 'Chez Geek',\n",
       " 'La Città',\n",
       " 'The Princes of Florence',\n",
       " '7 Safari',\n",
       " 'Laguna',\n",
       " 'Der weiße Lotus',\n",
       " 'Metro',\n",
       " 'Flußpiraten',\n",
       " 'Silberzwerg',\n",
       " 'Doolittle & Waite',\n",
       " 'Die Seidenstraße',\n",
       " 'Port Royal',\n",
       " 'Wongar',\n",
       " 'Quartier Latin',\n",
       " 'Rage',\n",
       " 'Maestro',\n",
       " 'Terrain Game',\n",
       " 'Papua',\n",
       " 'Battle Cattle',\n",
       " 'Grand Prix',\n",
       " 'Devil Take the Hindmost',\n",
       " 'Das Kollier',\n",
       " 'Parts Unknown',\n",
       " 'Protzen',\n",
       " 'Tile Chess',\n",
       " 'Kampf um Rom',\n",
       " 'Kardinal',\n",
       " 'Up Front',\n",
       " 'Sumera',\n",
       " 'Wiz-War',\n",
       " 'Favoriten',\n",
       " 'Sleuth',\n",
       " 'Escape from Elba',\n",
       " 'Trolley Car',\n",
       " 'Stack 21',\n",
       " 'Take Two',\n",
       " 'Career Poker',\n",
       " 'Putsch',\n",
       " 'Verrat!',\n",
       " 'Banana Republic',\n",
       " 'Pico 2',\n",
       " 'Honor of the Samurai',\n",
       " 'Siesta',\n",
       " 'Ferkelei',\n",
       " 'Knights of the Rainbow',\n",
       " 'Ironman Football',\n",
       " 'Kippit',\n",
       " 'Overboard',\n",
       " \"Rubik's Race\",\n",
       " \"What's That on My Head?\",\n",
       " 'Alles Futsch',\n",
       " 'MLB Showdown',\n",
       " 'The Bottle Imp',\n",
       " 'We the People',\n",
       " '25 Words or Less',\n",
       " 'Change!',\n",
       " 'Swashbuckler: A Game of Swordplay and Derring-do',\n",
       " 'Quoridor',\n",
       " 'Business',\n",
       " 'War and Peace',\n",
       " 'Royal Tank Corps',\n",
       " 'Q-Turn',\n",
       " 'Double Quick',\n",
       " 'Daytona 500',\n",
       " 'Cloud 9',\n",
       " 'Elixir',\n",
       " 'River Dragons',\n",
       " 'Formula Motor Racing',\n",
       " 'Blindside',\n",
       " 'The Stock Car Championship Racing Card Game',\n",
       " 'Hera and Zeus',\n",
       " 'American Megafauna',\n",
       " 'Oodles',\n",
       " 'Deadlands: Doomtown Range Wars',\n",
       " 'Shipwrecked',\n",
       " 'Bosworth',\n",
       " \"Pirate's Plunder\",\n",
       " 'Mystick Domination',\n",
       " 'Vox Populi',\n",
       " 'Thieves of Bagdad',\n",
       " 'Fairy Meat',\n",
       " 'Zero Down',\n",
       " 'X-Net',\n",
       " 'Shit!',\n",
       " 'Castle',\n",
       " 'Münchhausen',\n",
       " 'Riffifi',\n",
       " \"Where's Bob's Hat?\",\n",
       " 'Siege',\n",
       " 'Shift',\n",
       " 'Quackshot',\n",
       " 'Refugium',\n",
       " 'Sternenhimmel',\n",
       " 'Plague & Pestilence',\n",
       " 'Starship Troopers',\n",
       " 'Bull Run: The First Major Battle of the American Civil War',\n",
       " 'Star Traders',\n",
       " 'J.U.M.P. Into the Unknown',\n",
       " '4th Dimension',\n",
       " 'Ninja Wars',\n",
       " 'Would You Rather...?',\n",
       " 'X-it!',\n",
       " 'Minion Hunter',\n",
       " 'Quarto',\n",
       " 'Timeline',\n",
       " 'Monopoly: The Card Game',\n",
       " 'Marrakesh',\n",
       " 'Dr. Jekyll & Mr. Hyde',\n",
       " 'Cabale',\n",
       " 'Manchu: The Taiping Rebellion – 1852-1868',\n",
       " 'Singapore',\n",
       " 'Timbuktu',\n",
       " 'Wizard Kings',\n",
       " 'Fibonacci',\n",
       " 'The Big Idea',\n",
       " 'Conspiracy',\n",
       " 'Gother Than Thou',\n",
       " 'HeroQuest',\n",
       " 'Battle Masters',\n",
       " 'A House Divided: War Between the States 1861-65',\n",
       " 'Wabbit Wampage',\n",
       " 'Roman Civil War',\n",
       " 'Montgolfiere',\n",
       " 'Caesar in Gallia: Conquest on the Ancient Frontier',\n",
       " 'Frederick the Great: The Campaigns of The Soldier King',\n",
       " 'When Tigers Fight',\n",
       " 'Holy War: Afghanistan',\n",
       " 'Dragons of Glory',\n",
       " \"Snit's Revenge!\",\n",
       " 'Elfenroads',\n",
       " 'Blood Bowl (Third Edition)',\n",
       " 'Talisman',\n",
       " 'Escape from Colditz',\n",
       " 'Pizza Party',\n",
       " 'Galaxy: The Dark Ages',\n",
       " 'Tyranno Ex',\n",
       " 'Fast Food Franchise',\n",
       " 'Oregon Trail',\n",
       " 'Over the Edge',\n",
       " 'The Uncanny X-Men Alert Adventure Game',\n",
       " 'Chill: Black Morn Manor',\n",
       " 'Chinese Civil War',\n",
       " 'The Sun Never Sets: Three Campaigns of the British Empire',\n",
       " 'Breakout: Normandy',\n",
       " 'Escape from New York',\n",
       " \"Don't Make Me Laugh\",\n",
       " \"Don't Make Me Laugh Jr.\",\n",
       " \"Hollywood's Reel Schpeel\",\n",
       " 'San Francisco',\n",
       " 'Rio Grande: The Battle of Valverde',\n",
       " 'Trajan',\n",
       " 'Germania',\n",
       " 'Wicked Words',\n",
       " 'War of Resistance',\n",
       " 'The Game of France, 1940: German Blitzkrieg in the West',\n",
       " 'Bitter Woods: The Battle of the Bulge',\n",
       " 'Trax',\n",
       " 'Dutch Mountains',\n",
       " 'Shocks & Scares',\n",
       " 'Minos',\n",
       " 'Maul of America',\n",
       " 'Panzerkrieg: von Manstein & HeeresGruppe Süd',\n",
       " 'Domain',\n",
       " 'Thunder at Cassino',\n",
       " 'Black Vienna',\n",
       " 'Lunatix Loop',\n",
       " 'Balmy Balloonists',\n",
       " 'Turning Point: Stalingrad',\n",
       " 'Battle Line',\n",
       " 'The Great Brain Robbery',\n",
       " 'Formula C Minus',\n",
       " 'Mad Gab',\n",
       " 'Space Walk',\n",
       " 'Keywood',\n",
       " 'Keytown',\n",
       " 'Star Trek Red Alert',\n",
       " 'Loot',\n",
       " 'Kings and Castles',\n",
       " 'Ausbrecher AG',\n",
       " 'Beim Zeus!',\n",
       " 'Buddel Bande',\n",
       " 'Die Tafelrunde',\n",
       " 'Remmi Demmi',\n",
       " 'Tabloid Teasers',\n",
       " 'Letter Head',\n",
       " 'Discretion',\n",
       " 'Dog Eat Dog',\n",
       " 'Maxi Bour$e',\n",
       " 'Palermo',\n",
       " 'Tales of the Arabian Nights',\n",
       " 'Terra Turrium',\n",
       " 'Löwendynastie',\n",
       " 'Megiddo',\n",
       " 'Yahtzee Deluxe Poker',\n",
       " 'Dragonlance',\n",
       " 'Shanghai Trader',\n",
       " 'Flucht aus Mangrovia',\n",
       " 'The Hills Rise Wild!',\n",
       " \"Camlyn's Destiny\",\n",
       " 'Crimean War Battles',\n",
       " 'Taipei: China Invades',\n",
       " 'Dragonhunt',\n",
       " 'Thunder Road',\n",
       " 'Buffy the Vampire Slayer: The Game',\n",
       " 'West Riding',\n",
       " 'Pipeline',\n",
       " 'Amoeba',\n",
       " 'Rummikub',\n",
       " 'Goosebumps: Terror in the Graveyard Game',\n",
       " 'Aquarius',\n",
       " 'Chrononauts',\n",
       " '2038: Tycoons of the Asteroid Belt',\n",
       " 'Quacksalbe',\n",
       " 'Axiom',\n",
       " 'La Trel',\n",
       " 'Carcassonne',\n",
       " 'The Lord of the Rings',\n",
       " 'Hijara',\n",
       " 'Screaming Eagles',\n",
       " 'Cartagena',\n",
       " 'Attila',\n",
       " 'Wizards',\n",
       " 'Battle of the Bands',\n",
       " 'FIB-OR-NOT?',\n",
       " 'Schrille Stille',\n",
       " 'For the People',\n",
       " 'Chronology',\n",
       " 'Election',\n",
       " 'New England Railways',\n",
       " 'Corsairs',\n",
       " 'Razzia',\n",
       " 'Circus Minimus',\n",
       " 'Mausoleum',\n",
       " 'Tip Tap',\n",
       " 'Golf Masters',\n",
       " 'Pop Belly',\n",
       " '...und tschüss!',\n",
       " 'Doge',\n",
       " 'Java',\n",
       " 'New York, New York',\n",
       " 'Titanic: Der Mythos',\n",
       " 'Blindes Huhn',\n",
       " 'Scotland the Brave',\n",
       " 'Weapons & Warriors: Castle Combat Set',\n",
       " 'Mage Knight',\n",
       " 'Landslide',\n",
       " 'Lie, Cheat & Steal',\n",
       " 'Morisi',\n",
       " 'Bongo!',\n",
       " 'Empires of the Ancient World',\n",
       " 'Fire',\n",
       " 'M',\n",
       " 'Pythago',\n",
       " 'Roads & Boats',\n",
       " 'Tennis Masters',\n",
       " 'Troia',\n",
       " 'Wyatt Earp',\n",
       " 'Tacara',\n",
       " 'Derby',\n",
       " 'Ivanhoe',\n",
       " 'Way Out West',\n",
       " 'Der Garten des Sonnenkönigs',\n",
       " 'Real Action Stockcar Championship',\n",
       " 'Cranium',\n",
       " 'Ad Mania',\n",
       " 'Stir Crazy',\n",
       " 'Dear Abby',\n",
       " 'Initial Reaction',\n",
       " 'Movie Mania',\n",
       " 'City',\n",
       " 'Meuterer',\n",
       " 'Hamsterrolle',\n",
       " 'Dream Factory',\n",
       " 'Vagabondo',\n",
       " 'Abilene',\n",
       " 'Beheaded',\n",
       " 'Tally Ho!',\n",
       " 'Saturn',\n",
       " 'Empires of the Middle Ages',\n",
       " 'Pacific Victory: War in the Pacific 1941-45',\n",
       " 'Battle Platform Antilles',\n",
       " 'Mystery of the Abbey',\n",
       " 'Pete the Pirate',\n",
       " 'Ultimate Outburst',\n",
       " 'Werewolf',\n",
       " 'Lift Off',\n",
       " 'Gerüchteküche',\n",
       " 'The Great Dalmuti',\n",
       " 'Böse Buben',\n",
       " 'Corner',\n",
       " 'Top Race',\n",
       " 'New Orleans Big Band',\n",
       " 'Die Kette von Saba',\n",
       " 'Australian Rails',\n",
       " 'The Fury of Dracula',\n",
       " '1825 Unit 1',\n",
       " 'Enchanted Forest',\n",
       " \"Star Wars: The Queen's Gambit\",\n",
       " 'Karawane',\n",
       " 'Turbo Taxi',\n",
       " 'Gastero Speed: Les Gros Bourgognes',\n",
       " 'Ligretto',\n",
       " 'Mag·Blast',\n",
       " 'Nametrain',\n",
       " 'Trivia for Dummies',\n",
       " 'Dao',\n",
       " 'Four Dragons',\n",
       " 'Pony Express',\n",
       " 'Super Giant Monster Showdown',\n",
       " 'Azteca',\n",
       " 'PanzerZug',\n",
       " 'Orcz',\n",
       " 'Luftschiff',\n",
       " 'Grapple',\n",
       " 'ZOKI',\n",
       " 'The Gardens of the Alhambra',\n",
       " 'Kapitän Wackelpudding',\n",
       " 'Ben Hurt',\n",
       " 'Kommissar X',\n",
       " 'Seven Deadly Sins',\n",
       " 'The Keep',\n",
       " 'The Powerpuff Girls: Saving the World Before Bedtime',\n",
       " 'Al Cabohne',\n",
       " 'Amoeba Wars',\n",
       " 'Tangoes',\n",
       " 'Name Burst',\n",
       " 'Babel',\n",
       " 'Kingmaker',\n",
       " 'Zapp Zerapp',\n",
       " '1848',\n",
       " '90 Grad',\n",
       " 'Alcazar',\n",
       " 'An den Ufern des Nils',\n",
       " 'Auf Trab im Sulkydrom',\n",
       " 'Panda Monium',\n",
       " 'Corona',\n",
       " 'Vendetta',\n",
       " 'Cosmic Eidex',\n",
       " 'Der Feuersalamander',\n",
       " 'Der Tiger ist los',\n",
       " 'Die Hanse',\n",
       " 'Dream Team',\n",
       " 'Die Magier',\n",
       " 'Energie Poker',\n",
       " 'Fief 2',\n",
       " 'Finger weg von Mona Lisa',\n",
       " 'Finito',\n",
       " 'Fresh Fish',\n",
       " 'Galaxis',\n",
       " 'Le Gang des Traction-Avant',\n",
       " 'Harun',\n",
       " 'Himalaya',\n",
       " 'Konzern',\n",
       " 'Kraut & Rüben',\n",
       " 'Lieber bairisch sterben',\n",
       " 'TV Wars',\n",
       " 'B-17: Queen of the Skies',\n",
       " 'Xenophon: 10,000 Against Persia',\n",
       " 'Squad Leader',\n",
       " 'Speculation',\n",
       " 'Deadlands: Doomtown',\n",
       " 'Tantrix',\n",
       " 'San Marco',\n",
       " \"Dragon's Gold\",\n",
       " 'Pitstop',\n",
       " 'Gunslinger',\n",
       " 'Malawi',\n",
       " 'Max.X',\n",
       " 'Mutternland',\n",
       " 'Orbit',\n",
       " 'Pacific Northwest Rails',\n",
       " 'Paule Panik',\n",
       " 'Piratenpoker',\n",
       " 'Pow Wow',\n",
       " 'Rockets',\n",
       " 'Sansibar',\n",
       " 'Schraumen',\n",
       " 'Vigo',\n",
       " 'Zargos',\n",
       " 'Ordino',\n",
       " 'Head Quarter',\n",
       " 'Shadows in the Forest',\n",
       " 'Aztec',\n",
       " \"Wat'n dat!?\",\n",
       " 'Der Schatz der Inka',\n",
       " 'Big Bang',\n",
       " 'Captain Future',\n",
       " 'Baubylon',\n",
       " 'Tokami',\n",
       " 'Evolution',\n",
       " 'Die Schlacht der Dinosaurier',\n",
       " 'Invers',\n",
       " 'Das Gold der Maya',\n",
       " 'Der Schatz der Erdgeister',\n",
       " 'Matschig',\n",
       " 'YoYo',\n",
       " 'Explosiv',\n",
       " 'Die Goldene Eins',\n",
       " 'Jolly Roger',\n",
       " 'Assassin',\n",
       " 'Mystery on the Nile',\n",
       " 'Four Real',\n",
       " 'Judge Dredd',\n",
       " 'Downspin',\n",
       " 'Check the Ripper',\n",
       " 'Flying Carpet',\n",
       " 'Titus',\n",
       " 'Nyet!',\n",
       " 'Last Minute',\n",
       " 'Kathai',\n",
       " 'Taboo',\n",
       " \"You're Bluffing!\",\n",
       " 'Silver Mine',\n",
       " 'Dry Gulch',\n",
       " 'Big Shot',\n",
       " 'Car Wars: The Card Game',\n",
       " 'Encounters',\n",
       " 'Archimedes',\n",
       " 'Halali',\n",
       " 'Top Secret',\n",
       " 'Organized Crime',\n",
       " 'Road Warrior',\n",
       " 'Quest For Power',\n",
       " \"Domain: The Warlock's Challenge\",\n",
       " 'Army of Darkness',\n",
       " 'Fantastische Ballonreise',\n",
       " 'Ballonrennen',\n",
       " 'Pass the Gas',\n",
       " 'Sabotage',\n",
       " 'Warrior Knights',\n",
       " 'The Warlock of Firetop Mountain',\n",
       " 'City of Chaos',\n",
       " 'Shadowlord!',\n",
       " 'Outrage! Steal the Crown Jewels',\n",
       " 'Eagle Kingdoms',\n",
       " 'Dragon Strike',\n",
       " 'Lionheart',\n",
       " 'The Mystic Wood',\n",
       " 'Capitol',\n",
       " \"Bram Stoker's Dracula: The Board Game\",\n",
       " 'Save Doctor Lucky',\n",
       " \"Rus': Rise of Russia 20 BC - AD1584\",\n",
       " 'Evo',\n",
       " 'Boom Town',\n",
       " 'Burp',\n",
       " 'Ciao, Ciao...',\n",
       " 'Delfino',\n",
       " 'Flower Power',\n",
       " 'Geisterstunde',\n",
       " \"Trick 'r Treat\",\n",
       " 'Ricochet',\n",
       " 'Lucky Five',\n",
       " 'Millionenspiel',\n",
       " 'Minister',\n",
       " 'Die Ritter von der Haselnuss',\n",
       " 'Sphinx',\n",
       " 'Tschau Knacki',\n",
       " 'Walkabout',\n",
       " 'Zug nach Westen',\n",
       " 'Casablanca',\n",
       " \"C'est la Vie\",\n",
       " 'The Fellowship of the Ring',\n",
       " 'Chaos Marauders',\n",
       " \"The King's War: The First English Civil War 1642-1646\",\n",
       " 'Continuo',\n",
       " 'Card Caper',\n",
       " 'The Bottom Line',\n",
       " 'Speed Circuit',\n",
       " 'Cloudbusters',\n",
       " 'Blink',\n",
       " 'SET',\n",
       " 'Hocus Focus',\n",
       " 'Sagarian',\n",
       " 'Game, Set, Match!',\n",
       " \"The Sorcerer's Cave\",\n",
       " 'Witch Trial',\n",
       " 'Luxor',\n",
       " 'Big Deal',\n",
       " '1851: Kentucky & Tennessee',\n",
       " 'Pax Britannica: The Colonial Era 1880 to the Great War',\n",
       " 'Cults Across America',\n",
       " 'Race Through Space',\n",
       " 'Nuclear Proliferation',\n",
       " 'Nuclear Escalation',\n",
       " 'Kommando',\n",
       " 'Monkey Memory',\n",
       " 'Mystery Garden',\n",
       " 'Secret Labyrinth',\n",
       " 'Junior Labyrinth',\n",
       " 'Labyrinth',\n",
       " 'Looping',\n",
       " 'Crossed Wires',\n",
       " 'Fat Cats',\n",
       " 'Gods',\n",
       " 'Quest',\n",
       " 'Babuschka',\n",
       " 'Stonewall',\n",
       " 'Maneuver',\n",
       " 'Bausack',\n",
       " 'Saludos Amigos!',\n",
       " 'Once Upon a Time: The Storytelling Card Game',\n",
       " 'Yellowstone',\n",
       " 'So ein Zirkus',\n",
       " 'Autoscooter',\n",
       " 'Schlangennest',\n",
       " 'Right Turn, Left Turn',\n",
       " 'BattleGrid',\n",
       " 'Cut and Run',\n",
       " 'Split Second',\n",
       " 'Meander',\n",
       " 'Isis & Osiris',\n",
       " 'Insecta',\n",
       " 'Gangland!',\n",
       " 'Safari Jack',\n",
       " 'Hacker',\n",
       " 'New World',\n",
       " 'Pyramidis',\n",
       " 'Limits',\n",
       " 'Crack the Case',\n",
       " 'Star Wars Episode I: Customizable Card Game',\n",
       " 'Starbase Jeff',\n",
       " 'Phase 10',\n",
       " 'Pivot',\n",
       " 'Medina',\n",
       " 'Axis & Allies: Pacific',\n",
       " 'Knatsch',\n",
       " 'Der Schattendieb',\n",
       " 'Mystery Rummy: Jekyll & Hyde',\n",
       " 'Polar Dare!',\n",
       " 'Star Wars Customizable Card Game',\n",
       " 'Volltreffer',\n",
       " 'Cue Me!',\n",
       " '221B Baker Street: The Master Detective Game',\n",
       " 'Fish & Chips',\n",
       " 'Dutch InterCity',\n",
       " 'Jitters',\n",
       " \"All The King's Men\",\n",
       " 'Shifti',\n",
       " 'Input',\n",
       " ...]"
      ]
     },
     "execution_count": 28,
     "metadata": {},
     "output_type": "execute_result"
    }
   ],
   "source": [
    "indgame=dbgm.index.tolist()\n",
    "indgame"
   ]
  },
  {
   "cell_type": "code",
   "execution_count": 58,
   "id": "4a9cc7c7",
   "metadata": {},
   "outputs": [
    {
     "ename": "KeyboardInterrupt",
     "evalue": "",
     "output_type": "error",
     "traceback": [
      "\u001b[0;31m---------------------------------------------------------------------------\u001b[0m",
      "\u001b[0;31mKeyboardInterrupt\u001b[0m                         Traceback (most recent call last)",
      "\u001b[0;32m<ipython-input-58-e0702a0b58cb>\u001b[0m in \u001b[0;36m<module>\u001b[0;34m\u001b[0m\n\u001b[1;32m      1\u001b[0m \u001b[0mdict_rec\u001b[0m\u001b[0;34m=\u001b[0m\u001b[0;34m{\u001b[0m\u001b[0;34m}\u001b[0m\u001b[0;34m\u001b[0m\u001b[0;34m\u001b[0m\u001b[0m\n\u001b[1;32m      2\u001b[0m \u001b[0;32mfor\u001b[0m \u001b[0midx\u001b[0m\u001b[0;34m,\u001b[0m\u001b[0mvalor\u001b[0m \u001b[0;32min\u001b[0m \u001b[0menumerate\u001b[0m \u001b[0;34m(\u001b[0m\u001b[0mindgame\u001b[0m\u001b[0;34m)\u001b[0m\u001b[0;34m:\u001b[0m\u001b[0;34m\u001b[0m\u001b[0;34m\u001b[0m\u001b[0m\n\u001b[0;32m----> 3\u001b[0;31m     \u001b[0mdict_rec\u001b[0m\u001b[0;34m[\u001b[0m\u001b[0midx\u001b[0m\u001b[0;34m]\u001b[0m\u001b[0;34m=\u001b[0m\u001b[0mcb_recommendations\u001b[0m\u001b[0;34m(\u001b[0m\u001b[0mvalor\u001b[0m\u001b[0;34m)\u001b[0m\u001b[0;34m\u001b[0m\u001b[0;34m\u001b[0m\u001b[0m\n\u001b[0m\u001b[1;32m      4\u001b[0m \u001b[0mprint\u001b[0m\u001b[0;34m(\u001b[0m\u001b[0mdict_rec\u001b[0m\u001b[0;34m)\u001b[0m\u001b[0;34m\u001b[0m\u001b[0;34m\u001b[0m\u001b[0m\n",
      "\u001b[0;32m<ipython-input-25-dcecf3aaf8c1>\u001b[0m in \u001b[0;36mcb_recommendations\u001b[0;34m(name, cosine)\u001b[0m\n\u001b[1;32m      8\u001b[0m     \u001b[0;32mfor\u001b[0m \u001b[0mi\u001b[0m \u001b[0;32min\u001b[0m \u001b[0mtop_10\u001b[0m\u001b[0;34m:\u001b[0m\u001b[0;34m\u001b[0m\u001b[0;34m\u001b[0m\u001b[0m\n\u001b[1;32m      9\u001b[0m         \u001b[0;32mif\u001b[0m \u001b[0midx\u001b[0m \u001b[0;34m!=\u001b[0m \u001b[0mi\u001b[0m\u001b[0;34m:\u001b[0m\u001b[0;34m\u001b[0m\u001b[0;34m\u001b[0m\u001b[0m\n\u001b[0;32m---> 10\u001b[0;31m             \u001b[0mrecommended\u001b[0m\u001b[0;34m.\u001b[0m\u001b[0mappend\u001b[0m\u001b[0;34m(\u001b[0m\u001b[0mlist\u001b[0m\u001b[0;34m(\u001b[0m\u001b[0mdf_games\u001b[0m\u001b[0;34m.\u001b[0m\u001b[0mindex\u001b[0m\u001b[0;34m)\u001b[0m\u001b[0;34m[\u001b[0m\u001b[0mi\u001b[0m\u001b[0;34m]\u001b[0m\u001b[0;34m)\u001b[0m\u001b[0;34m\u001b[0m\u001b[0;34m\u001b[0m\u001b[0m\n\u001b[0m\u001b[1;32m     11\u001b[0m \u001b[0;34m\u001b[0m\u001b[0m\n\u001b[1;32m     12\u001b[0m     \u001b[0;32mreturn\u001b[0m \u001b[0mrecommended\u001b[0m\u001b[0;34m\u001b[0m\u001b[0;34m\u001b[0m\u001b[0m\n",
      "\u001b[0;31mKeyboardInterrupt\u001b[0m: "
     ]
    }
   ],
   "source": [
    "dict_rec={}\n",
    "for idx,valor in enumerate (indgame):\n",
    "    dict_rec[idx]=cb_recommendations(valor)\n",
    "print(dict_rec)"
   ]
  },
  {
   "cell_type": "code",
   "execution_count": null,
   "id": "905284d8",
   "metadata": {},
   "outputs": [],
   "source": [
    "dict_rec"
   ]
  },
  {
   "cell_type": "code",
   "execution_count": null,
   "id": "e8884379",
   "metadata": {},
   "outputs": [],
   "source": [
    "dbgm['recomendacion']=dbgm['item_id'].apply(lambda z: dict_rec[z])"
   ]
  },
  {
   "cell_type": "code",
   "execution_count": null,
   "id": "0356d92f",
   "metadata": {},
   "outputs": [],
   "source": [
    "dbgm.head()"
   ]
  },
  {
   "cell_type": "code",
   "execution_count": null,
   "id": "945580b1",
   "metadata": {},
   "outputs": [],
   "source": [
    "#dbgm.to_csv(\"DATA/cb_recommendations.csv\")"
   ]
  },
  {
   "cell_type": "markdown",
   "id": "611295e9",
   "metadata": {},
   "source": [
    "## Most popular Board Games"
   ]
  },
  {
   "cell_type": "markdown",
   "id": "0861f08d",
   "metadata": {},
   "source": [
    "In this part we generate an algorithm to recommend the most popular articles based on their frequency."
   ]
  },
  {
   "cell_type": "code",
   "execution_count": 31,
   "id": "0990d119",
   "metadata": {},
   "outputs": [],
   "source": [
    "#Split random into training and test datasets\n",
    "train, test = train_test_split(dfratings, test_size = 0.20, random_state = 42) "
   ]
  },
  {
   "cell_type": "code",
   "execution_count": 32,
   "id": "64598380",
   "metadata": {},
   "outputs": [
    {
     "name": "stdout",
     "output_type": "stream",
     "text": [
      "There are 2844 users, 34067 itmes and 671021 pairs in the train set\n"
     ]
    },
    {
     "data": {
      "text/html": [
       "<div>\n",
       "<style scoped>\n",
       "    .dataframe tbody tr th:only-of-type {\n",
       "        vertical-align: middle;\n",
       "    }\n",
       "\n",
       "    .dataframe tbody tr th {\n",
       "        vertical-align: top;\n",
       "    }\n",
       "\n",
       "    .dataframe thead th {\n",
       "        text-align: right;\n",
       "    }\n",
       "</style>\n",
       "<table border=\"1\" class=\"dataframe\">\n",
       "  <thead>\n",
       "    <tr style=\"text-align: right;\">\n",
       "      <th></th>\n",
       "      <th>user_id</th>\n",
       "      <th>item_id</th>\n",
       "      <th>rating</th>\n",
       "    </tr>\n",
       "  </thead>\n",
       "  <tbody>\n",
       "    <tr>\n",
       "      <th>32330</th>\n",
       "      <td>123</td>\n",
       "      <td>1060</td>\n",
       "      <td>0</td>\n",
       "    </tr>\n",
       "    <tr>\n",
       "      <th>399743</th>\n",
       "      <td>1313</td>\n",
       "      <td>1287</td>\n",
       "      <td>1</td>\n",
       "    </tr>\n",
       "    <tr>\n",
       "      <th>763101</th>\n",
       "      <td>2564</td>\n",
       "      <td>5918</td>\n",
       "      <td>0</td>\n",
       "    </tr>\n",
       "    <tr>\n",
       "      <th>79614</th>\n",
       "      <td>259</td>\n",
       "      <td>1340</td>\n",
       "      <td>1</td>\n",
       "    </tr>\n",
       "    <tr>\n",
       "      <th>719436</th>\n",
       "      <td>2418</td>\n",
       "      <td>727</td>\n",
       "      <td>1</td>\n",
       "    </tr>\n",
       "  </tbody>\n",
       "</table>\n",
       "</div>"
      ],
      "text/plain": [
       "        user_id  item_id  rating\n",
       "32330       123     1060       0\n",
       "399743     1313     1287       1\n",
       "763101     2564     5918       0\n",
       "79614       259     1340       1\n",
       "719436     2418      727       1"
      ]
     },
     "execution_count": 32,
     "metadata": {},
     "output_type": "execute_result"
    }
   ],
   "source": [
    "print('There are %s users, %s itmes and %s pairs in the train set' \\\n",
    "      %(train.user_id.unique().shape[0], train.item_id.unique().shape[0], train.shape[0]))\n",
    "train.head()"
   ]
  },
  {
   "cell_type": "code",
   "execution_count": 33,
   "id": "a7f39fc2",
   "metadata": {},
   "outputs": [
    {
     "name": "stdout",
     "output_type": "stream",
     "text": [
      "There are 2838 users, 20894 itmes and 167756 pairs in the test set\n"
     ]
    },
    {
     "data": {
      "text/html": [
       "<div>\n",
       "<style scoped>\n",
       "    .dataframe tbody tr th:only-of-type {\n",
       "        vertical-align: middle;\n",
       "    }\n",
       "\n",
       "    .dataframe tbody tr th {\n",
       "        vertical-align: top;\n",
       "    }\n",
       "\n",
       "    .dataframe thead th {\n",
       "        text-align: right;\n",
       "    }\n",
       "</style>\n",
       "<table border=\"1\" class=\"dataframe\">\n",
       "  <thead>\n",
       "    <tr style=\"text-align: right;\">\n",
       "      <th></th>\n",
       "      <th>user_id</th>\n",
       "      <th>item_id</th>\n",
       "      <th>rating</th>\n",
       "    </tr>\n",
       "  </thead>\n",
       "  <tbody>\n",
       "    <tr>\n",
       "      <th>332615</th>\n",
       "      <td>1114</td>\n",
       "      <td>1151</td>\n",
       "      <td>1</td>\n",
       "    </tr>\n",
       "    <tr>\n",
       "      <th>489596</th>\n",
       "      <td>1619</td>\n",
       "      <td>2907</td>\n",
       "      <td>1</td>\n",
       "    </tr>\n",
       "    <tr>\n",
       "      <th>499690</th>\n",
       "      <td>1659</td>\n",
       "      <td>647</td>\n",
       "      <td>1</td>\n",
       "    </tr>\n",
       "    <tr>\n",
       "      <th>698079</th>\n",
       "      <td>2334</td>\n",
       "      <td>1283</td>\n",
       "      <td>1</td>\n",
       "    </tr>\n",
       "    <tr>\n",
       "      <th>288796</th>\n",
       "      <td>963</td>\n",
       "      <td>7547</td>\n",
       "      <td>1</td>\n",
       "    </tr>\n",
       "  </tbody>\n",
       "</table>\n",
       "</div>"
      ],
      "text/plain": [
       "        user_id  item_id  rating\n",
       "332615     1114     1151       1\n",
       "489596     1619     2907       1\n",
       "499690     1659      647       1\n",
       "698079     2334     1283       1\n",
       "288796      963     7547       1"
      ]
     },
     "execution_count": 33,
     "metadata": {},
     "output_type": "execute_result"
    }
   ],
   "source": [
    "print('There are %s users, %s itmes and %s pairs in the test set' \\\n",
    "      %(test.user_id.unique().shape[0], test.item_id.unique().shape[0], test.shape[0]))\n",
    "test.head()"
   ]
  },
  {
   "cell_type": "code",
   "execution_count": 34,
   "id": "d7d94f64",
   "metadata": {},
   "outputs": [],
   "source": [
    "# Group the train dataset by item and count the number of users\n",
    "popular = train.groupby('item_id')['user_id'].count()"
   ]
  },
  {
   "cell_type": "code",
   "execution_count": 35,
   "id": "477191f1",
   "metadata": {},
   "outputs": [
    {
     "data": {
      "text/plain": [
       "item_id\n",
       "0    294\n",
       "1     74\n",
       "2    157\n",
       "3     65\n",
       "4    798\n",
       "Name: user_id, dtype: int64"
      ]
     },
     "execution_count": 35,
     "metadata": {},
     "output_type": "execute_result"
    }
   ],
   "source": [
    "popular.head()"
   ]
  },
  {
   "cell_type": "code",
   "execution_count": 36,
   "id": "f6dfbe10",
   "metadata": {},
   "outputs": [],
   "source": [
    "# Sort in descending order\n",
    "popularsort = popular.sort_values(ascending=False)"
   ]
  },
  {
   "cell_type": "code",
   "execution_count": 37,
   "id": "8d38df5d",
   "metadata": {},
   "outputs": [
    {
     "data": {
      "text/plain": [
       "34067"
      ]
     },
     "execution_count": 37,
     "metadata": {},
     "output_type": "execute_result"
    }
   ],
   "source": [
    "popularsort.shape[0]"
   ]
  },
  {
   "cell_type": "code",
   "execution_count": 38,
   "id": "ce77fe46",
   "metadata": {},
   "outputs": [
    {
     "data": {
      "text/plain": [
       "item_id\n",
       "51     1322\n",
       "195    1296\n",
       "70     1262\n",
       "242    1179\n",
       "55     1171\n",
       "Name: user_id, dtype: int64"
      ]
     },
     "execution_count": 38,
     "metadata": {},
     "output_type": "execute_result"
    }
   ],
   "source": [
    "popularsort.head()"
   ]
  },
  {
   "cell_type": "code",
   "execution_count": 39,
   "id": "cfc88f03",
   "metadata": {},
   "outputs": [
    {
     "data": {
      "text/plain": [
       "Int64Index([   51,   195,    70,   242,    55,     5,    44,    15,    93,\n",
       "              256,\n",
       "            ...\n",
       "            27193, 14744, 27180, 27181, 27182, 27183, 27185, 27188, 27190,\n",
       "            36533],\n",
       "           dtype='int64', name='item_id', length=34067)"
      ]
     },
     "execution_count": 39,
     "metadata": {},
     "output_type": "execute_result"
    }
   ],
   "source": [
    "popularsort.index #id of the Board Game"
   ]
  },
  {
   "cell_type": "code",
   "execution_count": 40,
   "id": "3a5b5328",
   "metadata": {},
   "outputs": [],
   "source": [
    "# Get the most popular games\n",
    "popularbg = np.zeros(shape=(popularsort.shape[0], 3), dtype=object)\n",
    "\n",
    "for i, ind in enumerate(popularsort.index):\n",
    "    idx = ind \n",
    "    freq = popularsort[idx]  \n",
    "    title = resample_item_dict[idx]\n",
    "    popularbg[i] = [idx, title, freq]\n",
    "    "
   ]
  },
  {
   "cell_type": "code",
   "execution_count": 41,
   "id": "ca278d14",
   "metadata": {},
   "outputs": [
    {
     "data": {
      "text/plain": [
       "array([[51, 'Carcassonne', 1322],\n",
       "       [195, 'Love Letter', 1296],\n",
       "       [70, 'Codenames', 1262],\n",
       "       [242, 'Pandemic', 1179],\n",
       "       [55, 'Catan', 1171],\n",
       "       [5, '7 Wonders', 1160],\n",
       "       [44, 'Bohnanza', 1155],\n",
       "       [15, 'Agricola', 1129],\n",
       "       [93, 'Dominion', 1113],\n",
       "       [256, 'Power Grid', 1062]], dtype=object)"
      ]
     },
     "execution_count": 41,
     "metadata": {},
     "output_type": "execute_result"
    }
   ],
   "source": [
    "popularbg[:10,:]"
   ]
  },
  {
   "cell_type": "code",
   "execution_count": 42,
   "id": "14955d0c",
   "metadata": {},
   "outputs": [],
   "source": [
    "# Recall function\n",
    "\n",
    "def recall_at_n(N, test, recommended, train=None):\n",
    "\n",
    "    if train is not None: \n",
    "        \n",
    "        rec_true = []\n",
    "        for r in recommended:\n",
    "            if r not in train:\n",
    "                rec_true.append(r)\n",
    "    else:\n",
    "        rec_true = recommended    \n",
    "    intersection = len(set(test) & set(rec_true[:N]))\n",
    "    return intersection / float(np.minimum(N, len(test)))"
   ]
  },
  {
   "cell_type": "code",
   "execution_count": 44,
   "id": "1893e91b",
   "metadata": {},
   "outputs": [],
   "source": [
    "# get movies in train per user\n",
    "trainUsergby = (train.groupby('user_id')['item_id'].apply(list).reset_index())"
   ]
  },
  {
   "cell_type": "code",
   "execution_count": 45,
   "id": "7298e91c",
   "metadata": {},
   "outputs": [
    {
     "data": {
      "text/html": [
       "<div>\n",
       "<style scoped>\n",
       "    .dataframe tbody tr th:only-of-type {\n",
       "        vertical-align: middle;\n",
       "    }\n",
       "\n",
       "    .dataframe tbody tr th {\n",
       "        vertical-align: top;\n",
       "    }\n",
       "\n",
       "    .dataframe thead th {\n",
       "        text-align: right;\n",
       "    }\n",
       "</style>\n",
       "<table border=\"1\" class=\"dataframe\">\n",
       "  <thead>\n",
       "    <tr style=\"text-align: right;\">\n",
       "      <th></th>\n",
       "      <th>user_id</th>\n",
       "      <th>item_id</th>\n",
       "    </tr>\n",
       "  </thead>\n",
       "  <tbody>\n",
       "    <tr>\n",
       "      <th>0</th>\n",
       "      <td>0</td>\n",
       "      <td>[276, 308, 192, 300, 100, 6, 391, 388, 287, 10...</td>\n",
       "    </tr>\n",
       "    <tr>\n",
       "      <th>1</th>\n",
       "      <td>1</td>\n",
       "      <td>[513, 411, 258, 650, 615, 294, 202, 77, 171, 6...</td>\n",
       "    </tr>\n",
       "    <tr>\n",
       "      <th>2</th>\n",
       "      <td>2</td>\n",
       "      <td>[791, 751, 360, 795, 629, 799, 763, 758, 725, ...</td>\n",
       "    </tr>\n",
       "    <tr>\n",
       "      <th>3</th>\n",
       "      <td>3</td>\n",
       "      <td>[823, 409, 157, 5, 369, 843, 591, 876, 877, 84...</td>\n",
       "    </tr>\n",
       "    <tr>\n",
       "      <th>4</th>\n",
       "      <td>4</td>\n",
       "      <td>[375, 903, 941, 939, 227, 957, 232, 947, 148, ...</td>\n",
       "    </tr>\n",
       "  </tbody>\n",
       "</table>\n",
       "</div>"
      ],
      "text/plain": [
       "   user_id                                            item_id\n",
       "0        0  [276, 308, 192, 300, 100, 6, 391, 388, 287, 10...\n",
       "1        1  [513, 411, 258, 650, 615, 294, 202, 77, 171, 6...\n",
       "2        2  [791, 751, 360, 795, 629, 799, 763, 758, 725, ...\n",
       "3        3  [823, 409, 157, 5, 369, 843, 591, 876, 877, 84...\n",
       "4        4  [375, 903, 941, 939, 227, 957, 232, 947, 148, ..."
      ]
     },
     "execution_count": 45,
     "metadata": {},
     "output_type": "execute_result"
    }
   ],
   "source": [
    "trainUsergby.head()"
   ]
  },
  {
   "cell_type": "code",
   "execution_count": 46,
   "id": "f19183b4",
   "metadata": {},
   "outputs": [
    {
     "data": {
      "text/html": [
       "<div>\n",
       "<style scoped>\n",
       "    .dataframe tbody tr th:only-of-type {\n",
       "        vertical-align: middle;\n",
       "    }\n",
       "\n",
       "    .dataframe tbody tr th {\n",
       "        vertical-align: top;\n",
       "    }\n",
       "\n",
       "    .dataframe thead th {\n",
       "        text-align: right;\n",
       "    }\n",
       "</style>\n",
       "<table border=\"1\" class=\"dataframe\">\n",
       "  <thead>\n",
       "    <tr style=\"text-align: right;\">\n",
       "      <th></th>\n",
       "      <th>user_id</th>\n",
       "      <th>item_id</th>\n",
       "    </tr>\n",
       "  </thead>\n",
       "  <tbody>\n",
       "    <tr>\n",
       "      <th>0</th>\n",
       "      <td>0</td>\n",
       "      <td>[158, 317, 31, 122, 167, 63, 43, 18, 327, 256,...</td>\n",
       "    </tr>\n",
       "    <tr>\n",
       "      <th>1</th>\n",
       "      <td>1</td>\n",
       "      <td>[548, 661, 578, 276, 611, 544, 454, 472, 689, ...</td>\n",
       "    </tr>\n",
       "    <tr>\n",
       "      <th>2</th>\n",
       "      <td>2</td>\n",
       "      <td>[163, 768, 157, 329, 346, 802, 781, 797, 455, ...</td>\n",
       "    </tr>\n",
       "    <tr>\n",
       "      <th>3</th>\n",
       "      <td>3</td>\n",
       "      <td>[870, 155, 824, 432, 599, 888, 829, 156, 868, ...</td>\n",
       "    </tr>\n",
       "    <tr>\n",
       "      <th>4</th>\n",
       "      <td>4</td>\n",
       "      <td>[893, 479, 325, 944, 959, 951, 361, 917, 922, ...</td>\n",
       "    </tr>\n",
       "  </tbody>\n",
       "</table>\n",
       "</div>"
      ],
      "text/plain": [
       "   user_id                                            item_id\n",
       "0        0  [158, 317, 31, 122, 167, 63, 43, 18, 327, 256,...\n",
       "1        1  [548, 661, 578, 276, 611, 544, 454, 472, 689, ...\n",
       "2        2  [163, 768, 157, 329, 346, 802, 781, 797, 455, ...\n",
       "3        3  [870, 155, 824, 432, 599, 888, 829, 156, 868, ...\n",
       "4        4  [893, 479, 325, 944, 959, 951, 361, 917, 922, ..."
      ]
     },
     "execution_count": 46,
     "metadata": {},
     "output_type": "execute_result"
    }
   ],
   "source": [
    "testUsergby = (test.groupby('user_id')['item_id'].apply(list).reset_index())\n",
    "testUsergby.head()"
   ]
  },
  {
   "cell_type": "code",
   "execution_count": 47,
   "id": "55cda8bd",
   "metadata": {},
   "outputs": [
    {
     "data": {
      "text/html": [
       "<div>\n",
       "<style scoped>\n",
       "    .dataframe tbody tr th:only-of-type {\n",
       "        vertical-align: middle;\n",
       "    }\n",
       "\n",
       "    .dataframe tbody tr th {\n",
       "        vertical-align: top;\n",
       "    }\n",
       "\n",
       "    .dataframe thead th {\n",
       "        text-align: right;\n",
       "    }\n",
       "</style>\n",
       "<table border=\"1\" class=\"dataframe\">\n",
       "  <thead>\n",
       "    <tr style=\"text-align: right;\">\n",
       "      <th></th>\n",
       "      <th>user_id</th>\n",
       "      <th>item_id_train</th>\n",
       "      <th>item_id_test</th>\n",
       "    </tr>\n",
       "  </thead>\n",
       "  <tbody>\n",
       "    <tr>\n",
       "      <th>0</th>\n",
       "      <td>0</td>\n",
       "      <td>[276, 308, 192, 300, 100, 6, 391, 388, 287, 10...</td>\n",
       "      <td>[158, 317, 31, 122, 167, 63, 43, 18, 327, 256,...</td>\n",
       "    </tr>\n",
       "    <tr>\n",
       "      <th>1</th>\n",
       "      <td>1</td>\n",
       "      <td>[513, 411, 258, 650, 615, 294, 202, 77, 171, 6...</td>\n",
       "      <td>[548, 661, 578, 276, 611, 544, 454, 472, 689, ...</td>\n",
       "    </tr>\n",
       "    <tr>\n",
       "      <th>2</th>\n",
       "      <td>2</td>\n",
       "      <td>[791, 751, 360, 795, 629, 799, 763, 758, 725, ...</td>\n",
       "      <td>[163, 768, 157, 329, 346, 802, 781, 797, 455, ...</td>\n",
       "    </tr>\n",
       "    <tr>\n",
       "      <th>3</th>\n",
       "      <td>3</td>\n",
       "      <td>[823, 409, 157, 5, 369, 843, 591, 876, 877, 84...</td>\n",
       "      <td>[870, 155, 824, 432, 599, 888, 829, 156, 868, ...</td>\n",
       "    </tr>\n",
       "    <tr>\n",
       "      <th>4</th>\n",
       "      <td>4</td>\n",
       "      <td>[375, 903, 941, 939, 227, 957, 232, 947, 148, ...</td>\n",
       "      <td>[893, 479, 325, 944, 959, 951, 361, 917, 922, ...</td>\n",
       "    </tr>\n",
       "  </tbody>\n",
       "</table>\n",
       "</div>"
      ],
      "text/plain": [
       "   user_id                                      item_id_train  \\\n",
       "0        0  [276, 308, 192, 300, 100, 6, 391, 388, 287, 10...   \n",
       "1        1  [513, 411, 258, 650, 615, 294, 202, 77, 171, 6...   \n",
       "2        2  [791, 751, 360, 795, 629, 799, 763, 758, 725, ...   \n",
       "3        3  [823, 409, 157, 5, 369, 843, 591, 876, 877, 84...   \n",
       "4        4  [375, 903, 941, 939, 227, 957, 232, 947, 148, ...   \n",
       "\n",
       "                                        item_id_test  \n",
       "0  [158, 317, 31, 122, 167, 63, 43, 18, 327, 256,...  \n",
       "1  [548, 661, 578, 276, 611, 544, 454, 472, 689, ...  \n",
       "2  [163, 768, 157, 329, 346, 802, 781, 797, 455, ...  \n",
       "3  [870, 155, 824, 432, 599, 888, 829, 156, 868, ...  \n",
       "4  [893, 479, 325, 944, 959, 951, 361, 917, 922, ...  "
      ]
     },
     "execution_count": 47,
     "metadata": {},
     "output_type": "execute_result"
    }
   ],
   "source": [
    "# Merge both df\n",
    "joinedtt = pd.merge(trainUsergby, testUsergby, how='inner', on='user_id', suffixes=('_train', '_test'))\n",
    "joinedtt.head()"
   ]
  },
  {
   "cell_type": "code",
   "execution_count": 48,
   "id": "001262c3",
   "metadata": {},
   "outputs": [
    {
     "ename": "KeyboardInterrupt",
     "evalue": "",
     "output_type": "error",
     "traceback": [
      "\u001b[0;31m---------------------------------------------------------------------------\u001b[0m",
      "\u001b[0;31mKeyboardInterrupt\u001b[0m                         Traceback (most recent call last)",
      "\u001b[0;32m<ipython-input-48-63d41c76dc7e>\u001b[0m in \u001b[0;36m<module>\u001b[0;34m\u001b[0m\n\u001b[1;32m      5\u001b[0m \u001b[0;32mfor\u001b[0m \u001b[0mtopN\u001b[0m \u001b[0;32min\u001b[0m \u001b[0mlist_topN\u001b[0m\u001b[0;34m:\u001b[0m\u001b[0;34m\u001b[0m\u001b[0;34m\u001b[0m\u001b[0m\n\u001b[1;32m      6\u001b[0m     \u001b[0mrec\u001b[0m\u001b[0;34m=\u001b[0m\u001b[0mpopularbg\u001b[0m\u001b[0;34m[\u001b[0m\u001b[0;34m:\u001b[0m\u001b[0;34m,\u001b[0m \u001b[0;36m0\u001b[0m\u001b[0;34m]\u001b[0m\u001b[0;34m\u001b[0m\u001b[0;34m\u001b[0m\u001b[0m\n\u001b[0;32m----> 7\u001b[0;31m     \u001b[0mr_u\u001b[0m\u001b[0;34m=\u001b[0m\u001b[0mjoinedtt\u001b[0m\u001b[0;34m.\u001b[0m\u001b[0mapply\u001b[0m\u001b[0;34m(\u001b[0m\u001b[0;32mlambda\u001b[0m \u001b[0ml\u001b[0m\u001b[0;34m:\u001b[0m \u001b[0mrecall_at_n\u001b[0m\u001b[0;34m(\u001b[0m\u001b[0mN\u001b[0m\u001b[0;34m=\u001b[0m\u001b[0mtopN\u001b[0m\u001b[0;34m,\u001b[0m \u001b[0mtest\u001b[0m\u001b[0;34m=\u001b[0m\u001b[0ml\u001b[0m\u001b[0;34m[\u001b[0m\u001b[0;36m2\u001b[0m\u001b[0;34m]\u001b[0m\u001b[0;34m,\u001b[0m \u001b[0mrecommended\u001b[0m\u001b[0;34m=\u001b[0m\u001b[0mrec\u001b[0m\u001b[0;34m,\u001b[0m \u001b[0mtrain\u001b[0m\u001b[0;34m=\u001b[0m\u001b[0ml\u001b[0m\u001b[0;34m[\u001b[0m\u001b[0;36m1\u001b[0m\u001b[0;34m]\u001b[0m\u001b[0;34m)\u001b[0m\u001b[0;34m,\u001b[0m \u001b[0maxis\u001b[0m\u001b[0;34m=\u001b[0m\u001b[0;36m1\u001b[0m\u001b[0;34m)\u001b[0m\u001b[0;34m\u001b[0m\u001b[0;34m\u001b[0m\u001b[0m\n\u001b[0m\u001b[1;32m      8\u001b[0m     \u001b[0mprint\u001b[0m\u001b[0;34m(\u001b[0m\u001b[0;34m'TopN:'\u001b[0m\u001b[0;34m,\u001b[0m\u001b[0mtopN\u001b[0m\u001b[0;34m,\u001b[0m\u001b[0;34m','\u001b[0m\u001b[0;34m,\u001b[0m\u001b[0;34m'recall: '\u001b[0m\u001b[0;34m,\u001b[0m\u001b[0mr_u\u001b[0m\u001b[0;34m.\u001b[0m\u001b[0mmean\u001b[0m\u001b[0;34m(\u001b[0m\u001b[0;34m)\u001b[0m\u001b[0;34m)\u001b[0m\u001b[0;34m\u001b[0m\u001b[0;34m\u001b[0m\u001b[0m\n",
      "\u001b[0;32m/opt/anaconda3/envs/ml/lib/python3.9/site-packages/pandas/core/frame.py\u001b[0m in \u001b[0;36mapply\u001b[0;34m(self, func, axis, raw, result_type, args, **kwds)\u001b[0m\n\u001b[1;32m   7766\u001b[0m             \u001b[0mkwds\u001b[0m\u001b[0;34m=\u001b[0m\u001b[0mkwds\u001b[0m\u001b[0;34m,\u001b[0m\u001b[0;34m\u001b[0m\u001b[0;34m\u001b[0m\u001b[0m\n\u001b[1;32m   7767\u001b[0m         )\n\u001b[0;32m-> 7768\u001b[0;31m         \u001b[0;32mreturn\u001b[0m \u001b[0mop\u001b[0m\u001b[0;34m.\u001b[0m\u001b[0mget_result\u001b[0m\u001b[0;34m(\u001b[0m\u001b[0;34m)\u001b[0m\u001b[0;34m\u001b[0m\u001b[0;34m\u001b[0m\u001b[0m\n\u001b[0m\u001b[1;32m   7769\u001b[0m \u001b[0;34m\u001b[0m\u001b[0m\n\u001b[1;32m   7770\u001b[0m     \u001b[0;32mdef\u001b[0m \u001b[0mapplymap\u001b[0m\u001b[0;34m(\u001b[0m\u001b[0mself\u001b[0m\u001b[0;34m,\u001b[0m \u001b[0mfunc\u001b[0m\u001b[0;34m,\u001b[0m \u001b[0mna_action\u001b[0m\u001b[0;34m:\u001b[0m \u001b[0mOptional\u001b[0m\u001b[0;34m[\u001b[0m\u001b[0mstr\u001b[0m\u001b[0;34m]\u001b[0m \u001b[0;34m=\u001b[0m \u001b[0;32mNone\u001b[0m\u001b[0;34m)\u001b[0m \u001b[0;34m->\u001b[0m \u001b[0mDataFrame\u001b[0m\u001b[0;34m:\u001b[0m\u001b[0;34m\u001b[0m\u001b[0;34m\u001b[0m\u001b[0m\n",
      "\u001b[0;32m/opt/anaconda3/envs/ml/lib/python3.9/site-packages/pandas/core/apply.py\u001b[0m in \u001b[0;36mget_result\u001b[0;34m(self)\u001b[0m\n\u001b[1;32m    183\u001b[0m             \u001b[0;32mreturn\u001b[0m \u001b[0mself\u001b[0m\u001b[0;34m.\u001b[0m\u001b[0mapply_raw\u001b[0m\u001b[0;34m(\u001b[0m\u001b[0;34m)\u001b[0m\u001b[0;34m\u001b[0m\u001b[0;34m\u001b[0m\u001b[0m\n\u001b[1;32m    184\u001b[0m \u001b[0;34m\u001b[0m\u001b[0m\n\u001b[0;32m--> 185\u001b[0;31m         \u001b[0;32mreturn\u001b[0m \u001b[0mself\u001b[0m\u001b[0;34m.\u001b[0m\u001b[0mapply_standard\u001b[0m\u001b[0;34m(\u001b[0m\u001b[0;34m)\u001b[0m\u001b[0;34m\u001b[0m\u001b[0;34m\u001b[0m\u001b[0m\n\u001b[0m\u001b[1;32m    186\u001b[0m \u001b[0;34m\u001b[0m\u001b[0m\n\u001b[1;32m    187\u001b[0m     \u001b[0;32mdef\u001b[0m \u001b[0mapply_empty_result\u001b[0m\u001b[0;34m(\u001b[0m\u001b[0mself\u001b[0m\u001b[0;34m)\u001b[0m\u001b[0;34m:\u001b[0m\u001b[0;34m\u001b[0m\u001b[0;34m\u001b[0m\u001b[0m\n",
      "\u001b[0;32m/opt/anaconda3/envs/ml/lib/python3.9/site-packages/pandas/core/apply.py\u001b[0m in \u001b[0;36mapply_standard\u001b[0;34m(self)\u001b[0m\n\u001b[1;32m    274\u001b[0m \u001b[0;34m\u001b[0m\u001b[0m\n\u001b[1;32m    275\u001b[0m     \u001b[0;32mdef\u001b[0m \u001b[0mapply_standard\u001b[0m\u001b[0;34m(\u001b[0m\u001b[0mself\u001b[0m\u001b[0;34m)\u001b[0m\u001b[0;34m:\u001b[0m\u001b[0;34m\u001b[0m\u001b[0;34m\u001b[0m\u001b[0m\n\u001b[0;32m--> 276\u001b[0;31m         \u001b[0mresults\u001b[0m\u001b[0;34m,\u001b[0m \u001b[0mres_index\u001b[0m \u001b[0;34m=\u001b[0m \u001b[0mself\u001b[0m\u001b[0;34m.\u001b[0m\u001b[0mapply_series_generator\u001b[0m\u001b[0;34m(\u001b[0m\u001b[0;34m)\u001b[0m\u001b[0;34m\u001b[0m\u001b[0;34m\u001b[0m\u001b[0m\n\u001b[0m\u001b[1;32m    277\u001b[0m \u001b[0;34m\u001b[0m\u001b[0m\n\u001b[1;32m    278\u001b[0m         \u001b[0;31m# wrap results\u001b[0m\u001b[0;34m\u001b[0m\u001b[0;34m\u001b[0m\u001b[0;34m\u001b[0m\u001b[0m\n",
      "\u001b[0;32m/opt/anaconda3/envs/ml/lib/python3.9/site-packages/pandas/core/apply.py\u001b[0m in \u001b[0;36mapply_series_generator\u001b[0;34m(self)\u001b[0m\n\u001b[1;32m    288\u001b[0m             \u001b[0;32mfor\u001b[0m \u001b[0mi\u001b[0m\u001b[0;34m,\u001b[0m \u001b[0mv\u001b[0m \u001b[0;32min\u001b[0m \u001b[0menumerate\u001b[0m\u001b[0;34m(\u001b[0m\u001b[0mseries_gen\u001b[0m\u001b[0;34m)\u001b[0m\u001b[0;34m:\u001b[0m\u001b[0;34m\u001b[0m\u001b[0;34m\u001b[0m\u001b[0m\n\u001b[1;32m    289\u001b[0m                 \u001b[0;31m# ignore SettingWithCopy here in case the user mutates\u001b[0m\u001b[0;34m\u001b[0m\u001b[0;34m\u001b[0m\u001b[0;34m\u001b[0m\u001b[0m\n\u001b[0;32m--> 290\u001b[0;31m                 \u001b[0mresults\u001b[0m\u001b[0;34m[\u001b[0m\u001b[0mi\u001b[0m\u001b[0;34m]\u001b[0m \u001b[0;34m=\u001b[0m \u001b[0mself\u001b[0m\u001b[0;34m.\u001b[0m\u001b[0mf\u001b[0m\u001b[0;34m(\u001b[0m\u001b[0mv\u001b[0m\u001b[0;34m)\u001b[0m\u001b[0;34m\u001b[0m\u001b[0;34m\u001b[0m\u001b[0m\n\u001b[0m\u001b[1;32m    291\u001b[0m                 \u001b[0;32mif\u001b[0m \u001b[0misinstance\u001b[0m\u001b[0;34m(\u001b[0m\u001b[0mresults\u001b[0m\u001b[0;34m[\u001b[0m\u001b[0mi\u001b[0m\u001b[0;34m]\u001b[0m\u001b[0;34m,\u001b[0m \u001b[0mABCSeries\u001b[0m\u001b[0;34m)\u001b[0m\u001b[0;34m:\u001b[0m\u001b[0;34m\u001b[0m\u001b[0;34m\u001b[0m\u001b[0m\n\u001b[1;32m    292\u001b[0m                     \u001b[0;31m# If we have a view on v, we need to make a copy because\u001b[0m\u001b[0;34m\u001b[0m\u001b[0;34m\u001b[0m\u001b[0;34m\u001b[0m\u001b[0m\n",
      "\u001b[0;32m<ipython-input-48-63d41c76dc7e>\u001b[0m in \u001b[0;36m<lambda>\u001b[0;34m(l)\u001b[0m\n\u001b[1;32m      5\u001b[0m \u001b[0;32mfor\u001b[0m \u001b[0mtopN\u001b[0m \u001b[0;32min\u001b[0m \u001b[0mlist_topN\u001b[0m\u001b[0;34m:\u001b[0m\u001b[0;34m\u001b[0m\u001b[0;34m\u001b[0m\u001b[0m\n\u001b[1;32m      6\u001b[0m     \u001b[0mrec\u001b[0m\u001b[0;34m=\u001b[0m\u001b[0mpopularbg\u001b[0m\u001b[0;34m[\u001b[0m\u001b[0;34m:\u001b[0m\u001b[0;34m,\u001b[0m \u001b[0;36m0\u001b[0m\u001b[0;34m]\u001b[0m\u001b[0;34m\u001b[0m\u001b[0;34m\u001b[0m\u001b[0m\n\u001b[0;32m----> 7\u001b[0;31m     \u001b[0mr_u\u001b[0m\u001b[0;34m=\u001b[0m\u001b[0mjoinedtt\u001b[0m\u001b[0;34m.\u001b[0m\u001b[0mapply\u001b[0m\u001b[0;34m(\u001b[0m\u001b[0;32mlambda\u001b[0m \u001b[0ml\u001b[0m\u001b[0;34m:\u001b[0m \u001b[0mrecall_at_n\u001b[0m\u001b[0;34m(\u001b[0m\u001b[0mN\u001b[0m\u001b[0;34m=\u001b[0m\u001b[0mtopN\u001b[0m\u001b[0;34m,\u001b[0m \u001b[0mtest\u001b[0m\u001b[0;34m=\u001b[0m\u001b[0ml\u001b[0m\u001b[0;34m[\u001b[0m\u001b[0;36m2\u001b[0m\u001b[0;34m]\u001b[0m\u001b[0;34m,\u001b[0m \u001b[0mrecommended\u001b[0m\u001b[0;34m=\u001b[0m\u001b[0mrec\u001b[0m\u001b[0;34m,\u001b[0m \u001b[0mtrain\u001b[0m\u001b[0;34m=\u001b[0m\u001b[0ml\u001b[0m\u001b[0;34m[\u001b[0m\u001b[0;36m1\u001b[0m\u001b[0;34m]\u001b[0m\u001b[0;34m)\u001b[0m\u001b[0;34m,\u001b[0m \u001b[0maxis\u001b[0m\u001b[0;34m=\u001b[0m\u001b[0;36m1\u001b[0m\u001b[0;34m)\u001b[0m\u001b[0;34m\u001b[0m\u001b[0;34m\u001b[0m\u001b[0m\n\u001b[0m\u001b[1;32m      8\u001b[0m     \u001b[0mprint\u001b[0m\u001b[0;34m(\u001b[0m\u001b[0;34m'TopN:'\u001b[0m\u001b[0;34m,\u001b[0m\u001b[0mtopN\u001b[0m\u001b[0;34m,\u001b[0m\u001b[0;34m','\u001b[0m\u001b[0;34m,\u001b[0m\u001b[0;34m'recall: '\u001b[0m\u001b[0;34m,\u001b[0m\u001b[0mr_u\u001b[0m\u001b[0;34m.\u001b[0m\u001b[0mmean\u001b[0m\u001b[0;34m(\u001b[0m\u001b[0;34m)\u001b[0m\u001b[0;34m)\u001b[0m\u001b[0;34m\u001b[0m\u001b[0;34m\u001b[0m\u001b[0m\n",
      "\u001b[0;32m<ipython-input-42-79c653bc4df9>\u001b[0m in \u001b[0;36mrecall_at_n\u001b[0;34m(N, test, recommended, train)\u001b[0m\n\u001b[1;32m      8\u001b[0m         \u001b[0;32mfor\u001b[0m \u001b[0mr\u001b[0m \u001b[0;32min\u001b[0m \u001b[0mrecommended\u001b[0m\u001b[0;34m:\u001b[0m\u001b[0;34m\u001b[0m\u001b[0;34m\u001b[0m\u001b[0m\n\u001b[1;32m      9\u001b[0m             \u001b[0;32mif\u001b[0m \u001b[0mr\u001b[0m \u001b[0;32mnot\u001b[0m \u001b[0;32min\u001b[0m \u001b[0mtrain\u001b[0m\u001b[0;34m:\u001b[0m\u001b[0;34m\u001b[0m\u001b[0;34m\u001b[0m\u001b[0m\n\u001b[0;32m---> 10\u001b[0;31m                 \u001b[0mrec_true\u001b[0m\u001b[0;34m.\u001b[0m\u001b[0mappend\u001b[0m\u001b[0;34m(\u001b[0m\u001b[0mr\u001b[0m\u001b[0;34m)\u001b[0m\u001b[0;34m\u001b[0m\u001b[0;34m\u001b[0m\u001b[0m\n\u001b[0m\u001b[1;32m     11\u001b[0m     \u001b[0;32melse\u001b[0m\u001b[0;34m:\u001b[0m\u001b[0;34m\u001b[0m\u001b[0;34m\u001b[0m\u001b[0m\n\u001b[1;32m     12\u001b[0m         \u001b[0mrec_true\u001b[0m \u001b[0;34m=\u001b[0m \u001b[0mrecommended\u001b[0m\u001b[0;34m\u001b[0m\u001b[0;34m\u001b[0m\u001b[0m\n",
      "\u001b[0;31mKeyboardInterrupt\u001b[0m: "
     ]
    }
   ],
   "source": [
    "# Evaluate the model for different number of recommended elements \n",
    "\n",
    "list_topN=[1,5,10,20]\n",
    "\n",
    "for topN in list_topN:\n",
    "    rec=popularbg[:, 0]\n",
    "    r_u=joinedtt.apply(lambda l: recall_at_n(N=topN, test=l[2], recommended=rec, train=l[1]), axis=1)\n",
    "    print('TopN:',topN,',','recall: ',r_u.mean())"
   ]
  },
  {
   "cell_type": "code",
   "execution_count": null,
   "id": "4141e1f5",
   "metadata": {},
   "outputs": [],
   "source": [
    "# MAP Function\n",
    "\n",
    "def apk(N, test, recommended, train=None):\n",
    "\n",
    "    if train is not None: \n",
    "        rec_true = []\n",
    "        for r in recommended:\n",
    "            if r not in train:\n",
    "                rec_true.append(r)\n",
    "    else:\n",
    "        rec_true = recommended    \n",
    "    predicted = rec_true[:N] # top-k predictions\n",
    "    \n",
    "    score = 0.0 # This will store the numerator\n",
    "    num_hits = 0.0 # This will store the sum of rel(i)\n",
    "\n",
    "    for i,p in enumerate(predicted):\n",
    "        if p in test and p not in predicted[:i]:\n",
    "            num_hits += 1.0\n",
    "            score += num_hits/(i+1.0)\n",
    "\n",
    "    return score / min(len(test), N)"
   ]
  },
  {
   "cell_type": "code",
   "execution_count": null,
   "id": "354f8463",
   "metadata": {},
   "outputs": [],
   "source": [
    "list_topN=[1,5,10,20]\n",
    "\n",
    "for topN in list_topN:\n",
    "    predictions = popularbg[:, 0]\n",
    "    m = joinedtt.apply(lambda l: apk(topN, l[2], predictions, l[1]), axis=1)\n",
    "    print('TopN:',topN,',','map: ',m.mean()) "
   ]
  },
  {
   "cell_type": "markdown",
   "id": "e2b3d4a4",
   "metadata": {},
   "source": [
    "#### Create the final dataset for streamlit implementation"
   ]
  },
  {
   "cell_type": "code",
   "execution_count": 55,
   "id": "1f5e6132",
   "metadata": {},
   "outputs": [],
   "source": [
    "pop_rec=pd.DataFrame(popularbg, columns=['item_id','title','freq']).head(10)"
   ]
  },
  {
   "cell_type": "code",
   "execution_count": 56,
   "id": "e79a2915",
   "metadata": {},
   "outputs": [
    {
     "data": {
      "text/html": [
       "<div>\n",
       "<style scoped>\n",
       "    .dataframe tbody tr th:only-of-type {\n",
       "        vertical-align: middle;\n",
       "    }\n",
       "\n",
       "    .dataframe tbody tr th {\n",
       "        vertical-align: top;\n",
       "    }\n",
       "\n",
       "    .dataframe thead th {\n",
       "        text-align: right;\n",
       "    }\n",
       "</style>\n",
       "<table border=\"1\" class=\"dataframe\">\n",
       "  <thead>\n",
       "    <tr style=\"text-align: right;\">\n",
       "      <th></th>\n",
       "      <th>item_id</th>\n",
       "      <th>title</th>\n",
       "      <th>freq</th>\n",
       "    </tr>\n",
       "  </thead>\n",
       "  <tbody>\n",
       "    <tr>\n",
       "      <th>0</th>\n",
       "      <td>51</td>\n",
       "      <td>Carcassonne</td>\n",
       "      <td>1322</td>\n",
       "    </tr>\n",
       "    <tr>\n",
       "      <th>1</th>\n",
       "      <td>195</td>\n",
       "      <td>Love Letter</td>\n",
       "      <td>1296</td>\n",
       "    </tr>\n",
       "    <tr>\n",
       "      <th>2</th>\n",
       "      <td>70</td>\n",
       "      <td>Codenames</td>\n",
       "      <td>1262</td>\n",
       "    </tr>\n",
       "    <tr>\n",
       "      <th>3</th>\n",
       "      <td>242</td>\n",
       "      <td>Pandemic</td>\n",
       "      <td>1179</td>\n",
       "    </tr>\n",
       "    <tr>\n",
       "      <th>4</th>\n",
       "      <td>55</td>\n",
       "      <td>Catan</td>\n",
       "      <td>1171</td>\n",
       "    </tr>\n",
       "  </tbody>\n",
       "</table>\n",
       "</div>"
      ],
      "text/plain": [
       "  item_id        title  freq\n",
       "0      51  Carcassonne  1322\n",
       "1     195  Love Letter  1296\n",
       "2      70    Codenames  1262\n",
       "3     242     Pandemic  1179\n",
       "4      55        Catan  1171"
      ]
     },
     "execution_count": 56,
     "metadata": {},
     "output_type": "execute_result"
    }
   ],
   "source": [
    "pop_rec.head()"
   ]
  },
  {
   "cell_type": "code",
   "execution_count": 57,
   "id": "1ed0e170",
   "metadata": {},
   "outputs": [],
   "source": [
    "#pop_rec.to_csv('popular.csv')"
   ]
  },
  {
   "cell_type": "code",
   "execution_count": 52,
   "id": "b92ee7d7",
   "metadata": {},
   "outputs": [],
   "source": [
    "## Matrix Co-Ocurrence"
   ]
  },
  {
   "cell_type": "code",
   "execution_count": 53,
   "id": "ca382cbf",
   "metadata": {},
   "outputs": [],
   "source": [
    "moviesPerUser = (train.groupby('user_id')['item_id']\n",
    "                 .apply(np.array)\n",
    "                 .to_dict()\n",
    "                 )"
   ]
  },
  {
   "cell_type": "code",
   "execution_count": 54,
   "id": "e4b936a5",
   "metadata": {},
   "outputs": [
    {
     "data": {
      "text/plain": [
       "36535"
      ]
     },
     "execution_count": 54,
     "metadata": {},
     "output_type": "execute_result"
    }
   ],
   "source": [
    "# calculate the number of items in train\n",
    "n_items = len(resample_item_dict.keys())\n",
    "n_items"
   ]
  },
  {
   "cell_type": "code",
   "execution_count": 55,
   "id": "ef3c5192",
   "metadata": {},
   "outputs": [],
   "source": [
    "# co-ocurrance matrix will have shape=[n_items,n_items]\n",
    "coMatrix = np.zeros((n_items, n_items)) # co-occurrence matrix\n",
    "for user,movies in moviesPerUser.items():\n",
    "    for m in movies:\n",
    "        coMatrix[m, movies] += 1"
   ]
  },
  {
   "cell_type": "code",
   "execution_count": 56,
   "id": "55d58ed0",
   "metadata": {},
   "outputs": [
    {
     "data": {
      "text/plain": [
       "array([[294.,  42.,  35., ...,   0.,   0.,   0.],\n",
       "       [ 42.,  74.,  10., ...,   0.,   0.,   0.],\n",
       "       [ 35.,  10., 157., ...,   0.,   0.,   0.],\n",
       "       ...,\n",
       "       [  0.,   0.,   0., ...,   0.,   0.,   0.],\n",
       "       [  0.,   0.,   0., ...,   0.,   1.,   0.],\n",
       "       [  0.,   0.,   0., ...,   0.,   0.,   0.]])"
      ]
     },
     "execution_count": 56,
     "metadata": {},
     "output_type": "execute_result"
    }
   ],
   "source": [
    "coMatrix"
   ]
  },
  {
   "cell_type": "code",
   "execution_count": 57,
   "id": "05f16d9f",
   "metadata": {},
   "outputs": [
    {
     "data": {
      "image/png": "[encoded data removed]",
      "text/plain": [
       "<Figure size 1332x756 with 1 Axes>"
      ]
     },
     "metadata": {
      "needs_background": "light"
     },
     "output_type": "display_data"
    }
   ],
   "source": [
    "# visualize the matrix\n",
    "plt.matshow(coMatrix, fignum=1000, cmap=plt.cm.binary)\n",
    "plt.gcf().set_size_inches(18.5, 10.5)\n",
    "plt.show()"
   ]
  },
  {
   "cell_type": "code",
   "execution_count": 58,
   "id": "790c13f5",
   "metadata": {},
   "outputs": [],
   "source": [
    "def co_occurrance_similarity(item_id, coocurrance, ntop=10):\n",
    "    \"\"\"\n",
    "    Returns the top-N most similar items to a given one, based on the coocurrance matrix\n",
    "    \n",
    "    :param item_id: id of input item\n",
    "    :param cooccurrance: 2-dim numpy array with the co-occurance matrix\n",
    "    :param ntop: number of items to be retrieved\n",
    "    \n",
    "    :return top-N most similar items to the given item_id\n",
    "    \"\"\"\n",
    "    similarItems = coocurrance[item_id, :]\n",
    "    # return indeces of most similar items in descendign order\n",
    "    mostSimilar = np.argsort(similarItems)[::-1]\n",
    "    # remove the first element, as it is the item itslef\n",
    "    mostSimilar = mostSimilar[1:ntop+1]\n",
    "    \n",
    "    # return a numpy array with the index (first column) and the value (second column) of the most similar items\n",
    "    return np.stack((mostSimilar, similarItems[mostSimilar])).T"
   ]
  },
  {
   "cell_type": "code",
   "execution_count": 59,
   "id": "9c4af4eb",
   "metadata": {},
   "outputs": [],
   "source": [
    "def co_occurrance_recommendation(items_id, cooccurrance, ntop=10):\n",
    "    \"\"\"\n",
    "    Obtain the list of ntop recommendations based on a list of items (user history of views)\n",
    "    \n",
    "    :param items_id: list of items ids\n",
    "    :param coocurrence: co-ocurrence matrix (numpy 2-dim array)\n",
    "    :param ntop: top-K items to be retrieved\n",
    "    \n",
    "    :return list of ntop items recommended\n",
    "    \"\"\"\n",
    "    # put together all the similar items and its value. For this, use np.vstack, wich stacks one array after \n",
    "    # another (row wise)\n",
    "    list_sim_items = np.vstack([co_occurrance_similarity(id_, cooccurrance, ntop) for id_ in items_id])\n",
    "    # Group by id and take the maximum frquency to remove duplicates\n",
    "    largest_freq = pd.DataFrame(list_sim_items, columns=['id', 'freq']).groupby('id').agg(max).reset_index()\n",
    "    \n",
    "    # sort by value in descending order\n",
    "    sorted_list = largest_freq.sort_values(by='freq', ascending=False)\n",
    "    \n",
    "    # get the top N\n",
    "    out = sorted_list.values[:ntop, 0]\n",
    "    return out"
   ]
  },
  {
   "cell_type": "code",
   "execution_count": 60,
   "id": "0ebb6a9d",
   "metadata": {},
   "outputs": [
    {
     "data": {
      "text/html": [
       "<div>\n",
       "<style scoped>\n",
       "    .dataframe tbody tr th:only-of-type {\n",
       "        vertical-align: middle;\n",
       "    }\n",
       "\n",
       "    .dataframe tbody tr th {\n",
       "        vertical-align: top;\n",
       "    }\n",
       "\n",
       "    .dataframe thead th {\n",
       "        text-align: right;\n",
       "    }\n",
       "</style>\n",
       "<table border=\"1\" class=\"dataframe\">\n",
       "  <thead>\n",
       "    <tr style=\"text-align: right;\">\n",
       "      <th></th>\n",
       "      <th>user_id</th>\n",
       "      <th>item_id</th>\n",
       "    </tr>\n",
       "  </thead>\n",
       "  <tbody>\n",
       "    <tr>\n",
       "      <th>0</th>\n",
       "      <td>0</td>\n",
       "      <td>[276, 308, 192, 300, 100, 6, 391, 388, 287, 10...</td>\n",
       "    </tr>\n",
       "    <tr>\n",
       "      <th>1</th>\n",
       "      <td>1</td>\n",
       "      <td>[513, 411, 258, 650, 615, 294, 202, 77, 171, 6...</td>\n",
       "    </tr>\n",
       "    <tr>\n",
       "      <th>2</th>\n",
       "      <td>2</td>\n",
       "      <td>[791, 751, 360, 795, 629, 799, 763, 758, 725, ...</td>\n",
       "    </tr>\n",
       "    <tr>\n",
       "      <th>3</th>\n",
       "      <td>3</td>\n",
       "      <td>[823, 409, 157, 5, 369, 843, 591, 876, 877, 84...</td>\n",
       "    </tr>\n",
       "    <tr>\n",
       "      <th>4</th>\n",
       "      <td>4</td>\n",
       "      <td>[375, 903, 941, 939, 227, 957, 232, 947, 148, ...</td>\n",
       "    </tr>\n",
       "  </tbody>\n",
       "</table>\n",
       "</div>"
      ],
      "text/plain": [
       "   user_id                                            item_id\n",
       "0        0  [276, 308, 192, 300, 100, 6, 391, 388, 287, 10...\n",
       "1        1  [513, 411, 258, 650, 615, 294, 202, 77, 171, 6...\n",
       "2        2  [791, 751, 360, 795, 629, 799, 763, 758, 725, ...\n",
       "3        3  [823, 409, 157, 5, 369, 843, 591, 876, 877, 84...\n",
       "4        4  [375, 903, 941, 939, 227, 957, 232, 947, 148, ..."
      ]
     },
     "execution_count": 60,
     "metadata": {},
     "output_type": "execute_result"
    }
   ],
   "source": [
    "# get users in train with their movies\n",
    "trainUsersGrouped = train.groupby('user_id')['item_id'].apply(list).reset_index()\n",
    "trainUsersGrouped.head()"
   ]
  },
  {
   "cell_type": "code",
   "execution_count": 61,
   "id": "d8ab5c34",
   "metadata": {},
   "outputs": [
    {
     "data": {
      "text/plain": [
       "0    [195.0, 55.0, 51.0, 5.0, 70.0, 242.0, 93.0, 44...\n",
       "1    [195.0, 51.0, 5.0, 70.0, 55.0, 93.0, 242.0, 15...\n",
       "2    [51.0, 195.0, 70.0, 55.0, 44.0, 5.0, 93.0, 15....\n",
       "3    [70.0, 55.0, 195.0, 51.0, 5.0, 242.0, 93.0, 44...\n",
       "4    [70.0, 51.0, 242.0, 5.0, 55.0, 148.0, 195.0, 1...\n",
       "Name: item_id, dtype: object"
      ]
     },
     "execution_count": 61,
     "metadata": {},
     "output_type": "execute_result"
    }
   ],
   "source": [
    "Ntop = 20\n",
    "# Get the recommendations for all users using the apply method\n",
    "predictions = trainUsersGrouped.item_id.apply(lambda x: co_occurrance_recommendation(x, coMatrix, Ntop))\n",
    "predictions.head()"
   ]
  },
  {
   "cell_type": "code",
   "execution_count": 62,
   "id": "8f155aa7",
   "metadata": {},
   "outputs": [
    {
     "data": {
      "text/html": [
       "<div>\n",
       "<style scoped>\n",
       "    .dataframe tbody tr th:only-of-type {\n",
       "        vertical-align: middle;\n",
       "    }\n",
       "\n",
       "    .dataframe tbody tr th {\n",
       "        vertical-align: top;\n",
       "    }\n",
       "\n",
       "    .dataframe thead th {\n",
       "        text-align: right;\n",
       "    }\n",
       "</style>\n",
       "<table border=\"1\" class=\"dataframe\">\n",
       "  <thead>\n",
       "    <tr style=\"text-align: right;\">\n",
       "      <th></th>\n",
       "      <th>user_id</th>\n",
       "      <th>item_id</th>\n",
       "    </tr>\n",
       "  </thead>\n",
       "  <tbody>\n",
       "    <tr>\n",
       "      <th>0</th>\n",
       "      <td>0</td>\n",
       "      <td>[158, 317, 31, 122, 167, 63, 43, 18, 327, 256,...</td>\n",
       "    </tr>\n",
       "    <tr>\n",
       "      <th>1</th>\n",
       "      <td>1</td>\n",
       "      <td>[548, 661, 578, 276, 611, 544, 454, 472, 689, ...</td>\n",
       "    </tr>\n",
       "    <tr>\n",
       "      <th>2</th>\n",
       "      <td>2</td>\n",
       "      <td>[163, 768, 157, 329, 346, 802, 781, 797, 455, ...</td>\n",
       "    </tr>\n",
       "    <tr>\n",
       "      <th>3</th>\n",
       "      <td>3</td>\n",
       "      <td>[870, 155, 824, 432, 599, 888, 829, 156, 868, ...</td>\n",
       "    </tr>\n",
       "    <tr>\n",
       "      <th>4</th>\n",
       "      <td>4</td>\n",
       "      <td>[893, 479, 325, 944, 959, 951, 361, 917, 922, ...</td>\n",
       "    </tr>\n",
       "  </tbody>\n",
       "</table>\n",
       "</div>"
      ],
      "text/plain": [
       "   user_id                                            item_id\n",
       "0        0  [158, 317, 31, 122, 167, 63, 43, 18, 327, 256,...\n",
       "1        1  [548, 661, 578, 276, 611, 544, 454, 472, 689, ...\n",
       "2        2  [163, 768, 157, 329, 346, 802, 781, 797, 455, ...\n",
       "3        3  [870, 155, 824, 432, 599, 888, 829, 156, 868, ...\n",
       "4        4  [893, 479, 325, 944, 959, 951, 361, 917, 922, ..."
      ]
     },
     "execution_count": 62,
     "metadata": {},
     "output_type": "execute_result"
    }
   ],
   "source": [
    "# get users in test with their movies\n",
    "testUsersGrouped = test.groupby('user_id')['item_id'].apply(list).reset_index()\n",
    "testUsersGrouped.head()"
   ]
  },
  {
   "cell_type": "code",
   "execution_count": 63,
   "id": "717a0ab1",
   "metadata": {},
   "outputs": [
    {
     "name": "stdout",
     "output_type": "stream",
     "text": [
      "******\n",
      "Seen items: \n",
      "['Homesteaders', 'Star Wars PocketModel TCG', 'Aton', 'Fresco', 'Istanbul', 'Citadels', 'Black Vienna', 'Alchemists', 'T.I.M.E Stories', 'Power Grid', 'Castles of Mad King Ludwig', 'Heads of State', 'Innovation', \"Odin's Ravens\", 'Chicken Cha Cha Cha', 'Casino Hot Dog', 'A Feast for Odin', 'To Court the King', 'Terraforming Mars', 'Thebes', 'Roads & Boats', 'Progress: Evolution of Technology', \"Stick 'Em\", 'Relationship Tightrope', 'Mage Knight Board Game', 'Cartographers', \"King's Breakfast\", 'Wizard', 'Snorta!', 'Halli Galli', 'Machi Koro', 'Felicity: The Cat in the Sack', \"The Werewolves of Miller's Hollow\", 'Mouse Chaos', \"Who's the Ass?\", 'Weilong', 'Ora et Labora', 'Richelieu', \"Aladdin's Dragons\", 'Terra Mystica', 'Labyrinth', 'Super Motherload', 'Great Western Trail', 'No Thanks!', 'Galaxy Trucker', 'Exit: The Game – The Secret Lab', 'Age of Steam', 'For Sale', 'Union Pacific', 'Ground Floor', 'Android: Netrunner', 'Ra', 'The Lord of the Rings: The Fellowship of the Ring Deck-Building Game', 'Tac Tac Jack', 'Seasons', 'Coup', 'Mykerinos', 'Century: Golem Edition', 'Spyrium', 'Ziegen Kriegen', 'Love Letter', 'Frantic Frankfurt', 'Hanabi', 'My First BrainBox', 'Thunderstone Advance: Worlds Collide', 'GiftTRAP', 'Sluff Off!', 'Monopoly: Here and Now', 'MicroMacro: Crime City', 'UNO', 'Concordia', \"You're Bluffing!\", \"Frank's Zoo\", 'Marbles', 'Emerald', 'Spooky Stairs', 'Balloon Cup', 'Troyes', 'Concept', 'Gulo Gulo', 'Stone Age', 'Gear & Piston', 'Tribune: Primus Inter Pares', 'Dominion', 'The 7th Continent', 'Peloponnes']\n",
      "Recommended items: \n",
      "['Love Letter', 'Catan', 'Carcassonne', '7 Wonders', 'Codenames', 'Pandemic', 'Dominion', 'Bohnanza', 'Lost Cities', 'Agricola', 'The Castles of Burgundy', 'Ticket to Ride', 'Power Grid', 'Hanabi', 'Race for the Galaxy', 'Citadels', 'Splendor', 'Puerto Rico', '7 Wonders Duel', 'Azul']\n",
      "******\n",
      "Seen items: \n",
      "['Jonathan Strange & Mr Norrell: A Board Game of English Magic', 'Surviving: One month in', 'Meuterer', 'Rhino Hero', 'Patchwork', 'Israeli Independence: The First Arab-Israeli War', 'Cash-a-Catch', 'Dancing Eggs', 'Ticket to Ride: Europe', 'Dark Minions', 'Mundus Novus', '878 Vikings: Invasions of England', 'Squad Seven', 'Factory Fun', 'Cloud 9', 'Battleground: Crossbows & Catapults War Chest Starter Set', 'Qwixx', 'Basari', 'Chunky Fighters', 'Split Personality', 'Dungeon Twister', 'Marvel Dice Masters: Avengers vs. X-Men', 'Mint Works', \"Owner's Choice\", 'Keltis: Das Würfelspiel', 'Micro Space Empire', 'Khet: The Laser Game', 'Commands & Colors: Napoleonics', 'Antike', 'The Mines of Zavandor', 'Tikal', 'Space Crusade', 'Expedition Sumatra: Dadu Dadu', 'Middle-earth', 'Industrial Waste', '51st State', 'Boomtown', 'The Awful Green Things From Outer Space', 'Byzanz', 'Kittenwar', 'Airships', 'San Juan', 'Jenga', 'Sorry! Sliders', 'Prophecy', 'Kingdomino', 'Megastar', 'History of the World', 'Dice Town', 'Ugg-Tect', 'Container', 'Articulate!', 'Apples to Apples: British Isles Edition', 'By Golly!', 'Discoveries: The Journals of Lewis and Clark', 'Modern Art', 'To Court the King', 'Wasabi!', 'Code 777', 'Abaddon', 'Pathfinder Adventure Card Game: Rise of the Runelords – Base Set', \"Rock 'n Roll\", 'Zombology', 'Fürstenfeld', 'Hedbanz for Adults!', 'Maharaja: The Game of Palace Building in India', \"Tinners' Trail\", 'Fire & Axe: A Viking Saga', 'Little Devils', 'Connect Four', 'Glory to Rome', 'Between Two Cities', 'Pandemic', \"Reiner Knizia's Decathlon\", 'Red November', 'Conflict of Heroes: Awakening the Bear! – Russia 1941-42', 'Target Arnhem: Across 6 Bridges', 'Qwirkle']\n",
      "Recommended items: \n",
      "['Love Letter', 'Carcassonne', '7 Wonders', 'Codenames', 'Catan', 'Dominion', 'Pandemic', 'Agricola', 'The Castles of Burgundy', 'Bohnanza', 'Hanabi', 'Power Grid', 'Lost Cities', 'Dominion: Intrigue', 'Race for the Galaxy', 'Splendor', '7 Wonders Duel', 'Azul', 'Puerto Rico', 'Patchwork']\n",
      "******\n",
      "Seen items: \n",
      "['Indonesia', 'Just Desserts', 'Hive', 'Targi', 'The Manhattan Project', 'Shogun Big Box', 'Neuland', 'Rise!', 'Castle Panic', 'Kingdomino', \"Escape the Room: Secret of Dr. Gravely's Retreat\", 'Battle Line', 'Empire Builder', 'Samurai', 'Indigo', 'OddVille', 'High Frontier 4 All', 'Saint Petersburg (Second Edition)', 'Magic Maze', 'Arkwright', 'Big Points', \"Hey, That's My Fish!\", 'Chicago Express', 'One Night Ultimate Werewolf Daybreak', 'Maria', 'Container', 'Die Macher', 'Codenames', 'Patchwork', 'Sekigahara: The Unification of Japan', 'Diamonds: Second Edition', 'The Climbers', 'Coup']\n",
      "Recommended items: \n",
      "['Carcassonne', 'Love Letter', 'Codenames', 'Catan', 'Bohnanza', '7 Wonders', 'Dominion', 'Agricola', 'Pandemic', 'The Castles of Burgundy', 'Power Grid', 'Lost Cities', 'Dominion: Intrigue', 'Race for the Galaxy', 'Puerto Rico', 'Ticket to Ride', 'Splendor', 'Citadels', 'Hanabi', 'No Thanks!']\n",
      "******\n",
      "Seen items: \n",
      "['Space Dealer', 'Heroscape Master Set: Rise of the Valkyrie', \"Aliens: This Time It's War\", 'Battleground', 'Nexus Ops', 'Yomi', 'Battlestar Galactica: The Board Game', 'Heroscape Master Set: Swarm of the Marro', 'Roar-a-Saurus', '2 de Mayo', 'Dancing Eggs', 'The Resistance', 'Citadels', 'Tichu', 'Netrunner', 'A Game of Thrones: The Board Game (Second Edition)', 'War', 'Lord of the Rings: The Confrontation', 'Lost Cities', 'Dungeon Lords', 'Summoner Wars: Master Set', 'Focus', 'Bananagrams']\n",
      "Recommended items: \n",
      "['Codenames', 'Catan', 'Love Letter', 'Carcassonne', '7 Wonders', 'Pandemic', 'Dominion', 'Bohnanza', 'Lost Cities', 'Agricola', 'Hanabi', 'Ticket to Ride', 'The Castles of Burgundy', 'Power Grid', 'Dominion: Intrigue', 'Race for the Galaxy', 'Splendor', 'Citadels', 'Puerto Rico', 'King of Tokyo']\n",
      "******\n",
      "Seen items: \n",
      "['Air, Land, & Sea', 'Dice Town', 'Super Motherload', 'The Search for Planet X', 'Welcome To...', 'Tobago', 'Ticket to Ride', 'Gizmos', 'Just One', 'Pandemic', 'Five Tribes', 'Patchwork', \"World's Fair 1893\", 'Whistle Stop', 'Camel Up (Second Edition)', 'Black Orchestra', 'Fantasy Realms', 'Stockpile', 'Diamant', 'Cinque Terre', 'Ethnos', \"That's Pretty Clever!\", 'Hadara', 'Mr. Jack', 'Mariposas', 'Bruges', 'Queendomino', 'Libertalia']\n",
      "Recommended items: \n",
      "['Codenames', 'Carcassonne', 'Pandemic', '7 Wonders', 'Catan', 'Hanabi', 'Love Letter', 'Agricola', 'Bohnanza', 'Dominion', 'The Castles of Burgundy', 'Lost Cities', 'Power Grid', 'Splendor', 'King of Tokyo', 'Race for the Galaxy', 'Patchwork', '7 Wonders Duel', 'No Thanks!', 'Dixit']\n"
     ]
    }
   ],
   "source": [
    "for (seen, recom) in zip(testUsersGrouped.values[:5, 1], predictions[:5]):\n",
    "    print(\"*\"*6)\n",
    "    print(\"Seen items: \")\n",
    "    print([resample_item_dict[i] for i in seen])\n",
    "    print(\"Recommended items: \")\n",
    "    print([resample_item_dict[i] for i in recom]) #QUITAR ELEMENTOS MOSTRADOS"
   ]
  },
  {
   "cell_type": "code",
   "execution_count": 64,
   "id": "b1ea97e0",
   "metadata": {},
   "outputs": [],
   "source": [
    "topN=30\n",
    "# add a prediction column to train\n",
    "trainUsersGrouped['prediction'] = trainUsersGrouped.item_id.apply(\n",
    "    lambda x: co_occurrance_recommendation(x, coMatrix, topN)\n",
    ")"
   ]
  },
  {
   "cell_type": "code",
   "execution_count": 65,
   "id": "c593a337",
   "metadata": {},
   "outputs": [
    {
     "data": {
      "text/html": [
       "<div>\n",
       "<style scoped>\n",
       "    .dataframe tbody tr th:only-of-type {\n",
       "        vertical-align: middle;\n",
       "    }\n",
       "\n",
       "    .dataframe tbody tr th {\n",
       "        vertical-align: top;\n",
       "    }\n",
       "\n",
       "    .dataframe thead th {\n",
       "        text-align: right;\n",
       "    }\n",
       "</style>\n",
       "<table border=\"1\" class=\"dataframe\">\n",
       "  <thead>\n",
       "    <tr style=\"text-align: right;\">\n",
       "      <th></th>\n",
       "      <th>user_id</th>\n",
       "      <th>item_id</th>\n",
       "      <th>prediction</th>\n",
       "    </tr>\n",
       "  </thead>\n",
       "  <tbody>\n",
       "    <tr>\n",
       "      <th>0</th>\n",
       "      <td>0</td>\n",
       "      <td>[276, 308, 192, 300, 100, 6, 391, 388, 287, 10...</td>\n",
       "      <td>[195.0, 55.0, 51.0, 5.0, 70.0, 242.0, 93.0, 44...</td>\n",
       "    </tr>\n",
       "    <tr>\n",
       "      <th>1</th>\n",
       "      <td>1</td>\n",
       "      <td>[513, 411, 258, 650, 615, 294, 202, 77, 171, 6...</td>\n",
       "      <td>[195.0, 51.0, 5.0, 70.0, 55.0, 93.0, 242.0, 15...</td>\n",
       "    </tr>\n",
       "    <tr>\n",
       "      <th>2</th>\n",
       "      <td>2</td>\n",
       "      <td>[791, 751, 360, 795, 629, 799, 763, 758, 725, ...</td>\n",
       "      <td>[51.0, 195.0, 70.0, 55.0, 44.0, 5.0, 93.0, 15....</td>\n",
       "    </tr>\n",
       "    <tr>\n",
       "      <th>3</th>\n",
       "      <td>3</td>\n",
       "      <td>[823, 409, 157, 5, 369, 843, 591, 876, 877, 84...</td>\n",
       "      <td>[70.0, 55.0, 195.0, 51.0, 5.0, 242.0, 93.0, 44...</td>\n",
       "    </tr>\n",
       "    <tr>\n",
       "      <th>4</th>\n",
       "      <td>4</td>\n",
       "      <td>[375, 903, 941, 939, 227, 957, 232, 947, 148, ...</td>\n",
       "      <td>[70.0, 51.0, 242.0, 5.0, 55.0, 148.0, 195.0, 1...</td>\n",
       "    </tr>\n",
       "  </tbody>\n",
       "</table>\n",
       "</div>"
      ],
      "text/plain": [
       "   user_id                                            item_id  \\\n",
       "0        0  [276, 308, 192, 300, 100, 6, 391, 388, 287, 10...   \n",
       "1        1  [513, 411, 258, 650, 615, 294, 202, 77, 171, 6...   \n",
       "2        2  [791, 751, 360, 795, 629, 799, 763, 758, 725, ...   \n",
       "3        3  [823, 409, 157, 5, 369, 843, 591, 876, 877, 84...   \n",
       "4        4  [375, 903, 941, 939, 227, 957, 232, 947, 148, ...   \n",
       "\n",
       "                                          prediction  \n",
       "0  [195.0, 55.0, 51.0, 5.0, 70.0, 242.0, 93.0, 44...  \n",
       "1  [195.0, 51.0, 5.0, 70.0, 55.0, 93.0, 242.0, 15...  \n",
       "2  [51.0, 195.0, 70.0, 55.0, 44.0, 5.0, 93.0, 15....  \n",
       "3  [70.0, 55.0, 195.0, 51.0, 5.0, 242.0, 93.0, 44...  \n",
       "4  [70.0, 51.0, 242.0, 5.0, 55.0, 148.0, 195.0, 1...  "
      ]
     },
     "execution_count": 65,
     "metadata": {},
     "output_type": "execute_result"
    }
   ],
   "source": [
    "trainUsersGrouped.head()"
   ]
  },
  {
   "cell_type": "code",
   "execution_count": 66,
   "id": "0b217163",
   "metadata": {},
   "outputs": [],
   "source": [
    "# Join the df with train and predictions with the test df\n",
    "joined = pd.merge(trainUsersGrouped, testUsersGrouped, how='inner', on='user_id', suffixes=('_train', '_test'))"
   ]
  },
  {
   "cell_type": "code",
   "execution_count": 67,
   "id": "f64fb02f",
   "metadata": {},
   "outputs": [
    {
     "data": {
      "text/html": [
       "<div>\n",
       "<style scoped>\n",
       "    .dataframe tbody tr th:only-of-type {\n",
       "        vertical-align: middle;\n",
       "    }\n",
       "\n",
       "    .dataframe tbody tr th {\n",
       "        vertical-align: top;\n",
       "    }\n",
       "\n",
       "    .dataframe thead th {\n",
       "        text-align: right;\n",
       "    }\n",
       "</style>\n",
       "<table border=\"1\" class=\"dataframe\">\n",
       "  <thead>\n",
       "    <tr style=\"text-align: right;\">\n",
       "      <th></th>\n",
       "      <th>user_id</th>\n",
       "      <th>item_id_train</th>\n",
       "      <th>prediction</th>\n",
       "      <th>item_id_test</th>\n",
       "    </tr>\n",
       "  </thead>\n",
       "  <tbody>\n",
       "    <tr>\n",
       "      <th>0</th>\n",
       "      <td>0</td>\n",
       "      <td>[276, 308, 192, 300, 100, 6, 391, 388, 287, 10...</td>\n",
       "      <td>[195.0, 55.0, 51.0, 5.0, 70.0, 242.0, 93.0, 44...</td>\n",
       "      <td>[158, 317, 31, 122, 167, 63, 43, 18, 327, 256,...</td>\n",
       "    </tr>\n",
       "    <tr>\n",
       "      <th>1</th>\n",
       "      <td>1</td>\n",
       "      <td>[513, 411, 258, 650, 615, 294, 202, 77, 171, 6...</td>\n",
       "      <td>[195.0, 51.0, 5.0, 70.0, 55.0, 93.0, 242.0, 15...</td>\n",
       "      <td>[548, 661, 578, 276, 611, 544, 454, 472, 689, ...</td>\n",
       "    </tr>\n",
       "    <tr>\n",
       "      <th>2</th>\n",
       "      <td>2</td>\n",
       "      <td>[791, 751, 360, 795, 629, 799, 763, 758, 725, ...</td>\n",
       "      <td>[51.0, 195.0, 70.0, 55.0, 44.0, 5.0, 93.0, 15....</td>\n",
       "      <td>[163, 768, 157, 329, 346, 802, 781, 797, 455, ...</td>\n",
       "    </tr>\n",
       "    <tr>\n",
       "      <th>3</th>\n",
       "      <td>3</td>\n",
       "      <td>[823, 409, 157, 5, 369, 843, 591, 876, 877, 84...</td>\n",
       "      <td>[70.0, 55.0, 195.0, 51.0, 5.0, 242.0, 93.0, 44...</td>\n",
       "      <td>[870, 155, 824, 432, 599, 888, 829, 156, 868, ...</td>\n",
       "    </tr>\n",
       "    <tr>\n",
       "      <th>4</th>\n",
       "      <td>4</td>\n",
       "      <td>[375, 903, 941, 939, 227, 957, 232, 947, 148, ...</td>\n",
       "      <td>[70.0, 51.0, 242.0, 5.0, 55.0, 148.0, 195.0, 1...</td>\n",
       "      <td>[893, 479, 325, 944, 959, 951, 361, 917, 922, ...</td>\n",
       "    </tr>\n",
       "  </tbody>\n",
       "</table>\n",
       "</div>"
      ],
      "text/plain": [
       "   user_id                                      item_id_train  \\\n",
       "0        0  [276, 308, 192, 300, 100, 6, 391, 388, 287, 10...   \n",
       "1        1  [513, 411, 258, 650, 615, 294, 202, 77, 171, 6...   \n",
       "2        2  [791, 751, 360, 795, 629, 799, 763, 758, 725, ...   \n",
       "3        3  [823, 409, 157, 5, 369, 843, 591, 876, 877, 84...   \n",
       "4        4  [375, 903, 941, 939, 227, 957, 232, 947, 148, ...   \n",
       "\n",
       "                                          prediction  \\\n",
       "0  [195.0, 55.0, 51.0, 5.0, 70.0, 242.0, 93.0, 44...   \n",
       "1  [195.0, 51.0, 5.0, 70.0, 55.0, 93.0, 242.0, 15...   \n",
       "2  [51.0, 195.0, 70.0, 55.0, 44.0, 5.0, 93.0, 15....   \n",
       "3  [70.0, 55.0, 195.0, 51.0, 5.0, 242.0, 93.0, 44...   \n",
       "4  [70.0, 51.0, 242.0, 5.0, 55.0, 148.0, 195.0, 1...   \n",
       "\n",
       "                                        item_id_test  \n",
       "0  [158, 317, 31, 122, 167, 63, 43, 18, 327, 256,...  \n",
       "1  [548, 661, 578, 276, 611, 544, 454, 472, 689, ...  \n",
       "2  [163, 768, 157, 329, 346, 802, 781, 797, 455, ...  \n",
       "3  [870, 155, 824, 432, 599, 888, 829, 156, 868, ...  \n",
       "4  [893, 479, 325, 944, 959, 951, 361, 917, 922, ...  "
      ]
     },
     "execution_count": 67,
     "metadata": {},
     "output_type": "execute_result"
    }
   ],
   "source": [
    "joined.head()"
   ]
  },
  {
   "cell_type": "code",
   "execution_count": 68,
   "id": "a9ee052c",
   "metadata": {},
   "outputs": [],
   "source": [
    "def evaluate_recall(topN, trainGrouped, testGrouped, coMatrix, popularity_baseline):\n",
    "    # add a prediction column to train\n",
    "    trainUsersGrouped['prediction'] = trainUsersGrouped.item_id.apply(\n",
    "        lambda x: co_occurrance_recommendation(x, coMatrix, topN)\n",
    "    )\n",
    "    # join with test data\n",
    "    joined = pd.merge(trainUsersGrouped, testUsersGrouped, how='inner', on='user_id', suffixes=('_train', '_test'))\n",
    "    # calculate average recall\n",
    "    recall = joined.apply(lambda l: \n",
    "                 recall_at_n(N=topN, test=l[3], recommended=l[2], train=l[1]), axis=1).mean()\n",
    "    print(\"Co-occurance model: recall@%s=%.3f\"%(topN, recall))\n",
    "    # calculate average recall for the baseline\n",
    "    recall_baseline = joined.apply(lambda l: \n",
    "                 recall_at_n(N=topN, test=l[3], recommended=popularity_baseline, train=l[1]), axis=1).mean()\n",
    "    print(\"Popularity model: recall@%s=%.3f\"%(topN, recall_baseline))    \n",
    "    return recall, recall_baseline"
   ]
  },
  {
   "cell_type": "code",
   "execution_count": 69,
   "id": "0efb635c",
   "metadata": {},
   "outputs": [
    {
     "name": "stdout",
     "output_type": "stream",
     "text": [
      "Co-occurance model: recall@5=0.114\n",
      "Popularity model: recall@5=0.228\n",
      "Co-occurance model: recall@10=0.107\n",
      "Popularity model: recall@10=0.196\n",
      "Co-occurance model: recall@20=0.107\n",
      "Popularity model: recall@20=0.169\n",
      "Co-occurance model: recall@30=0.110\n",
      "Popularity model: recall@30=0.163\n"
     ]
    }
   ],
   "source": [
    "for k in [5,10,20,30]:\n",
    "    evaluate_recall(k, trainUsersGrouped, testUsersGrouped, coMatrix, popularbg[:, 0]);"
   ]
  },
  {
   "cell_type": "code",
   "execution_count": 70,
   "id": "44602e56",
   "metadata": {},
   "outputs": [],
   "source": [
    "## CF ALS"
   ]
  },
  {
   "cell_type": "code",
   "execution_count": 57,
   "id": "b36e37fb",
   "metadata": {},
   "outputs": [],
   "source": [
    "#Create a spark session\n",
    "spark = SparkSession.builder.getOrCreate()"
   ]
  },
  {
   "cell_type": "code",
   "execution_count": 58,
   "id": "5b2fef8a",
   "metadata": {},
   "outputs": [
    {
     "name": "stdout",
     "output_type": "stream",
     "text": [
      "+-------+-------+------+\n",
      "|user_id|item_id|rating|\n",
      "+-------+-------+------+\n",
      "|      0|      0|     0|\n",
      "|      0|      1|     1|\n",
      "|      0|      2|     1|\n",
      "|      0|      3|     1|\n",
      "|      0|      4|     1|\n",
      "+-------+-------+------+\n",
      "only showing top 5 rows\n",
      "\n",
      "+-------+------------------+--------------+\n",
      "|item_id|title             |category      |\n",
      "+-------+------------------+--------------+\n",
      "|747    |Die Macher        |1021,1026,1001|\n",
      "|5896   |Dragonmaster      |1002,1010     |\n",
      "|292    |Samurai           |1009,1035     |\n",
      "|6308   |Tal der Könige    |1050          |\n",
      "|15364  |Mare Mediterraneum|1015,1008     |\n",
      "+-------+------------------+--------------+\n",
      "only showing top 5 rows\n",
      "\n"
     ]
    }
   ],
   "source": [
    "#Load data\n",
    "\n",
    "schema = StructType(\n",
    "    (\n",
    "        StructField(\"user_id\", IntegerType()),\n",
    "        StructField(\"item_id\", IntegerType()),\n",
    "        StructField(\"rating\", IntegerType()),\n",
    "    )\n",
    ")\n",
    "\n",
    "df_ratings = spark.createDataFrame(dfratings, schema=schema)\n",
    "df_ratings.show(5)\n",
    "\n",
    "schema = StructType(\n",
    "    (\n",
    "        StructField(\"item_id\", IntegerType()),\n",
    "        StructField(\"title\", StringType()),\n",
    "        StructField(\"category\", StringType()),\n",
    "    )\n",
    ")\n",
    "\n",
    "\n",
    "df_games = spark.createDataFrame(dfgames, schema=schema)\n",
    "df_games.show(5, False)\n"
   ]
  },
  {
   "cell_type": "code",
   "execution_count": 59,
   "id": "2c8ebf82",
   "metadata": {},
   "outputs": [
    {
     "name": "stdout",
     "output_type": "stream",
     "text": [
      "The ratings dataframe is  99.19% empty.\n"
     ]
    }
   ],
   "source": [
    "# Count the total number of ratings in the dataset\n",
    "numerator = df_ratings.select(\"rating\").count()\n",
    "\n",
    "# Count the number of distinct user_id and distinct item_id\n",
    "num_users = df_ratings.select(\"user_id\").distinct().count()\n",
    "num_movies = df_ratings.select(\"item_id\").distinct().count()\n",
    "\n",
    "# Set the denominator equal to the number of users multiplied by the number of movies\n",
    "denominator = num_users * num_movies\n",
    "\n",
    "# Divide the numerator by the denominator\n",
    "sparsity = (1.0 - (numerator *1.0)/denominator)*100\n",
    "print(\"The ratings dataframe is \", \"%.2f\" % sparsity + \"% empty.\")"
   ]
  },
  {
   "cell_type": "code",
   "execution_count": 60,
   "id": "ef1f5675",
   "metadata": {},
   "outputs": [
    {
     "name": "stdout",
     "output_type": "stream",
     "text": [
      "N train:  671069\n",
      "N test:  167708\n"
     ]
    }
   ],
   "source": [
    "#Split the data using the Spark random \n",
    "# Create test and train set\n",
    "train, test = df_ratings.randomSplit([0.8, 0.2])\n",
    "print (\"N train: \", train.cache().count())\n",
    "print (\"N test: \", test.cache().count())"
   ]
  },
  {
   "cell_type": "code",
   "execution_count": 63,
   "id": "096c978a",
   "metadata": {},
   "outputs": [
    {
     "data": {
      "text/plain": [
       "pyspark.ml.recommendation.ALS"
      ]
     },
     "execution_count": 63,
     "metadata": {},
     "output_type": "execute_result"
    }
   ],
   "source": [
    "# Create ALS model\n",
    "\n",
    "als = ALS(maxIter=10, regParam=0.01, implicitPrefs=True, userCol='user_id', itemCol='item_id', ratingCol='rating', nonnegative=True, coldStartStrategy=\"drop\")\n",
    "\n",
    "# Confirm that a model called \"als\" was created\n",
    "type(als)"
   ]
  },
  {
   "cell_type": "code",
   "execution_count": 53,
   "id": "7cce5714",
   "metadata": {},
   "outputs": [],
   "source": [
    "#Entrenamos el modelo\n",
    "model = rec.fit(train)"
   ]
  },
  {
   "cell_type": "code",
   "execution_count": 26,
   "id": "175ffc55",
   "metadata": {},
   "outputs": [
    {
     "name": "stdout",
     "output_type": "stream",
     "text": [
      "+-------+-------+------+----------+\n",
      "|user_id|item_id|rating|prediction|\n",
      "+-------+-------+------+----------+\n",
      "|    148|    148|     1|0.49233443|\n",
      "|   2659|    148|     1|0.70659417|\n",
      "|    897|    148|     1|0.20125484|\n",
      "|   2563|    148|     1| 1.0463448|\n",
      "|   1903|    148|     1|0.16798037|\n",
      "|   2711|    148|     1| 0.6851307|\n",
      "|    137|    148|     1|0.57401246|\n",
      "|    451|    148|     1| 0.7688921|\n",
      "|   2025|    148|     0| 0.3162124|\n",
      "|   2559|    148|     1|0.72515166|\n",
      "+-------+-------+------+----------+\n",
      "only showing top 10 rows\n",
      "\n"
     ]
    }
   ],
   "source": [
    "#Vemos las predicciones\n",
    "predictions = model.transform(test)\n",
    "predictions.show(10)"
   ]
  },
  {
   "cell_type": "code",
   "execution_count": 27,
   "id": "37b249a2",
   "metadata": {},
   "outputs": [
    {
     "name": "stdout",
     "output_type": "stream",
     "text": [
      "+-------+-------+------+----------+\n",
      "|user_id|item_id|rating|prediction|\n",
      "+-------+-------+------+----------+\n",
      "|     19|     15|     1| 0.5574602|\n",
      "|     19|     17|     0|0.34922522|\n",
      "|     19|     25|     1|0.37511185|\n",
      "|     19|     32|     1| 0.3420337|\n",
      "|     19|     46|     1|0.63626665|\n",
      "+-------+-------+------+----------+\n",
      "only showing top 5 rows\n",
      "\n",
      "+-------+-------+------+----------+\n",
      "|user_id|item_id|rating|prediction|\n",
      "+-------+-------+------+----------+\n",
      "|     19|    813|     1| 0.7707203|\n",
      "|     19|    763|     1|0.75096744|\n",
      "|     19|    611|     1|  0.676671|\n",
      "|     19|     89|     1| 0.6608597|\n",
      "|     19|    164|     1|0.65912455|\n",
      "+-------+-------+------+----------+\n",
      "only showing top 5 rows\n",
      "\n"
     ]
    }
   ],
   "source": [
    "'''Escogemos un usuario y rankeamos las predicciones'''\n",
    "\n",
    "user = 19\n",
    "\n",
    "predictions.filter(F.col('user_id') == user)\\\n",
    "                 .orderBy(F.col('item_id')).show(5)  \n",
    "\n",
    "predictions.filter(F.col('user_id') == user)\\\n",
    "                 .orderBy(F.col('prediction'), ascending=False).show(5)"
   ]
  },
  {
   "cell_type": "code",
   "execution_count": 28,
   "id": "ebe331b1",
   "metadata": {},
   "outputs": [],
   "source": [
    "# Evaluacion\n",
    "evaluator = RegressionEvaluator(metricName=\"rmse\", labelCol=\"rating\", predictionCol=\"prediction\")"
   ]
  },
  {
   "cell_type": "code",
   "execution_count": 29,
   "id": "5cb6311f",
   "metadata": {},
   "outputs": [
    {
     "name": "stdout",
     "output_type": "stream",
     "text": [
      "Root-mean-square error = 0.6026544877254351\n"
     ]
    }
   ],
   "source": [
    "# Contabilizamos el error\n",
    "rmse = evaluator.evaluate(predictions)\n",
    "print(\"Root-mean-square error = \" + str(rmse))"
   ]
  },
  {
   "cell_type": "code",
   "execution_count": 30,
   "id": "7e348412",
   "metadata": {},
   "outputs": [
    {
     "data": {
      "text/html": [
       "<div>\n",
       "<style scoped>\n",
       "    .dataframe tbody tr th:only-of-type {\n",
       "        vertical-align: middle;\n",
       "    }\n",
       "\n",
       "    .dataframe tbody tr th {\n",
       "        vertical-align: top;\n",
       "    }\n",
       "\n",
       "    .dataframe thead th {\n",
       "        text-align: right;\n",
       "    }\n",
       "</style>\n",
       "<table border=\"1\" class=\"dataframe\">\n",
       "  <thead>\n",
       "    <tr style=\"text-align: right;\">\n",
       "      <th></th>\n",
       "      <th>user_id</th>\n",
       "      <th>item_id</th>\n",
       "      <th>rating</th>\n",
       "      <th>prediction</th>\n",
       "      <th>dif</th>\n",
       "    </tr>\n",
       "  </thead>\n",
       "  <tbody>\n",
       "    <tr>\n",
       "      <th>0</th>\n",
       "      <td>148</td>\n",
       "      <td>148</td>\n",
       "      <td>1</td>\n",
       "      <td>0.492334</td>\n",
       "      <td>0.507666</td>\n",
       "    </tr>\n",
       "    <tr>\n",
       "      <th>1</th>\n",
       "      <td>2659</td>\n",
       "      <td>148</td>\n",
       "      <td>1</td>\n",
       "      <td>0.706594</td>\n",
       "      <td>0.293406</td>\n",
       "    </tr>\n",
       "    <tr>\n",
       "      <th>2</th>\n",
       "      <td>897</td>\n",
       "      <td>148</td>\n",
       "      <td>1</td>\n",
       "      <td>0.201255</td>\n",
       "      <td>0.798745</td>\n",
       "    </tr>\n",
       "    <tr>\n",
       "      <th>3</th>\n",
       "      <td>2563</td>\n",
       "      <td>148</td>\n",
       "      <td>1</td>\n",
       "      <td>1.046345</td>\n",
       "      <td>-0.046345</td>\n",
       "    </tr>\n",
       "    <tr>\n",
       "      <th>4</th>\n",
       "      <td>1903</td>\n",
       "      <td>148</td>\n",
       "      <td>1</td>\n",
       "      <td>0.167980</td>\n",
       "      <td>0.832020</td>\n",
       "    </tr>\n",
       "  </tbody>\n",
       "</table>\n",
       "</div>"
      ],
      "text/plain": [
       "   user_id  item_id  rating  prediction       dif\n",
       "0      148      148       1    0.492334  0.507666\n",
       "1     2659      148       1    0.706594  0.293406\n",
       "2      897      148       1    0.201255  0.798745\n",
       "3     2563      148       1    1.046345 -0.046345\n",
       "4     1903      148       1    0.167980  0.832020"
      ]
     },
     "execution_count": 30,
     "metadata": {},
     "output_type": "execute_result"
    }
   ],
   "source": [
    "# Con este comando creamos una nueva columna que es la diferencia y-y_hat\n",
    "# Y lo pasamos a pandas para verlo en un histograma\n",
    "predicted_ratings = predictions.withColumn('dif', F.col('rating')-F.col('prediction')).toPandas()\n",
    "predicted_ratings.head()"
   ]
  },
  {
   "cell_type": "code",
   "execution_count": 31,
   "id": "c26332b4",
   "metadata": {},
   "outputs": [
    {
     "name": "stdout",
     "output_type": "stream",
     "text": [
      "+-------+----------------------------------------------------------------------------------------+\n",
      "|user_id|recommendations                                                                         |\n",
      "+-------+----------------------------------------------------------------------------------------+\n",
      "|19     |[{4, 0.92307526}, {230, 0.90631086}, {267, 0.8792966}, {72, 0.8702283}, {117, 0.863677}]|\n",
      "+-------+----------------------------------------------------------------------------------------+\n",
      "\n"
     ]
    }
   ],
   "source": [
    "#Realizamos una recomendación\n",
    "'''Spark-ALS nos ofrece también comandos para la generación de recomendaciones'''\n",
    "\n",
    "# Las 5 mejores peliculas para todos los usuarios\n",
    "userRecs = model.recommendForAllUsers(5)\n",
    "\n",
    "# Filtramos para nuestro usuario concreto\n",
    "userRecs.filter(F.col('user_id')==user).show(1,False)"
   ]
  },
  {
   "cell_type": "code",
   "execution_count": 32,
   "id": "4875cdbf",
   "metadata": {},
   "outputs": [],
   "source": [
    "predictions_mod=predictions.select(['user_id','item_id','prediction'])"
   ]
  },
  {
   "cell_type": "code",
   "execution_count": 33,
   "id": "bf825b7b",
   "metadata": {},
   "outputs": [],
   "source": [
    "TOP_K = 10\n",
    "rank_eval = SparkRankingEvaluation(test, predictions_mod, k = TOP_K, col_user=\"user_id\", col_item=\"item_id\", \n",
    "                                    col_rating=\"rating\", col_prediction=\"prediction\", \n",
    "                                    relevancy_method=\"top_k\")"
   ]
  },
  {
   "cell_type": "code",
   "execution_count": 34,
   "id": "5530faf4",
   "metadata": {},
   "outputs": [
    {
     "name": "stdout",
     "output_type": "stream",
     "text": [
      "Model:\tALS\n",
      "Top K:\t10\n",
      "MAP:\t0.360872\n",
      "Recall@K:\t0.360872\n"
     ]
    }
   ],
   "source": [
    "print(\"Model:\\tALS\",\n",
    "      \"Top K:\\t%d\" % rank_eval.k,\n",
    "      \"MAP:\\t%f\" % rank_eval.map_at_k(),\n",
    "      \"Recall@K:\\t%f\" % rank_eval.recall_at_k(), sep='\\n')"
   ]
  },
  {
   "cell_type": "code",
   "execution_count": 65,
   "id": "4ca000d9",
   "metadata": {},
   "outputs": [
    {
     "name": "stdout",
     "output_type": "stream",
     "text": [
      "Num models to be tested:  16\n"
     ]
    }
   ],
   "source": [
    "# Add hyperparameters and their respective values to param_grid\n",
    "param_grid = ParamGridBuilder() \\\n",
    "            .addGrid(als.rank, [10, 50, 100, 150]) \\\n",
    "            .addGrid(als.regParam, [.01, .05, .1, .15]) \\\n",
    "            .build()\n",
    "\n",
    "# Define evaluator as RMSE and print length of evaluator\n",
    "evaluator = RegressionEvaluator(metricName=\"rmse\", labelCol=\"rating\", predictionCol=\"prediction\") \n",
    "print (\"Num models to be tested: \", len(param_grid))"
   ]
  },
  {
   "cell_type": "code",
   "execution_count": 66,
   "id": "24f9aa77",
   "metadata": {},
   "outputs": [
    {
     "name": "stdout",
     "output_type": "stream",
     "text": [
      "CrossValidator_2a9eba44be99\n"
     ]
    }
   ],
   "source": [
    "# Build cross validation using CrossValidator\n",
    "cv = CrossValidator(estimator=als, estimatorParamMaps=param_grid, evaluator=evaluator, numFolds=5)\n",
    "\n",
    "# Confirm cv was built\n",
    "print(cv)"
   ]
  },
  {
   "cell_type": "code",
   "execution_count": 67,
   "id": "352b78ab",
   "metadata": {},
   "outputs": [],
   "source": [
    "#Fit cross validator to the 'train' dataset\n",
    "model = cv.fit(train)\n",
    "\n",
    "#Extract best model from the cv model above\n",
    "best_model = model.bestModel"
   ]
  },
  {
   "cell_type": "code",
   "execution_count": 68,
   "id": "d187ce14",
   "metadata": {},
   "outputs": [
    {
     "name": "stdout",
     "output_type": "stream",
     "text": [
      "<class 'pyspark.ml.recommendation.ALSModel'>\n",
      "**Best Model**\n",
      "  Rank: 50\n",
      "  MaxIter: 10\n",
      "  RegParam: 0.05\n"
     ]
    }
   ],
   "source": [
    "# Print best_model\n",
    "print(type(best_model))\n",
    "\n",
    "# Complete the code below to extract the ALS model parameters\n",
    "print(\"**Best Model**\")\n",
    "\n",
    "# # Print \"Rank\"\n",
    "print(\"  Rank:\", best_model._java_obj.parent().getRank())\n",
    "\n",
    "# Print \"MaxIter\"\n",
    "print(\"  MaxIter:\", best_model._java_obj.parent().getMaxIter())\n",
    "\n",
    "# Print \"RegParam\"\n",
    "print(\"  RegParam:\", best_model._java_obj.parent().getRegParam())"
   ]
  },
  {
   "cell_type": "code",
   "execution_count": 69,
   "id": "f02fb882",
   "metadata": {},
   "outputs": [
    {
     "name": "stdout",
     "output_type": "stream",
     "text": [
      "0.5921042965115944\n"
     ]
    }
   ],
   "source": [
    "# View the predictions\n",
    "test_predictions = best_model.transform(test)\n",
    "RMSE = evaluator.evaluate(test_predictions)\n",
    "print(RMSE)"
   ]
  },
  {
   "cell_type": "code",
   "execution_count": 70,
   "id": "89c83580",
   "metadata": {},
   "outputs": [
    {
     "name": "stdout",
     "output_type": "stream",
     "text": [
      "+-------+-------+------+-----------+\n",
      "|user_id|item_id|rating| prediction|\n",
      "+-------+-------+------+-----------+\n",
      "|    471|    148|     0| 0.32745484|\n",
      "|    623|    148|     0| 0.44435087|\n",
      "|   1483|    148|     1|  0.2893263|\n",
      "|   2563|    148|     1|  0.7584599|\n",
      "|   1903|    148|     1| 0.31276107|\n",
      "|   2393|    148|     1|  0.5582134|\n",
      "|    451|    148|     1|  0.5679011|\n",
      "|    458|    148|     1|  0.3155648|\n",
      "|   2559|    148|     1| 0.77482486|\n",
      "|   1160|    148|     1| 0.50187963|\n",
      "|    876|    148|     0|0.012221444|\n",
      "|   1561|    148|     0| 0.10799132|\n",
      "|   2606|    148|     0|0.024414225|\n",
      "|    193|    148|     1| 0.59238964|\n",
      "|   1198|    148|     1| 0.31219745|\n",
      "|    772|    148|     1|  0.7043559|\n",
      "|   1165|    148|     1|  0.4306594|\n",
      "|    939|    148|     0| 0.18208447|\n",
      "|   2212|    148|     1| 0.56155235|\n",
      "|    210|    148|     0| 0.44231597|\n",
      "+-------+-------+------+-----------+\n",
      "only showing top 20 rows\n",
      "\n"
     ]
    }
   ],
   "source": [
    "test_predictions.show()"
   ]
  },
  {
   "cell_type": "code",
   "execution_count": 71,
   "id": "d30d9ad4",
   "metadata": {},
   "outputs": [
    {
     "name": "stdout",
     "output_type": "stream",
     "text": [
      "+-------+--------------------+\n",
      "|user_id|     recommendations|\n",
      "+-------+--------------------+\n",
      "|   1580|[{695, 0.9943312}...|\n",
      "|    471|[{51, 0.948475}, ...|\n",
      "|   1591|[{13387, 0.908214...|\n",
      "|   1342|[{695, 0.8480971}...|\n",
      "|   2122|[{268, 0.4755702}...|\n",
      "|   2142|[{51, 0.9345267},...|\n",
      "|    463|[{51, 0.8376768},...|\n",
      "|    833|[{333, 0.6670768}...|\n",
      "|   1645|[{338, 0.46673802...|\n",
      "|    496|[{2556, 0.4003179...|\n",
      "+-------+--------------------+\n",
      "\n"
     ]
    }
   ],
   "source": [
    "# Generate n Recommendations for all users\n",
    "nrecommendations = best_model.recommendForAllUsers(10)\n",
    "nrecommendations.limit(10).show()\n",
    "\n"
   ]
  },
  {
   "cell_type": "code",
   "execution_count": 36,
   "id": "8136304d",
   "metadata": {},
   "outputs": [
    {
     "name": "stdout",
     "output_type": "stream",
     "text": [
      "The root mean squared error for our model is: 0.5937931557579081\n"
     ]
    }
   ],
   "source": [
    "#Original\n",
    "'''Este proceso nos permite encontrar los hiperparámetros que mejor se ajustan a una predicción.\n",
    "   Este proceso, requiere ejecutar varias repeticiones del mismo modelo, por lo que consume tiempo \n",
    "   de computación.'''\n",
    "\n",
    "\n",
    "from pyspark.ml.tuning import CrossValidator, ParamGridBuilder\n",
    "\n",
    "(trainingRatings, validationRatings) = df_ratings.randomSplit([80.0, 20.0])\n",
    "\n",
    "evaluator = RegressionEvaluator(metricName='rmse', labelCol='rating', predictionCol='prediction')\n",
    "\n",
    "paramGrid = ParamGridBuilder()\\\n",
    "                .addGrid(rec.rank, [5, 7, 10,20])\\\n",
    "                .addGrid(rec.maxIter, [20])\\\n",
    "                .addGrid(rec.regParam, [0.05, 0.1, 0.5]).build()\n",
    "\n",
    "crossval = CrossValidator(estimator=rec, estimatorParamMaps=paramGrid, evaluator=evaluator, numFolds=10)\n",
    "cvModel = crossval.fit(trainingRatings)\n",
    "predictions = cvModel.transform(validationRatings)\n",
    "\n",
    "print('The root mean squared error for our model is: {}'.format(evaluator.evaluate(predictions.na.drop())))"
   ]
  },
  {
   "cell_type": "code",
   "execution_count": 37,
   "id": "634d0150",
   "metadata": {},
   "outputs": [],
   "source": [
    "best_model=cvModel.bestModel"
   ]
  },
  {
   "cell_type": "code",
   "execution_count": 38,
   "id": "377c1631",
   "metadata": {},
   "outputs": [],
   "source": [
    "path='/DATA'\n",
    "best_model.write().overwrite().save(\"DATA/cvModel_bm\")"
   ]
  },
  {
   "cell_type": "code",
   "execution_count": 39,
   "id": "ae97879c",
   "metadata": {},
   "outputs": [
    {
     "name": "stdout",
     "output_type": "stream",
     "text": [
      "+-------+-------+------+----------+\n",
      "|user_id|item_id|rating|prediction|\n",
      "+-------+-------+------+----------+\n",
      "|    540|    148|     1|0.36857814|\n",
      "|    623|    148|     0|0.36535367|\n",
      "|    897|    148|     1|  0.279617|\n",
      "|   1483|    148|     1|0.32156843|\n",
      "|   1270|    148|     1| 0.4920526|\n",
      "|   2443|    148|     0| 0.4285359|\n",
      "|   2249|    148|     1|  0.703079|\n",
      "|   2655|    148|     1|0.62475765|\n",
      "|   2656|    148|     1|0.61361897|\n",
      "|    481|    148|     0| 0.1527525|\n",
      "|   2559|    148|     1|0.86215734|\n",
      "|   2542|    148|     0|       0.0|\n",
      "|    513|    148|     1|0.41648152|\n",
      "|    918|    148|     1|  0.779799|\n",
      "|   1005|    148|     0| 0.2862034|\n",
      "|    857|    148|     1|0.24529451|\n",
      "|    593|    148|     0| 0.0838884|\n",
      "|    108|    148|     1| 0.5539411|\n",
      "|   1496|    148|     1| 0.1398341|\n",
      "|   2079|    148|     1|0.14132321|\n",
      "+-------+-------+------+----------+\n",
      "only showing top 20 rows\n",
      "\n"
     ]
    }
   ],
   "source": [
    "predictions.show()"
   ]
  },
  {
   "cell_type": "code",
   "execution_count": 40,
   "id": "9b2727e3",
   "metadata": {},
   "outputs": [],
   "source": [
    "predictions = best_model.transform(validationRatings)\n",
    "predictions_cv_mod=predictions.select(['user_id','item_id','prediction'])"
   ]
  },
  {
   "cell_type": "code",
   "execution_count": 41,
   "id": "eb0ba754",
   "metadata": {},
   "outputs": [
    {
     "name": "stdout",
     "output_type": "stream",
     "text": [
      "+-------+--------------------+\n",
      "|user_id|     recommendations|\n",
      "+-------+--------------------+\n",
      "|   1580|[{599, 0.8959003}...|\n",
      "|    471|[{51, 0.81848836}...|\n",
      "|   1591|[{799, 0.8634317}...|\n",
      "|   1342|[{46, 0.7212596},...|\n",
      "|   2122|[{695, 0.4814201}...|\n",
      "+-------+--------------------+\n",
      "only showing top 5 rows\n",
      "\n",
      "+-------+--------------------+\n",
      "|item_id|     recommendations|\n",
      "+-------+--------------------+\n",
      "|    148|[{360, 1.0213879}...|\n",
      "|    463|[{1310, 0.6151616...|\n",
      "|    471|[{1333, 0.1104690...|\n",
      "|    496|[{769, 0.02548305...|\n",
      "|    833|[{1253, 0.7430839...|\n",
      "+-------+--------------------+\n",
      "only showing top 5 rows\n",
      "\n"
     ]
    }
   ],
   "source": [
    "# Generate top 10 digital music recommendations for each user\n",
    "userRecs = cvModel.bestModel.recommendForAllUsers(10)\n",
    "# Generate top 10 user recommendations for each digital music\n",
    "boardGameRecs = cvModel.bestModel.recommendForAllItems(10)\n",
    "\n",
    "userRecs.show(5)\n",
    "boardGameRecs.show(5)"
   ]
  },
  {
   "cell_type": "code",
   "execution_count": 42,
   "id": "641e5eda",
   "metadata": {},
   "outputs": [
    {
     "ename": "NameError",
     "evalue": "name 'predictionscv_mod' is not defined",
     "output_type": "error",
     "traceback": [
      "\u001b[0;31m---------------------------------------------------------------------------\u001b[0m",
      "\u001b[0;31mNameError\u001b[0m                                 Traceback (most recent call last)",
      "\u001b[0;32m<ipython-input-42-f8d8c0bf8500>\u001b[0m in \u001b[0;36m<module>\u001b[0;34m\u001b[0m\n\u001b[1;32m      1\u001b[0m \u001b[0mTOP_K\u001b[0m \u001b[0;34m=\u001b[0m \u001b[0;36m10\u001b[0m\u001b[0;34m\u001b[0m\u001b[0;34m\u001b[0m\u001b[0m\n\u001b[0;32m----> 2\u001b[0;31m rank_eval2 = SparkRankingEvaluation(validationRatings, predictionscv_mod, k = TOP_K, col_user=\"user_id\", col_item=\"item_id\", \n\u001b[0m\u001b[1;32m      3\u001b[0m                                     \u001b[0mcol_rating\u001b[0m\u001b[0;34m=\u001b[0m\u001b[0;34m\"rating\"\u001b[0m\u001b[0;34m,\u001b[0m \u001b[0mcol_prediction\u001b[0m\u001b[0;34m=\u001b[0m\u001b[0;34m\"prediction\"\u001b[0m\u001b[0;34m,\u001b[0m\u001b[0;34m\u001b[0m\u001b[0;34m\u001b[0m\u001b[0m\n\u001b[1;32m      4\u001b[0m                                     relevancy_method=\"top_k\")\n",
      "\u001b[0;31mNameError\u001b[0m: name 'predictionscv_mod' is not defined"
     ]
    }
   ],
   "source": [
    "TOP_K = 10\n",
    "rank_eval2 = SparkRankingEvaluation(validationRatings, predictionscv_mod, k = TOP_K, col_user=\"user_id\", col_item=\"item_id\", \n",
    "                                    col_rating=\"rating\", col_prediction=\"prediction\", \n",
    "                                    relevancy_method=\"top_k\")"
   ]
  },
  {
   "cell_type": "code",
   "execution_count": null,
   "id": "fb3ab82b",
   "metadata": {},
   "outputs": [],
   "source": [
    "print(\"Model:\\tALS\",\n",
    "      \"Top K:\\t%d\" % rank_eval2.k,\n",
    "      \"MAP:\\t%f\" % rank_eval2.map_at_k(),\n",
    "      \"Recall@K:\\t%f\" % rank_eval2.recall_at_k(), sep='\\n')"
   ]
  },
  {
   "cell_type": "code",
   "execution_count": null,
   "id": "6996cb18",
   "metadata": {},
   "outputs": [],
   "source": [
    "boardGameRecs_pandas = cvModel.bestModel.recommendForAllItems(10).toPandas()\n",
    "userRecs_pandas = cvModel.bestModel.recommendForAllUsers(10).toPandas()\n",
    "boardGameRecs_pandas['recommendations'][0]\n",
    "userRecs_pandas['recommendations'][3]"
   ]
  },
  {
   "cell_type": "code",
   "execution_count": null,
   "id": "c447c777",
   "metadata": {},
   "outputs": [],
   "source": [
    "recs=userRecs[0]"
   ]
  },
  {
   "cell_type": "code",
   "execution_count": null,
   "id": "f0d8bc38",
   "metadata": {},
   "outputs": [],
   "source": [
    "def get_recs_for_user(recs):\n",
    "    #Recs should be for a specific user\n",
    "    recs=recs.select(\"recommendations.item_id\",\"recommendations.ratings\")\n",
    "    items=recs.select('item_id').toPandas().iloc[0,0]\n",
    "    ratings=recs.select(\"ratings\").toPandas().iloc[0,0]\n",
    "    rating_matrix=pd.DataFrame(items, columns=['item_id'])\n",
    "    rating_matrix['ratings']=ratings\n",
    "    rating_matrix_ps=sqlContext.createDataFrame(rating_matix)\n",
    "    return rating_matrix_ps"
   ]
  },
  {
   "cell_type": "code",
   "execution_count": null,
   "id": "761773c2",
   "metadata": {},
   "outputs": [],
   "source": []
  },
  {
   "cell_type": "code",
   "execution_count": null,
   "id": "00a75f8f",
   "metadata": {},
   "outputs": [],
   "source": []
  },
  {
   "cell_type": "code",
   "execution_count": null,
   "id": "711caba2",
   "metadata": {},
   "outputs": [],
   "source": []
  },
  {
   "cell_type": "code",
   "execution_count": null,
   "id": "c924e5c1",
   "metadata": {},
   "outputs": [],
   "source": []
  },
  {
   "cell_type": "code",
   "execution_count": null,
   "id": "0521d70e",
   "metadata": {},
   "outputs": [],
   "source": []
  },
  {
   "cell_type": "code",
   "execution_count": null,
   "id": "24e6b8ce",
   "metadata": {},
   "outputs": [],
   "source": []
  },
  {
   "cell_type": "code",
   "execution_count": null,
   "id": "4310c3c8",
   "metadata": {},
   "outputs": [],
   "source": []
  },
  {
   "cell_type": "code",
   "execution_count": null,
   "id": "5de30e05",
   "metadata": {},
   "outputs": [],
   "source": []
  },
  {
   "cell_type": "code",
   "execution_count": null,
   "id": "76e1193c",
   "metadata": {},
   "outputs": [],
   "source": []
  },
  {
   "cell_type": "code",
   "execution_count": 83,
   "id": "2941408e",
   "metadata": {},
   "outputs": [],
   "source": [
    "sameModel = cvModel.load(\"DATA/cvModel\")"
   ]
  },
  {
   "cell_type": "code",
   "execution_count": 85,
   "id": "f8f86077",
   "metadata": {},
   "outputs": [],
   "source": [
    "\n",
    "spark.stop()"
   ]
  },
  {
   "cell_type": "code",
   "execution_count": null,
   "id": "89698d10",
   "metadata": {},
   "outputs": [],
   "source": []
  }
 ],
 "metadata": {
  "kernelspec": {
   "display_name": "Python 3",
   "language": "python",
   "name": "python3"
  },
  "language_info": {
   "codemirror_mode": {
    "name": "ipython",
    "version": 3
   },
   "file_extension": ".py",
   "mimetype": "text/x-python",
   "name": "python",
   "nbconvert_exporter": "python",
   "pygments_lexer": "ipython3",
   "version": "3.9.5"
  }
 },
 "nbformat": 4,
 "nbformat_minor": 5
}
