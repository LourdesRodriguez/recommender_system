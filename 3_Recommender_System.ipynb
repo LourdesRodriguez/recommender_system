{
 "cells": [
  {
   "cell_type": "code",
   "execution_count": 2,
   "id": "22bb1bef",
   "metadata": {},
   "outputs": [
    {
     "name": "stdout",
     "output_type": "stream",
     "text": [
      "System version: 3.9.5 (default, May 18 2021, 12:31:01) \n",
      "[Clang 10.0.0 ]\n",
      "Spark version: 3.1.2\n"
     ]
    }
   ],
   "source": [
    "import os\n",
    "import glob\n",
    "import pandas as pd\n",
    "import numpy as np\n",
    "\n",
    "from sklearn.metrics.pairwise import cosine_similarity\n",
    "from sklearn.feature_extraction.text import CountVectorizer\n",
    "from sklearn.model_selection import train_test_split\n",
    "\n",
    "import sys\n",
    "import pyspark\n",
    "import pyspark.sql.functions as F\n",
    "from pyspark.sql import SparkSession\n",
    "from pyspark.ml import Pipeline\n",
    "from pyspark.sql.types import StructType, StructField, StringType, DoubleType, IntegerType\n",
    "from pyspark.ml.recommendation import ALS\n",
    "from pyspark.ml.evaluation import RegressionEvaluator\n",
    "# Recall y precision\n",
    "from reco_utils.evaluation.spark_evaluation import SparkRatingEvaluation, SparkRankingEvaluation\n",
    "\n",
    "\n",
    "print(\"System version: {}\".format(sys.version))\n",
    "print(\"Spark version: {}\".format(pyspark.__version__))"
   ]
  },
  {
   "cell_type": "code",
   "execution_count": 2,
   "id": "98abc862",
   "metadata": {},
   "outputs": [],
   "source": [
    "path='./DATA'\n",
    "file = os.path.join(path, \"users_bgs.csv\")"
   ]
  },
  {
   "cell_type": "code",
   "execution_count": 3,
   "id": "80254757",
   "metadata": {},
   "outputs": [
    {
     "data": {
      "text/html": [
       "<div>\n",
       "<style scoped>\n",
       "    .dataframe tbody tr th:only-of-type {\n",
       "        vertical-align: middle;\n",
       "    }\n",
       "\n",
       "    .dataframe tbody tr th {\n",
       "        vertical-align: top;\n",
       "    }\n",
       "\n",
       "    .dataframe thead th {\n",
       "        text-align: right;\n",
       "    }\n",
       "</style>\n",
       "<table border=\"1\" class=\"dataframe\">\n",
       "  <thead>\n",
       "    <tr style=\"text-align: right;\">\n",
       "      <th></th>\n",
       "      <th>u_id</th>\n",
       "      <th>Game</th>\n",
       "      <th>Your Rating</th>\n",
       "      <th>bgg_id</th>\n",
       "      <th>category</th>\n",
       "    </tr>\n",
       "  </thead>\n",
       "  <tbody>\n",
       "    <tr>\n",
       "      <th>0</th>\n",
       "      <td>0</td>\n",
       "      <td>1830: Railways &amp; Robber Barons</td>\n",
       "      <td>-1</td>\n",
       "      <td>421</td>\n",
       "      <td>1021,1034,1011</td>\n",
       "    </tr>\n",
       "    <tr>\n",
       "      <th>1</th>\n",
       "      <td>0</td>\n",
       "      <td>18AL</td>\n",
       "      <td>7</td>\n",
       "      <td>2612</td>\n",
       "      <td>1021,1120,1034,1011</td>\n",
       "    </tr>\n",
       "    <tr>\n",
       "      <th>2</th>\n",
       "      <td>0</td>\n",
       "      <td>2 de Mayo</td>\n",
       "      <td>6</td>\n",
       "      <td>36522</td>\n",
       "      <td>1051,1019</td>\n",
       "    </tr>\n",
       "    <tr>\n",
       "      <th>3</th>\n",
       "      <td>0</td>\n",
       "      <td>23</td>\n",
       "      <td>7</td>\n",
       "      <td>103651</td>\n",
       "      <td>1002</td>\n",
       "    </tr>\n",
       "    <tr>\n",
       "      <th>4</th>\n",
       "      <td>0</td>\n",
       "      <td>6 nimmt!</td>\n",
       "      <td>7</td>\n",
       "      <td>432</td>\n",
       "      <td>1002,1098</td>\n",
       "    </tr>\n",
       "  </tbody>\n",
       "</table>\n",
       "</div>"
      ],
      "text/plain": [
       "   u_id                            Game  Your Rating  bgg_id  \\\n",
       "0     0  1830: Railways & Robber Barons           -1     421   \n",
       "1     0                            18AL            7    2612   \n",
       "2     0                       2 de Mayo            6   36522   \n",
       "3     0                              23            7  103651   \n",
       "4     0                        6 nimmt!            7     432   \n",
       "\n",
       "              category  \n",
       "0       1021,1034,1011  \n",
       "1  1021,1120,1034,1011  \n",
       "2            1051,1019  \n",
       "3                 1002  \n",
       "4            1002,1098  "
      ]
     },
     "execution_count": 3,
     "metadata": {},
     "output_type": "execute_result"
    }
   ],
   "source": [
    "df=pd.read_csv(file, usecols=['u_id','bgg_id','Game','category','Your Rating'], low_memory=False)\n",
    "df.head()"
   ]
  },
  {
   "cell_type": "code",
   "execution_count": 4,
   "id": "6196d1e7",
   "metadata": {},
   "outputs": [],
   "source": [
    "#Transform explicit values to implicit values\n",
    "df['Rating'] = df['Your Rating'].apply(lambda x: 1 if x>0 else 0)"
   ]
  },
  {
   "cell_type": "markdown",
   "id": "2d55ed26",
   "metadata": {},
   "source": [
    "#### Remove users who only have one board game"
   ]
  },
  {
   "cell_type": "code",
   "execution_count": 6,
   "id": "5f154b4a",
   "metadata": {},
   "outputs": [],
   "source": [
    "#Group by 'user_id'\n",
    "p=df.groupby('u_id').count()"
   ]
  },
  {
   "cell_type": "code",
   "execution_count": 7,
   "id": "ee284b9f",
   "metadata": {},
   "outputs": [
    {
     "data": {
      "text/plain": [
       "6"
      ]
     },
     "execution_count": 7,
     "metadata": {},
     "output_type": "execute_result"
    }
   ],
   "source": [
    "# Visualise users with a single board game\n",
    "(p['bgg_id']==1).sum()"
   ]
  },
  {
   "cell_type": "code",
   "execution_count": 9,
   "id": "68d91237",
   "metadata": {},
   "outputs": [],
   "source": [
    "# Remove the user_id with a single board game\n",
    "bgu=list(p[p['bgg_id']==1].index)\n",
    "\n",
    "dfm = df[~df.u_id.isin(bgu)]"
   ]
  },
  {
   "cell_type": "markdown",
   "id": "ff469a60",
   "metadata": {},
   "source": [
    "#### Modified the id of games and users so that they are correlative"
   ]
  },
  {
   "cell_type": "code",
   "execution_count": 10,
   "id": "b629aff0",
   "metadata": {},
   "outputs": [],
   "source": [
    "# Create a dictionary for games titles and ids\n",
    "\n",
    "bgg_id=list(dfm['bgg_id'])\n",
    "game=list(dfm['Game'])\n",
    "\n",
    "item_dict={}\n",
    "\n",
    "for key in bgg_id:\n",
    "    for value in game:\n",
    "        item_dict[key] = value\n",
    "        game.remove(value)\n",
    "        break "
   ]
  },
  {
   "cell_type": "code",
   "execution_count": 11,
   "id": "99309f9a",
   "metadata": {},
   "outputs": [
    {
     "name": "stdout",
     "output_type": "stream",
     "text": [
      "36535\n",
      "36535\n"
     ]
    }
   ],
   "source": [
    "print(len(set(item_dict.keys())))\n",
    "print(len(set(item_dict.values())))"
   ]
  },
  {
   "cell_type": "code",
   "execution_count": 12,
   "id": "09dcdef2",
   "metadata": {},
   "outputs": [],
   "source": [
    "# Resample\n",
    "resample_id_item_dict={}\n",
    "for index, key in enumerate(item_dict.keys()):\n",
    "    resample_id_item_dict[key]= index\n",
    "    "
   ]
  },
  {
   "cell_type": "code",
   "execution_count": 13,
   "id": "b585884a",
   "metadata": {},
   "outputs": [],
   "source": [
    "resample_item_dict = {resample_id_item_dict[k]:v for k,v in item_dict.items()}\n",
    "assert(len(set(resample_item_dict.keys())) == len(set(resample_item_dict.values())))"
   ]
  },
  {
   "cell_type": "code",
   "execution_count": 14,
   "id": "f60c014c",
   "metadata": {},
   "outputs": [],
   "source": [
    "# Create a dictionary for resample users id\n",
    "\n",
    "u_id=list(dfm['u_id'].unique())\n",
    "resample_user_dict={}\n",
    "\n",
    "for index,key in enumerate(u_id):\n",
    "    resample_user_dict[key] = index"
   ]
  },
  {
   "cell_type": "code",
   "execution_count": 15,
   "id": "996e0245",
   "metadata": {},
   "outputs": [
    {
     "name": "stdout",
     "output_type": "stream",
     "text": [
      "2844\n",
      "2844\n"
     ]
    }
   ],
   "source": [
    "print(len(set(resample_user_dict.keys())))\n",
    "print(len(set(resample_user_dict.values())))"
   ]
  },
  {
   "cell_type": "code",
   "execution_count": 16,
   "id": "3015a68a",
   "metadata": {},
   "outputs": [
    {
     "data": {
      "text/html": [
       "<div>\n",
       "<style scoped>\n",
       "    .dataframe tbody tr th:only-of-type {\n",
       "        vertical-align: middle;\n",
       "    }\n",
       "\n",
       "    .dataframe tbody tr th {\n",
       "        vertical-align: top;\n",
       "    }\n",
       "\n",
       "    .dataframe thead th {\n",
       "        text-align: right;\n",
       "    }\n",
       "</style>\n",
       "<table border=\"1\" class=\"dataframe\">\n",
       "  <thead>\n",
       "    <tr style=\"text-align: right;\">\n",
       "      <th></th>\n",
       "      <th>u_id</th>\n",
       "      <th>Your Rating</th>\n",
       "      <th>bgg_id</th>\n",
       "      <th>Rating</th>\n",
       "      <th>item_id</th>\n",
       "      <th>user_id</th>\n",
       "    </tr>\n",
       "  </thead>\n",
       "  <tbody>\n",
       "    <tr>\n",
       "      <th>count</th>\n",
       "      <td>838777.000000</td>\n",
       "      <td>838777.000000</td>\n",
       "      <td>838777.000000</td>\n",
       "      <td>838777.000000</td>\n",
       "      <td>838777.000000</td>\n",
       "      <td>838777.000000</td>\n",
       "    </tr>\n",
       "    <tr>\n",
       "      <th>mean</th>\n",
       "      <td>1404.570457</td>\n",
       "      <td>3.423040</td>\n",
       "      <td>91310.618300</td>\n",
       "      <td>0.545138</td>\n",
       "      <td>4722.867555</td>\n",
       "      <td>1403.031329</td>\n",
       "    </tr>\n",
       "    <tr>\n",
       "      <th>std</th>\n",
       "      <td>813.788285</td>\n",
       "      <td>4.159144</td>\n",
       "      <td>88829.182464</td>\n",
       "      <td>0.497959</td>\n",
       "      <td>6316.864111</td>\n",
       "      <td>812.113149</td>\n",
       "    </tr>\n",
       "    <tr>\n",
       "      <th>min</th>\n",
       "      <td>0.000000</td>\n",
       "      <td>-1.000000</td>\n",
       "      <td>1.000000</td>\n",
       "      <td>0.000000</td>\n",
       "      <td>0.000000</td>\n",
       "      <td>0.000000</td>\n",
       "    </tr>\n",
       "    <tr>\n",
       "      <th>25%</th>\n",
       "      <td>700.000000</td>\n",
       "      <td>-1.000000</td>\n",
       "      <td>9209.000000</td>\n",
       "      <td>0.000000</td>\n",
       "      <td>680.000000</td>\n",
       "      <td>700.000000</td>\n",
       "    </tr>\n",
       "    <tr>\n",
       "      <th>50%</th>\n",
       "      <td>1375.000000</td>\n",
       "      <td>5.000000</td>\n",
       "      <td>55952.000000</td>\n",
       "      <td>1.000000</td>\n",
       "      <td>2185.000000</td>\n",
       "      <td>1374.000000</td>\n",
       "    </tr>\n",
       "    <tr>\n",
       "      <th>75%</th>\n",
       "      <td>2087.000000</td>\n",
       "      <td>7.000000</td>\n",
       "      <td>163976.000000</td>\n",
       "      <td>1.000000</td>\n",
       "      <td>6332.000000</td>\n",
       "      <td>2086.000000</td>\n",
       "    </tr>\n",
       "    <tr>\n",
       "      <th>max</th>\n",
       "      <td>2851.000000</td>\n",
       "      <td>10.000000</td>\n",
       "      <td>332853.000000</td>\n",
       "      <td>1.000000</td>\n",
       "      <td>36534.000000</td>\n",
       "      <td>2843.000000</td>\n",
       "    </tr>\n",
       "  </tbody>\n",
       "</table>\n",
       "</div>"
      ],
      "text/plain": [
       "                u_id    Your Rating         bgg_id         Rating  \\\n",
       "count  838777.000000  838777.000000  838777.000000  838777.000000   \n",
       "mean     1404.570457       3.423040   91310.618300       0.545138   \n",
       "std       813.788285       4.159144   88829.182464       0.497959   \n",
       "min         0.000000      -1.000000       1.000000       0.000000   \n",
       "25%       700.000000      -1.000000    9209.000000       0.000000   \n",
       "50%      1375.000000       5.000000   55952.000000       1.000000   \n",
       "75%      2087.000000       7.000000  163976.000000       1.000000   \n",
       "max      2851.000000      10.000000  332853.000000       1.000000   \n",
       "\n",
       "             item_id        user_id  \n",
       "count  838777.000000  838777.000000  \n",
       "mean     4722.867555    1403.031329  \n",
       "std      6316.864111     812.113149  \n",
       "min         0.000000       0.000000  \n",
       "25%       680.000000     700.000000  \n",
       "50%      2185.000000    1374.000000  \n",
       "75%      6332.000000    2086.000000  \n",
       "max     36534.000000    2843.000000  "
      ]
     },
     "execution_count": 16,
     "metadata": {},
     "output_type": "execute_result"
    }
   ],
   "source": [
    "# Copy and apply the changes\n",
    "dfm_r=dfm.copy()\n",
    "dfm_r['item_id']=dfm['bgg_id'].apply(lambda x: resample_id_item_dict[x])\n",
    "dfm_r['user_id']=dfm['u_id'].apply(lambda x: resample_user_dict[x])\n",
    "dfm_r.describe()"
   ]
  },
  {
   "cell_type": "code",
   "execution_count": 21,
   "id": "719f14d2",
   "metadata": {},
   "outputs": [
    {
     "data": {
      "text/html": [
       "<div>\n",
       "<style scoped>\n",
       "    .dataframe tbody tr th:only-of-type {\n",
       "        vertical-align: middle;\n",
       "    }\n",
       "\n",
       "    .dataframe tbody tr th {\n",
       "        vertical-align: top;\n",
       "    }\n",
       "\n",
       "    .dataframe thead th {\n",
       "        text-align: right;\n",
       "    }\n",
       "</style>\n",
       "<table border=\"1\" class=\"dataframe\">\n",
       "  <thead>\n",
       "    <tr style=\"text-align: right;\">\n",
       "      <th></th>\n",
       "      <th>Unnamed: 0</th>\n",
       "      <th>u_id</th>\n",
       "      <th>Game</th>\n",
       "      <th>Your Rating</th>\n",
       "      <th>bgg_id</th>\n",
       "      <th>category</th>\n",
       "      <th>Rating</th>\n",
       "      <th>item_id</th>\n",
       "      <th>user_id</th>\n",
       "    </tr>\n",
       "  </thead>\n",
       "  <tbody>\n",
       "    <tr>\n",
       "      <th>0</th>\n",
       "      <td>0</td>\n",
       "      <td>0</td>\n",
       "      <td>1830: Railways &amp; Robber Barons</td>\n",
       "      <td>-1</td>\n",
       "      <td>421</td>\n",
       "      <td>1021,1034,1011</td>\n",
       "      <td>0</td>\n",
       "      <td>0</td>\n",
       "      <td>0</td>\n",
       "    </tr>\n",
       "    <tr>\n",
       "      <th>1</th>\n",
       "      <td>1</td>\n",
       "      <td>0</td>\n",
       "      <td>18AL</td>\n",
       "      <td>7</td>\n",
       "      <td>2612</td>\n",
       "      <td>1021,1120,1034,1011</td>\n",
       "      <td>1</td>\n",
       "      <td>1</td>\n",
       "      <td>0</td>\n",
       "    </tr>\n",
       "    <tr>\n",
       "      <th>2</th>\n",
       "      <td>2</td>\n",
       "      <td>0</td>\n",
       "      <td>2 de Mayo</td>\n",
       "      <td>6</td>\n",
       "      <td>36522</td>\n",
       "      <td>1051,1019</td>\n",
       "      <td>1</td>\n",
       "      <td>2</td>\n",
       "      <td>0</td>\n",
       "    </tr>\n",
       "    <tr>\n",
       "      <th>3</th>\n",
       "      <td>3</td>\n",
       "      <td>0</td>\n",
       "      <td>23</td>\n",
       "      <td>7</td>\n",
       "      <td>103651</td>\n",
       "      <td>1002</td>\n",
       "      <td>1</td>\n",
       "      <td>3</td>\n",
       "      <td>0</td>\n",
       "    </tr>\n",
       "    <tr>\n",
       "      <th>4</th>\n",
       "      <td>4</td>\n",
       "      <td>0</td>\n",
       "      <td>6 nimmt!</td>\n",
       "      <td>7</td>\n",
       "      <td>432</td>\n",
       "      <td>1002,1098</td>\n",
       "      <td>1</td>\n",
       "      <td>4</td>\n",
       "      <td>0</td>\n",
       "    </tr>\n",
       "  </tbody>\n",
       "</table>\n",
       "</div>"
      ],
      "text/plain": [
       "   Unnamed: 0  u_id                            Game  Your Rating  bgg_id  \\\n",
       "0           0     0  1830: Railways & Robber Barons           -1     421   \n",
       "1           1     0                            18AL            7    2612   \n",
       "2           2     0                       2 de Mayo            6   36522   \n",
       "3           3     0                              23            7  103651   \n",
       "4           4     0                        6 nimmt!            7     432   \n",
       "\n",
       "              category  Rating  item_id  user_id  \n",
       "0       1021,1034,1011       0        0        0  \n",
       "1  1021,1120,1034,1011       1        1        0  \n",
       "2            1051,1019       1        2        0  \n",
       "3                 1002       1        3        0  \n",
       "4            1002,1098       1        4        0  "
      ]
     },
     "execution_count": 21,
     "metadata": {},
     "output_type": "execute_result"
    }
   ],
   "source": [
    "#dfm_r.to_csv('DATA/r_users_bgs.csv')\n",
    "path='./DATA'\n",
    "file = os.path.join(path, \"r_users_bgs.csv\")\n",
    "dfm_r=pd.read_csv(file, low_memory=False)\n",
    "dfm_r.head()"
   ]
  },
  {
   "cell_type": "markdown",
   "id": "7dcac163",
   "metadata": {},
   "source": [
    "#### Format Data for models"
   ]
  },
  {
   "cell_type": "code",
   "execution_count": 22,
   "id": "b7e3b0d9",
   "metadata": {},
   "outputs": [
    {
     "name": "stdout",
     "output_type": "stream",
     "text": [
      "(838777, 3)\n"
     ]
    },
    {
     "data": {
      "text/html": [
       "<div>\n",
       "<style scoped>\n",
       "    .dataframe tbody tr th:only-of-type {\n",
       "        vertical-align: middle;\n",
       "    }\n",
       "\n",
       "    .dataframe tbody tr th {\n",
       "        vertical-align: top;\n",
       "    }\n",
       "\n",
       "    .dataframe thead th {\n",
       "        text-align: right;\n",
       "    }\n",
       "</style>\n",
       "<table border=\"1\" class=\"dataframe\">\n",
       "  <thead>\n",
       "    <tr style=\"text-align: right;\">\n",
       "      <th></th>\n",
       "      <th>user_id</th>\n",
       "      <th>item_id</th>\n",
       "      <th>rating</th>\n",
       "    </tr>\n",
       "  </thead>\n",
       "  <tbody>\n",
       "    <tr>\n",
       "      <th>0</th>\n",
       "      <td>0</td>\n",
       "      <td>0</td>\n",
       "      <td>0</td>\n",
       "    </tr>\n",
       "    <tr>\n",
       "      <th>1</th>\n",
       "      <td>0</td>\n",
       "      <td>1</td>\n",
       "      <td>1</td>\n",
       "    </tr>\n",
       "    <tr>\n",
       "      <th>2</th>\n",
       "      <td>0</td>\n",
       "      <td>2</td>\n",
       "      <td>1</td>\n",
       "    </tr>\n",
       "    <tr>\n",
       "      <th>3</th>\n",
       "      <td>0</td>\n",
       "      <td>3</td>\n",
       "      <td>1</td>\n",
       "    </tr>\n",
       "    <tr>\n",
       "      <th>4</th>\n",
       "      <td>0</td>\n",
       "      <td>4</td>\n",
       "      <td>1</td>\n",
       "    </tr>\n",
       "  </tbody>\n",
       "</table>\n",
       "</div>"
      ],
      "text/plain": [
       "   user_id  item_id  rating\n",
       "0        0        0       0\n",
       "1        0        1       1\n",
       "2        0        2       1\n",
       "3        0        3       1\n",
       "4        0        4       1"
      ]
     },
     "execution_count": 22,
     "metadata": {},
     "output_type": "execute_result"
    }
   ],
   "source": [
    "\n",
    "dfratings = pd.DataFrame()\n",
    "\n",
    "dfratings['user_id']=dfm_r['user_id']\n",
    "dfratings['item_id']=dfm_r['item_id']\n",
    "dfratings['rating']=dfm_r['Rating']\n",
    "\n",
    "print(dfratings.shape)\n",
    "dfratings.head()"
   ]
  },
  {
   "cell_type": "code",
   "execution_count": 23,
   "id": "34b61542",
   "metadata": {},
   "outputs": [],
   "source": [
    "dfbg = dfm_r.groupby(by=['bgg_id','category'], as_index=False).first()\n",
    "dfbg.drop(['bgg_id','u_id','Your Rating','Rating', 'user_id'],axis=1, inplace=True)"
   ]
  },
  {
   "cell_type": "code",
   "execution_count": 24,
   "id": "530bdc8b",
   "metadata": {},
   "outputs": [
    {
     "name": "stdout",
     "output_type": "stream",
     "text": [
      "(36535, 3)\n"
     ]
    },
    {
     "data": {
      "text/html": [
       "<div>\n",
       "<style scoped>\n",
       "    .dataframe tbody tr th:only-of-type {\n",
       "        vertical-align: middle;\n",
       "    }\n",
       "\n",
       "    .dataframe tbody tr th {\n",
       "        vertical-align: top;\n",
       "    }\n",
       "\n",
       "    .dataframe thead th {\n",
       "        text-align: right;\n",
       "    }\n",
       "</style>\n",
       "<table border=\"1\" class=\"dataframe\">\n",
       "  <thead>\n",
       "    <tr style=\"text-align: right;\">\n",
       "      <th></th>\n",
       "      <th>item_id</th>\n",
       "      <th>title</th>\n",
       "      <th>category</th>\n",
       "    </tr>\n",
       "  </thead>\n",
       "  <tbody>\n",
       "    <tr>\n",
       "      <th>0</th>\n",
       "      <td>747</td>\n",
       "      <td>Die Macher</td>\n",
       "      <td>1021,1026,1001</td>\n",
       "    </tr>\n",
       "    <tr>\n",
       "      <th>1</th>\n",
       "      <td>5896</td>\n",
       "      <td>Dragonmaster</td>\n",
       "      <td>1002,1010</td>\n",
       "    </tr>\n",
       "    <tr>\n",
       "      <th>2</th>\n",
       "      <td>292</td>\n",
       "      <td>Samurai</td>\n",
       "      <td>1009,1035</td>\n",
       "    </tr>\n",
       "    <tr>\n",
       "      <th>3</th>\n",
       "      <td>6308</td>\n",
       "      <td>Tal der Könige</td>\n",
       "      <td>1050</td>\n",
       "    </tr>\n",
       "    <tr>\n",
       "      <th>4</th>\n",
       "      <td>15364</td>\n",
       "      <td>Mare Mediterraneum</td>\n",
       "      <td>1015,1008</td>\n",
       "    </tr>\n",
       "  </tbody>\n",
       "</table>\n",
       "</div>"
      ],
      "text/plain": [
       "   item_id               title        category\n",
       "0      747          Die Macher  1021,1026,1001\n",
       "1     5896        Dragonmaster       1002,1010\n",
       "2      292             Samurai       1009,1035\n",
       "3     6308      Tal der Könige            1050\n",
       "4    15364  Mare Mediterraneum       1015,1008"
      ]
     },
     "execution_count": 24,
     "metadata": {},
     "output_type": "execute_result"
    }
   ],
   "source": [
    "dfgames = pd.DataFrame()\n",
    "\n",
    "dfgames['item_id']=dfbg['item_id']\n",
    "dfgames['title']=dfbg['Game']\n",
    "dfgames['category']=dfbg['category']\n",
    "\n",
    "print(dfgames.shape)\n",
    "dfgames.head()"
   ]
  },
  {
   "cell_type": "markdown",
   "id": "d45e9dd2",
   "metadata": {},
   "source": [
    "## Content Based"
   ]
  },
  {
   "cell_type": "code",
   "execution_count": 53,
   "id": "e39daa08",
   "metadata": {},
   "outputs": [],
   "source": [
    "# ----- COMENTARIO"
   ]
  },
  {
   "cell_type": "code",
   "execution_count": 54,
   "id": "d402bec2",
   "metadata": {},
   "outputs": [
    {
     "data": {
      "text/html": [
       "<div>\n",
       "<style scoped>\n",
       "    .dataframe tbody tr th:only-of-type {\n",
       "        vertical-align: middle;\n",
       "    }\n",
       "\n",
       "    .dataframe tbody tr th {\n",
       "        vertical-align: top;\n",
       "    }\n",
       "\n",
       "    .dataframe thead th {\n",
       "        text-align: right;\n",
       "    }\n",
       "</style>\n",
       "<table border=\"1\" class=\"dataframe\">\n",
       "  <thead>\n",
       "    <tr style=\"text-align: right;\">\n",
       "      <th></th>\n",
       "      <th>item_id</th>\n",
       "      <th>title</th>\n",
       "      <th>category</th>\n",
       "    </tr>\n",
       "  </thead>\n",
       "  <tbody>\n",
       "    <tr>\n",
       "      <th>0</th>\n",
       "      <td>747</td>\n",
       "      <td>Die Macher</td>\n",
       "      <td>1021,1026,1001</td>\n",
       "    </tr>\n",
       "    <tr>\n",
       "      <th>1</th>\n",
       "      <td>5896</td>\n",
       "      <td>Dragonmaster</td>\n",
       "      <td>1002,1010</td>\n",
       "    </tr>\n",
       "    <tr>\n",
       "      <th>2</th>\n",
       "      <td>292</td>\n",
       "      <td>Samurai</td>\n",
       "      <td>1009,1035</td>\n",
       "    </tr>\n",
       "    <tr>\n",
       "      <th>3</th>\n",
       "      <td>6308</td>\n",
       "      <td>Tal der Könige</td>\n",
       "      <td>1050</td>\n",
       "    </tr>\n",
       "    <tr>\n",
       "      <th>4</th>\n",
       "      <td>15364</td>\n",
       "      <td>Mare Mediterraneum</td>\n",
       "      <td>1015,1008</td>\n",
       "    </tr>\n",
       "  </tbody>\n",
       "</table>\n",
       "</div>"
      ],
      "text/plain": [
       "   item_id               title        category\n",
       "0      747          Die Macher  1021,1026,1001\n",
       "1     5896        Dragonmaster       1002,1010\n",
       "2      292             Samurai       1009,1035\n",
       "3     6308      Tal der Könige            1050\n",
       "4    15364  Mare Mediterraneum       1015,1008"
      ]
     },
     "execution_count": 54,
     "metadata": {},
     "output_type": "execute_result"
    }
   ],
   "source": [
    "dfgames.head()"
   ]
  },
  {
   "cell_type": "code",
   "execution_count": 55,
   "id": "a91f6a08",
   "metadata": {},
   "outputs": [
    {
     "name": "stdout",
     "output_type": "stream",
     "text": [
      "0        1021 1026 1001\n",
      "1             1002 1010\n",
      "2             1009 1035\n",
      "3                  1050\n",
      "4             1015 1008\n",
      "              ...      \n",
      "36530              1002\n",
      "36531         1002 1030\n",
      "36532         1002 2481\n",
      "36533    1009 1028 1113\n",
      "36534         1021 1013\n",
      "Name: category, Length: 36535, dtype: object\n"
     ]
    }
   ],
   "source": [
    "dfgames['category'] = dfgames['category'].map(lambda x: x.replace(',', ' '))\n",
    "print(dfgames['category'])"
   ]
  },
  {
   "cell_type": "code",
   "execution_count": 57,
   "id": "547d9ae8",
   "metadata": {},
   "outputs": [
    {
     "data": {
      "text/html": [
       "<div>\n",
       "<style scoped>\n",
       "    .dataframe tbody tr th:only-of-type {\n",
       "        vertical-align: middle;\n",
       "    }\n",
       "\n",
       "    .dataframe tbody tr th {\n",
       "        vertical-align: top;\n",
       "    }\n",
       "\n",
       "    .dataframe thead th {\n",
       "        text-align: right;\n",
       "    }\n",
       "</style>\n",
       "<table border=\"1\" class=\"dataframe\">\n",
       "  <thead>\n",
       "    <tr style=\"text-align: right;\">\n",
       "      <th></th>\n",
       "      <th>item_id</th>\n",
       "      <th>category</th>\n",
       "    </tr>\n",
       "    <tr>\n",
       "      <th>title</th>\n",
       "      <th></th>\n",
       "      <th></th>\n",
       "    </tr>\n",
       "  </thead>\n",
       "  <tbody>\n",
       "    <tr>\n",
       "      <th>Die Macher</th>\n",
       "      <td>747</td>\n",
       "      <td>1021 1026 1001</td>\n",
       "    </tr>\n",
       "    <tr>\n",
       "      <th>Dragonmaster</th>\n",
       "      <td>5896</td>\n",
       "      <td>1002 1010</td>\n",
       "    </tr>\n",
       "    <tr>\n",
       "      <th>Samurai</th>\n",
       "      <td>292</td>\n",
       "      <td>1009 1035</td>\n",
       "    </tr>\n",
       "    <tr>\n",
       "      <th>Tal der Könige</th>\n",
       "      <td>6308</td>\n",
       "      <td>1050</td>\n",
       "    </tr>\n",
       "    <tr>\n",
       "      <th>Mare Mediterraneum</th>\n",
       "      <td>15364</td>\n",
       "      <td>1015 1008</td>\n",
       "    </tr>\n",
       "  </tbody>\n",
       "</table>\n",
       "</div>"
      ],
      "text/plain": [
       "                    item_id        category\n",
       "title                                      \n",
       "Die Macher              747  1021 1026 1001\n",
       "Dragonmaster           5896       1002 1010\n",
       "Samurai                 292       1009 1035\n",
       "Tal der Könige         6308            1050\n",
       "Mare Mediterraneum    15364       1015 1008"
      ]
     },
     "execution_count": 57,
     "metadata": {},
     "output_type": "execute_result"
    }
   ],
   "source": [
    "dfgames.set_index('title', inplace = True)\n",
    "dfgames.head()"
   ]
  },
  {
   "cell_type": "code",
   "execution_count": 58,
   "id": "5342c2d3",
   "metadata": {},
   "outputs": [
    {
     "name": "stdout",
     "output_type": "stream",
     "text": [
      "[]\n"
     ]
    }
   ],
   "source": [
    "print(np.where(dbg.index=='Tal der Könige')[0])"
   ]
  },
  {
   "cell_type": "code",
   "execution_count": 60,
   "id": "1e165d3f",
   "metadata": {},
   "outputs": [],
   "source": [
    "count = CountVectorizer()\n",
    "count_matrix = count.fit_transform(dfgames['category'])"
   ]
  },
  {
   "cell_type": "code",
   "execution_count": 61,
   "id": "5d749da7",
   "metadata": {},
   "outputs": [
    {
     "data": {
      "text/plain": [
       "array([[1.        , 0.        , 0.        , ..., 0.        , 0.        ,\n",
       "        0.40824829],\n",
       "       [0.        , 1.        , 0.        , ..., 0.5       , 0.        ,\n",
       "        0.        ],\n",
       "       [0.        , 0.        , 1.        , ..., 0.        , 0.40824829,\n",
       "        0.        ],\n",
       "       ...,\n",
       "       [0.        , 0.5       , 0.        , ..., 1.        , 0.        ,\n",
       "        0.        ],\n",
       "       [0.        , 0.        , 0.40824829, ..., 0.        , 1.        ,\n",
       "        0.        ],\n",
       "       [0.40824829, 0.        , 0.        , ..., 0.        , 0.        ,\n",
       "        1.        ]])"
      ]
     },
     "execution_count": 61,
     "metadata": {},
     "output_type": "execute_result"
    }
   ],
   "source": [
    "cosine = cosine_similarity(count_matrix, count_matrix)\n",
    "cosine"
   ]
  },
  {
   "cell_type": "code",
   "execution_count": null,
   "id": "b4a96f9b",
   "metadata": {},
   "outputs": [],
   "source": [
    "cosine.dump(\"DATA/cosine_cb.dat\")\n",
    "#cos = numpy.load(\"DATA/cosine_cb.dat\")"
   ]
  },
  {
   "cell_type": "code",
   "execution_count": 1,
   "id": "1a7da465",
   "metadata": {},
   "outputs": [
    {
     "ename": "NameError",
     "evalue": "name 'cosine' is not defined",
     "output_type": "error",
     "traceback": [
      "\u001b[0;31m---------------------------------------------------------------------------\u001b[0m",
      "\u001b[0;31mNameError\u001b[0m                                 Traceback (most recent call last)",
      "\u001b[0;32m<ipython-input-1-4d8f188dd587>\u001b[0m in \u001b[0;36m<module>\u001b[0;34m\u001b[0m\n\u001b[0;32m----> 1\u001b[0;31m \u001b[0;32mdef\u001b[0m \u001b[0mcb_recommendations\u001b[0m\u001b[0;34m(\u001b[0m\u001b[0mname\u001b[0m\u001b[0;34m,\u001b[0m \u001b[0mcosine\u001b[0m \u001b[0;34m=\u001b[0m \u001b[0mcosine\u001b[0m\u001b[0;34m)\u001b[0m\u001b[0;34m:\u001b[0m\u001b[0;34m\u001b[0m\u001b[0;34m\u001b[0m\u001b[0m\n\u001b[0m\u001b[1;32m      2\u001b[0m \u001b[0;34m\u001b[0m\u001b[0m\n\u001b[1;32m      3\u001b[0m     \u001b[0mrecommended\u001b[0m \u001b[0;34m=\u001b[0m \u001b[0;34m[\u001b[0m\u001b[0;34m]\u001b[0m\u001b[0;34m\u001b[0m\u001b[0;34m\u001b[0m\u001b[0m\n\u001b[1;32m      4\u001b[0m     \u001b[0mindices\u001b[0m \u001b[0;34m=\u001b[0m \u001b[0mpd\u001b[0m\u001b[0;34m.\u001b[0m\u001b[0mSeries\u001b[0m\u001b[0;34m(\u001b[0m\u001b[0mdfgames\u001b[0m\u001b[0;34m.\u001b[0m\u001b[0mindex\u001b[0m\u001b[0;34m)\u001b[0m\u001b[0;34m\u001b[0m\u001b[0;34m\u001b[0m\u001b[0m\n\u001b[1;32m      5\u001b[0m     \u001b[0midx\u001b[0m \u001b[0;34m=\u001b[0m \u001b[0mindices\u001b[0m\u001b[0;34m[\u001b[0m\u001b[0mindices\u001b[0m \u001b[0;34m==\u001b[0m \u001b[0mname\u001b[0m\u001b[0;34m]\u001b[0m\u001b[0;34m.\u001b[0m\u001b[0mindex\u001b[0m\u001b[0;34m[\u001b[0m\u001b[0;36m0\u001b[0m\u001b[0;34m]\u001b[0m\u001b[0;34m\u001b[0m\u001b[0;34m\u001b[0m\u001b[0m\n",
      "\u001b[0;31mNameError\u001b[0m: name 'cosine' is not defined"
     ]
    }
   ],
   "source": [
    "def cb_recommendations(name, cosine = cosine):\n",
    "    \n",
    "    recommended = []\n",
    "    indices = pd.Series(dfgames.index)\n",
    "    idx = indices[indices == name].index[0]\n",
    "    score = pd.Series(cosine[idx]).sort_values(ascending = False)\n",
    "    top_10 = list(score.iloc[0:11].index)\n",
    "    for i in top_10:\n",
    "        if idx != i:\n",
    "            recommended.append(list(dfgames.index)[i])\n",
    "        \n",
    "    return recommended"
   ]
  },
  {
   "cell_type": "code",
   "execution_count": 79,
   "id": "50feb680",
   "metadata": {},
   "outputs": [
    {
     "data": {
      "text/plain": [
       "['7 Wonders (Second Edition)',\n",
       " 'Imperial Settlers',\n",
       " 'Alba Longa',\n",
       " 'Mini Cywilizacja',\n",
       " 'Peloponnes Card Game',\n",
       " 'Glory to Rome',\n",
       " '7 Wonders Duel',\n",
       " 'City of Iron: Second Edition',\n",
       " 'City of Iron',\n",
       " 'Dragon Canyon']"
      ]
     },
     "execution_count": 79,
     "metadata": {},
     "output_type": "execute_result"
    }
   ],
   "source": [
    "game_recommendations('7 Wonders')"
   ]
  },
  {
   "cell_type": "code",
   "execution_count": null,
   "id": "8a14164f",
   "metadata": {},
   "outputs": [],
   "source": [
    "## Collaborative Filtering"
   ]
  },
  {
   "cell_type": "code",
   "execution_count": null,
   "id": "05b4b6a9",
   "metadata": {},
   "outputs": [],
   "source": []
  },
  {
   "cell_type": "code",
   "execution_count": 7,
   "id": "0990d119",
   "metadata": {},
   "outputs": [],
   "source": [
    "#Split random into training and test datasets\n",
    "train, test = train_test_split(dfratings, test_size = 0.20, random_state = 42) "
   ]
  },
  {
   "cell_type": "code",
   "execution_count": 8,
   "id": "64598380",
   "metadata": {},
   "outputs": [
    {
     "name": "stdout",
     "output_type": "stream",
     "text": [
      "There are 2844 users, 34067 itmes and 671021 pairs in the train set\n"
     ]
    },
    {
     "data": {
      "text/html": [
       "<div>\n",
       "<style scoped>\n",
       "    .dataframe tbody tr th:only-of-type {\n",
       "        vertical-align: middle;\n",
       "    }\n",
       "\n",
       "    .dataframe tbody tr th {\n",
       "        vertical-align: top;\n",
       "    }\n",
       "\n",
       "    .dataframe thead th {\n",
       "        text-align: right;\n",
       "    }\n",
       "</style>\n",
       "<table border=\"1\" class=\"dataframe\">\n",
       "  <thead>\n",
       "    <tr style=\"text-align: right;\">\n",
       "      <th></th>\n",
       "      <th>user_id</th>\n",
       "      <th>item_id</th>\n",
       "      <th>rating</th>\n",
       "    </tr>\n",
       "  </thead>\n",
       "  <tbody>\n",
       "    <tr>\n",
       "      <th>32330</th>\n",
       "      <td>123</td>\n",
       "      <td>1060</td>\n",
       "      <td>0</td>\n",
       "    </tr>\n",
       "    <tr>\n",
       "      <th>399743</th>\n",
       "      <td>1313</td>\n",
       "      <td>1287</td>\n",
       "      <td>1</td>\n",
       "    </tr>\n",
       "    <tr>\n",
       "      <th>763096</th>\n",
       "      <td>2564</td>\n",
       "      <td>5918</td>\n",
       "      <td>0</td>\n",
       "    </tr>\n",
       "    <tr>\n",
       "      <th>79614</th>\n",
       "      <td>259</td>\n",
       "      <td>1340</td>\n",
       "      <td>1</td>\n",
       "    </tr>\n",
       "    <tr>\n",
       "      <th>719432</th>\n",
       "      <td>2418</td>\n",
       "      <td>727</td>\n",
       "      <td>1</td>\n",
       "    </tr>\n",
       "  </tbody>\n",
       "</table>\n",
       "</div>"
      ],
      "text/plain": [
       "        user_id  item_id  rating\n",
       "32330       123     1060       0\n",
       "399743     1313     1287       1\n",
       "763096     2564     5918       0\n",
       "79614       259     1340       1\n",
       "719432     2418      727       1"
      ]
     },
     "execution_count": 8,
     "metadata": {},
     "output_type": "execute_result"
    }
   ],
   "source": [
    "print('There are %s users, %s itmes and %s pairs in the train set' \\\n",
    "      %(train.user_id.unique().shape[0], train.item_id.unique().shape[0], train.shape[0]))\n",
    "train.head()"
   ]
  },
  {
   "cell_type": "code",
   "execution_count": 9,
   "id": "a7f39fc2",
   "metadata": {},
   "outputs": [
    {
     "name": "stdout",
     "output_type": "stream",
     "text": [
      "There are 2838 users, 20894 itmes and 167756 pairs in the test set\n"
     ]
    },
    {
     "data": {
      "text/html": [
       "<div>\n",
       "<style scoped>\n",
       "    .dataframe tbody tr th:only-of-type {\n",
       "        vertical-align: middle;\n",
       "    }\n",
       "\n",
       "    .dataframe tbody tr th {\n",
       "        vertical-align: top;\n",
       "    }\n",
       "\n",
       "    .dataframe thead th {\n",
       "        text-align: right;\n",
       "    }\n",
       "</style>\n",
       "<table border=\"1\" class=\"dataframe\">\n",
       "  <thead>\n",
       "    <tr style=\"text-align: right;\">\n",
       "      <th></th>\n",
       "      <th>user_id</th>\n",
       "      <th>item_id</th>\n",
       "      <th>rating</th>\n",
       "    </tr>\n",
       "  </thead>\n",
       "  <tbody>\n",
       "    <tr>\n",
       "      <th>332615</th>\n",
       "      <td>1114</td>\n",
       "      <td>1151</td>\n",
       "      <td>1</td>\n",
       "    </tr>\n",
       "    <tr>\n",
       "      <th>489596</th>\n",
       "      <td>1619</td>\n",
       "      <td>2907</td>\n",
       "      <td>1</td>\n",
       "    </tr>\n",
       "    <tr>\n",
       "      <th>499690</th>\n",
       "      <td>1659</td>\n",
       "      <td>647</td>\n",
       "      <td>1</td>\n",
       "    </tr>\n",
       "    <tr>\n",
       "      <th>698076</th>\n",
       "      <td>2334</td>\n",
       "      <td>1283</td>\n",
       "      <td>1</td>\n",
       "    </tr>\n",
       "    <tr>\n",
       "      <th>288796</th>\n",
       "      <td>963</td>\n",
       "      <td>7547</td>\n",
       "      <td>1</td>\n",
       "    </tr>\n",
       "  </tbody>\n",
       "</table>\n",
       "</div>"
      ],
      "text/plain": [
       "        user_id  item_id  rating\n",
       "332615     1114     1151       1\n",
       "489596     1619     2907       1\n",
       "499690     1659      647       1\n",
       "698076     2334     1283       1\n",
       "288796      963     7547       1"
      ]
     },
     "execution_count": 9,
     "metadata": {},
     "output_type": "execute_result"
    }
   ],
   "source": [
    "print('There are %s users, %s itmes and %s pairs in the test set' \\\n",
    "      %(test.user_id.unique().shape[0], test.item_id.unique().shape[0], test.shape[0]))\n",
    "test.head()"
   ]
  },
  {
   "cell_type": "code",
   "execution_count": 10,
   "id": "bcb59cde",
   "metadata": {},
   "outputs": [],
   "source": [
    "### Popularity"
   ]
  },
  {
   "cell_type": "code",
   "execution_count": 11,
   "id": "d7d94f64",
   "metadata": {},
   "outputs": [],
   "source": [
    "# group the train dataset by item and count the number of users\n",
    "popular = train.groupby('item_id')['user_id'].count()"
   ]
  },
  {
   "cell_type": "code",
   "execution_count": 12,
   "id": "477191f1",
   "metadata": {},
   "outputs": [
    {
     "data": {
      "text/plain": [
       "item_id\n",
       "0    294\n",
       "1     74\n",
       "2    157\n",
       "3     65\n",
       "4    798\n",
       "Name: user_id, dtype: int64"
      ]
     },
     "execution_count": 12,
     "metadata": {},
     "output_type": "execute_result"
    }
   ],
   "source": [
    "popular.head()"
   ]
  },
  {
   "cell_type": "code",
   "execution_count": 13,
   "id": "f6dfbe10",
   "metadata": {},
   "outputs": [],
   "source": [
    "# Sort in descending order\n",
    "popularsort = popular.sort_values(ascending=False)"
   ]
  },
  {
   "cell_type": "code",
   "execution_count": 14,
   "id": "8d38df5d",
   "metadata": {},
   "outputs": [
    {
     "data": {
      "text/plain": [
       "34067"
      ]
     },
     "execution_count": 14,
     "metadata": {},
     "output_type": "execute_result"
    }
   ],
   "source": [
    "popularsort.shape[0]"
   ]
  },
  {
   "cell_type": "code",
   "execution_count": 15,
   "id": "ce77fe46",
   "metadata": {},
   "outputs": [
    {
     "data": {
      "text/plain": [
       "item_id\n",
       "51     1322\n",
       "195    1296\n",
       "70     1262\n",
       "242    1179\n",
       "55     1171\n",
       "Name: user_id, dtype: int64"
      ]
     },
     "execution_count": 15,
     "metadata": {},
     "output_type": "execute_result"
    }
   ],
   "source": [
    "popularsort.head()"
   ]
  },
  {
   "cell_type": "code",
   "execution_count": 16,
   "id": "cfc88f03",
   "metadata": {},
   "outputs": [
    {
     "data": {
      "text/plain": [
       "Int64Index([   51,   195,    70,   242,    55,     5,    44,    15,    93,\n",
       "              256,\n",
       "            ...\n",
       "            27193, 14744, 27180, 27181, 27182, 27183, 27185, 27188, 27190,\n",
       "            36533],\n",
       "           dtype='int64', name='item_id', length=34067)"
      ]
     },
     "execution_count": 16,
     "metadata": {},
     "output_type": "execute_result"
    }
   ],
   "source": [
    "popularsort.index #id of the Board Game"
   ]
  },
  {
   "cell_type": "code",
   "execution_count": 18,
   "id": "3a5b5328",
   "metadata": {},
   "outputs": [
    {
     "ename": "NameError",
     "evalue": "name 'resample_item_dict' is not defined",
     "output_type": "error",
     "traceback": [
      "\u001b[0;31m---------------------------------------------------------------------------\u001b[0m",
      "\u001b[0;31mNameError\u001b[0m                                 Traceback (most recent call last)",
      "\u001b[0;32m<ipython-input-18-15659c65fc4a>\u001b[0m in \u001b[0;36m<module>\u001b[0;34m\u001b[0m\n\u001b[1;32m      4\u001b[0m     \u001b[0midx\u001b[0m \u001b[0;34m=\u001b[0m \u001b[0mind\u001b[0m\u001b[0;34m\u001b[0m\u001b[0;34m\u001b[0m\u001b[0m\n\u001b[1;32m      5\u001b[0m     \u001b[0mfreq\u001b[0m \u001b[0;34m=\u001b[0m \u001b[0mpopularsort\u001b[0m\u001b[0;34m[\u001b[0m\u001b[0midx\u001b[0m\u001b[0;34m]\u001b[0m\u001b[0;34m\u001b[0m\u001b[0;34m\u001b[0m\u001b[0m\n\u001b[0;32m----> 6\u001b[0;31m     \u001b[0mtitle\u001b[0m \u001b[0;34m=\u001b[0m \u001b[0mresample_item_dict\u001b[0m\u001b[0;34m[\u001b[0m\u001b[0midx\u001b[0m\u001b[0;34m]\u001b[0m\u001b[0;34m\u001b[0m\u001b[0;34m\u001b[0m\u001b[0m\n\u001b[0m\u001b[1;32m      7\u001b[0m     \u001b[0mpopularbg\u001b[0m\u001b[0;34m[\u001b[0m\u001b[0mi\u001b[0m\u001b[0;34m]\u001b[0m \u001b[0;34m=\u001b[0m \u001b[0;34m[\u001b[0m\u001b[0midx\u001b[0m\u001b[0;34m,\u001b[0m \u001b[0mtitle\u001b[0m\u001b[0;34m,\u001b[0m \u001b[0mfreq\u001b[0m\u001b[0;34m]\u001b[0m\u001b[0;34m\u001b[0m\u001b[0;34m\u001b[0m\u001b[0m\n\u001b[1;32m      8\u001b[0m \u001b[0;34m\u001b[0m\u001b[0m\n",
      "\u001b[0;31mNameError\u001b[0m: name 'resample_item_dict' is not defined"
     ]
    }
   ],
   "source": [
    "popularbg = np.zeros(shape=(popularsort.shape[0], 3), dtype=object) #MODIFICAR ESTE NOMBRE\n",
    "\n",
    "for i, ind in enumerate(popularsort.index):\n",
    "    idx = ind \n",
    "    freq = popularsort[idx]  \n",
    "    title = resample_item_dict[idx]\n",
    "    popularbg[i] = [idx, title, freq]\n",
    "    "
   ]
  },
  {
   "cell_type": "code",
   "execution_count": null,
   "id": "ca278d14",
   "metadata": {},
   "outputs": [],
   "source": [
    "popularbg[:10,:]"
   ]
  },
  {
   "cell_type": "code",
   "execution_count": null,
   "id": "14955d0c",
   "metadata": {},
   "outputs": [],
   "source": [
    "# Recall\n",
    "def recall_at_n(N, test, recommended, train=None):\n",
    "    \"\"\"\n",
    "    :param N: number of recommendations\n",
    "    :param test: list of movies seen by user in test\n",
    "    :param train: list of movies seen by user in train. This has to be removed from the recommended list \n",
    "    :param recommended: list of movies recommended\n",
    "    \n",
    "    :return the recall\n",
    "    \"\"\"\n",
    "    if train is not None: \n",
    "        \n",
    "        rec_true = []\n",
    "        for r in recommended:\n",
    "            if r not in train:\n",
    "                rec_true.append(r)\n",
    "    else:\n",
    "        rec_true = recommended    \n",
    "    intersection = len(set(test) & set(rec_true[:N]))\n",
    "    return intersection / float(np.minimum(N, len(test)))"
   ]
  },
  {
   "cell_type": "code",
   "execution_count": null,
   "id": "1893e91b",
   "metadata": {},
   "outputs": [],
   "source": [
    "# get movies in train per user. For this, group by user and get a list of item ids.\n",
    "trainUsergby = (train.groupby('user_id')['item_id'].apply(list).reset_index())"
   ]
  },
  {
   "cell_type": "code",
   "execution_count": null,
   "id": "7298e91c",
   "metadata": {},
   "outputs": [],
   "source": [
    "trainUsergby.head()"
   ]
  },
  {
   "cell_type": "code",
   "execution_count": null,
   "id": "f19183b4",
   "metadata": {},
   "outputs": [],
   "source": [
    "testUsergby = (test.groupby('user_id')['item_id'].apply(list).reset_index())\n",
    "testUsergby.head()"
   ]
  },
  {
   "cell_type": "code",
   "execution_count": null,
   "id": "55cda8bd",
   "metadata": {},
   "outputs": [],
   "source": [
    "# Merge both df\n",
    "joinedtt = pd.merge(trainUsergby, testUsergby, how='inner', on='user_id', suffixes=('_train', '_test'))\n",
    "joinedtt.head()"
   ]
  },
  {
   "cell_type": "code",
   "execution_count": null,
   "id": "001262c3",
   "metadata": {},
   "outputs": [],
   "source": [
    "# Evaluate the model for different number of recommended elements \n",
    "\n",
    "list_topN=[1,5,10,20]\n",
    "\n",
    "for topN in list_topN:\n",
    "    rec=popularbg[:, 0]\n",
    "    r_u=joined.apply(lambda l: recall_at_n(N=topN, test=l[2], recommended=rec, train=l[1]), axis=1)\n",
    "    print('TopN:',topN,',','recall: ',r_u.mean())"
   ]
  },
  {
   "cell_type": "code",
   "execution_count": null,
   "id": "4141e1f5",
   "metadata": {},
   "outputs": [],
   "source": [
    "#MAP\n",
    "def apk(N, test, recommended, train=None):\n",
    "    \"\"\"\n",
    "    Computes the average precision at N given recommendations.\n",
    "    \n",
    "    :param N: number of recommendations\n",
    "    :param test: list of movies seen by user in test\n",
    "    :param train: list of movies seen by user in train. This has to be removed from the recommended list \n",
    "    :param recommended: list of movies recommended\n",
    "    \n",
    "    :return The average precision at N over the test set\n",
    "    \"\"\"\n",
    "    if train is not None: \n",
    "        rec_true = []\n",
    "        for r in recommended:\n",
    "            if r not in train:\n",
    "                rec_true.append(r)\n",
    "    else:\n",
    "        rec_true = recommended    \n",
    "    predicted = rec_true[:N] # top-k predictions\n",
    "    \n",
    "    score = 0.0 # This will store the numerator\n",
    "    num_hits = 0.0 # This will store the sum of rel(i)\n",
    "\n",
    "    for i,p in enumerate(predicted):\n",
    "        if p in test and p not in predicted[:i]:\n",
    "            num_hits += 1.0\n",
    "            score += num_hits/(i+1.0)\n",
    "\n",
    "    return score / min(len(test), N)"
   ]
  },
  {
   "cell_type": "code",
   "execution_count": null,
   "id": "354f8463",
   "metadata": {},
   "outputs": [],
   "source": [
    "list_topN=[1,5,10,20]\n",
    "\n",
    "for topN in list_topN:\n",
    "    predictions = popularbg[:, 0]\n",
    "    m = joined.apply(lambda l: apk(topN, l[2], predictions, l[1]), axis=1)\n",
    "    print('TopN:',topN,',','map: ',m.mean()) #Mejorar impresion"
   ]
  },
  {
   "cell_type": "code",
   "execution_count": null,
   "id": "b92ee7d7",
   "metadata": {},
   "outputs": [],
   "source": [
    "## Matrix Co-Ocurrence"
   ]
  },
  {
   "cell_type": "code",
   "execution_count": null,
   "id": "ca382cbf",
   "metadata": {},
   "outputs": [],
   "source": [
    "moviesPerUser = (train.groupby('user_id')['item_id']\n",
    "                 .apply(np.array)\n",
    "                 .to_dict()\n",
    "                 )"
   ]
  },
  {
   "cell_type": "code",
   "execution_count": null,
   "id": "e4b936a5",
   "metadata": {},
   "outputs": [],
   "source": [
    "# calculate the number of items in train\n",
    "n_items = len(resample_item_dict.keys())\n",
    "n_items"
   ]
  },
  {
   "cell_type": "code",
   "execution_count": null,
   "id": "ef3c5192",
   "metadata": {},
   "outputs": [],
   "source": [
    "# co-ocurrance matrix will have shape=[n_items,n_items]\n",
    "coMatrix = np.zeros((n_items, n_items)) # co-occurrence matrix\n",
    "for user,movies in moviesPerUser.items():\n",
    "    for m in movies:\n",
    "        coMatrix[m, movies] += 1"
   ]
  },
  {
   "cell_type": "code",
   "execution_count": null,
   "id": "55d58ed0",
   "metadata": {},
   "outputs": [],
   "source": [
    "coMatrix"
   ]
  },
  {
   "cell_type": "code",
   "execution_count": null,
   "id": "05f16d9f",
   "metadata": {},
   "outputs": [],
   "source": [
    "# visualize the matrix\n",
    "plt.matshow(coMatrix, fignum=1000, cmap=plt.cm.binary)\n",
    "plt.gcf().set_size_inches(18.5, 10.5)\n",
    "plt.show()"
   ]
  },
  {
   "cell_type": "code",
   "execution_count": null,
   "id": "790c13f5",
   "metadata": {},
   "outputs": [],
   "source": [
    "def co_occurrance_similarity(item_id, coocurrance, ntop=10):\n",
    "    \"\"\"\n",
    "    Returns the top-N most similar items to a given one, based on the coocurrance matrix\n",
    "    \n",
    "    :param item_id: id of input item\n",
    "    :param cooccurrance: 2-dim numpy array with the co-occurance matrix\n",
    "    :param ntop: number of items to be retrieved\n",
    "    \n",
    "    :return top-N most similar items to the given item_id\n",
    "    \"\"\"\n",
    "    similarItems = coocurrance[item_id, :]\n",
    "    # return indeces of most similar items in descendign order\n",
    "    mostSimilar = np.argsort(similarItems)[::-1]\n",
    "    # remove the first element, as it is the item itslef\n",
    "    mostSimilar = mostSimilar[1:ntop+1]\n",
    "    \n",
    "    # return a numpy array with the index (first column) and the value (second column) of the most similar items\n",
    "    return np.stack((mostSimilar, similarItems[mostSimilar])).T"
   ]
  },
  {
   "cell_type": "code",
   "execution_count": null,
   "id": "9c4af4eb",
   "metadata": {},
   "outputs": [],
   "source": [
    "def co_occurrance_recommendation(items_id, cooccurrance, ntop=10):\n",
    "    \"\"\"\n",
    "    Obtain the list of ntop recommendations based on a list of items (user history of views)\n",
    "    \n",
    "    :param items_id: list of items ids\n",
    "    :param coocurrence: co-ocurrence matrix (numpy 2-dim array)\n",
    "    :param ntop: top-K items to be retrieved\n",
    "    \n",
    "    :return list of ntop items recommended\n",
    "    \"\"\"\n",
    "    # put together all the similar items and its value. For this, use np.vstack, wich stacks one array after \n",
    "    # another (row wise)\n",
    "    list_sim_items = np.vstack([co_occurrance_similarity(id_, cooccurrance, ntop) for id_ in items_id])\n",
    "    # Group by id and take the maximum frquency to remove duplicates\n",
    "    largest_freq = pd.DataFrame(list_sim_items, columns=['id', 'freq']).groupby('id').agg(max).reset_index()\n",
    "    \n",
    "    # sort by value in descending order\n",
    "    sorted_list = largest_freq.sort_values(by='freq', ascending=False)\n",
    "    \n",
    "    # get the top N\n",
    "    out = sorted_list.values[:ntop, 0]\n",
    "    return out"
   ]
  },
  {
   "cell_type": "code",
   "execution_count": null,
   "id": "0ebb6a9d",
   "metadata": {},
   "outputs": [],
   "source": [
    "# get users in train with their movies\n",
    "trainUsersGrouped = train.groupby('user_id')['item_id'].apply(list).reset_index()\n",
    "trainUsersGrouped.head()"
   ]
  },
  {
   "cell_type": "code",
   "execution_count": null,
   "id": "d8ab5c34",
   "metadata": {},
   "outputs": [],
   "source": [
    "Ntop = 20\n",
    "# Get the recommendations for all users using the apply method\n",
    "predictions = trainUsersGrouped.item_id.apply(lambda x: co_occurrance_recommendation(x, coMatrix, Ntop))\n",
    "predictions.head()"
   ]
  },
  {
   "cell_type": "code",
   "execution_count": null,
   "id": "8f155aa7",
   "metadata": {},
   "outputs": [],
   "source": [
    "# get users in test with their movies\n",
    "testUsersGrouped = test.groupby('user_id')['item_id'].apply(list).reset_index()\n",
    "testUsersGrouped.head()"
   ]
  },
  {
   "cell_type": "code",
   "execution_count": null,
   "id": "717a0ab1",
   "metadata": {},
   "outputs": [],
   "source": [
    "for (seen, recom) in zip(testUsersGrouped.values[:5, 1], predictions[:5]):\n",
    "    print(\"*\"*6)\n",
    "    print(\"Seen items: \")\n",
    "    print([resample_item_dict[i] for i in seen])\n",
    "    print(\"Recommended items: \")\n",
    "    print([resample_item_dict[i] for i in recom]) #QUITAR ELEMENTOS MOSTRADOS"
   ]
  },
  {
   "cell_type": "code",
   "execution_count": null,
   "id": "b1ea97e0",
   "metadata": {},
   "outputs": [],
   "source": [
    "topN=30\n",
    "# add a prediction column to train\n",
    "trainUsersGrouped['prediction'] = trainUsersGrouped.item_id.apply(\n",
    "    lambda x: co_occurrance_recommendation(x, coMatrix, topN)\n",
    ")"
   ]
  },
  {
   "cell_type": "code",
   "execution_count": null,
   "id": "c593a337",
   "metadata": {},
   "outputs": [],
   "source": [
    "trainUsersGrouped.head()"
   ]
  },
  {
   "cell_type": "code",
   "execution_count": null,
   "id": "0b217163",
   "metadata": {},
   "outputs": [],
   "source": [
    "# Join the df with train and predictions with the test df\n",
    "joined = pd.merge(trainUsersGrouped, testUsersGrouped, how='inner', on='user_id', suffixes=('_train', '_test'))"
   ]
  },
  {
   "cell_type": "code",
   "execution_count": null,
   "id": "f64fb02f",
   "metadata": {},
   "outputs": [],
   "source": [
    "joined.head()"
   ]
  },
  {
   "cell_type": "code",
   "execution_count": null,
   "id": "a9ee052c",
   "metadata": {},
   "outputs": [],
   "source": [
    "def evaluate_recall(topN, trainGrouped, testGrouped, coMatrix, popularity_baseline):\n",
    "    # add a prediction column to train\n",
    "    trainUsersGrouped['prediction'] = trainUsersGrouped.item_id.apply(\n",
    "        lambda x: co_occurrance_recommendation(x, coMatrix, topN)\n",
    "    )\n",
    "    # join with test data\n",
    "    joined = pd.merge(trainUsersGrouped, testUsersGrouped, how='inner', on='user_id', suffixes=('_train', '_test'))\n",
    "    # calculate average recall\n",
    "    recall = joined.apply(lambda l: \n",
    "                 recall_at_n(N=topN, test=l[3], recommended=l[2], train=l[1]), axis=1).mean()\n",
    "    print(\"Co-occurance model: recall@%s=%.3f\"%(topN, recall))\n",
    "    # calculate average recall for the baseline\n",
    "    recall_baseline = joined.apply(lambda l: \n",
    "                 recall_at_n(N=topN, test=l[3], recommended=popularity_baseline, train=l[1]), axis=1).mean()\n",
    "    print(\"Popularity model: recall@%s=%.3f\"%(topN, recall_baseline))    \n",
    "    return recall, recall_baseline"
   ]
  },
  {
   "cell_type": "code",
   "execution_count": null,
   "id": "0efb635c",
   "metadata": {},
   "outputs": [],
   "source": [
    "for k in [5,10,20,30]:\n",
    "    evaluate_recall(k, trainUsersGrouped, testUsersGrouped, coMatrix, popularbg[:, 0]);"
   ]
  },
  {
   "cell_type": "code",
   "execution_count": 20,
   "id": "44602e56",
   "metadata": {},
   "outputs": [],
   "source": [
    "## CF ALS"
   ]
  },
  {
   "cell_type": "code",
   "execution_count": 25,
   "id": "b36e37fb",
   "metadata": {},
   "outputs": [],
   "source": [
    "#Creamos una sesion de spark\n",
    "spark = SparkSession.builder.getOrCreate()"
   ]
  },
  {
   "cell_type": "code",
   "execution_count": 27,
   "id": "5b2fef8a",
   "metadata": {},
   "outputs": [
    {
     "name": "stdout",
     "output_type": "stream",
     "text": [
      "+-------+-------+------+\n",
      "|user_id|item_id|rating|\n",
      "+-------+-------+------+\n",
      "|      0|      0|     0|\n",
      "|      0|      1|     1|\n",
      "|      0|      2|     1|\n",
      "|      0|      3|     1|\n",
      "|      0|      4|     1|\n",
      "+-------+-------+------+\n",
      "only showing top 5 rows\n",
      "\n",
      "+-------+------------------+--------------+\n",
      "|item_id|title             |category      |\n",
      "+-------+------------------+--------------+\n",
      "|747    |Die Macher        |1021,1026,1001|\n",
      "|5896   |Dragonmaster      |1002,1010     |\n",
      "|292    |Samurai           |1009,1035     |\n",
      "|6308   |Tal der Könige    |1050          |\n",
      "|15364  |Mare Mediterraneum|1015,1008     |\n",
      "+-------+------------------+--------------+\n",
      "only showing top 5 rows\n",
      "\n"
     ]
    }
   ],
   "source": [
    "'''El análogo a Pandas dataframe es Spark dataframe, al cual es necesario darle un schema de construcción'''\n",
    "\n",
    "schema = StructType(\n",
    "    (\n",
    "        StructField(\"user_id\", IntegerType()),\n",
    "        StructField(\"item_id\", IntegerType()),\n",
    "        StructField(\"rating\", IntegerType()),\n",
    "    )\n",
    ")\n",
    "\n",
    "df_ratings = spark.createDataFrame(dfratings, schema=schema)\n",
    "df_ratings.show(5)\n",
    "\n",
    "schema = StructType(\n",
    "    (\n",
    "        StructField(\"item_id\", IntegerType()),\n",
    "        StructField(\"title\", StringType()),\n",
    "        StructField(\"category\", StringType()),\n",
    "    )\n",
    ")\n",
    "\n",
    "\n",
    "df_games = spark.createDataFrame(dfgames, schema=schema)\n",
    "df_games.show(5, False)\n"
   ]
  },
  {
   "cell_type": "code",
   "execution_count": 28,
   "id": "ef1f5675",
   "metadata": {},
   "outputs": [
    {
     "name": "stdout",
     "output_type": "stream",
     "text": [
      "N train 671495\n",
      "N test 167282\n"
     ]
    }
   ],
   "source": [
    "#Split the data using the Spark random \n",
    "train, test = df_ratings.randomSplit([0.8, 0.2])\n",
    "print (\"N train\", train.cache().count())\n",
    "print (\"N test\", test.cache().count())"
   ]
  },
  {
   "cell_type": "code",
   "execution_count": 29,
   "id": "096c978a",
   "metadata": {},
   "outputs": [
    {
     "data": {
      "text/plain": [
       "'\\nParámetros:\\n\\n* rank:        Number of latent factors in the model (defaults to 10).\\n* maxIter:     Maximum number of iterations to run (defaults to 10).\\n* regParam:    Regularization parameter in ALS (defaults to 1.0).\\n* nonnegative: Use nonnegative constraints for least squares (defaults to false).\\n\\n'"
      ]
     },
     "execution_count": 29,
     "metadata": {},
     "output_type": "execute_result"
    }
   ],
   "source": [
    "#Construimos el modelo\n",
    "'''Configuración del modelo ALS en Spark'''\n",
    "\n",
    "rec = ALS(maxIter=10, regParam=0.01, implicitPrefs=True, userCol='user_id', itemCol='item_id', ratingCol='rating', nonnegative=True, coldStartStrategy=\"drop\")\n",
    "\n",
    "'''\n",
    "Parámetros:\n",
    "\n",
    "* rank:        Number of latent factors in the model (defaults to 10).\n",
    "* maxIter:     Maximum number of iterations to run (defaults to 10).\n",
    "* regParam:    Regularization parameter in ALS (defaults to 1.0).\n",
    "* nonnegative: Use nonnegative constraints for least squares (defaults to false).\n",
    "\n",
    "'''"
   ]
  },
  {
   "cell_type": "code",
   "execution_count": 30,
   "id": "7cce5714",
   "metadata": {},
   "outputs": [],
   "source": [
    "#Entrenamos el modelo\n",
    "model = rec.fit(train)"
   ]
  },
  {
   "cell_type": "code",
   "execution_count": 31,
   "id": "175ffc55",
   "metadata": {},
   "outputs": [
    {
     "name": "stdout",
     "output_type": "stream",
     "text": [
      "+-------+-------+------+------------+\n",
      "|user_id|item_id|rating|  prediction|\n",
      "+-------+-------+------+------------+\n",
      "|   1139|    148|     1|  0.41549194|\n",
      "|   2238|    148|     0|  0.26529557|\n",
      "|    513|    148|     1|  0.47048476|\n",
      "|   1005|    148|     0|  0.20431815|\n",
      "|   2564|    148|     0|  0.35755113|\n",
      "|    876|    148|     0|0.0033049937|\n",
      "|    368|    148|     1|   0.5412031|\n",
      "|    772|    148|     1|   0.7745851|\n",
      "|    830|    148|     1|   0.7253903|\n",
      "|    210|    148|     0|  0.51075816|\n",
      "+-------+-------+------+------------+\n",
      "only showing top 10 rows\n",
      "\n"
     ]
    }
   ],
   "source": [
    "#Vemos las predicciones\n",
    "predictions = model.transform(test)\n",
    "predictions.show(10)"
   ]
  },
  {
   "cell_type": "code",
   "execution_count": 32,
   "id": "37b249a2",
   "metadata": {},
   "outputs": [
    {
     "name": "stdout",
     "output_type": "stream",
     "text": [
      "+-------+-------+------+-----------+\n",
      "|user_id|item_id|rating| prediction|\n",
      "+-------+-------+------+-----------+\n",
      "|     19|     26|     1|  0.2105639|\n",
      "|     19|     34|     1| 0.36611417|\n",
      "|     19|     40|     1|  0.3984456|\n",
      "|     19|     70|     1| 0.71551883|\n",
      "|     19|     82|     1|0.099094376|\n",
      "+-------+-------+------+-----------+\n",
      "only showing top 5 rows\n",
      "\n",
      "+-------+-------+------+----------+\n",
      "|user_id|item_id|rating|prediction|\n",
      "+-------+-------+------+----------+\n",
      "|     19|     70|     1|0.71551883|\n",
      "|     19|   1500|     1|   0.65379|\n",
      "|     19|    521|     1|0.58734435|\n",
      "|     19|    621|     1|0.58279544|\n",
      "|     19|    149|     1| 0.5730952|\n",
      "+-------+-------+------+----------+\n",
      "only showing top 5 rows\n",
      "\n"
     ]
    }
   ],
   "source": [
    "'''Escogemos un usuario y rankeamos las predicciones'''\n",
    "\n",
    "user = 19\n",
    "\n",
    "predictions.filter(F.col('user_id') == user)\\\n",
    "                 .orderBy(F.col('item_id')).show(5)  \n",
    "\n",
    "predictions.filter(F.col('user_id') == user)\\\n",
    "                 .orderBy(F.col('prediction'), ascending=False).show(5)"
   ]
  },
  {
   "cell_type": "code",
   "execution_count": 33,
   "id": "ebe331b1",
   "metadata": {},
   "outputs": [],
   "source": [
    "# Evaluacion\n",
    "evaluator = RegressionEvaluator(metricName=\"rmse\", labelCol=\"rating\", predictionCol=\"prediction\")"
   ]
  },
  {
   "cell_type": "code",
   "execution_count": 34,
   "id": "5cb6311f",
   "metadata": {},
   "outputs": [
    {
     "name": "stdout",
     "output_type": "stream",
     "text": [
      "Root-mean-square error = 0.6030811975510398\n"
     ]
    }
   ],
   "source": [
    "# Contabilizamos el error\n",
    "rmse = evaluator.evaluate(predictions)\n",
    "print(\"Root-mean-square error = \" + str(rmse))"
   ]
  },
  {
   "cell_type": "code",
   "execution_count": 35,
   "id": "7e348412",
   "metadata": {},
   "outputs": [
    {
     "data": {
      "text/html": [
       "<div>\n",
       "<style scoped>\n",
       "    .dataframe tbody tr th:only-of-type {\n",
       "        vertical-align: middle;\n",
       "    }\n",
       "\n",
       "    .dataframe tbody tr th {\n",
       "        vertical-align: top;\n",
       "    }\n",
       "\n",
       "    .dataframe thead th {\n",
       "        text-align: right;\n",
       "    }\n",
       "</style>\n",
       "<table border=\"1\" class=\"dataframe\">\n",
       "  <thead>\n",
       "    <tr style=\"text-align: right;\">\n",
       "      <th></th>\n",
       "      <th>user_id</th>\n",
       "      <th>item_id</th>\n",
       "      <th>rating</th>\n",
       "      <th>prediction</th>\n",
       "      <th>dif</th>\n",
       "    </tr>\n",
       "  </thead>\n",
       "  <tbody>\n",
       "    <tr>\n",
       "      <th>0</th>\n",
       "      <td>1139</td>\n",
       "      <td>148</td>\n",
       "      <td>1</td>\n",
       "      <td>0.415492</td>\n",
       "      <td>0.584508</td>\n",
       "    </tr>\n",
       "    <tr>\n",
       "      <th>1</th>\n",
       "      <td>2238</td>\n",
       "      <td>148</td>\n",
       "      <td>0</td>\n",
       "      <td>0.265296</td>\n",
       "      <td>-0.265296</td>\n",
       "    </tr>\n",
       "    <tr>\n",
       "      <th>2</th>\n",
       "      <td>513</td>\n",
       "      <td>148</td>\n",
       "      <td>1</td>\n",
       "      <td>0.470485</td>\n",
       "      <td>0.529515</td>\n",
       "    </tr>\n",
       "    <tr>\n",
       "      <th>3</th>\n",
       "      <td>1005</td>\n",
       "      <td>148</td>\n",
       "      <td>0</td>\n",
       "      <td>0.204318</td>\n",
       "      <td>-0.204318</td>\n",
       "    </tr>\n",
       "    <tr>\n",
       "      <th>4</th>\n",
       "      <td>2564</td>\n",
       "      <td>148</td>\n",
       "      <td>0</td>\n",
       "      <td>0.357551</td>\n",
       "      <td>-0.357551</td>\n",
       "    </tr>\n",
       "  </tbody>\n",
       "</table>\n",
       "</div>"
      ],
      "text/plain": [
       "   user_id  item_id  rating  prediction       dif\n",
       "0     1139      148       1    0.415492  0.584508\n",
       "1     2238      148       0    0.265296 -0.265296\n",
       "2      513      148       1    0.470485  0.529515\n",
       "3     1005      148       0    0.204318 -0.204318\n",
       "4     2564      148       0    0.357551 -0.357551"
      ]
     },
     "execution_count": 35,
     "metadata": {},
     "output_type": "execute_result"
    }
   ],
   "source": [
    "# Con este comando creamos una nueva columna que es la diferencia y-y_hat\n",
    "# Y lo pasamos a pandas para verlo en un histograma\n",
    "predicted_ratings = predictions.withColumn('dif', F.col('rating')-F.col('prediction')).toPandas()\n",
    "predicted_ratings.head()"
   ]
  },
  {
   "cell_type": "code",
   "execution_count": 36,
   "id": "c26332b4",
   "metadata": {},
   "outputs": [
    {
     "name": "stdout",
     "output_type": "stream",
     "text": [
      "+-------+-----------------------------------------------------------------------------------------+\n",
      "|user_id|recommendations                                                                          |\n",
      "+-------+-----------------------------------------------------------------------------------------+\n",
      "|19     |[{814, 0.8773691}, {4, 0.83757365}, {44, 0.81563264}, {360, 0.80327845}, {46, 0.7951992}]|\n",
      "+-------+-----------------------------------------------------------------------------------------+\n",
      "\n"
     ]
    }
   ],
   "source": [
    "#Realizamos una recomendación\n",
    "'''Spark-ALS nos ofrece también comandos para la generación de recomendaciones'''\n",
    "\n",
    "# Las 5 mejores peliculas para todos los usuarios\n",
    "userRecs = model.recommendForAllUsers(5)\n",
    "\n",
    "# Filtramos para nuestro usuario concreto\n",
    "userRecs.filter(F.col('user_id')==user).show(1,False)"
   ]
  },
  {
   "cell_type": "code",
   "execution_count": 37,
   "id": "4875cdbf",
   "metadata": {},
   "outputs": [],
   "source": [
    "predictions_mod=predictions.select(['user_id','item_id','prediction'])"
   ]
  },
  {
   "cell_type": "code",
   "execution_count": 38,
   "id": "bf825b7b",
   "metadata": {},
   "outputs": [],
   "source": [
    "TOP_K = 10\n",
    "rank_eval = SparkRankingEvaluation(test, predictions_mod, k = TOP_K, col_user=\"user_id\", col_item=\"item_id\", \n",
    "                                    col_rating=\"rating\", col_prediction=\"prediction\", \n",
    "                                    relevancy_method=\"top_k\")"
   ]
  },
  {
   "cell_type": "code",
   "execution_count": 39,
   "id": "5530faf4",
   "metadata": {},
   "outputs": [
    {
     "name": "stdout",
     "output_type": "stream",
     "text": [
      "Model:\tALS\n",
      "Top K:\t10\n",
      "MAP:\t0.359849\n",
      "Recall@K:\t0.359849\n"
     ]
    }
   ],
   "source": [
    "print(\"Model:\\tALS\",\n",
    "      \"Top K:\\t%d\" % rank_eval.k,\n",
    "      \"MAP:\\t%f\" % rank_eval.map_at_k(),\n",
    "      \"Recall@K:\\t%f\" % rank_eval.recall_at_k(), sep='\\n')"
   ]
  },
  {
   "cell_type": "code",
   "execution_count": 40,
   "id": "4ca000d9",
   "metadata": {},
   "outputs": [
    {
     "name": "stdout",
     "output_type": "stream",
     "text": [
      "The root mean squared error for our model is: 0.5956734511935461\n"
     ]
    }
   ],
   "source": [
    "'''Este proceso nos permite encontrar los hiperparámetros que mejor se ajustan a una predicción.\n",
    "   Este proceso, requiere ejecutar varias repeticiones del mismo modelo, por lo que consume tiempo \n",
    "   de computación.'''\n",
    "\n",
    "\n",
    "from pyspark.ml.tuning import CrossValidator, ParamGridBuilder\n",
    "\n",
    "(trainingRatings, validationRatings) = df_ratings.randomSplit([80.0, 20.0])\n",
    "\n",
    "evaluator = RegressionEvaluator(metricName='rmse', labelCol='rating', predictionCol='prediction')\n",
    "\n",
    "paramGrid = ParamGridBuilder()\\\n",
    "                .addGrid(rec.rank, [5, 7, 10,20])\\\n",
    "                .addGrid(rec.maxIter, [20])\\\n",
    "                .addGrid(rec.regParam, [0.05, 0.1, 0.5]).build()\n",
    "\n",
    "crossval = CrossValidator(estimator=rec, estimatorParamMaps=paramGrid, evaluator=evaluator, numFolds=10)\n",
    "cvModel = crossval.fit(trainingRatings)\n",
    "predictions = cvModel.transform(validationRatings)\n",
    "\n",
    "print('The root mean squared error for our model is: {}'.format(evaluator.evaluate(predictions.na.drop())))"
   ]
  },
  {
   "cell_type": "code",
   "execution_count": 62,
   "id": "634d0150",
   "metadata": {},
   "outputs": [],
   "source": [
    "best_model=cvModel.bestModel"
   ]
  },
  {
   "cell_type": "code",
   "execution_count": 63,
   "id": "377c1631",
   "metadata": {},
   "outputs": [],
   "source": [
    "path='/DATA'\n",
    "best_model.write().overwrite().save(\"DATA/cvModel_bm\")"
   ]
  },
  {
   "cell_type": "code",
   "execution_count": 44,
   "id": "ae97879c",
   "metadata": {},
   "outputs": [
    {
     "name": "stdout",
     "output_type": "stream",
     "text": [
      "+-------+-------+------+----------+\n",
      "|user_id|item_id|rating|prediction|\n",
      "+-------+-------+------+----------+\n",
      "|   2659|    148|     1| 0.7264628|\n",
      "|    897|    148|     1|0.15539992|\n",
      "|   1990|    148|     1|0.82738805|\n",
      "|   2580|    148|     1|0.41153458|\n",
      "|    516|    148|     1|0.09480336|\n",
      "|   2096|    148|     0|0.18181685|\n",
      "|   2622|    148|     0|       0.0|\n",
      "|    613|    148|     1| 0.2595713|\n",
      "|    375|    148|     1| 0.5614809|\n",
      "|    593|    148|     0| 0.1573008|\n",
      "|    530|    148|     1|0.23072395|\n",
      "|    772|    148|     1| 0.8326964|\n",
      "|   1165|    148|     1|0.45428574|\n",
      "|   2261|    148|     1|0.47950786|\n",
      "|   1259|    148|     1|0.30406782|\n",
      "|   1031|    148|     1|0.69918656|\n",
      "|   2683|    148|     1|0.37176973|\n",
      "|   1051|    148|     0|       0.0|\n",
      "|   1489|    148|     0|0.24846314|\n",
      "|   1752|    148|     1| 0.5928776|\n",
      "+-------+-------+------+----------+\n",
      "only showing top 20 rows\n",
      "\n"
     ]
    }
   ],
   "source": [
    "predictions.show()"
   ]
  },
  {
   "cell_type": "code",
   "execution_count": 68,
   "id": "9b2727e3",
   "metadata": {},
   "outputs": [],
   "source": [
    "predictions = best_model.transform(validationRatings)\n",
    "predictions_cv_mod=predictions.select(['user_id','item_id','prediction'])"
   ]
  },
  {
   "cell_type": "code",
   "execution_count": 46,
   "id": "eb0ba754",
   "metadata": {},
   "outputs": [
    {
     "name": "stdout",
     "output_type": "stream",
     "text": [
      "+-------+--------------------+\n",
      "|user_id|     recommendations|\n",
      "+-------+--------------------+\n",
      "|   1580|[{695, 0.7982432}...|\n",
      "|    471|[{826, 0.8448902}...|\n",
      "|   1591|[{167, 0.73535216...|\n",
      "|   1342|[{46, 0.78094655}...|\n",
      "|   2122|[{268, 0.44451216...|\n",
      "+-------+--------------------+\n",
      "only showing top 5 rows\n",
      "\n",
      "+-------+--------------------+\n",
      "|item_id|     recommendations|\n",
      "+-------+--------------------+\n",
      "|    148|[{1603, 1.0292795...|\n",
      "|    463|[{1310, 0.4224890...|\n",
      "|    471|[{2168, 0.0833495...|\n",
      "|    496|[{2055, 0.0415961...|\n",
      "|    833|[{1253, 0.8953640...|\n",
      "+-------+--------------------+\n",
      "only showing top 5 rows\n",
      "\n"
     ]
    }
   ],
   "source": [
    "# Generate top 10 digital music recommendations for each user\n",
    "userRecs = cvModel.bestModel.recommendForAllUsers(10)\n",
    "# Generate top 10 user recommendations for each digital music\n",
    "boardGameRecs = cvModel.bestModel.recommendForAllItems(10)\n",
    "\n",
    "userRecs.show(5)\n",
    "boardGameRecs.show(5)"
   ]
  },
  {
   "cell_type": "code",
   "execution_count": 69,
   "id": "641e5eda",
   "metadata": {},
   "outputs": [],
   "source": [
    "TOP_K = 10\n",
    "rank_eval2 = SparkRankingEvaluation(validationRatings, predictionscv_mod, k = TOP_K, col_user=\"user_id\", col_item=\"item_id\", \n",
    "                                    col_rating=\"rating\", col_prediction=\"prediction\", \n",
    "                                    relevancy_method=\"top_k\")"
   ]
  },
  {
   "cell_type": "code",
   "execution_count": 70,
   "id": "fb3ab82b",
   "metadata": {},
   "outputs": [
    {
     "name": "stdout",
     "output_type": "stream",
     "text": [
      "Model:\tALS\n",
      "Top K:\t10\n",
      "MAP:\t0.360087\n",
      "Recall@K:\t0.360087\n"
     ]
    }
   ],
   "source": [
    "print(\"Model:\\tALS\",\n",
    "      \"Top K:\\t%d\" % rank_eval2.k,\n",
    "      \"MAP:\\t%f\" % rank_eval2.map_at_k(),\n",
    "      \"Recall@K:\\t%f\" % rank_eval2.recall_at_k(), sep='\\n')"
   ]
  },
  {
   "cell_type": "code",
   "execution_count": 49,
   "id": "6996cb18",
   "metadata": {},
   "outputs": [],
   "source": [
    "boardGameRecs_pandas = cvModel.bestModel.recommendForAllItems(10).toPandas()\n",
    "userRecs_pandas = cvModel.bestModel.recommendForAllUsers(10).toPandas()\n",
    "boardGameRecs_pandas['recommendations'][0]\n",
    "userRecs_pandas['recommendations'][3]"
   ]
  },
  {
   "cell_type": "code",
   "execution_count": 78,
   "id": "c447c777",
   "metadata": {},
   "outputs": [],
   "source": [
    "recs=userRecs[0]"
   ]
  },
  {
   "cell_type": "code",
   "execution_count": 75,
   "id": "f0d8bc38",
   "metadata": {},
   "outputs": [],
   "source": [
    "def get_recs_for_user(recs):\n",
    "    #Recs should be for a specific user\n",
    "    recs=recs.select(\"recommendations.item_id\",\"recommendations.ratings\")\n",
    "    items=recs.select('item_id').toPandas().iloc[0,0]\n",
    "    ratings=recs.select(\"ratings\").toPandas().iloc[0,0]\n",
    "    rating_matrix=pd.DataFrame(items, columns=['item_id'])\n",
    "    rating_matrix['ratings']=ratings\n",
    "    rating_matrix_ps=sqlContext.createDataFrame(rating_matix)\n",
    "    return rating_matrix_ps"
   ]
  },
  {
   "cell_type": "code",
   "execution_count": null,
   "id": "761773c2",
   "metadata": {},
   "outputs": [],
   "source": []
  },
  {
   "cell_type": "code",
   "execution_count": null,
   "id": "00a75f8f",
   "metadata": {},
   "outputs": [],
   "source": []
  },
  {
   "cell_type": "code",
   "execution_count": null,
   "id": "711caba2",
   "metadata": {},
   "outputs": [],
   "source": []
  },
  {
   "cell_type": "code",
   "execution_count": null,
   "id": "c924e5c1",
   "metadata": {},
   "outputs": [],
   "source": []
  },
  {
   "cell_type": "code",
   "execution_count": null,
   "id": "0521d70e",
   "metadata": {},
   "outputs": [],
   "source": []
  },
  {
   "cell_type": "code",
   "execution_count": null,
   "id": "24e6b8ce",
   "metadata": {},
   "outputs": [],
   "source": []
  },
  {
   "cell_type": "code",
   "execution_count": null,
   "id": "4310c3c8",
   "metadata": {},
   "outputs": [],
   "source": []
  },
  {
   "cell_type": "code",
   "execution_count": null,
   "id": "5de30e05",
   "metadata": {},
   "outputs": [],
   "source": []
  },
  {
   "cell_type": "code",
   "execution_count": null,
   "id": "76e1193c",
   "metadata": {},
   "outputs": [],
   "source": []
  },
  {
   "cell_type": "code",
   "execution_count": 83,
   "id": "2941408e",
   "metadata": {},
   "outputs": [],
   "source": [
    "sameModel = cvModel.load(\"DATA/cvModel\")"
   ]
  },
  {
   "cell_type": "code",
   "execution_count": 85,
   "id": "f8f86077",
   "metadata": {},
   "outputs": [],
   "source": [
    "\n",
    "spark.stop()"
   ]
  },
  {
   "cell_type": "code",
   "execution_count": null,
   "id": "89698d10",
   "metadata": {},
   "outputs": [],
   "source": []
  }
 ],
 "metadata": {
  "kernelspec": {
   "display_name": "Python 3",
   "language": "python",
   "name": "python3"
  },
  "language_info": {
   "codemirror_mode": {
    "name": "ipython",
    "version": 3
   },
   "file_extension": ".py",
   "mimetype": "text/x-python",
   "name": "python",
   "nbconvert_exporter": "python",
   "pygments_lexer": "ipython3",
   "version": "3.9.5"
  }
 },
 "nbformat": 4,
 "nbformat_minor": 5
}
