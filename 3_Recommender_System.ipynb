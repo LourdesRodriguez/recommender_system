{
 "cells": [
  {
   "cell_type": "code",
   "execution_count": 56,
   "id": "22bb1bef",
   "metadata": {},
   "outputs": [
    {
     "name": "stdout",
     "output_type": "stream",
     "text": [
      "System version: 3.9.5 (default, May 18 2021, 12:31:01) \n",
      "[Clang 10.0.0 ]\n",
      "Spark version: 3.1.2\n"
     ]
    }
   ],
   "source": [
    "import os\n",
    "import glob\n",
    "import pandas as pd\n",
    "import numpy as np\n",
    "import matplotlib as plt\n",
    "import matplotlib.pyplot as plt\n",
    "\n",
    "from sklearn.metrics.pairwise import cosine_similarity\n",
    "from sklearn.feature_extraction.text import CountVectorizer\n",
    "from sklearn.model_selection import train_test_split\n",
    "\n",
    "import sys\n",
    "import pyspark\n",
    "import pyspark.sql.functions as F\n",
    "from pyspark.sql import SparkSession\n",
    "from pyspark.ml import Pipeline\n",
    "from pyspark.sql.types import StructType, StructField, StringType, DoubleType, IntegerType\n",
    "from pyspark.ml.recommendation import ALS\n",
    "from pyspark.ml.evaluation import RegressionEvaluator\n",
    "from pyspark.ml.tuning import CrossValidator, ParamGridBuilder\n",
    "# Recall y precision\n",
    "from reco_utils.evaluation.spark_evaluation import SparkRatingEvaluation, SparkRankingEvaluation\n",
    "\n",
    "\n",
    "print(\"System version: {}\".format(sys.version))\n",
    "print(\"Spark version: {}\".format(pyspark.__version__))"
   ]
  },
  {
   "cell_type": "code",
   "execution_count": 2,
   "id": "98abc862",
   "metadata": {},
   "outputs": [],
   "source": [
    "path='./DATA'\n",
    "file = os.path.join(path, \"users_bgs.csv\")"
   ]
  },
  {
   "cell_type": "code",
   "execution_count": 3,
   "id": "80254757",
   "metadata": {},
   "outputs": [
    {
     "data": {
      "text/html": [
       "<div>\n",
       "<style scoped>\n",
       "    .dataframe tbody tr th:only-of-type {\n",
       "        vertical-align: middle;\n",
       "    }\n",
       "\n",
       "    .dataframe tbody tr th {\n",
       "        vertical-align: top;\n",
       "    }\n",
       "\n",
       "    .dataframe thead th {\n",
       "        text-align: right;\n",
       "    }\n",
       "</style>\n",
       "<table border=\"1\" class=\"dataframe\">\n",
       "  <thead>\n",
       "    <tr style=\"text-align: right;\">\n",
       "      <th></th>\n",
       "      <th>u_id</th>\n",
       "      <th>Game</th>\n",
       "      <th>Your Rating</th>\n",
       "      <th>bgg_id</th>\n",
       "      <th>category</th>\n",
       "    </tr>\n",
       "  </thead>\n",
       "  <tbody>\n",
       "    <tr>\n",
       "      <th>0</th>\n",
       "      <td>0</td>\n",
       "      <td>1830: Railways &amp; Robber Barons</td>\n",
       "      <td>-1</td>\n",
       "      <td>421</td>\n",
       "      <td>1021,1034,1011</td>\n",
       "    </tr>\n",
       "    <tr>\n",
       "      <th>1</th>\n",
       "      <td>0</td>\n",
       "      <td>18AL</td>\n",
       "      <td>7</td>\n",
       "      <td>2612</td>\n",
       "      <td>1021,1120,1034,1011</td>\n",
       "    </tr>\n",
       "    <tr>\n",
       "      <th>2</th>\n",
       "      <td>0</td>\n",
       "      <td>2 de Mayo</td>\n",
       "      <td>6</td>\n",
       "      <td>36522</td>\n",
       "      <td>1051,1019</td>\n",
       "    </tr>\n",
       "    <tr>\n",
       "      <th>3</th>\n",
       "      <td>0</td>\n",
       "      <td>23</td>\n",
       "      <td>7</td>\n",
       "      <td>103651</td>\n",
       "      <td>1002</td>\n",
       "    </tr>\n",
       "    <tr>\n",
       "      <th>4</th>\n",
       "      <td>0</td>\n",
       "      <td>6 nimmt!</td>\n",
       "      <td>7</td>\n",
       "      <td>432</td>\n",
       "      <td>1002,1098</td>\n",
       "    </tr>\n",
       "  </tbody>\n",
       "</table>\n",
       "</div>"
      ],
      "text/plain": [
       "   u_id                            Game  Your Rating  bgg_id  \\\n",
       "0     0  1830: Railways & Robber Barons           -1     421   \n",
       "1     0                            18AL            7    2612   \n",
       "2     0                       2 de Mayo            6   36522   \n",
       "3     0                              23            7  103651   \n",
       "4     0                        6 nimmt!            7     432   \n",
       "\n",
       "              category  \n",
       "0       1021,1034,1011  \n",
       "1  1021,1120,1034,1011  \n",
       "2            1051,1019  \n",
       "3                 1002  \n",
       "4            1002,1098  "
      ]
     },
     "execution_count": 3,
     "metadata": {},
     "output_type": "execute_result"
    }
   ],
   "source": [
    "df=pd.read_csv(file, usecols=['u_id','bgg_id','Game','category','Your Rating'], low_memory=False)\n",
    "df.head()"
   ]
  },
  {
   "cell_type": "code",
   "execution_count": 4,
   "id": "6196d1e7",
   "metadata": {},
   "outputs": [],
   "source": [
    "#Transform explicit values to implicit values\n",
    "df['Rating'] = df['Your Rating'].apply(lambda x: 1 if x>0 else 0)"
   ]
  },
  {
   "cell_type": "markdown",
   "id": "2d55ed26",
   "metadata": {},
   "source": [
    "#### Remove users who only have one board game"
   ]
  },
  {
   "cell_type": "code",
   "execution_count": 5,
   "id": "5f154b4a",
   "metadata": {},
   "outputs": [],
   "source": [
    "#Group by 'user_id'\n",
    "p=df.groupby('u_id').count()"
   ]
  },
  {
   "cell_type": "code",
   "execution_count": 6,
   "id": "ee284b9f",
   "metadata": {},
   "outputs": [
    {
     "data": {
      "text/plain": [
       "6"
      ]
     },
     "execution_count": 6,
     "metadata": {},
     "output_type": "execute_result"
    }
   ],
   "source": [
    "# Visualise users with a single board game\n",
    "(p['bgg_id']==1).sum()"
   ]
  },
  {
   "cell_type": "code",
   "execution_count": 7,
   "id": "68d91237",
   "metadata": {},
   "outputs": [],
   "source": [
    "# Remove the user_id with a single board game\n",
    "bgu=list(p[p['bgg_id']==1].index)\n",
    "\n",
    "dfm = df[~df.u_id.isin(bgu)]"
   ]
  },
  {
   "cell_type": "markdown",
   "id": "ff469a60",
   "metadata": {},
   "source": [
    "#### Modified the id of games and users so that they are correlative"
   ]
  },
  {
   "cell_type": "code",
   "execution_count": 8,
   "id": "b629aff0",
   "metadata": {},
   "outputs": [],
   "source": [
    "# Create a dictionary for games titles and ids\n",
    "\n",
    "bgg_id=list(dfm['bgg_id'])\n",
    "game=list(dfm['Game'])\n",
    "\n",
    "item_dict={}\n",
    "\n",
    "for key in bgg_id:\n",
    "    for value in game:\n",
    "        item_dict[key] = value\n",
    "        game.remove(value)\n",
    "        break "
   ]
  },
  {
   "cell_type": "code",
   "execution_count": 9,
   "id": "99309f9a",
   "metadata": {},
   "outputs": [
    {
     "name": "stdout",
     "output_type": "stream",
     "text": [
      "36535\n",
      "36535\n"
     ]
    }
   ],
   "source": [
    "print(len(set(item_dict.keys())))\n",
    "print(len(set(item_dict.values())))"
   ]
  },
  {
   "cell_type": "code",
   "execution_count": 10,
   "id": "09dcdef2",
   "metadata": {},
   "outputs": [],
   "source": [
    "# Resample\n",
    "resample_id_item_dict={}\n",
    "for index, key in enumerate(item_dict.keys()):\n",
    "    resample_id_item_dict[key]= index\n",
    "    "
   ]
  },
  {
   "cell_type": "code",
   "execution_count": 11,
   "id": "b585884a",
   "metadata": {},
   "outputs": [],
   "source": [
    "resample_item_dict = {resample_id_item_dict[k]:v for k,v in item_dict.items()}\n",
    "assert(len(set(resample_item_dict.keys())) == len(set(resample_item_dict.values())))"
   ]
  },
  {
   "cell_type": "code",
   "execution_count": 12,
   "id": "f60c014c",
   "metadata": {},
   "outputs": [],
   "source": [
    "# Create a dictionary for resample users id\n",
    "\n",
    "u_id=list(dfm['u_id'].unique())\n",
    "resample_user_dict={}\n",
    "\n",
    "for index,key in enumerate(u_id):\n",
    "    resample_user_dict[key] = index"
   ]
  },
  {
   "cell_type": "code",
   "execution_count": 13,
   "id": "996e0245",
   "metadata": {},
   "outputs": [
    {
     "name": "stdout",
     "output_type": "stream",
     "text": [
      "2844\n",
      "2844\n"
     ]
    }
   ],
   "source": [
    "print(len(set(resample_user_dict.keys())))\n",
    "print(len(set(resample_user_dict.values())))"
   ]
  },
  {
   "cell_type": "code",
   "execution_count": 14,
   "id": "3015a68a",
   "metadata": {},
   "outputs": [
    {
     "data": {
      "text/html": [
       "<div>\n",
       "<style scoped>\n",
       "    .dataframe tbody tr th:only-of-type {\n",
       "        vertical-align: middle;\n",
       "    }\n",
       "\n",
       "    .dataframe tbody tr th {\n",
       "        vertical-align: top;\n",
       "    }\n",
       "\n",
       "    .dataframe thead th {\n",
       "        text-align: right;\n",
       "    }\n",
       "</style>\n",
       "<table border=\"1\" class=\"dataframe\">\n",
       "  <thead>\n",
       "    <tr style=\"text-align: right;\">\n",
       "      <th></th>\n",
       "      <th>u_id</th>\n",
       "      <th>Your Rating</th>\n",
       "      <th>bgg_id</th>\n",
       "      <th>Rating</th>\n",
       "      <th>item_id</th>\n",
       "      <th>user_id</th>\n",
       "    </tr>\n",
       "  </thead>\n",
       "  <tbody>\n",
       "    <tr>\n",
       "      <th>count</th>\n",
       "      <td>838777.000000</td>\n",
       "      <td>838777.000000</td>\n",
       "      <td>838777.000000</td>\n",
       "      <td>838777.000000</td>\n",
       "      <td>838777.000000</td>\n",
       "      <td>838777.000000</td>\n",
       "    </tr>\n",
       "    <tr>\n",
       "      <th>mean</th>\n",
       "      <td>1404.570457</td>\n",
       "      <td>3.423040</td>\n",
       "      <td>91310.618300</td>\n",
       "      <td>0.545138</td>\n",
       "      <td>4722.867555</td>\n",
       "      <td>1403.031329</td>\n",
       "    </tr>\n",
       "    <tr>\n",
       "      <th>std</th>\n",
       "      <td>813.788285</td>\n",
       "      <td>4.159144</td>\n",
       "      <td>88829.182464</td>\n",
       "      <td>0.497959</td>\n",
       "      <td>6316.864111</td>\n",
       "      <td>812.113149</td>\n",
       "    </tr>\n",
       "    <tr>\n",
       "      <th>min</th>\n",
       "      <td>0.000000</td>\n",
       "      <td>-1.000000</td>\n",
       "      <td>1.000000</td>\n",
       "      <td>0.000000</td>\n",
       "      <td>0.000000</td>\n",
       "      <td>0.000000</td>\n",
       "    </tr>\n",
       "    <tr>\n",
       "      <th>25%</th>\n",
       "      <td>700.000000</td>\n",
       "      <td>-1.000000</td>\n",
       "      <td>9209.000000</td>\n",
       "      <td>0.000000</td>\n",
       "      <td>680.000000</td>\n",
       "      <td>700.000000</td>\n",
       "    </tr>\n",
       "    <tr>\n",
       "      <th>50%</th>\n",
       "      <td>1375.000000</td>\n",
       "      <td>5.000000</td>\n",
       "      <td>55952.000000</td>\n",
       "      <td>1.000000</td>\n",
       "      <td>2185.000000</td>\n",
       "      <td>1374.000000</td>\n",
       "    </tr>\n",
       "    <tr>\n",
       "      <th>75%</th>\n",
       "      <td>2087.000000</td>\n",
       "      <td>7.000000</td>\n",
       "      <td>163976.000000</td>\n",
       "      <td>1.000000</td>\n",
       "      <td>6332.000000</td>\n",
       "      <td>2086.000000</td>\n",
       "    </tr>\n",
       "    <tr>\n",
       "      <th>max</th>\n",
       "      <td>2851.000000</td>\n",
       "      <td>10.000000</td>\n",
       "      <td>332853.000000</td>\n",
       "      <td>1.000000</td>\n",
       "      <td>36534.000000</td>\n",
       "      <td>2843.000000</td>\n",
       "    </tr>\n",
       "  </tbody>\n",
       "</table>\n",
       "</div>"
      ],
      "text/plain": [
       "                u_id    Your Rating         bgg_id         Rating  \\\n",
       "count  838777.000000  838777.000000  838777.000000  838777.000000   \n",
       "mean     1404.570457       3.423040   91310.618300       0.545138   \n",
       "std       813.788285       4.159144   88829.182464       0.497959   \n",
       "min         0.000000      -1.000000       1.000000       0.000000   \n",
       "25%       700.000000      -1.000000    9209.000000       0.000000   \n",
       "50%      1375.000000       5.000000   55952.000000       1.000000   \n",
       "75%      2087.000000       7.000000  163976.000000       1.000000   \n",
       "max      2851.000000      10.000000  332853.000000       1.000000   \n",
       "\n",
       "             item_id        user_id  \n",
       "count  838777.000000  838777.000000  \n",
       "mean     4722.867555    1403.031329  \n",
       "std      6316.864111     812.113149  \n",
       "min         0.000000       0.000000  \n",
       "25%       680.000000     700.000000  \n",
       "50%      2185.000000    1374.000000  \n",
       "75%      6332.000000    2086.000000  \n",
       "max     36534.000000    2843.000000  "
      ]
     },
     "execution_count": 14,
     "metadata": {},
     "output_type": "execute_result"
    }
   ],
   "source": [
    "# Copy and apply the changes\n",
    "dfm_r=dfm.copy()\n",
    "dfm_r['item_id']=dfm['bgg_id'].apply(lambda x: resample_id_item_dict[x])\n",
    "dfm_r['user_id']=dfm['u_id'].apply(lambda x: resample_user_dict[x])\n",
    "dfm_r.describe()"
   ]
  },
  {
   "cell_type": "code",
   "execution_count": 15,
   "id": "719f14d2",
   "metadata": {},
   "outputs": [],
   "source": [
    "#dfm_r.to_csv('DATA/r_users_bgs.csv')\n",
    "#path='./DATA'\n",
    "#file = os.path.join(path, \"r_users_bgs.csv\")\n",
    "#dfm_r=pd.read_csv(file, low_memory=False)\n",
    "#dfm_r.head()"
   ]
  },
  {
   "cell_type": "markdown",
   "id": "7dcac163",
   "metadata": {},
   "source": [
    "#### Format Data for models"
   ]
  },
  {
   "cell_type": "code",
   "execution_count": 16,
   "id": "b7e3b0d9",
   "metadata": {},
   "outputs": [
    {
     "name": "stdout",
     "output_type": "stream",
     "text": [
      "(838777, 3)\n"
     ]
    },
    {
     "data": {
      "text/html": [
       "<div>\n",
       "<style scoped>\n",
       "    .dataframe tbody tr th:only-of-type {\n",
       "        vertical-align: middle;\n",
       "    }\n",
       "\n",
       "    .dataframe tbody tr th {\n",
       "        vertical-align: top;\n",
       "    }\n",
       "\n",
       "    .dataframe thead th {\n",
       "        text-align: right;\n",
       "    }\n",
       "</style>\n",
       "<table border=\"1\" class=\"dataframe\">\n",
       "  <thead>\n",
       "    <tr style=\"text-align: right;\">\n",
       "      <th></th>\n",
       "      <th>user_id</th>\n",
       "      <th>item_id</th>\n",
       "      <th>rating</th>\n",
       "    </tr>\n",
       "  </thead>\n",
       "  <tbody>\n",
       "    <tr>\n",
       "      <th>0</th>\n",
       "      <td>0</td>\n",
       "      <td>0</td>\n",
       "      <td>0</td>\n",
       "    </tr>\n",
       "    <tr>\n",
       "      <th>1</th>\n",
       "      <td>0</td>\n",
       "      <td>1</td>\n",
       "      <td>1</td>\n",
       "    </tr>\n",
       "    <tr>\n",
       "      <th>2</th>\n",
       "      <td>0</td>\n",
       "      <td>2</td>\n",
       "      <td>1</td>\n",
       "    </tr>\n",
       "    <tr>\n",
       "      <th>3</th>\n",
       "      <td>0</td>\n",
       "      <td>3</td>\n",
       "      <td>1</td>\n",
       "    </tr>\n",
       "    <tr>\n",
       "      <th>4</th>\n",
       "      <td>0</td>\n",
       "      <td>4</td>\n",
       "      <td>1</td>\n",
       "    </tr>\n",
       "  </tbody>\n",
       "</table>\n",
       "</div>"
      ],
      "text/plain": [
       "   user_id  item_id  rating\n",
       "0        0        0       0\n",
       "1        0        1       1\n",
       "2        0        2       1\n",
       "3        0        3       1\n",
       "4        0        4       1"
      ]
     },
     "execution_count": 16,
     "metadata": {},
     "output_type": "execute_result"
    }
   ],
   "source": [
    "\n",
    "dfratings = pd.DataFrame()\n",
    "\n",
    "dfratings['user_id']=dfm_r['user_id']\n",
    "dfratings['item_id']=dfm_r['item_id']\n",
    "dfratings['rating']=dfm_r['Rating']\n",
    "\n",
    "print(dfratings.shape)\n",
    "dfratings.head()"
   ]
  },
  {
   "cell_type": "code",
   "execution_count": 17,
   "id": "34b61542",
   "metadata": {},
   "outputs": [],
   "source": [
    "dfbg = dfm_r.groupby(by=['bgg_id','category'], as_index=False).first()\n",
    "dfbg.drop(['bgg_id','u_id','Your Rating','Rating', 'user_id'],axis=1, inplace=True)"
   ]
  },
  {
   "cell_type": "code",
   "execution_count": 19,
   "id": "530bdc8b",
   "metadata": {},
   "outputs": [
    {
     "name": "stdout",
     "output_type": "stream",
     "text": [
      "(36535, 3)\n"
     ]
    },
    {
     "data": {
      "text/html": [
       "<div>\n",
       "<style scoped>\n",
       "    .dataframe tbody tr th:only-of-type {\n",
       "        vertical-align: middle;\n",
       "    }\n",
       "\n",
       "    .dataframe tbody tr th {\n",
       "        vertical-align: top;\n",
       "    }\n",
       "\n",
       "    .dataframe thead th {\n",
       "        text-align: right;\n",
       "    }\n",
       "</style>\n",
       "<table border=\"1\" class=\"dataframe\">\n",
       "  <thead>\n",
       "    <tr style=\"text-align: right;\">\n",
       "      <th></th>\n",
       "      <th>item_id</th>\n",
       "      <th>title</th>\n",
       "      <th>category</th>\n",
       "    </tr>\n",
       "  </thead>\n",
       "  <tbody>\n",
       "    <tr>\n",
       "      <th>0</th>\n",
       "      <td>747</td>\n",
       "      <td>Die Macher</td>\n",
       "      <td>1021,1026,1001</td>\n",
       "    </tr>\n",
       "    <tr>\n",
       "      <th>1</th>\n",
       "      <td>5896</td>\n",
       "      <td>Dragonmaster</td>\n",
       "      <td>1002,1010</td>\n",
       "    </tr>\n",
       "    <tr>\n",
       "      <th>2</th>\n",
       "      <td>292</td>\n",
       "      <td>Samurai</td>\n",
       "      <td>1009,1035</td>\n",
       "    </tr>\n",
       "    <tr>\n",
       "      <th>3</th>\n",
       "      <td>6308</td>\n",
       "      <td>Tal der Könige</td>\n",
       "      <td>1050</td>\n",
       "    </tr>\n",
       "    <tr>\n",
       "      <th>4</th>\n",
       "      <td>15364</td>\n",
       "      <td>Mare Mediterraneum</td>\n",
       "      <td>1015,1008</td>\n",
       "    </tr>\n",
       "  </tbody>\n",
       "</table>\n",
       "</div>"
      ],
      "text/plain": [
       "   item_id               title        category\n",
       "0      747          Die Macher  1021,1026,1001\n",
       "1     5896        Dragonmaster       1002,1010\n",
       "2      292             Samurai       1009,1035\n",
       "3     6308      Tal der Könige            1050\n",
       "4    15364  Mare Mediterraneum       1015,1008"
      ]
     },
     "execution_count": 19,
     "metadata": {},
     "output_type": "execute_result"
    }
   ],
   "source": [
    "dfgames = pd.DataFrame()\n",
    "\n",
    "dfgames['item_id']=dfbg['item_id']\n",
    "dfgames['title']=dfbg['Game']\n",
    "dfgames['category']=dfbg['category']\n",
    "\n",
    "print(dfgames.shape)\n",
    "dfgames.head()"
   ]
  },
  {
   "cell_type": "markdown",
   "id": "d45e9dd2",
   "metadata": {},
   "source": [
    "## Content Based"
   ]
  },
  {
   "cell_type": "code",
   "execution_count": 19,
   "id": "e39daa08",
   "metadata": {},
   "outputs": [],
   "source": [
    "# ----- COMENTARIO"
   ]
  },
  {
   "cell_type": "code",
   "execution_count": 75,
   "id": "d402bec2",
   "metadata": {},
   "outputs": [],
   "source": [
    "df_games=dfgames.copy()"
   ]
  },
  {
   "cell_type": "code",
   "execution_count": 76,
   "id": "a91f6a08",
   "metadata": {},
   "outputs": [
    {
     "name": "stdout",
     "output_type": "stream",
     "text": [
      "0        1021,1026,1001\n",
      "1             1002,1010\n",
      "2             1009,1035\n",
      "3                  1050\n",
      "4             1015,1008\n",
      "              ...      \n",
      "36530              1002\n",
      "36531         1002,1030\n",
      "36532         1002,2481\n",
      "36533    1009,1028,1113\n",
      "36534         1021,1013\n",
      "Name: category, Length: 36535, dtype: object\n"
     ]
    }
   ],
   "source": [
    "df_games['category'] = df_games['category'].map(lambda x: x.replace(',', ' '))\n",
    "print(dfgames['category'])"
   ]
  },
  {
   "cell_type": "code",
   "execution_count": 77,
   "id": "547d9ae8",
   "metadata": {},
   "outputs": [
    {
     "data": {
      "text/html": [
       "<div>\n",
       "<style scoped>\n",
       "    .dataframe tbody tr th:only-of-type {\n",
       "        vertical-align: middle;\n",
       "    }\n",
       "\n",
       "    .dataframe tbody tr th {\n",
       "        vertical-align: top;\n",
       "    }\n",
       "\n",
       "    .dataframe thead th {\n",
       "        text-align: right;\n",
       "    }\n",
       "</style>\n",
       "<table border=\"1\" class=\"dataframe\">\n",
       "  <thead>\n",
       "    <tr style=\"text-align: right;\">\n",
       "      <th></th>\n",
       "      <th>item_id</th>\n",
       "      <th>category</th>\n",
       "    </tr>\n",
       "    <tr>\n",
       "      <th>title</th>\n",
       "      <th></th>\n",
       "      <th></th>\n",
       "    </tr>\n",
       "  </thead>\n",
       "  <tbody>\n",
       "    <tr>\n",
       "      <th>Die Macher</th>\n",
       "      <td>747</td>\n",
       "      <td>1021 1026 1001</td>\n",
       "    </tr>\n",
       "    <tr>\n",
       "      <th>Dragonmaster</th>\n",
       "      <td>5896</td>\n",
       "      <td>1002 1010</td>\n",
       "    </tr>\n",
       "    <tr>\n",
       "      <th>Samurai</th>\n",
       "      <td>292</td>\n",
       "      <td>1009 1035</td>\n",
       "    </tr>\n",
       "    <tr>\n",
       "      <th>Tal der Könige</th>\n",
       "      <td>6308</td>\n",
       "      <td>1050</td>\n",
       "    </tr>\n",
       "    <tr>\n",
       "      <th>Mare Mediterraneum</th>\n",
       "      <td>15364</td>\n",
       "      <td>1015 1008</td>\n",
       "    </tr>\n",
       "  </tbody>\n",
       "</table>\n",
       "</div>"
      ],
      "text/plain": [
       "                    item_id        category\n",
       "title                                      \n",
       "Die Macher              747  1021 1026 1001\n",
       "Dragonmaster           5896       1002 1010\n",
       "Samurai                 292       1009 1035\n",
       "Tal der Könige         6308            1050\n",
       "Mare Mediterraneum    15364       1015 1008"
      ]
     },
     "execution_count": 77,
     "metadata": {},
     "output_type": "execute_result"
    }
   ],
   "source": [
    "df_games.set_index('title', inplace = True)\n",
    "df_games.head()"
   ]
  },
  {
   "cell_type": "code",
   "execution_count": 78,
   "id": "5342c2d3",
   "metadata": {},
   "outputs": [
    {
     "name": "stdout",
     "output_type": "stream",
     "text": [
      "[3]\n"
     ]
    }
   ],
   "source": [
    "print(np.where(df_games.index=='Tal der Könige')[0])"
   ]
  },
  {
   "cell_type": "code",
   "execution_count": 79,
   "id": "1e165d3f",
   "metadata": {},
   "outputs": [],
   "source": [
    "count = CountVectorizer()\n",
    "count_matrix = count.fit_transform(df_games['category'])"
   ]
  },
  {
   "cell_type": "code",
   "execution_count": 80,
   "id": "5d749da7",
   "metadata": {},
   "outputs": [
    {
     "data": {
      "text/plain": [
       "array([[1.        , 0.        , 0.        , ..., 0.        , 0.        ,\n",
       "        0.40824829],\n",
       "       [0.        , 1.        , 0.        , ..., 0.5       , 0.        ,\n",
       "        0.        ],\n",
       "       [0.        , 0.        , 1.        , ..., 0.        , 0.40824829,\n",
       "        0.        ],\n",
       "       ...,\n",
       "       [0.        , 0.5       , 0.        , ..., 1.        , 0.        ,\n",
       "        0.        ],\n",
       "       [0.        , 0.        , 0.40824829, ..., 0.        , 1.        ,\n",
       "        0.        ],\n",
       "       [0.40824829, 0.        , 0.        , ..., 0.        , 0.        ,\n",
       "        1.        ]])"
      ]
     },
     "execution_count": 80,
     "metadata": {},
     "output_type": "execute_result"
    }
   ],
   "source": [
    "cosine = cosine_similarity(count_matrix, count_matrix)\n",
    "cosine"
   ]
  },
  {
   "cell_type": "code",
   "execution_count": 81,
   "id": "1a7da465",
   "metadata": {},
   "outputs": [],
   "source": [
    "def cb_recommendations(name, cosine = cosine):\n",
    "    \n",
    "    recommended = []\n",
    "    indices = pd.Series(df_games.index)\n",
    "    idx = indices[indices == name].index[0]\n",
    "    score = pd.Series(cosine[idx]).sort_values(ascending = False)\n",
    "    top_10 = list(score.iloc[0:11].index)\n",
    "    for i in top_10:\n",
    "        if idx != i:\n",
    "            recommended.append(list(df_games.index)[i])\n",
    "        \n",
    "    return recommended"
   ]
  },
  {
   "cell_type": "code",
   "execution_count": 83,
   "id": "50feb680",
   "metadata": {},
   "outputs": [
    {
     "data": {
      "text/plain": [
       "['Rennaissance Chess',\n",
       " 'Azul: Stained Glass of Sintra',\n",
       " 'Three Musketeers Game: Chess Variant',\n",
       " 'Jaleo',\n",
       " 'Blinq',\n",
       " 'Spark',\n",
       " 'Interplay',\n",
       " '0·1 (Zero Point One)',\n",
       " 'Genial Spezial',\n",
       " 'Color Wheel']"
      ]
     },
     "execution_count": 83,
     "metadata": {},
     "output_type": "execute_result"
    }
   ],
   "source": [
    "cb_recommendations('Azul')"
   ]
  },
  {
   "cell_type": "code",
   "execution_count": null,
   "id": "e93845e0",
   "metadata": {},
   "outputs": [],
   "source": []
  },
  {
   "cell_type": "code",
   "execution_count": 31,
   "id": "8a14164f",
   "metadata": {},
   "outputs": [],
   "source": [
    "## Collaborative Filtering"
   ]
  },
  {
   "cell_type": "code",
   "execution_count": null,
   "id": "05b4b6a9",
   "metadata": {},
   "outputs": [],
   "source": []
  },
  {
   "cell_type": "code",
   "execution_count": 32,
   "id": "0990d119",
   "metadata": {},
   "outputs": [],
   "source": [
    "#Split random into training and test datasets\n",
    "train, test = train_test_split(dfratings, test_size = 0.20, random_state = 42) "
   ]
  },
  {
   "cell_type": "code",
   "execution_count": 33,
   "id": "64598380",
   "metadata": {},
   "outputs": [
    {
     "name": "stdout",
     "output_type": "stream",
     "text": [
      "There are 2844 users, 34067 itmes and 671021 pairs in the train set\n"
     ]
    },
    {
     "data": {
      "text/html": [
       "<div>\n",
       "<style scoped>\n",
       "    .dataframe tbody tr th:only-of-type {\n",
       "        vertical-align: middle;\n",
       "    }\n",
       "\n",
       "    .dataframe tbody tr th {\n",
       "        vertical-align: top;\n",
       "    }\n",
       "\n",
       "    .dataframe thead th {\n",
       "        text-align: right;\n",
       "    }\n",
       "</style>\n",
       "<table border=\"1\" class=\"dataframe\">\n",
       "  <thead>\n",
       "    <tr style=\"text-align: right;\">\n",
       "      <th></th>\n",
       "      <th>user_id</th>\n",
       "      <th>item_id</th>\n",
       "      <th>rating</th>\n",
       "    </tr>\n",
       "  </thead>\n",
       "  <tbody>\n",
       "    <tr>\n",
       "      <th>32330</th>\n",
       "      <td>123</td>\n",
       "      <td>1060</td>\n",
       "      <td>0</td>\n",
       "    </tr>\n",
       "    <tr>\n",
       "      <th>399743</th>\n",
       "      <td>1313</td>\n",
       "      <td>1287</td>\n",
       "      <td>1</td>\n",
       "    </tr>\n",
       "    <tr>\n",
       "      <th>763101</th>\n",
       "      <td>2564</td>\n",
       "      <td>5918</td>\n",
       "      <td>0</td>\n",
       "    </tr>\n",
       "    <tr>\n",
       "      <th>79614</th>\n",
       "      <td>259</td>\n",
       "      <td>1340</td>\n",
       "      <td>1</td>\n",
       "    </tr>\n",
       "    <tr>\n",
       "      <th>719436</th>\n",
       "      <td>2418</td>\n",
       "      <td>727</td>\n",
       "      <td>1</td>\n",
       "    </tr>\n",
       "  </tbody>\n",
       "</table>\n",
       "</div>"
      ],
      "text/plain": [
       "        user_id  item_id  rating\n",
       "32330       123     1060       0\n",
       "399743     1313     1287       1\n",
       "763101     2564     5918       0\n",
       "79614       259     1340       1\n",
       "719436     2418      727       1"
      ]
     },
     "execution_count": 33,
     "metadata": {},
     "output_type": "execute_result"
    }
   ],
   "source": [
    "print('There are %s users, %s itmes and %s pairs in the train set' \\\n",
    "      %(train.user_id.unique().shape[0], train.item_id.unique().shape[0], train.shape[0]))\n",
    "train.head()"
   ]
  },
  {
   "cell_type": "code",
   "execution_count": 34,
   "id": "a7f39fc2",
   "metadata": {},
   "outputs": [
    {
     "name": "stdout",
     "output_type": "stream",
     "text": [
      "There are 2838 users, 20894 itmes and 167756 pairs in the test set\n"
     ]
    },
    {
     "data": {
      "text/html": [
       "<div>\n",
       "<style scoped>\n",
       "    .dataframe tbody tr th:only-of-type {\n",
       "        vertical-align: middle;\n",
       "    }\n",
       "\n",
       "    .dataframe tbody tr th {\n",
       "        vertical-align: top;\n",
       "    }\n",
       "\n",
       "    .dataframe thead th {\n",
       "        text-align: right;\n",
       "    }\n",
       "</style>\n",
       "<table border=\"1\" class=\"dataframe\">\n",
       "  <thead>\n",
       "    <tr style=\"text-align: right;\">\n",
       "      <th></th>\n",
       "      <th>user_id</th>\n",
       "      <th>item_id</th>\n",
       "      <th>rating</th>\n",
       "    </tr>\n",
       "  </thead>\n",
       "  <tbody>\n",
       "    <tr>\n",
       "      <th>332615</th>\n",
       "      <td>1114</td>\n",
       "      <td>1151</td>\n",
       "      <td>1</td>\n",
       "    </tr>\n",
       "    <tr>\n",
       "      <th>489596</th>\n",
       "      <td>1619</td>\n",
       "      <td>2907</td>\n",
       "      <td>1</td>\n",
       "    </tr>\n",
       "    <tr>\n",
       "      <th>499690</th>\n",
       "      <td>1659</td>\n",
       "      <td>647</td>\n",
       "      <td>1</td>\n",
       "    </tr>\n",
       "    <tr>\n",
       "      <th>698079</th>\n",
       "      <td>2334</td>\n",
       "      <td>1283</td>\n",
       "      <td>1</td>\n",
       "    </tr>\n",
       "    <tr>\n",
       "      <th>288796</th>\n",
       "      <td>963</td>\n",
       "      <td>7547</td>\n",
       "      <td>1</td>\n",
       "    </tr>\n",
       "  </tbody>\n",
       "</table>\n",
       "</div>"
      ],
      "text/plain": [
       "        user_id  item_id  rating\n",
       "332615     1114     1151       1\n",
       "489596     1619     2907       1\n",
       "499690     1659      647       1\n",
       "698079     2334     1283       1\n",
       "288796      963     7547       1"
      ]
     },
     "execution_count": 34,
     "metadata": {},
     "output_type": "execute_result"
    }
   ],
   "source": [
    "print('There are %s users, %s itmes and %s pairs in the test set' \\\n",
    "      %(test.user_id.unique().shape[0], test.item_id.unique().shape[0], test.shape[0]))\n",
    "test.head()"
   ]
  },
  {
   "cell_type": "code",
   "execution_count": 35,
   "id": "bcb59cde",
   "metadata": {},
   "outputs": [],
   "source": [
    "### Popularity"
   ]
  },
  {
   "cell_type": "code",
   "execution_count": 36,
   "id": "d7d94f64",
   "metadata": {},
   "outputs": [],
   "source": [
    "# group the train dataset by item and count the number of users\n",
    "popular = train.groupby('item_id')['user_id'].count()"
   ]
  },
  {
   "cell_type": "code",
   "execution_count": 37,
   "id": "477191f1",
   "metadata": {},
   "outputs": [
    {
     "data": {
      "text/plain": [
       "item_id\n",
       "0    294\n",
       "1     74\n",
       "2    157\n",
       "3     65\n",
       "4    798\n",
       "Name: user_id, dtype: int64"
      ]
     },
     "execution_count": 37,
     "metadata": {},
     "output_type": "execute_result"
    }
   ],
   "source": [
    "popular.head()"
   ]
  },
  {
   "cell_type": "code",
   "execution_count": 38,
   "id": "f6dfbe10",
   "metadata": {},
   "outputs": [],
   "source": [
    "# Sort in descending order\n",
    "popularsort = popular.sort_values(ascending=False)"
   ]
  },
  {
   "cell_type": "code",
   "execution_count": 39,
   "id": "8d38df5d",
   "metadata": {},
   "outputs": [
    {
     "data": {
      "text/plain": [
       "34067"
      ]
     },
     "execution_count": 39,
     "metadata": {},
     "output_type": "execute_result"
    }
   ],
   "source": [
    "popularsort.shape[0]"
   ]
  },
  {
   "cell_type": "code",
   "execution_count": 40,
   "id": "ce77fe46",
   "metadata": {},
   "outputs": [
    {
     "data": {
      "text/plain": [
       "item_id\n",
       "51     1322\n",
       "195    1296\n",
       "70     1262\n",
       "242    1179\n",
       "55     1171\n",
       "Name: user_id, dtype: int64"
      ]
     },
     "execution_count": 40,
     "metadata": {},
     "output_type": "execute_result"
    }
   ],
   "source": [
    "popularsort.head()"
   ]
  },
  {
   "cell_type": "code",
   "execution_count": 41,
   "id": "cfc88f03",
   "metadata": {},
   "outputs": [
    {
     "data": {
      "text/plain": [
       "Int64Index([   51,   195,    70,   242,    55,     5,    44,    15,    93,\n",
       "              256,\n",
       "            ...\n",
       "            27193, 14744, 27180, 27181, 27182, 27183, 27185, 27188, 27190,\n",
       "            36533],\n",
       "           dtype='int64', name='item_id', length=34067)"
      ]
     },
     "execution_count": 41,
     "metadata": {},
     "output_type": "execute_result"
    }
   ],
   "source": [
    "popularsort.index #id of the Board Game"
   ]
  },
  {
   "cell_type": "code",
   "execution_count": 42,
   "id": "3a5b5328",
   "metadata": {},
   "outputs": [],
   "source": [
    "popularbg = np.zeros(shape=(popularsort.shape[0], 3), dtype=object) #MODIFICAR ESTE NOMBRE\n",
    "\n",
    "for i, ind in enumerate(popularsort.index):\n",
    "    idx = ind \n",
    "    freq = popularsort[idx]  \n",
    "    title = resample_item_dict[idx]\n",
    "    popularbg[i] = [idx, title, freq]\n",
    "    "
   ]
  },
  {
   "cell_type": "code",
   "execution_count": 43,
   "id": "ca278d14",
   "metadata": {},
   "outputs": [
    {
     "data": {
      "text/plain": [
       "array([[51, 'Carcassonne', 1322],\n",
       "       [195, 'Love Letter', 1296],\n",
       "       [70, 'Codenames', 1262],\n",
       "       [242, 'Pandemic', 1179],\n",
       "       [55, 'Catan', 1171],\n",
       "       [5, '7 Wonders', 1160],\n",
       "       [44, 'Bohnanza', 1155],\n",
       "       [15, 'Agricola', 1129],\n",
       "       [93, 'Dominion', 1113],\n",
       "       [256, 'Power Grid', 1062]], dtype=object)"
      ]
     },
     "execution_count": 43,
     "metadata": {},
     "output_type": "execute_result"
    }
   ],
   "source": [
    "popularbg[:10,:]"
   ]
  },
  {
   "cell_type": "code",
   "execution_count": 44,
   "id": "14955d0c",
   "metadata": {},
   "outputs": [],
   "source": [
    "# Recall\n",
    "def recall_at_n(N, test, recommended, train=None):\n",
    "    \"\"\"\n",
    "    :param N: number of recommendations\n",
    "    :param test: list of movies seen by user in test\n",
    "    :param train: list of movies seen by user in train. This has to be removed from the recommended list \n",
    "    :param recommended: list of movies recommended\n",
    "    \n",
    "    :return the recall\n",
    "    \"\"\"\n",
    "    if train is not None: \n",
    "        \n",
    "        rec_true = []\n",
    "        for r in recommended:\n",
    "            if r not in train:\n",
    "                rec_true.append(r)\n",
    "    else:\n",
    "        rec_true = recommended    \n",
    "    intersection = len(set(test) & set(rec_true[:N]))\n",
    "    return intersection / float(np.minimum(N, len(test)))"
   ]
  },
  {
   "cell_type": "code",
   "execution_count": 45,
   "id": "1893e91b",
   "metadata": {},
   "outputs": [],
   "source": [
    "# get movies in train per user. For this, group by user and get a list of item ids.\n",
    "trainUsergby = (train.groupby('user_id')['item_id'].apply(list).reset_index())"
   ]
  },
  {
   "cell_type": "code",
   "execution_count": 46,
   "id": "7298e91c",
   "metadata": {},
   "outputs": [
    {
     "data": {
      "text/html": [
       "<div>\n",
       "<style scoped>\n",
       "    .dataframe tbody tr th:only-of-type {\n",
       "        vertical-align: middle;\n",
       "    }\n",
       "\n",
       "    .dataframe tbody tr th {\n",
       "        vertical-align: top;\n",
       "    }\n",
       "\n",
       "    .dataframe thead th {\n",
       "        text-align: right;\n",
       "    }\n",
       "</style>\n",
       "<table border=\"1\" class=\"dataframe\">\n",
       "  <thead>\n",
       "    <tr style=\"text-align: right;\">\n",
       "      <th></th>\n",
       "      <th>user_id</th>\n",
       "      <th>item_id</th>\n",
       "    </tr>\n",
       "  </thead>\n",
       "  <tbody>\n",
       "    <tr>\n",
       "      <th>0</th>\n",
       "      <td>0</td>\n",
       "      <td>[276, 308, 192, 300, 100, 6, 391, 388, 287, 10...</td>\n",
       "    </tr>\n",
       "    <tr>\n",
       "      <th>1</th>\n",
       "      <td>1</td>\n",
       "      <td>[513, 411, 258, 650, 615, 294, 202, 77, 171, 6...</td>\n",
       "    </tr>\n",
       "    <tr>\n",
       "      <th>2</th>\n",
       "      <td>2</td>\n",
       "      <td>[791, 751, 360, 795, 629, 799, 763, 758, 725, ...</td>\n",
       "    </tr>\n",
       "    <tr>\n",
       "      <th>3</th>\n",
       "      <td>3</td>\n",
       "      <td>[823, 409, 157, 5, 369, 843, 591, 876, 877, 84...</td>\n",
       "    </tr>\n",
       "    <tr>\n",
       "      <th>4</th>\n",
       "      <td>4</td>\n",
       "      <td>[375, 903, 941, 939, 227, 957, 232, 947, 148, ...</td>\n",
       "    </tr>\n",
       "  </tbody>\n",
       "</table>\n",
       "</div>"
      ],
      "text/plain": [
       "   user_id                                            item_id\n",
       "0        0  [276, 308, 192, 300, 100, 6, 391, 388, 287, 10...\n",
       "1        1  [513, 411, 258, 650, 615, 294, 202, 77, 171, 6...\n",
       "2        2  [791, 751, 360, 795, 629, 799, 763, 758, 725, ...\n",
       "3        3  [823, 409, 157, 5, 369, 843, 591, 876, 877, 84...\n",
       "4        4  [375, 903, 941, 939, 227, 957, 232, 947, 148, ..."
      ]
     },
     "execution_count": 46,
     "metadata": {},
     "output_type": "execute_result"
    }
   ],
   "source": [
    "trainUsergby.head()"
   ]
  },
  {
   "cell_type": "code",
   "execution_count": 47,
   "id": "f19183b4",
   "metadata": {},
   "outputs": [
    {
     "data": {
      "text/html": [
       "<div>\n",
       "<style scoped>\n",
       "    .dataframe tbody tr th:only-of-type {\n",
       "        vertical-align: middle;\n",
       "    }\n",
       "\n",
       "    .dataframe tbody tr th {\n",
       "        vertical-align: top;\n",
       "    }\n",
       "\n",
       "    .dataframe thead th {\n",
       "        text-align: right;\n",
       "    }\n",
       "</style>\n",
       "<table border=\"1\" class=\"dataframe\">\n",
       "  <thead>\n",
       "    <tr style=\"text-align: right;\">\n",
       "      <th></th>\n",
       "      <th>user_id</th>\n",
       "      <th>item_id</th>\n",
       "    </tr>\n",
       "  </thead>\n",
       "  <tbody>\n",
       "    <tr>\n",
       "      <th>0</th>\n",
       "      <td>0</td>\n",
       "      <td>[158, 317, 31, 122, 167, 63, 43, 18, 327, 256,...</td>\n",
       "    </tr>\n",
       "    <tr>\n",
       "      <th>1</th>\n",
       "      <td>1</td>\n",
       "      <td>[548, 661, 578, 276, 611, 544, 454, 472, 689, ...</td>\n",
       "    </tr>\n",
       "    <tr>\n",
       "      <th>2</th>\n",
       "      <td>2</td>\n",
       "      <td>[163, 768, 157, 329, 346, 802, 781, 797, 455, ...</td>\n",
       "    </tr>\n",
       "    <tr>\n",
       "      <th>3</th>\n",
       "      <td>3</td>\n",
       "      <td>[870, 155, 824, 432, 599, 888, 829, 156, 868, ...</td>\n",
       "    </tr>\n",
       "    <tr>\n",
       "      <th>4</th>\n",
       "      <td>4</td>\n",
       "      <td>[893, 479, 325, 944, 959, 951, 361, 917, 922, ...</td>\n",
       "    </tr>\n",
       "  </tbody>\n",
       "</table>\n",
       "</div>"
      ],
      "text/plain": [
       "   user_id                                            item_id\n",
       "0        0  [158, 317, 31, 122, 167, 63, 43, 18, 327, 256,...\n",
       "1        1  [548, 661, 578, 276, 611, 544, 454, 472, 689, ...\n",
       "2        2  [163, 768, 157, 329, 346, 802, 781, 797, 455, ...\n",
       "3        3  [870, 155, 824, 432, 599, 888, 829, 156, 868, ...\n",
       "4        4  [893, 479, 325, 944, 959, 951, 361, 917, 922, ..."
      ]
     },
     "execution_count": 47,
     "metadata": {},
     "output_type": "execute_result"
    }
   ],
   "source": [
    "testUsergby = (test.groupby('user_id')['item_id'].apply(list).reset_index())\n",
    "testUsergby.head()"
   ]
  },
  {
   "cell_type": "code",
   "execution_count": 48,
   "id": "55cda8bd",
   "metadata": {},
   "outputs": [
    {
     "data": {
      "text/html": [
       "<div>\n",
       "<style scoped>\n",
       "    .dataframe tbody tr th:only-of-type {\n",
       "        vertical-align: middle;\n",
       "    }\n",
       "\n",
       "    .dataframe tbody tr th {\n",
       "        vertical-align: top;\n",
       "    }\n",
       "\n",
       "    .dataframe thead th {\n",
       "        text-align: right;\n",
       "    }\n",
       "</style>\n",
       "<table border=\"1\" class=\"dataframe\">\n",
       "  <thead>\n",
       "    <tr style=\"text-align: right;\">\n",
       "      <th></th>\n",
       "      <th>user_id</th>\n",
       "      <th>item_id_train</th>\n",
       "      <th>item_id_test</th>\n",
       "    </tr>\n",
       "  </thead>\n",
       "  <tbody>\n",
       "    <tr>\n",
       "      <th>0</th>\n",
       "      <td>0</td>\n",
       "      <td>[276, 308, 192, 300, 100, 6, 391, 388, 287, 10...</td>\n",
       "      <td>[158, 317, 31, 122, 167, 63, 43, 18, 327, 256,...</td>\n",
       "    </tr>\n",
       "    <tr>\n",
       "      <th>1</th>\n",
       "      <td>1</td>\n",
       "      <td>[513, 411, 258, 650, 615, 294, 202, 77, 171, 6...</td>\n",
       "      <td>[548, 661, 578, 276, 611, 544, 454, 472, 689, ...</td>\n",
       "    </tr>\n",
       "    <tr>\n",
       "      <th>2</th>\n",
       "      <td>2</td>\n",
       "      <td>[791, 751, 360, 795, 629, 799, 763, 758, 725, ...</td>\n",
       "      <td>[163, 768, 157, 329, 346, 802, 781, 797, 455, ...</td>\n",
       "    </tr>\n",
       "    <tr>\n",
       "      <th>3</th>\n",
       "      <td>3</td>\n",
       "      <td>[823, 409, 157, 5, 369, 843, 591, 876, 877, 84...</td>\n",
       "      <td>[870, 155, 824, 432, 599, 888, 829, 156, 868, ...</td>\n",
       "    </tr>\n",
       "    <tr>\n",
       "      <th>4</th>\n",
       "      <td>4</td>\n",
       "      <td>[375, 903, 941, 939, 227, 957, 232, 947, 148, ...</td>\n",
       "      <td>[893, 479, 325, 944, 959, 951, 361, 917, 922, ...</td>\n",
       "    </tr>\n",
       "  </tbody>\n",
       "</table>\n",
       "</div>"
      ],
      "text/plain": [
       "   user_id                                      item_id_train  \\\n",
       "0        0  [276, 308, 192, 300, 100, 6, 391, 388, 287, 10...   \n",
       "1        1  [513, 411, 258, 650, 615, 294, 202, 77, 171, 6...   \n",
       "2        2  [791, 751, 360, 795, 629, 799, 763, 758, 725, ...   \n",
       "3        3  [823, 409, 157, 5, 369, 843, 591, 876, 877, 84...   \n",
       "4        4  [375, 903, 941, 939, 227, 957, 232, 947, 148, ...   \n",
       "\n",
       "                                        item_id_test  \n",
       "0  [158, 317, 31, 122, 167, 63, 43, 18, 327, 256,...  \n",
       "1  [548, 661, 578, 276, 611, 544, 454, 472, 689, ...  \n",
       "2  [163, 768, 157, 329, 346, 802, 781, 797, 455, ...  \n",
       "3  [870, 155, 824, 432, 599, 888, 829, 156, 868, ...  \n",
       "4  [893, 479, 325, 944, 959, 951, 361, 917, 922, ...  "
      ]
     },
     "execution_count": 48,
     "metadata": {},
     "output_type": "execute_result"
    }
   ],
   "source": [
    "# Merge both df\n",
    "joinedtt = pd.merge(trainUsergby, testUsergby, how='inner', on='user_id', suffixes=('_train', '_test'))\n",
    "joinedtt.head()"
   ]
  },
  {
   "cell_type": "code",
   "execution_count": 49,
   "id": "001262c3",
   "metadata": {},
   "outputs": [
    {
     "name": "stdout",
     "output_type": "stream",
     "text": [
      "TopN: 1 , recall:  0.26955602536997886\n",
      "TopN: 5 , recall:  0.22798919426826403\n",
      "TopN: 10 , recall:  0.1964032629730304\n",
      "TopN: 20 , recall:  0.16919690904544024\n"
     ]
    }
   ],
   "source": [
    "# Evaluate the model for different number of recommended elements \n",
    "\n",
    "list_topN=[1,5,10,20]\n",
    "\n",
    "for topN in list_topN:\n",
    "    rec=popularbg[:, 0]\n",
    "    r_u=joinedtt.apply(lambda l: recall_at_n(N=topN, test=l[2], recommended=rec, train=l[1]), axis=1)\n",
    "    print('TopN:',topN,',','recall: ',r_u.mean())"
   ]
  },
  {
   "cell_type": "code",
   "execution_count": 50,
   "id": "4141e1f5",
   "metadata": {},
   "outputs": [],
   "source": [
    "#MAP\n",
    "def apk(N, test, recommended, train=None):\n",
    "    \"\"\"\n",
    "    Computes the average precision at N given recommendations.\n",
    "    \n",
    "    :param N: number of recommendations\n",
    "    :param test: list of movies seen by user in test\n",
    "    :param train: list of movies seen by user in train. This has to be removed from the recommended list \n",
    "    :param recommended: list of movies recommended\n",
    "    \n",
    "    :return The average precision at N over the test set\n",
    "    \"\"\"\n",
    "    if train is not None: \n",
    "        rec_true = []\n",
    "        for r in recommended:\n",
    "            if r not in train:\n",
    "                rec_true.append(r)\n",
    "    else:\n",
    "        rec_true = recommended    \n",
    "    predicted = rec_true[:N] # top-k predictions\n",
    "    \n",
    "    score = 0.0 # This will store the numerator\n",
    "    num_hits = 0.0 # This will store the sum of rel(i)\n",
    "\n",
    "    for i,p in enumerate(predicted):\n",
    "        if p in test and p not in predicted[:i]:\n",
    "            num_hits += 1.0\n",
    "            score += num_hits/(i+1.0)\n",
    "\n",
    "    return score / min(len(test), N)"
   ]
  },
  {
   "cell_type": "code",
   "execution_count": 51,
   "id": "354f8463",
   "metadata": {},
   "outputs": [
    {
     "name": "stdout",
     "output_type": "stream",
     "text": [
      "TopN: 1 , map:  0.26955602536997886\n",
      "TopN: 5 , map:  0.1577572233967583\n",
      "TopN: 10 , map:  0.11372292258262635\n",
      "TopN: 20 , map:  0.07998291413267286\n"
     ]
    }
   ],
   "source": [
    "list_topN=[1,5,10,20]\n",
    "\n",
    "for topN in list_topN:\n",
    "    predictions = popularbg[:, 0]\n",
    "    m = joinedtt.apply(lambda l: apk(topN, l[2], predictions, l[1]), axis=1)\n",
    "    print('TopN:',topN,',','map: ',m.mean()) #Mejorar impresion"
   ]
  },
  {
   "cell_type": "code",
   "execution_count": 52,
   "id": "b92ee7d7",
   "metadata": {},
   "outputs": [],
   "source": [
    "## Matrix Co-Ocurrence"
   ]
  },
  {
   "cell_type": "code",
   "execution_count": 53,
   "id": "ca382cbf",
   "metadata": {},
   "outputs": [],
   "source": [
    "moviesPerUser = (train.groupby('user_id')['item_id']\n",
    "                 .apply(np.array)\n",
    "                 .to_dict()\n",
    "                 )"
   ]
  },
  {
   "cell_type": "code",
   "execution_count": 54,
   "id": "e4b936a5",
   "metadata": {},
   "outputs": [
    {
     "data": {
      "text/plain": [
       "36535"
      ]
     },
     "execution_count": 54,
     "metadata": {},
     "output_type": "execute_result"
    }
   ],
   "source": [
    "# calculate the number of items in train\n",
    "n_items = len(resample_item_dict.keys())\n",
    "n_items"
   ]
  },
  {
   "cell_type": "code",
   "execution_count": 55,
   "id": "ef3c5192",
   "metadata": {},
   "outputs": [],
   "source": [
    "# co-ocurrance matrix will have shape=[n_items,n_items]\n",
    "coMatrix = np.zeros((n_items, n_items)) # co-occurrence matrix\n",
    "for user,movies in moviesPerUser.items():\n",
    "    for m in movies:\n",
    "        coMatrix[m, movies] += 1"
   ]
  },
  {
   "cell_type": "code",
   "execution_count": 56,
   "id": "55d58ed0",
   "metadata": {},
   "outputs": [
    {
     "data": {
      "text/plain": [
       "array([[294.,  42.,  35., ...,   0.,   0.,   0.],\n",
       "       [ 42.,  74.,  10., ...,   0.,   0.,   0.],\n",
       "       [ 35.,  10., 157., ...,   0.,   0.,   0.],\n",
       "       ...,\n",
       "       [  0.,   0.,   0., ...,   0.,   0.,   0.],\n",
       "       [  0.,   0.,   0., ...,   0.,   1.,   0.],\n",
       "       [  0.,   0.,   0., ...,   0.,   0.,   0.]])"
      ]
     },
     "execution_count": 56,
     "metadata": {},
     "output_type": "execute_result"
    }
   ],
   "source": [
    "coMatrix"
   ]
  },
  {
   "cell_type": "code",
   "execution_count": 57,
   "id": "05f16d9f",
   "metadata": {},
   "outputs": [
    {
     "data": {
      "image/png": "[encoded data removed]",
      "text/plain": [
       "<Figure size 1332x756 with 1 Axes>"
      ]
     },
     "metadata": {
      "needs_background": "light"
     },
     "output_type": "display_data"
    }
   ],
   "source": [
    "# visualize the matrix\n",
    "plt.matshow(coMatrix, fignum=1000, cmap=plt.cm.binary)\n",
    "plt.gcf().set_size_inches(18.5, 10.5)\n",
    "plt.show()"
   ]
  },
  {
   "cell_type": "code",
   "execution_count": 58,
   "id": "790c13f5",
   "metadata": {},
   "outputs": [],
   "source": [
    "def co_occurrance_similarity(item_id, coocurrance, ntop=10):\n",
    "    \"\"\"\n",
    "    Returns the top-N most similar items to a given one, based on the coocurrance matrix\n",
    "    \n",
    "    :param item_id: id of input item\n",
    "    :param cooccurrance: 2-dim numpy array with the co-occurance matrix\n",
    "    :param ntop: number of items to be retrieved\n",
    "    \n",
    "    :return top-N most similar items to the given item_id\n",
    "    \"\"\"\n",
    "    similarItems = coocurrance[item_id, :]\n",
    "    # return indeces of most similar items in descendign order\n",
    "    mostSimilar = np.argsort(similarItems)[::-1]\n",
    "    # remove the first element, as it is the item itslef\n",
    "    mostSimilar = mostSimilar[1:ntop+1]\n",
    "    \n",
    "    # return a numpy array with the index (first column) and the value (second column) of the most similar items\n",
    "    return np.stack((mostSimilar, similarItems[mostSimilar])).T"
   ]
  },
  {
   "cell_type": "code",
   "execution_count": 59,
   "id": "9c4af4eb",
   "metadata": {},
   "outputs": [],
   "source": [
    "def co_occurrance_recommendation(items_id, cooccurrance, ntop=10):\n",
    "    \"\"\"\n",
    "    Obtain the list of ntop recommendations based on a list of items (user history of views)\n",
    "    \n",
    "    :param items_id: list of items ids\n",
    "    :param coocurrence: co-ocurrence matrix (numpy 2-dim array)\n",
    "    :param ntop: top-K items to be retrieved\n",
    "    \n",
    "    :return list of ntop items recommended\n",
    "    \"\"\"\n",
    "    # put together all the similar items and its value. For this, use np.vstack, wich stacks one array after \n",
    "    # another (row wise)\n",
    "    list_sim_items = np.vstack([co_occurrance_similarity(id_, cooccurrance, ntop) for id_ in items_id])\n",
    "    # Group by id and take the maximum frquency to remove duplicates\n",
    "    largest_freq = pd.DataFrame(list_sim_items, columns=['id', 'freq']).groupby('id').agg(max).reset_index()\n",
    "    \n",
    "    # sort by value in descending order\n",
    "    sorted_list = largest_freq.sort_values(by='freq', ascending=False)\n",
    "    \n",
    "    # get the top N\n",
    "    out = sorted_list.values[:ntop, 0]\n",
    "    return out"
   ]
  },
  {
   "cell_type": "code",
   "execution_count": 60,
   "id": "0ebb6a9d",
   "metadata": {},
   "outputs": [
    {
     "data": {
      "text/html": [
       "<div>\n",
       "<style scoped>\n",
       "    .dataframe tbody tr th:only-of-type {\n",
       "        vertical-align: middle;\n",
       "    }\n",
       "\n",
       "    .dataframe tbody tr th {\n",
       "        vertical-align: top;\n",
       "    }\n",
       "\n",
       "    .dataframe thead th {\n",
       "        text-align: right;\n",
       "    }\n",
       "</style>\n",
       "<table border=\"1\" class=\"dataframe\">\n",
       "  <thead>\n",
       "    <tr style=\"text-align: right;\">\n",
       "      <th></th>\n",
       "      <th>user_id</th>\n",
       "      <th>item_id</th>\n",
       "    </tr>\n",
       "  </thead>\n",
       "  <tbody>\n",
       "    <tr>\n",
       "      <th>0</th>\n",
       "      <td>0</td>\n",
       "      <td>[276, 308, 192, 300, 100, 6, 391, 388, 287, 10...</td>\n",
       "    </tr>\n",
       "    <tr>\n",
       "      <th>1</th>\n",
       "      <td>1</td>\n",
       "      <td>[513, 411, 258, 650, 615, 294, 202, 77, 171, 6...</td>\n",
       "    </tr>\n",
       "    <tr>\n",
       "      <th>2</th>\n",
       "      <td>2</td>\n",
       "      <td>[791, 751, 360, 795, 629, 799, 763, 758, 725, ...</td>\n",
       "    </tr>\n",
       "    <tr>\n",
       "      <th>3</th>\n",
       "      <td>3</td>\n",
       "      <td>[823, 409, 157, 5, 369, 843, 591, 876, 877, 84...</td>\n",
       "    </tr>\n",
       "    <tr>\n",
       "      <th>4</th>\n",
       "      <td>4</td>\n",
       "      <td>[375, 903, 941, 939, 227, 957, 232, 947, 148, ...</td>\n",
       "    </tr>\n",
       "  </tbody>\n",
       "</table>\n",
       "</div>"
      ],
      "text/plain": [
       "   user_id                                            item_id\n",
       "0        0  [276, 308, 192, 300, 100, 6, 391, 388, 287, 10...\n",
       "1        1  [513, 411, 258, 650, 615, 294, 202, 77, 171, 6...\n",
       "2        2  [791, 751, 360, 795, 629, 799, 763, 758, 725, ...\n",
       "3        3  [823, 409, 157, 5, 369, 843, 591, 876, 877, 84...\n",
       "4        4  [375, 903, 941, 939, 227, 957, 232, 947, 148, ..."
      ]
     },
     "execution_count": 60,
     "metadata": {},
     "output_type": "execute_result"
    }
   ],
   "source": [
    "# get users in train with their movies\n",
    "trainUsersGrouped = train.groupby('user_id')['item_id'].apply(list).reset_index()\n",
    "trainUsersGrouped.head()"
   ]
  },
  {
   "cell_type": "code",
   "execution_count": 61,
   "id": "d8ab5c34",
   "metadata": {},
   "outputs": [
    {
     "data": {
      "text/plain": [
       "0    [195.0, 55.0, 51.0, 5.0, 70.0, 242.0, 93.0, 44...\n",
       "1    [195.0, 51.0, 5.0, 70.0, 55.0, 93.0, 242.0, 15...\n",
       "2    [51.0, 195.0, 70.0, 55.0, 44.0, 5.0, 93.0, 15....\n",
       "3    [70.0, 55.0, 195.0, 51.0, 5.0, 242.0, 93.0, 44...\n",
       "4    [70.0, 51.0, 242.0, 5.0, 55.0, 148.0, 195.0, 1...\n",
       "Name: item_id, dtype: object"
      ]
     },
     "execution_count": 61,
     "metadata": {},
     "output_type": "execute_result"
    }
   ],
   "source": [
    "Ntop = 20\n",
    "# Get the recommendations for all users using the apply method\n",
    "predictions = trainUsersGrouped.item_id.apply(lambda x: co_occurrance_recommendation(x, coMatrix, Ntop))\n",
    "predictions.head()"
   ]
  },
  {
   "cell_type": "code",
   "execution_count": 62,
   "id": "8f155aa7",
   "metadata": {},
   "outputs": [
    {
     "data": {
      "text/html": [
       "<div>\n",
       "<style scoped>\n",
       "    .dataframe tbody tr th:only-of-type {\n",
       "        vertical-align: middle;\n",
       "    }\n",
       "\n",
       "    .dataframe tbody tr th {\n",
       "        vertical-align: top;\n",
       "    }\n",
       "\n",
       "    .dataframe thead th {\n",
       "        text-align: right;\n",
       "    }\n",
       "</style>\n",
       "<table border=\"1\" class=\"dataframe\">\n",
       "  <thead>\n",
       "    <tr style=\"text-align: right;\">\n",
       "      <th></th>\n",
       "      <th>user_id</th>\n",
       "      <th>item_id</th>\n",
       "    </tr>\n",
       "  </thead>\n",
       "  <tbody>\n",
       "    <tr>\n",
       "      <th>0</th>\n",
       "      <td>0</td>\n",
       "      <td>[158, 317, 31, 122, 167, 63, 43, 18, 327, 256,...</td>\n",
       "    </tr>\n",
       "    <tr>\n",
       "      <th>1</th>\n",
       "      <td>1</td>\n",
       "      <td>[548, 661, 578, 276, 611, 544, 454, 472, 689, ...</td>\n",
       "    </tr>\n",
       "    <tr>\n",
       "      <th>2</th>\n",
       "      <td>2</td>\n",
       "      <td>[163, 768, 157, 329, 346, 802, 781, 797, 455, ...</td>\n",
       "    </tr>\n",
       "    <tr>\n",
       "      <th>3</th>\n",
       "      <td>3</td>\n",
       "      <td>[870, 155, 824, 432, 599, 888, 829, 156, 868, ...</td>\n",
       "    </tr>\n",
       "    <tr>\n",
       "      <th>4</th>\n",
       "      <td>4</td>\n",
       "      <td>[893, 479, 325, 944, 959, 951, 361, 917, 922, ...</td>\n",
       "    </tr>\n",
       "  </tbody>\n",
       "</table>\n",
       "</div>"
      ],
      "text/plain": [
       "   user_id                                            item_id\n",
       "0        0  [158, 317, 31, 122, 167, 63, 43, 18, 327, 256,...\n",
       "1        1  [548, 661, 578, 276, 611, 544, 454, 472, 689, ...\n",
       "2        2  [163, 768, 157, 329, 346, 802, 781, 797, 455, ...\n",
       "3        3  [870, 155, 824, 432, 599, 888, 829, 156, 868, ...\n",
       "4        4  [893, 479, 325, 944, 959, 951, 361, 917, 922, ..."
      ]
     },
     "execution_count": 62,
     "metadata": {},
     "output_type": "execute_result"
    }
   ],
   "source": [
    "# get users in test with their movies\n",
    "testUsersGrouped = test.groupby('user_id')['item_id'].apply(list).reset_index()\n",
    "testUsersGrouped.head()"
   ]
  },
  {
   "cell_type": "code",
   "execution_count": 63,
   "id": "717a0ab1",
   "metadata": {},
   "outputs": [
    {
     "name": "stdout",
     "output_type": "stream",
     "text": [
      "******\n",
      "Seen items: \n",
      "['Homesteaders', 'Star Wars PocketModel TCG', 'Aton', 'Fresco', 'Istanbul', 'Citadels', 'Black Vienna', 'Alchemists', 'T.I.M.E Stories', 'Power Grid', 'Castles of Mad King Ludwig', 'Heads of State', 'Innovation', \"Odin's Ravens\", 'Chicken Cha Cha Cha', 'Casino Hot Dog', 'A Feast for Odin', 'To Court the King', 'Terraforming Mars', 'Thebes', 'Roads & Boats', 'Progress: Evolution of Technology', \"Stick 'Em\", 'Relationship Tightrope', 'Mage Knight Board Game', 'Cartographers', \"King's Breakfast\", 'Wizard', 'Snorta!', 'Halli Galli', 'Machi Koro', 'Felicity: The Cat in the Sack', \"The Werewolves of Miller's Hollow\", 'Mouse Chaos', \"Who's the Ass?\", 'Weilong', 'Ora et Labora', 'Richelieu', \"Aladdin's Dragons\", 'Terra Mystica', 'Labyrinth', 'Super Motherload', 'Great Western Trail', 'No Thanks!', 'Galaxy Trucker', 'Exit: The Game – The Secret Lab', 'Age of Steam', 'For Sale', 'Union Pacific', 'Ground Floor', 'Android: Netrunner', 'Ra', 'The Lord of the Rings: The Fellowship of the Ring Deck-Building Game', 'Tac Tac Jack', 'Seasons', 'Coup', 'Mykerinos', 'Century: Golem Edition', 'Spyrium', 'Ziegen Kriegen', 'Love Letter', 'Frantic Frankfurt', 'Hanabi', 'My First BrainBox', 'Thunderstone Advance: Worlds Collide', 'GiftTRAP', 'Sluff Off!', 'Monopoly: Here and Now', 'MicroMacro: Crime City', 'UNO', 'Concordia', \"You're Bluffing!\", \"Frank's Zoo\", 'Marbles', 'Emerald', 'Spooky Stairs', 'Balloon Cup', 'Troyes', 'Concept', 'Gulo Gulo', 'Stone Age', 'Gear & Piston', 'Tribune: Primus Inter Pares', 'Dominion', 'The 7th Continent', 'Peloponnes']\n",
      "Recommended items: \n",
      "['Love Letter', 'Catan', 'Carcassonne', '7 Wonders', 'Codenames', 'Pandemic', 'Dominion', 'Bohnanza', 'Lost Cities', 'Agricola', 'The Castles of Burgundy', 'Ticket to Ride', 'Power Grid', 'Hanabi', 'Race for the Galaxy', 'Citadels', 'Splendor', 'Puerto Rico', '7 Wonders Duel', 'Azul']\n",
      "******\n",
      "Seen items: \n",
      "['Jonathan Strange & Mr Norrell: A Board Game of English Magic', 'Surviving: One month in', 'Meuterer', 'Rhino Hero', 'Patchwork', 'Israeli Independence: The First Arab-Israeli War', 'Cash-a-Catch', 'Dancing Eggs', 'Ticket to Ride: Europe', 'Dark Minions', 'Mundus Novus', '878 Vikings: Invasions of England', 'Squad Seven', 'Factory Fun', 'Cloud 9', 'Battleground: Crossbows & Catapults War Chest Starter Set', 'Qwixx', 'Basari', 'Chunky Fighters', 'Split Personality', 'Dungeon Twister', 'Marvel Dice Masters: Avengers vs. X-Men', 'Mint Works', \"Owner's Choice\", 'Keltis: Das Würfelspiel', 'Micro Space Empire', 'Khet: The Laser Game', 'Commands & Colors: Napoleonics', 'Antike', 'The Mines of Zavandor', 'Tikal', 'Space Crusade', 'Expedition Sumatra: Dadu Dadu', 'Middle-earth', 'Industrial Waste', '51st State', 'Boomtown', 'The Awful Green Things From Outer Space', 'Byzanz', 'Kittenwar', 'Airships', 'San Juan', 'Jenga', 'Sorry! Sliders', 'Prophecy', 'Kingdomino', 'Megastar', 'History of the World', 'Dice Town', 'Ugg-Tect', 'Container', 'Articulate!', 'Apples to Apples: British Isles Edition', 'By Golly!', 'Discoveries: The Journals of Lewis and Clark', 'Modern Art', 'To Court the King', 'Wasabi!', 'Code 777', 'Abaddon', 'Pathfinder Adventure Card Game: Rise of the Runelords – Base Set', \"Rock 'n Roll\", 'Zombology', 'Fürstenfeld', 'Hedbanz for Adults!', 'Maharaja: The Game of Palace Building in India', \"Tinners' Trail\", 'Fire & Axe: A Viking Saga', 'Little Devils', 'Connect Four', 'Glory to Rome', 'Between Two Cities', 'Pandemic', \"Reiner Knizia's Decathlon\", 'Red November', 'Conflict of Heroes: Awakening the Bear! – Russia 1941-42', 'Target Arnhem: Across 6 Bridges', 'Qwirkle']\n",
      "Recommended items: \n",
      "['Love Letter', 'Carcassonne', '7 Wonders', 'Codenames', 'Catan', 'Dominion', 'Pandemic', 'Agricola', 'The Castles of Burgundy', 'Bohnanza', 'Hanabi', 'Power Grid', 'Lost Cities', 'Dominion: Intrigue', 'Race for the Galaxy', 'Splendor', '7 Wonders Duel', 'Azul', 'Puerto Rico', 'Patchwork']\n",
      "******\n",
      "Seen items: \n",
      "['Indonesia', 'Just Desserts', 'Hive', 'Targi', 'The Manhattan Project', 'Shogun Big Box', 'Neuland', 'Rise!', 'Castle Panic', 'Kingdomino', \"Escape the Room: Secret of Dr. Gravely's Retreat\", 'Battle Line', 'Empire Builder', 'Samurai', 'Indigo', 'OddVille', 'High Frontier 4 All', 'Saint Petersburg (Second Edition)', 'Magic Maze', 'Arkwright', 'Big Points', \"Hey, That's My Fish!\", 'Chicago Express', 'One Night Ultimate Werewolf Daybreak', 'Maria', 'Container', 'Die Macher', 'Codenames', 'Patchwork', 'Sekigahara: The Unification of Japan', 'Diamonds: Second Edition', 'The Climbers', 'Coup']\n",
      "Recommended items: \n",
      "['Carcassonne', 'Love Letter', 'Codenames', 'Catan', 'Bohnanza', '7 Wonders', 'Dominion', 'Agricola', 'Pandemic', 'The Castles of Burgundy', 'Power Grid', 'Lost Cities', 'Dominion: Intrigue', 'Race for the Galaxy', 'Puerto Rico', 'Ticket to Ride', 'Splendor', 'Citadels', 'Hanabi', 'No Thanks!']\n",
      "******\n",
      "Seen items: \n",
      "['Space Dealer', 'Heroscape Master Set: Rise of the Valkyrie', \"Aliens: This Time It's War\", 'Battleground', 'Nexus Ops', 'Yomi', 'Battlestar Galactica: The Board Game', 'Heroscape Master Set: Swarm of the Marro', 'Roar-a-Saurus', '2 de Mayo', 'Dancing Eggs', 'The Resistance', 'Citadels', 'Tichu', 'Netrunner', 'A Game of Thrones: The Board Game (Second Edition)', 'War', 'Lord of the Rings: The Confrontation', 'Lost Cities', 'Dungeon Lords', 'Summoner Wars: Master Set', 'Focus', 'Bananagrams']\n",
      "Recommended items: \n",
      "['Codenames', 'Catan', 'Love Letter', 'Carcassonne', '7 Wonders', 'Pandemic', 'Dominion', 'Bohnanza', 'Lost Cities', 'Agricola', 'Hanabi', 'Ticket to Ride', 'The Castles of Burgundy', 'Power Grid', 'Dominion: Intrigue', 'Race for the Galaxy', 'Splendor', 'Citadels', 'Puerto Rico', 'King of Tokyo']\n",
      "******\n",
      "Seen items: \n",
      "['Air, Land, & Sea', 'Dice Town', 'Super Motherload', 'The Search for Planet X', 'Welcome To...', 'Tobago', 'Ticket to Ride', 'Gizmos', 'Just One', 'Pandemic', 'Five Tribes', 'Patchwork', \"World's Fair 1893\", 'Whistle Stop', 'Camel Up (Second Edition)', 'Black Orchestra', 'Fantasy Realms', 'Stockpile', 'Diamant', 'Cinque Terre', 'Ethnos', \"That's Pretty Clever!\", 'Hadara', 'Mr. Jack', 'Mariposas', 'Bruges', 'Queendomino', 'Libertalia']\n",
      "Recommended items: \n",
      "['Codenames', 'Carcassonne', 'Pandemic', '7 Wonders', 'Catan', 'Hanabi', 'Love Letter', 'Agricola', 'Bohnanza', 'Dominion', 'The Castles of Burgundy', 'Lost Cities', 'Power Grid', 'Splendor', 'King of Tokyo', 'Race for the Galaxy', 'Patchwork', '7 Wonders Duel', 'No Thanks!', 'Dixit']\n"
     ]
    }
   ],
   "source": [
    "for (seen, recom) in zip(testUsersGrouped.values[:5, 1], predictions[:5]):\n",
    "    print(\"*\"*6)\n",
    "    print(\"Seen items: \")\n",
    "    print([resample_item_dict[i] for i in seen])\n",
    "    print(\"Recommended items: \")\n",
    "    print([resample_item_dict[i] for i in recom]) #QUITAR ELEMENTOS MOSTRADOS"
   ]
  },
  {
   "cell_type": "code",
   "execution_count": 64,
   "id": "b1ea97e0",
   "metadata": {},
   "outputs": [],
   "source": [
    "topN=30\n",
    "# add a prediction column to train\n",
    "trainUsersGrouped['prediction'] = trainUsersGrouped.item_id.apply(\n",
    "    lambda x: co_occurrance_recommendation(x, coMatrix, topN)\n",
    ")"
   ]
  },
  {
   "cell_type": "code",
   "execution_count": 65,
   "id": "c593a337",
   "metadata": {},
   "outputs": [
    {
     "data": {
      "text/html": [
       "<div>\n",
       "<style scoped>\n",
       "    .dataframe tbody tr th:only-of-type {\n",
       "        vertical-align: middle;\n",
       "    }\n",
       "\n",
       "    .dataframe tbody tr th {\n",
       "        vertical-align: top;\n",
       "    }\n",
       "\n",
       "    .dataframe thead th {\n",
       "        text-align: right;\n",
       "    }\n",
       "</style>\n",
       "<table border=\"1\" class=\"dataframe\">\n",
       "  <thead>\n",
       "    <tr style=\"text-align: right;\">\n",
       "      <th></th>\n",
       "      <th>user_id</th>\n",
       "      <th>item_id</th>\n",
       "      <th>prediction</th>\n",
       "    </tr>\n",
       "  </thead>\n",
       "  <tbody>\n",
       "    <tr>\n",
       "      <th>0</th>\n",
       "      <td>0</td>\n",
       "      <td>[276, 308, 192, 300, 100, 6, 391, 388, 287, 10...</td>\n",
       "      <td>[195.0, 55.0, 51.0, 5.0, 70.0, 242.0, 93.0, 44...</td>\n",
       "    </tr>\n",
       "    <tr>\n",
       "      <th>1</th>\n",
       "      <td>1</td>\n",
       "      <td>[513, 411, 258, 650, 615, 294, 202, 77, 171, 6...</td>\n",
       "      <td>[195.0, 51.0, 5.0, 70.0, 55.0, 93.0, 242.0, 15...</td>\n",
       "    </tr>\n",
       "    <tr>\n",
       "      <th>2</th>\n",
       "      <td>2</td>\n",
       "      <td>[791, 751, 360, 795, 629, 799, 763, 758, 725, ...</td>\n",
       "      <td>[51.0, 195.0, 70.0, 55.0, 44.0, 5.0, 93.0, 15....</td>\n",
       "    </tr>\n",
       "    <tr>\n",
       "      <th>3</th>\n",
       "      <td>3</td>\n",
       "      <td>[823, 409, 157, 5, 369, 843, 591, 876, 877, 84...</td>\n",
       "      <td>[70.0, 55.0, 195.0, 51.0, 5.0, 242.0, 93.0, 44...</td>\n",
       "    </tr>\n",
       "    <tr>\n",
       "      <th>4</th>\n",
       "      <td>4</td>\n",
       "      <td>[375, 903, 941, 939, 227, 957, 232, 947, 148, ...</td>\n",
       "      <td>[70.0, 51.0, 242.0, 5.0, 55.0, 148.0, 195.0, 1...</td>\n",
       "    </tr>\n",
       "  </tbody>\n",
       "</table>\n",
       "</div>"
      ],
      "text/plain": [
       "   user_id                                            item_id  \\\n",
       "0        0  [276, 308, 192, 300, 100, 6, 391, 388, 287, 10...   \n",
       "1        1  [513, 411, 258, 650, 615, 294, 202, 77, 171, 6...   \n",
       "2        2  [791, 751, 360, 795, 629, 799, 763, 758, 725, ...   \n",
       "3        3  [823, 409, 157, 5, 369, 843, 591, 876, 877, 84...   \n",
       "4        4  [375, 903, 941, 939, 227, 957, 232, 947, 148, ...   \n",
       "\n",
       "                                          prediction  \n",
       "0  [195.0, 55.0, 51.0, 5.0, 70.0, 242.0, 93.0, 44...  \n",
       "1  [195.0, 51.0, 5.0, 70.0, 55.0, 93.0, 242.0, 15...  \n",
       "2  [51.0, 195.0, 70.0, 55.0, 44.0, 5.0, 93.0, 15....  \n",
       "3  [70.0, 55.0, 195.0, 51.0, 5.0, 242.0, 93.0, 44...  \n",
       "4  [70.0, 51.0, 242.0, 5.0, 55.0, 148.0, 195.0, 1...  "
      ]
     },
     "execution_count": 65,
     "metadata": {},
     "output_type": "execute_result"
    }
   ],
   "source": [
    "trainUsersGrouped.head()"
   ]
  },
  {
   "cell_type": "code",
   "execution_count": 66,
   "id": "0b217163",
   "metadata": {},
   "outputs": [],
   "source": [
    "# Join the df with train and predictions with the test df\n",
    "joined = pd.merge(trainUsersGrouped, testUsersGrouped, how='inner', on='user_id', suffixes=('_train', '_test'))"
   ]
  },
  {
   "cell_type": "code",
   "execution_count": 67,
   "id": "f64fb02f",
   "metadata": {},
   "outputs": [
    {
     "data": {
      "text/html": [
       "<div>\n",
       "<style scoped>\n",
       "    .dataframe tbody tr th:only-of-type {\n",
       "        vertical-align: middle;\n",
       "    }\n",
       "\n",
       "    .dataframe tbody tr th {\n",
       "        vertical-align: top;\n",
       "    }\n",
       "\n",
       "    .dataframe thead th {\n",
       "        text-align: right;\n",
       "    }\n",
       "</style>\n",
       "<table border=\"1\" class=\"dataframe\">\n",
       "  <thead>\n",
       "    <tr style=\"text-align: right;\">\n",
       "      <th></th>\n",
       "      <th>user_id</th>\n",
       "      <th>item_id_train</th>\n",
       "      <th>prediction</th>\n",
       "      <th>item_id_test</th>\n",
       "    </tr>\n",
       "  </thead>\n",
       "  <tbody>\n",
       "    <tr>\n",
       "      <th>0</th>\n",
       "      <td>0</td>\n",
       "      <td>[276, 308, 192, 300, 100, 6, 391, 388, 287, 10...</td>\n",
       "      <td>[195.0, 55.0, 51.0, 5.0, 70.0, 242.0, 93.0, 44...</td>\n",
       "      <td>[158, 317, 31, 122, 167, 63, 43, 18, 327, 256,...</td>\n",
       "    </tr>\n",
       "    <tr>\n",
       "      <th>1</th>\n",
       "      <td>1</td>\n",
       "      <td>[513, 411, 258, 650, 615, 294, 202, 77, 171, 6...</td>\n",
       "      <td>[195.0, 51.0, 5.0, 70.0, 55.0, 93.0, 242.0, 15...</td>\n",
       "      <td>[548, 661, 578, 276, 611, 544, 454, 472, 689, ...</td>\n",
       "    </tr>\n",
       "    <tr>\n",
       "      <th>2</th>\n",
       "      <td>2</td>\n",
       "      <td>[791, 751, 360, 795, 629, 799, 763, 758, 725, ...</td>\n",
       "      <td>[51.0, 195.0, 70.0, 55.0, 44.0, 5.0, 93.0, 15....</td>\n",
       "      <td>[163, 768, 157, 329, 346, 802, 781, 797, 455, ...</td>\n",
       "    </tr>\n",
       "    <tr>\n",
       "      <th>3</th>\n",
       "      <td>3</td>\n",
       "      <td>[823, 409, 157, 5, 369, 843, 591, 876, 877, 84...</td>\n",
       "      <td>[70.0, 55.0, 195.0, 51.0, 5.0, 242.0, 93.0, 44...</td>\n",
       "      <td>[870, 155, 824, 432, 599, 888, 829, 156, 868, ...</td>\n",
       "    </tr>\n",
       "    <tr>\n",
       "      <th>4</th>\n",
       "      <td>4</td>\n",
       "      <td>[375, 903, 941, 939, 227, 957, 232, 947, 148, ...</td>\n",
       "      <td>[70.0, 51.0, 242.0, 5.0, 55.0, 148.0, 195.0, 1...</td>\n",
       "      <td>[893, 479, 325, 944, 959, 951, 361, 917, 922, ...</td>\n",
       "    </tr>\n",
       "  </tbody>\n",
       "</table>\n",
       "</div>"
      ],
      "text/plain": [
       "   user_id                                      item_id_train  \\\n",
       "0        0  [276, 308, 192, 300, 100, 6, 391, 388, 287, 10...   \n",
       "1        1  [513, 411, 258, 650, 615, 294, 202, 77, 171, 6...   \n",
       "2        2  [791, 751, 360, 795, 629, 799, 763, 758, 725, ...   \n",
       "3        3  [823, 409, 157, 5, 369, 843, 591, 876, 877, 84...   \n",
       "4        4  [375, 903, 941, 939, 227, 957, 232, 947, 148, ...   \n",
       "\n",
       "                                          prediction  \\\n",
       "0  [195.0, 55.0, 51.0, 5.0, 70.0, 242.0, 93.0, 44...   \n",
       "1  [195.0, 51.0, 5.0, 70.0, 55.0, 93.0, 242.0, 15...   \n",
       "2  [51.0, 195.0, 70.0, 55.0, 44.0, 5.0, 93.0, 15....   \n",
       "3  [70.0, 55.0, 195.0, 51.0, 5.0, 242.0, 93.0, 44...   \n",
       "4  [70.0, 51.0, 242.0, 5.0, 55.0, 148.0, 195.0, 1...   \n",
       "\n",
       "                                        item_id_test  \n",
       "0  [158, 317, 31, 122, 167, 63, 43, 18, 327, 256,...  \n",
       "1  [548, 661, 578, 276, 611, 544, 454, 472, 689, ...  \n",
       "2  [163, 768, 157, 329, 346, 802, 781, 797, 455, ...  \n",
       "3  [870, 155, 824, 432, 599, 888, 829, 156, 868, ...  \n",
       "4  [893, 479, 325, 944, 959, 951, 361, 917, 922, ...  "
      ]
     },
     "execution_count": 67,
     "metadata": {},
     "output_type": "execute_result"
    }
   ],
   "source": [
    "joined.head()"
   ]
  },
  {
   "cell_type": "code",
   "execution_count": 68,
   "id": "a9ee052c",
   "metadata": {},
   "outputs": [],
   "source": [
    "def evaluate_recall(topN, trainGrouped, testGrouped, coMatrix, popularity_baseline):\n",
    "    # add a prediction column to train\n",
    "    trainUsersGrouped['prediction'] = trainUsersGrouped.item_id.apply(\n",
    "        lambda x: co_occurrance_recommendation(x, coMatrix, topN)\n",
    "    )\n",
    "    # join with test data\n",
    "    joined = pd.merge(trainUsersGrouped, testUsersGrouped, how='inner', on='user_id', suffixes=('_train', '_test'))\n",
    "    # calculate average recall\n",
    "    recall = joined.apply(lambda l: \n",
    "                 recall_at_n(N=topN, test=l[3], recommended=l[2], train=l[1]), axis=1).mean()\n",
    "    print(\"Co-occurance model: recall@%s=%.3f\"%(topN, recall))\n",
    "    # calculate average recall for the baseline\n",
    "    recall_baseline = joined.apply(lambda l: \n",
    "                 recall_at_n(N=topN, test=l[3], recommended=popularity_baseline, train=l[1]), axis=1).mean()\n",
    "    print(\"Popularity model: recall@%s=%.3f\"%(topN, recall_baseline))    \n",
    "    return recall, recall_baseline"
   ]
  },
  {
   "cell_type": "code",
   "execution_count": 69,
   "id": "0efb635c",
   "metadata": {},
   "outputs": [
    {
     "name": "stdout",
     "output_type": "stream",
     "text": [
      "Co-occurance model: recall@5=0.114\n",
      "Popularity model: recall@5=0.228\n",
      "Co-occurance model: recall@10=0.107\n",
      "Popularity model: recall@10=0.196\n",
      "Co-occurance model: recall@20=0.107\n",
      "Popularity model: recall@20=0.169\n",
      "Co-occurance model: recall@30=0.110\n",
      "Popularity model: recall@30=0.163\n"
     ]
    }
   ],
   "source": [
    "for k in [5,10,20,30]:\n",
    "    evaluate_recall(k, trainUsersGrouped, testUsersGrouped, coMatrix, popularbg[:, 0]);"
   ]
  },
  {
   "cell_type": "code",
   "execution_count": 70,
   "id": "44602e56",
   "metadata": {},
   "outputs": [],
   "source": [
    "## CF ALS"
   ]
  },
  {
   "cell_type": "code",
   "execution_count": 57,
   "id": "b36e37fb",
   "metadata": {},
   "outputs": [],
   "source": [
    "#Create a spark session\n",
    "spark = SparkSession.builder.getOrCreate()"
   ]
  },
  {
   "cell_type": "code",
   "execution_count": 58,
   "id": "5b2fef8a",
   "metadata": {},
   "outputs": [
    {
     "name": "stdout",
     "output_type": "stream",
     "text": [
      "+-------+-------+------+\n",
      "|user_id|item_id|rating|\n",
      "+-------+-------+------+\n",
      "|      0|      0|     0|\n",
      "|      0|      1|     1|\n",
      "|      0|      2|     1|\n",
      "|      0|      3|     1|\n",
      "|      0|      4|     1|\n",
      "+-------+-------+------+\n",
      "only showing top 5 rows\n",
      "\n",
      "+-------+------------------+--------------+\n",
      "|item_id|title             |category      |\n",
      "+-------+------------------+--------------+\n",
      "|747    |Die Macher        |1021,1026,1001|\n",
      "|5896   |Dragonmaster      |1002,1010     |\n",
      "|292    |Samurai           |1009,1035     |\n",
      "|6308   |Tal der Könige    |1050          |\n",
      "|15364  |Mare Mediterraneum|1015,1008     |\n",
      "+-------+------------------+--------------+\n",
      "only showing top 5 rows\n",
      "\n"
     ]
    }
   ],
   "source": [
    "#Load data\n",
    "\n",
    "schema = StructType(\n",
    "    (\n",
    "        StructField(\"user_id\", IntegerType()),\n",
    "        StructField(\"item_id\", IntegerType()),\n",
    "        StructField(\"rating\", IntegerType()),\n",
    "    )\n",
    ")\n",
    "\n",
    "df_ratings = spark.createDataFrame(dfratings, schema=schema)\n",
    "df_ratings.show(5)\n",
    "\n",
    "schema = StructType(\n",
    "    (\n",
    "        StructField(\"item_id\", IntegerType()),\n",
    "        StructField(\"title\", StringType()),\n",
    "        StructField(\"category\", StringType()),\n",
    "    )\n",
    ")\n",
    "\n",
    "\n",
    "df_games = spark.createDataFrame(dfgames, schema=schema)\n",
    "df_games.show(5, False)\n"
   ]
  },
  {
   "cell_type": "code",
   "execution_count": 59,
   "id": "2c8ebf82",
   "metadata": {},
   "outputs": [
    {
     "name": "stdout",
     "output_type": "stream",
     "text": [
      "The ratings dataframe is  99.19% empty.\n"
     ]
    }
   ],
   "source": [
    "# Count the total number of ratings in the dataset\n",
    "numerator = df_ratings.select(\"rating\").count()\n",
    "\n",
    "# Count the number of distinct user_id and distinct item_id\n",
    "num_users = df_ratings.select(\"user_id\").distinct().count()\n",
    "num_movies = df_ratings.select(\"item_id\").distinct().count()\n",
    "\n",
    "# Set the denominator equal to the number of users multiplied by the number of movies\n",
    "denominator = num_users * num_movies\n",
    "\n",
    "# Divide the numerator by the denominator\n",
    "sparsity = (1.0 - (numerator *1.0)/denominator)*100\n",
    "print(\"The ratings dataframe is \", \"%.2f\" % sparsity + \"% empty.\")"
   ]
  },
  {
   "cell_type": "code",
   "execution_count": 60,
   "id": "ef1f5675",
   "metadata": {},
   "outputs": [
    {
     "name": "stdout",
     "output_type": "stream",
     "text": [
      "N train:  671069\n",
      "N test:  167708\n"
     ]
    }
   ],
   "source": [
    "#Split the data using the Spark random \n",
    "# Create test and train set\n",
    "train, test = df_ratings.randomSplit([0.8, 0.2])\n",
    "print (\"N train: \", train.cache().count())\n",
    "print (\"N test: \", test.cache().count())"
   ]
  },
  {
   "cell_type": "code",
   "execution_count": 63,
   "id": "096c978a",
   "metadata": {},
   "outputs": [
    {
     "data": {
      "text/plain": [
       "pyspark.ml.recommendation.ALS"
      ]
     },
     "execution_count": 63,
     "metadata": {},
     "output_type": "execute_result"
    }
   ],
   "source": [
    "# Create ALS model\n",
    "\n",
    "als = ALS(maxIter=10, regParam=0.01, implicitPrefs=True, userCol='user_id', itemCol='item_id', ratingCol='rating', nonnegative=True, coldStartStrategy=\"drop\")\n",
    "\n",
    "# Confirm that a model called \"als\" was created\n",
    "type(als)"
   ]
  },
  {
   "cell_type": "code",
   "execution_count": 53,
   "id": "7cce5714",
   "metadata": {},
   "outputs": [],
   "source": [
    "#Entrenamos el modelo\n",
    "model = rec.fit(train)"
   ]
  },
  {
   "cell_type": "code",
   "execution_count": 26,
   "id": "175ffc55",
   "metadata": {},
   "outputs": [
    {
     "name": "stdout",
     "output_type": "stream",
     "text": [
      "+-------+-------+------+----------+\n",
      "|user_id|item_id|rating|prediction|\n",
      "+-------+-------+------+----------+\n",
      "|    148|    148|     1|0.49233443|\n",
      "|   2659|    148|     1|0.70659417|\n",
      "|    897|    148|     1|0.20125484|\n",
      "|   2563|    148|     1| 1.0463448|\n",
      "|   1903|    148|     1|0.16798037|\n",
      "|   2711|    148|     1| 0.6851307|\n",
      "|    137|    148|     1|0.57401246|\n",
      "|    451|    148|     1| 0.7688921|\n",
      "|   2025|    148|     0| 0.3162124|\n",
      "|   2559|    148|     1|0.72515166|\n",
      "+-------+-------+------+----------+\n",
      "only showing top 10 rows\n",
      "\n"
     ]
    }
   ],
   "source": [
    "#Vemos las predicciones\n",
    "predictions = model.transform(test)\n",
    "predictions.show(10)"
   ]
  },
  {
   "cell_type": "code",
   "execution_count": 27,
   "id": "37b249a2",
   "metadata": {},
   "outputs": [
    {
     "name": "stdout",
     "output_type": "stream",
     "text": [
      "+-------+-------+------+----------+\n",
      "|user_id|item_id|rating|prediction|\n",
      "+-------+-------+------+----------+\n",
      "|     19|     15|     1| 0.5574602|\n",
      "|     19|     17|     0|0.34922522|\n",
      "|     19|     25|     1|0.37511185|\n",
      "|     19|     32|     1| 0.3420337|\n",
      "|     19|     46|     1|0.63626665|\n",
      "+-------+-------+------+----------+\n",
      "only showing top 5 rows\n",
      "\n",
      "+-------+-------+------+----------+\n",
      "|user_id|item_id|rating|prediction|\n",
      "+-------+-------+------+----------+\n",
      "|     19|    813|     1| 0.7707203|\n",
      "|     19|    763|     1|0.75096744|\n",
      "|     19|    611|     1|  0.676671|\n",
      "|     19|     89|     1| 0.6608597|\n",
      "|     19|    164|     1|0.65912455|\n",
      "+-------+-------+------+----------+\n",
      "only showing top 5 rows\n",
      "\n"
     ]
    }
   ],
   "source": [
    "'''Escogemos un usuario y rankeamos las predicciones'''\n",
    "\n",
    "user = 19\n",
    "\n",
    "predictions.filter(F.col('user_id') == user)\\\n",
    "                 .orderBy(F.col('item_id')).show(5)  \n",
    "\n",
    "predictions.filter(F.col('user_id') == user)\\\n",
    "                 .orderBy(F.col('prediction'), ascending=False).show(5)"
   ]
  },
  {
   "cell_type": "code",
   "execution_count": 28,
   "id": "ebe331b1",
   "metadata": {},
   "outputs": [],
   "source": [
    "# Evaluacion\n",
    "evaluator = RegressionEvaluator(metricName=\"rmse\", labelCol=\"rating\", predictionCol=\"prediction\")"
   ]
  },
  {
   "cell_type": "code",
   "execution_count": 29,
   "id": "5cb6311f",
   "metadata": {},
   "outputs": [
    {
     "name": "stdout",
     "output_type": "stream",
     "text": [
      "Root-mean-square error = 0.6026544877254351\n"
     ]
    }
   ],
   "source": [
    "# Contabilizamos el error\n",
    "rmse = evaluator.evaluate(predictions)\n",
    "print(\"Root-mean-square error = \" + str(rmse))"
   ]
  },
  {
   "cell_type": "code",
   "execution_count": 30,
   "id": "7e348412",
   "metadata": {},
   "outputs": [
    {
     "data": {
      "text/html": [
       "<div>\n",
       "<style scoped>\n",
       "    .dataframe tbody tr th:only-of-type {\n",
       "        vertical-align: middle;\n",
       "    }\n",
       "\n",
       "    .dataframe tbody tr th {\n",
       "        vertical-align: top;\n",
       "    }\n",
       "\n",
       "    .dataframe thead th {\n",
       "        text-align: right;\n",
       "    }\n",
       "</style>\n",
       "<table border=\"1\" class=\"dataframe\">\n",
       "  <thead>\n",
       "    <tr style=\"text-align: right;\">\n",
       "      <th></th>\n",
       "      <th>user_id</th>\n",
       "      <th>item_id</th>\n",
       "      <th>rating</th>\n",
       "      <th>prediction</th>\n",
       "      <th>dif</th>\n",
       "    </tr>\n",
       "  </thead>\n",
       "  <tbody>\n",
       "    <tr>\n",
       "      <th>0</th>\n",
       "      <td>148</td>\n",
       "      <td>148</td>\n",
       "      <td>1</td>\n",
       "      <td>0.492334</td>\n",
       "      <td>0.507666</td>\n",
       "    </tr>\n",
       "    <tr>\n",
       "      <th>1</th>\n",
       "      <td>2659</td>\n",
       "      <td>148</td>\n",
       "      <td>1</td>\n",
       "      <td>0.706594</td>\n",
       "      <td>0.293406</td>\n",
       "    </tr>\n",
       "    <tr>\n",
       "      <th>2</th>\n",
       "      <td>897</td>\n",
       "      <td>148</td>\n",
       "      <td>1</td>\n",
       "      <td>0.201255</td>\n",
       "      <td>0.798745</td>\n",
       "    </tr>\n",
       "    <tr>\n",
       "      <th>3</th>\n",
       "      <td>2563</td>\n",
       "      <td>148</td>\n",
       "      <td>1</td>\n",
       "      <td>1.046345</td>\n",
       "      <td>-0.046345</td>\n",
       "    </tr>\n",
       "    <tr>\n",
       "      <th>4</th>\n",
       "      <td>1903</td>\n",
       "      <td>148</td>\n",
       "      <td>1</td>\n",
       "      <td>0.167980</td>\n",
       "      <td>0.832020</td>\n",
       "    </tr>\n",
       "  </tbody>\n",
       "</table>\n",
       "</div>"
      ],
      "text/plain": [
       "   user_id  item_id  rating  prediction       dif\n",
       "0      148      148       1    0.492334  0.507666\n",
       "1     2659      148       1    0.706594  0.293406\n",
       "2      897      148       1    0.201255  0.798745\n",
       "3     2563      148       1    1.046345 -0.046345\n",
       "4     1903      148       1    0.167980  0.832020"
      ]
     },
     "execution_count": 30,
     "metadata": {},
     "output_type": "execute_result"
    }
   ],
   "source": [
    "# Con este comando creamos una nueva columna que es la diferencia y-y_hat\n",
    "# Y lo pasamos a pandas para verlo en un histograma\n",
    "predicted_ratings = predictions.withColumn('dif', F.col('rating')-F.col('prediction')).toPandas()\n",
    "predicted_ratings.head()"
   ]
  },
  {
   "cell_type": "code",
   "execution_count": 31,
   "id": "c26332b4",
   "metadata": {},
   "outputs": [
    {
     "name": "stdout",
     "output_type": "stream",
     "text": [
      "+-------+----------------------------------------------------------------------------------------+\n",
      "|user_id|recommendations                                                                         |\n",
      "+-------+----------------------------------------------------------------------------------------+\n",
      "|19     |[{4, 0.92307526}, {230, 0.90631086}, {267, 0.8792966}, {72, 0.8702283}, {117, 0.863677}]|\n",
      "+-------+----------------------------------------------------------------------------------------+\n",
      "\n"
     ]
    }
   ],
   "source": [
    "#Realizamos una recomendación\n",
    "'''Spark-ALS nos ofrece también comandos para la generación de recomendaciones'''\n",
    "\n",
    "# Las 5 mejores peliculas para todos los usuarios\n",
    "userRecs = model.recommendForAllUsers(5)\n",
    "\n",
    "# Filtramos para nuestro usuario concreto\n",
    "userRecs.filter(F.col('user_id')==user).show(1,False)"
   ]
  },
  {
   "cell_type": "code",
   "execution_count": 32,
   "id": "4875cdbf",
   "metadata": {},
   "outputs": [],
   "source": [
    "predictions_mod=predictions.select(['user_id','item_id','prediction'])"
   ]
  },
  {
   "cell_type": "code",
   "execution_count": 33,
   "id": "bf825b7b",
   "metadata": {},
   "outputs": [],
   "source": [
    "TOP_K = 10\n",
    "rank_eval = SparkRankingEvaluation(test, predictions_mod, k = TOP_K, col_user=\"user_id\", col_item=\"item_id\", \n",
    "                                    col_rating=\"rating\", col_prediction=\"prediction\", \n",
    "                                    relevancy_method=\"top_k\")"
   ]
  },
  {
   "cell_type": "code",
   "execution_count": 34,
   "id": "5530faf4",
   "metadata": {},
   "outputs": [
    {
     "name": "stdout",
     "output_type": "stream",
     "text": [
      "Model:\tALS\n",
      "Top K:\t10\n",
      "MAP:\t0.360872\n",
      "Recall@K:\t0.360872\n"
     ]
    }
   ],
   "source": [
    "print(\"Model:\\tALS\",\n",
    "      \"Top K:\\t%d\" % rank_eval.k,\n",
    "      \"MAP:\\t%f\" % rank_eval.map_at_k(),\n",
    "      \"Recall@K:\\t%f\" % rank_eval.recall_at_k(), sep='\\n')"
   ]
  },
  {
   "cell_type": "code",
   "execution_count": 65,
   "id": "4ca000d9",
   "metadata": {},
   "outputs": [
    {
     "name": "stdout",
     "output_type": "stream",
     "text": [
      "Num models to be tested:  16\n"
     ]
    }
   ],
   "source": [
    "# Add hyperparameters and their respective values to param_grid\n",
    "param_grid = ParamGridBuilder() \\\n",
    "            .addGrid(als.rank, [10, 50, 100, 150]) \\\n",
    "            .addGrid(als.regParam, [.01, .05, .1, .15]) \\\n",
    "            .build()\n",
    "\n",
    "# Define evaluator as RMSE and print length of evaluator\n",
    "evaluator = RegressionEvaluator(metricName=\"rmse\", labelCol=\"rating\", predictionCol=\"prediction\") \n",
    "print (\"Num models to be tested: \", len(param_grid))"
   ]
  },
  {
   "cell_type": "code",
   "execution_count": 66,
   "id": "24f9aa77",
   "metadata": {},
   "outputs": [
    {
     "name": "stdout",
     "output_type": "stream",
     "text": [
      "CrossValidator_2a9eba44be99\n"
     ]
    }
   ],
   "source": [
    "# Build cross validation using CrossValidator\n",
    "cv = CrossValidator(estimator=als, estimatorParamMaps=param_grid, evaluator=evaluator, numFolds=5)\n",
    "\n",
    "# Confirm cv was built\n",
    "print(cv)"
   ]
  },
  {
   "cell_type": "code",
   "execution_count": 67,
   "id": "352b78ab",
   "metadata": {},
   "outputs": [],
   "source": [
    "#Fit cross validator to the 'train' dataset\n",
    "model = cv.fit(train)\n",
    "\n",
    "#Extract best model from the cv model above\n",
    "best_model = model.bestModel"
   ]
  },
  {
   "cell_type": "code",
   "execution_count": 68,
   "id": "d187ce14",
   "metadata": {},
   "outputs": [
    {
     "name": "stdout",
     "output_type": "stream",
     "text": [
      "<class 'pyspark.ml.recommendation.ALSModel'>\n",
      "**Best Model**\n",
      "  Rank: 50\n",
      "  MaxIter: 10\n",
      "  RegParam: 0.05\n"
     ]
    }
   ],
   "source": [
    "# Print best_model\n",
    "print(type(best_model))\n",
    "\n",
    "# Complete the code below to extract the ALS model parameters\n",
    "print(\"**Best Model**\")\n",
    "\n",
    "# # Print \"Rank\"\n",
    "print(\"  Rank:\", best_model._java_obj.parent().getRank())\n",
    "\n",
    "# Print \"MaxIter\"\n",
    "print(\"  MaxIter:\", best_model._java_obj.parent().getMaxIter())\n",
    "\n",
    "# Print \"RegParam\"\n",
    "print(\"  RegParam:\", best_model._java_obj.parent().getRegParam())"
   ]
  },
  {
   "cell_type": "code",
   "execution_count": 69,
   "id": "f02fb882",
   "metadata": {},
   "outputs": [
    {
     "name": "stdout",
     "output_type": "stream",
     "text": [
      "0.5921042965115944\n"
     ]
    }
   ],
   "source": [
    "# View the predictions\n",
    "test_predictions = best_model.transform(test)\n",
    "RMSE = evaluator.evaluate(test_predictions)\n",
    "print(RMSE)"
   ]
  },
  {
   "cell_type": "code",
   "execution_count": 70,
   "id": "89c83580",
   "metadata": {},
   "outputs": [
    {
     "name": "stdout",
     "output_type": "stream",
     "text": [
      "+-------+-------+------+-----------+\n",
      "|user_id|item_id|rating| prediction|\n",
      "+-------+-------+------+-----------+\n",
      "|    471|    148|     0| 0.32745484|\n",
      "|    623|    148|     0| 0.44435087|\n",
      "|   1483|    148|     1|  0.2893263|\n",
      "|   2563|    148|     1|  0.7584599|\n",
      "|   1903|    148|     1| 0.31276107|\n",
      "|   2393|    148|     1|  0.5582134|\n",
      "|    451|    148|     1|  0.5679011|\n",
      "|    458|    148|     1|  0.3155648|\n",
      "|   2559|    148|     1| 0.77482486|\n",
      "|   1160|    148|     1| 0.50187963|\n",
      "|    876|    148|     0|0.012221444|\n",
      "|   1561|    148|     0| 0.10799132|\n",
      "|   2606|    148|     0|0.024414225|\n",
      "|    193|    148|     1| 0.59238964|\n",
      "|   1198|    148|     1| 0.31219745|\n",
      "|    772|    148|     1|  0.7043559|\n",
      "|   1165|    148|     1|  0.4306594|\n",
      "|    939|    148|     0| 0.18208447|\n",
      "|   2212|    148|     1| 0.56155235|\n",
      "|    210|    148|     0| 0.44231597|\n",
      "+-------+-------+------+-----------+\n",
      "only showing top 20 rows\n",
      "\n"
     ]
    }
   ],
   "source": [
    "test_predictions.show()"
   ]
  },
  {
   "cell_type": "code",
   "execution_count": 71,
   "id": "d30d9ad4",
   "metadata": {},
   "outputs": [
    {
     "name": "stdout",
     "output_type": "stream",
     "text": [
      "+-------+--------------------+\n",
      "|user_id|     recommendations|\n",
      "+-------+--------------------+\n",
      "|   1580|[{695, 0.9943312}...|\n",
      "|    471|[{51, 0.948475}, ...|\n",
      "|   1591|[{13387, 0.908214...|\n",
      "|   1342|[{695, 0.8480971}...|\n",
      "|   2122|[{268, 0.4755702}...|\n",
      "|   2142|[{51, 0.9345267},...|\n",
      "|    463|[{51, 0.8376768},...|\n",
      "|    833|[{333, 0.6670768}...|\n",
      "|   1645|[{338, 0.46673802...|\n",
      "|    496|[{2556, 0.4003179...|\n",
      "+-------+--------------------+\n",
      "\n"
     ]
    }
   ],
   "source": [
    "# Generate n Recommendations for all users\n",
    "nrecommendations = best_model.recommendForAllUsers(10)\n",
    "nrecommendations.limit(10).show()\n",
    "\n"
   ]
  },
  {
   "cell_type": "code",
   "execution_count": 36,
   "id": "8136304d",
   "metadata": {},
   "outputs": [
    {
     "name": "stdout",
     "output_type": "stream",
     "text": [
      "The root mean squared error for our model is: 0.5937931557579081\n"
     ]
    }
   ],
   "source": [
    "#Original\n",
    "'''Este proceso nos permite encontrar los hiperparámetros que mejor se ajustan a una predicción.\n",
    "   Este proceso, requiere ejecutar varias repeticiones del mismo modelo, por lo que consume tiempo \n",
    "   de computación.'''\n",
    "\n",
    "\n",
    "from pyspark.ml.tuning import CrossValidator, ParamGridBuilder\n",
    "\n",
    "(trainingRatings, validationRatings) = df_ratings.randomSplit([80.0, 20.0])\n",
    "\n",
    "evaluator = RegressionEvaluator(metricName='rmse', labelCol='rating', predictionCol='prediction')\n",
    "\n",
    "paramGrid = ParamGridBuilder()\\\n",
    "                .addGrid(rec.rank, [5, 7, 10,20])\\\n",
    "                .addGrid(rec.maxIter, [20])\\\n",
    "                .addGrid(rec.regParam, [0.05, 0.1, 0.5]).build()\n",
    "\n",
    "crossval = CrossValidator(estimator=rec, estimatorParamMaps=paramGrid, evaluator=evaluator, numFolds=10)\n",
    "cvModel = crossval.fit(trainingRatings)\n",
    "predictions = cvModel.transform(validationRatings)\n",
    "\n",
    "print('The root mean squared error for our model is: {}'.format(evaluator.evaluate(predictions.na.drop())))"
   ]
  },
  {
   "cell_type": "code",
   "execution_count": 37,
   "id": "634d0150",
   "metadata": {},
   "outputs": [],
   "source": [
    "best_model=cvModel.bestModel"
   ]
  },
  {
   "cell_type": "code",
   "execution_count": 38,
   "id": "377c1631",
   "metadata": {},
   "outputs": [],
   "source": [
    "path='/DATA'\n",
    "best_model.write().overwrite().save(\"DATA/cvModel_bm\")"
   ]
  },
  {
   "cell_type": "code",
   "execution_count": 39,
   "id": "ae97879c",
   "metadata": {},
   "outputs": [
    {
     "name": "stdout",
     "output_type": "stream",
     "text": [
      "+-------+-------+------+----------+\n",
      "|user_id|item_id|rating|prediction|\n",
      "+-------+-------+------+----------+\n",
      "|    540|    148|     1|0.36857814|\n",
      "|    623|    148|     0|0.36535367|\n",
      "|    897|    148|     1|  0.279617|\n",
      "|   1483|    148|     1|0.32156843|\n",
      "|   1270|    148|     1| 0.4920526|\n",
      "|   2443|    148|     0| 0.4285359|\n",
      "|   2249|    148|     1|  0.703079|\n",
      "|   2655|    148|     1|0.62475765|\n",
      "|   2656|    148|     1|0.61361897|\n",
      "|    481|    148|     0| 0.1527525|\n",
      "|   2559|    148|     1|0.86215734|\n",
      "|   2542|    148|     0|       0.0|\n",
      "|    513|    148|     1|0.41648152|\n",
      "|    918|    148|     1|  0.779799|\n",
      "|   1005|    148|     0| 0.2862034|\n",
      "|    857|    148|     1|0.24529451|\n",
      "|    593|    148|     0| 0.0838884|\n",
      "|    108|    148|     1| 0.5539411|\n",
      "|   1496|    148|     1| 0.1398341|\n",
      "|   2079|    148|     1|0.14132321|\n",
      "+-------+-------+------+----------+\n",
      "only showing top 20 rows\n",
      "\n"
     ]
    }
   ],
   "source": [
    "predictions.show()"
   ]
  },
  {
   "cell_type": "code",
   "execution_count": 40,
   "id": "9b2727e3",
   "metadata": {},
   "outputs": [],
   "source": [
    "predictions = best_model.transform(validationRatings)\n",
    "predictions_cv_mod=predictions.select(['user_id','item_id','prediction'])"
   ]
  },
  {
   "cell_type": "code",
   "execution_count": 41,
   "id": "eb0ba754",
   "metadata": {},
   "outputs": [
    {
     "name": "stdout",
     "output_type": "stream",
     "text": [
      "+-------+--------------------+\n",
      "|user_id|     recommendations|\n",
      "+-------+--------------------+\n",
      "|   1580|[{599, 0.8959003}...|\n",
      "|    471|[{51, 0.81848836}...|\n",
      "|   1591|[{799, 0.8634317}...|\n",
      "|   1342|[{46, 0.7212596},...|\n",
      "|   2122|[{695, 0.4814201}...|\n",
      "+-------+--------------------+\n",
      "only showing top 5 rows\n",
      "\n",
      "+-------+--------------------+\n",
      "|item_id|     recommendations|\n",
      "+-------+--------------------+\n",
      "|    148|[{360, 1.0213879}...|\n",
      "|    463|[{1310, 0.6151616...|\n",
      "|    471|[{1333, 0.1104690...|\n",
      "|    496|[{769, 0.02548305...|\n",
      "|    833|[{1253, 0.7430839...|\n",
      "+-------+--------------------+\n",
      "only showing top 5 rows\n",
      "\n"
     ]
    }
   ],
   "source": [
    "# Generate top 10 digital music recommendations for each user\n",
    "userRecs = cvModel.bestModel.recommendForAllUsers(10)\n",
    "# Generate top 10 user recommendations for each digital music\n",
    "boardGameRecs = cvModel.bestModel.recommendForAllItems(10)\n",
    "\n",
    "userRecs.show(5)\n",
    "boardGameRecs.show(5)"
   ]
  },
  {
   "cell_type": "code",
   "execution_count": 42,
   "id": "641e5eda",
   "metadata": {},
   "outputs": [
    {
     "ename": "NameError",
     "evalue": "name 'predictionscv_mod' is not defined",
     "output_type": "error",
     "traceback": [
      "\u001b[0;31m---------------------------------------------------------------------------\u001b[0m",
      "\u001b[0;31mNameError\u001b[0m                                 Traceback (most recent call last)",
      "\u001b[0;32m<ipython-input-42-f8d8c0bf8500>\u001b[0m in \u001b[0;36m<module>\u001b[0;34m\u001b[0m\n\u001b[1;32m      1\u001b[0m \u001b[0mTOP_K\u001b[0m \u001b[0;34m=\u001b[0m \u001b[0;36m10\u001b[0m\u001b[0;34m\u001b[0m\u001b[0;34m\u001b[0m\u001b[0m\n\u001b[0;32m----> 2\u001b[0;31m rank_eval2 = SparkRankingEvaluation(validationRatings, predictionscv_mod, k = TOP_K, col_user=\"user_id\", col_item=\"item_id\", \n\u001b[0m\u001b[1;32m      3\u001b[0m                                     \u001b[0mcol_rating\u001b[0m\u001b[0;34m=\u001b[0m\u001b[0;34m\"rating\"\u001b[0m\u001b[0;34m,\u001b[0m \u001b[0mcol_prediction\u001b[0m\u001b[0;34m=\u001b[0m\u001b[0;34m\"prediction\"\u001b[0m\u001b[0;34m,\u001b[0m\u001b[0;34m\u001b[0m\u001b[0;34m\u001b[0m\u001b[0m\n\u001b[1;32m      4\u001b[0m                                     relevancy_method=\"top_k\")\n",
      "\u001b[0;31mNameError\u001b[0m: name 'predictionscv_mod' is not defined"
     ]
    }
   ],
   "source": [
    "TOP_K = 10\n",
    "rank_eval2 = SparkRankingEvaluation(validationRatings, predictionscv_mod, k = TOP_K, col_user=\"user_id\", col_item=\"item_id\", \n",
    "                                    col_rating=\"rating\", col_prediction=\"prediction\", \n",
    "                                    relevancy_method=\"top_k\")"
   ]
  },
  {
   "cell_type": "code",
   "execution_count": null,
   "id": "fb3ab82b",
   "metadata": {},
   "outputs": [],
   "source": [
    "print(\"Model:\\tALS\",\n",
    "      \"Top K:\\t%d\" % rank_eval2.k,\n",
    "      \"MAP:\\t%f\" % rank_eval2.map_at_k(),\n",
    "      \"Recall@K:\\t%f\" % rank_eval2.recall_at_k(), sep='\\n')"
   ]
  },
  {
   "cell_type": "code",
   "execution_count": null,
   "id": "6996cb18",
   "metadata": {},
   "outputs": [],
   "source": [
    "boardGameRecs_pandas = cvModel.bestModel.recommendForAllItems(10).toPandas()\n",
    "userRecs_pandas = cvModel.bestModel.recommendForAllUsers(10).toPandas()\n",
    "boardGameRecs_pandas['recommendations'][0]\n",
    "userRecs_pandas['recommendations'][3]"
   ]
  },
  {
   "cell_type": "code",
   "execution_count": null,
   "id": "c447c777",
   "metadata": {},
   "outputs": [],
   "source": [
    "recs=userRecs[0]"
   ]
  },
  {
   "cell_type": "code",
   "execution_count": null,
   "id": "f0d8bc38",
   "metadata": {},
   "outputs": [],
   "source": [
    "def get_recs_for_user(recs):\n",
    "    #Recs should be for a specific user\n",
    "    recs=recs.select(\"recommendations.item_id\",\"recommendations.ratings\")\n",
    "    items=recs.select('item_id').toPandas().iloc[0,0]\n",
    "    ratings=recs.select(\"ratings\").toPandas().iloc[0,0]\n",
    "    rating_matrix=pd.DataFrame(items, columns=['item_id'])\n",
    "    rating_matrix['ratings']=ratings\n",
    "    rating_matrix_ps=sqlContext.createDataFrame(rating_matix)\n",
    "    return rating_matrix_ps"
   ]
  },
  {
   "cell_type": "code",
   "execution_count": null,
   "id": "761773c2",
   "metadata": {},
   "outputs": [],
   "source": []
  },
  {
   "cell_type": "code",
   "execution_count": null,
   "id": "00a75f8f",
   "metadata": {},
   "outputs": [],
   "source": []
  },
  {
   "cell_type": "code",
   "execution_count": null,
   "id": "711caba2",
   "metadata": {},
   "outputs": [],
   "source": []
  },
  {
   "cell_type": "code",
   "execution_count": null,
   "id": "c924e5c1",
   "metadata": {},
   "outputs": [],
   "source": []
  },
  {
   "cell_type": "code",
   "execution_count": null,
   "id": "0521d70e",
   "metadata": {},
   "outputs": [],
   "source": []
  },
  {
   "cell_type": "code",
   "execution_count": null,
   "id": "24e6b8ce",
   "metadata": {},
   "outputs": [],
   "source": []
  },
  {
   "cell_type": "code",
   "execution_count": null,
   "id": "4310c3c8",
   "metadata": {},
   "outputs": [],
   "source": []
  },
  {
   "cell_type": "code",
   "execution_count": null,
   "id": "5de30e05",
   "metadata": {},
   "outputs": [],
   "source": []
  },
  {
   "cell_type": "code",
   "execution_count": null,
   "id": "76e1193c",
   "metadata": {},
   "outputs": [],
   "source": []
  },
  {
   "cell_type": "code",
   "execution_count": 83,
   "id": "2941408e",
   "metadata": {},
   "outputs": [],
   "source": [
    "sameModel = cvModel.load(\"DATA/cvModel\")"
   ]
  },
  {
   "cell_type": "code",
   "execution_count": 85,
   "id": "f8f86077",
   "metadata": {},
   "outputs": [],
   "source": [
    "\n",
    "spark.stop()"
   ]
  },
  {
   "cell_type": "code",
   "execution_count": null,
   "id": "89698d10",
   "metadata": {},
   "outputs": [],
   "source": []
  }
 ],
 "metadata": {
  "kernelspec": {
   "display_name": "Python 3",
   "language": "python",
   "name": "python3"
  },
  "language_info": {
   "codemirror_mode": {
    "name": "ipython",
    "version": 3
   },
   "file_extension": ".py",
   "mimetype": "text/x-python",
   "name": "python",
   "nbconvert_exporter": "python",
   "pygments_lexer": "ipython3",
   "version": "3.9.5"
  }
 },
 "nbformat": 4,
 "nbformat_minor": 5
}
